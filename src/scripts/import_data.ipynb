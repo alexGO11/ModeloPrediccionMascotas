{
 "cells": [
  {
   "cell_type": "markdown",
   "metadata": {},
   "source": [
    "### Importar CSVs a la base de datos"
   ]
  },
  {
   "cell_type": "code",
   "execution_count": null,
   "metadata": {},
   "outputs": [],
   "source": [
    "import pandas as pd\n",
    "from database.pythonConexion import get_db_session\n",
    "from database import Enfermedad"
   ]
  },
  {
   "cell_type": "code",
   "execution_count": null,
   "metadata": {},
   "outputs": [],
   "source": [
    "\n",
    "\n",
    "def importar_csv(ruta_csv):\n",
    "    df = pd.read_csv(\"../data/raw/new_data.csv\")\n",
    "\n",
    "    # Preprocesamiento: Convertir fechas, eliminar valores nulos, etc.\n",
    "    df['fecha'] = pd.to_datetime(df['fecha'], format='%Y-%m-%d')\n",
    "    df = df.dropna()\n",
    "\n",
    "    # Conexión a la base de datos\n",
    "    session = get_db_session()\n",
    "\n",
    "    for _, row in df.iterrows():\n",
    "        registro = Enfermedad(\n",
    "            fecha=row['fecha'],\n",
    "            codigo_postal=row['codigo_postal'],\n",
    "            enfermedad=row['enfermedad'],\n",
    "            casos=row['casos']\n",
    "        )\n",
    "        session.add(registro)\n",
    "\n",
    "    session.commit()\n",
    "    session.close()\n",
    "    print(\"Datos importados correctamente.\")\n",
    "\n",
    "if __name__ == \"__main__\":\n",
    "    importar_csv(\"data/nuevos_datos.csv\")\n"
   ]
  }
 ],
 "metadata": {
  "kernelspec": {
   "display_name": "Python 3",
   "language": "python",
   "name": "python3"
  },
  "language_info": {
   "name": "python",
   "version": "3.12.6"
  }
 },
 "nbformat": 4,
 "nbformat_minor": 2
}
