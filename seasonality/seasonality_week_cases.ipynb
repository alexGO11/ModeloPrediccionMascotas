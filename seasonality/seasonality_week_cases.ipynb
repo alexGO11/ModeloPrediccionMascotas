{
 "cells": [
  {
   "cell_type": "markdown",
   "metadata": {
    "id": "HUI-LPMQtQ3Q"
   },
   "source": [
    "# Estudio de tendencia y estacionalidad con el numero de positivos\n",
    "\n",
    "Primero importamos los datos"
   ]
  },
  {
   "cell_type": "code",
   "execution_count": 2,
   "metadata": {
    "ExecuteTime": {
     "end_time": "2025-04-10T09:59:29.658447Z",
     "start_time": "2025-04-10T09:59:25.243343Z"
    },
    "colab": {
     "base_uri": "https://localhost:8080/",
     "height": 17
    },
    "executionInfo": {
     "elapsed": 31,
     "status": "ok",
     "timestamp": 1755881893075,
     "user": {
      "displayName": "Alejandro Gómez Martín",
      "userId": "11487793164505300730"
     },
     "user_tz": -120
    },
    "id": "3RRwai9ctQ3R",
    "outputId": "11cb65f1-e362-45ef-ca1f-8fc0ed65ca1c"
   },
   "outputs": [
    {
     "data": {
      "text/html": [
       "        <script type=\"text/javascript\">\n",
       "        window.PlotlyConfig = {MathJaxConfig: 'local'};\n",
       "        if (window.MathJax && window.MathJax.Hub && window.MathJax.Hub.Config) {window.MathJax.Hub.Config({SVG: {font: \"STIX-Web\"}});}\n",
       "        </script>\n",
       "        <script type=\"module\">import \"https://cdn.plot.ly/plotly-3.0.1.min\"</script>\n",
       "        "
      ]
     },
     "metadata": {},
     "output_type": "display_data"
    }
   ],
   "source": [
    "import ast\n",
    "import pandas as pd\n",
    "import plotly.graph_objs as go\n",
    "\n",
    "from plotly.offline import init_notebook_mode, iplot\n",
    "init_notebook_mode(connected=True)\n",
    "import matplotlib.pyplot as plt"
   ]
  },
  {
   "cell_type": "markdown",
   "metadata": {},
   "source": [
    "## Carga y exploración inicial de los datos"
   ]
  },
  {
   "cell_type": "code",
   "execution_count": 3,
   "metadata": {
    "ExecuteTime": {
     "end_time": "2025-04-10T09:59:37.674367Z",
     "start_time": "2025-04-10T09:59:37.557271Z"
    },
    "colab": {
     "base_uri": "https://localhost:8080/"
    },
    "executionInfo": {
     "elapsed": 173,
     "status": "ok",
     "timestamp": 1755881893250,
     "user": {
      "displayName": "Alejandro Gómez Martín",
      "userId": "11487793164505300730"
     },
     "user_tz": -120
    },
    "id": "sB3s_65mtQ3S",
    "outputId": "3cdff74d-286e-4e4e-f4e2-7a69475bed96"
   },
   "outputs": [
    {
     "data": {
      "text/html": [
       "<div>\n",
       "<style scoped>\n",
       "    .dataframe tbody tr th:only-of-type {\n",
       "        vertical-align: middle;\n",
       "    }\n",
       "\n",
       "    .dataframe tbody tr th {\n",
       "        vertical-align: top;\n",
       "    }\n",
       "\n",
       "    .dataframe thead th {\n",
       "        text-align: right;\n",
       "    }\n",
       "</style>\n",
       "<table border=\"1\" class=\"dataframe\">\n",
       "  <thead>\n",
       "    <tr style=\"text-align: right;\">\n",
       "      <th></th>\n",
       "      <th>Name test</th>\n",
       "      <th>Country</th>\n",
       "      <th>City</th>\n",
       "      <th>Postal code</th>\n",
       "      <th>longitud</th>\n",
       "      <th>latitud</th>\n",
       "      <th>Valor</th>\n",
       "      <th>Cod_prov</th>\n",
       "    </tr>\n",
       "    <tr>\n",
       "      <th>Date</th>\n",
       "      <th></th>\n",
       "      <th></th>\n",
       "      <th></th>\n",
       "      <th></th>\n",
       "      <th></th>\n",
       "      <th></th>\n",
       "      <th></th>\n",
       "      <th></th>\n",
       "    </tr>\n",
       "  </thead>\n",
       "  <tbody>\n",
       "    <tr>\n",
       "      <th>2020-07-20</th>\n",
       "      <td>Leishmania</td>\n",
       "      <td>Spain</td>\n",
       "      <td>Barcelona</td>\n",
       "      <td>8520.0</td>\n",
       "      <td>2.294704</td>\n",
       "      <td>41.627626</td>\n",
       "      <td>Negativo</td>\n",
       "      <td>8.0</td>\n",
       "    </tr>\n",
       "    <tr>\n",
       "      <th>2020-07-20</th>\n",
       "      <td>Leishmania</td>\n",
       "      <td>Spain</td>\n",
       "      <td>Barcelona</td>\n",
       "      <td>8520.0</td>\n",
       "      <td>2.295000</td>\n",
       "      <td>41.627454</td>\n",
       "      <td>Negativo</td>\n",
       "      <td>8.0</td>\n",
       "    </tr>\n",
       "    <tr>\n",
       "      <th>2020-07-20</th>\n",
       "      <td>Leishmania</td>\n",
       "      <td>Spain</td>\n",
       "      <td>Barcelona</td>\n",
       "      <td>8520.0</td>\n",
       "      <td>2.294975</td>\n",
       "      <td>41.627452</td>\n",
       "      <td>Negativo</td>\n",
       "      <td>8.0</td>\n",
       "    </tr>\n",
       "    <tr>\n",
       "      <th>2020-07-20</th>\n",
       "      <td>Leishmania</td>\n",
       "      <td>Spain</td>\n",
       "      <td>Barcelona</td>\n",
       "      <td>8520.0</td>\n",
       "      <td>2.295089</td>\n",
       "      <td>41.627480</td>\n",
       "      <td>Negativo</td>\n",
       "      <td>8.0</td>\n",
       "    </tr>\n",
       "    <tr>\n",
       "      <th>2020-07-20</th>\n",
       "      <td>Leishmania</td>\n",
       "      <td>Spain</td>\n",
       "      <td>Barcelona</td>\n",
       "      <td>8520.0</td>\n",
       "      <td>2.295028</td>\n",
       "      <td>41.627465</td>\n",
       "      <td>Negativo</td>\n",
       "      <td>8.0</td>\n",
       "    </tr>\n",
       "  </tbody>\n",
       "</table>\n",
       "</div>"
      ],
      "text/plain": [
       "             Name test Country       City  Postal code  longitud    latitud  \\\n",
       "Date                                                                          \n",
       "2020-07-20  Leishmania   Spain  Barcelona       8520.0  2.294704  41.627626   \n",
       "2020-07-20  Leishmania   Spain  Barcelona       8520.0  2.295000  41.627454   \n",
       "2020-07-20  Leishmania   Spain  Barcelona       8520.0  2.294975  41.627452   \n",
       "2020-07-20  Leishmania   Spain  Barcelona       8520.0  2.295089  41.627480   \n",
       "2020-07-20  Leishmania   Spain  Barcelona       8520.0  2.295028  41.627465   \n",
       "\n",
       "               Valor  Cod_prov  \n",
       "Date                            \n",
       "2020-07-20  Negativo       8.0  \n",
       "2020-07-20  Negativo       8.0  \n",
       "2020-07-20  Negativo       8.0  \n",
       "2020-07-20  Negativo       8.0  \n",
       "2020-07-20  Negativo       8.0  "
      ]
     },
     "execution_count": 3,
     "metadata": {},
     "output_type": "execute_result"
    }
   ],
   "source": [
    "data_5 = pd.read_csv('data5.csv', parse_dates = [0], index_col = [0], usecols = ['Date', 'Name test','Country', 'City', 'Postal code', 'longitud', 'latitud', 'Valor',       'Cod_prov'])\n",
    "data_5.shape\n",
    "data_5.head()"
   ]
  },
  {
   "cell_type": "code",
   "execution_count": 4,
   "metadata": {},
   "outputs": [
    {
     "data": {
      "text/html": [
       "<div>\n",
       "<style scoped>\n",
       "    .dataframe tbody tr th:only-of-type {\n",
       "        vertical-align: middle;\n",
       "    }\n",
       "\n",
       "    .dataframe tbody tr th {\n",
       "        vertical-align: top;\n",
       "    }\n",
       "\n",
       "    .dataframe thead th {\n",
       "        text-align: right;\n",
       "    }\n",
       "</style>\n",
       "<table border=\"1\" class=\"dataframe\">\n",
       "  <thead>\n",
       "    <tr style=\"text-align: right;\">\n",
       "      <th></th>\n",
       "      <th>Date</th>\n",
       "      <th>Geo Location</th>\n",
       "      <th>Name test</th>\n",
       "      <th>Value test</th>\n",
       "      <th>Country</th>\n",
       "      <th>City</th>\n",
       "      <th>Postal code</th>\n",
       "    </tr>\n",
       "  </thead>\n",
       "  <tbody>\n",
       "    <tr>\n",
       "      <th>0</th>\n",
       "      <td>﻿\"2020-07-20 12:59:04\"</td>\n",
       "      <td>{\"latitude\":41.6276264,\"longitude\":2.2947037}</td>\n",
       "      <td>Leishmania</td>\n",
       "      <td>Negativo</td>\n",
       "      <td>Spain</td>\n",
       "      <td>Barcelona</td>\n",
       "      <td>8520.0</td>\n",
       "    </tr>\n",
       "    <tr>\n",
       "      <th>1</th>\n",
       "      <td>﻿\"2020-07-20 12:59:25\"</td>\n",
       "      <td>{\"latitude\":41.6274545,\"longitude\":2.2949996}</td>\n",
       "      <td>Leishmania</td>\n",
       "      <td>Negativo</td>\n",
       "      <td>Spain</td>\n",
       "      <td>Barcelona</td>\n",
       "      <td>8520.0</td>\n",
       "    </tr>\n",
       "    <tr>\n",
       "      <th>2</th>\n",
       "      <td>﻿\"2020-07-20 13:18:08\"</td>\n",
       "      <td>{\"latitude\":41.6274519,\"longitude\":2.2949754}</td>\n",
       "      <td>Leishmania</td>\n",
       "      <td>Negativo</td>\n",
       "      <td>Spain</td>\n",
       "      <td>Barcelona</td>\n",
       "      <td>8520.0</td>\n",
       "    </tr>\n",
       "    <tr>\n",
       "      <th>3</th>\n",
       "      <td>﻿\"2020-07-20 13:19:02\"</td>\n",
       "      <td>{\"latitude\":41.6274799,\"longitude\":2.2950886}</td>\n",
       "      <td>Leishmania</td>\n",
       "      <td>Negativo</td>\n",
       "      <td>Spain</td>\n",
       "      <td>Barcelona</td>\n",
       "      <td>8520.0</td>\n",
       "    </tr>\n",
       "    <tr>\n",
       "      <th>4</th>\n",
       "      <td>﻿\"2020-07-20 13:37:12\"</td>\n",
       "      <td>{\"latitude\":41.6274648,\"longitude\":2.2950282}</td>\n",
       "      <td>Leishmania</td>\n",
       "      <td>Negativo</td>\n",
       "      <td>Spain</td>\n",
       "      <td>Barcelona</td>\n",
       "      <td>8520.0</td>\n",
       "    </tr>\n",
       "  </tbody>\n",
       "</table>\n",
       "</div>"
      ],
      "text/plain": [
       "                     Date                                   Geo Location  \\\n",
       "0  ﻿\"2020-07-20 12:59:04\"  {\"latitude\":41.6276264,\"longitude\":2.2947037}   \n",
       "1  ﻿\"2020-07-20 12:59:25\"  {\"latitude\":41.6274545,\"longitude\":2.2949996}   \n",
       "2  ﻿\"2020-07-20 13:18:08\"  {\"latitude\":41.6274519,\"longitude\":2.2949754}   \n",
       "3  ﻿\"2020-07-20 13:19:02\"  {\"latitude\":41.6274799,\"longitude\":2.2950886}   \n",
       "4  ﻿\"2020-07-20 13:37:12\"  {\"latitude\":41.6274648,\"longitude\":2.2950282}   \n",
       "\n",
       "    Name test Value test Country       City  Postal code  \n",
       "0  Leishmania   Negativo   Spain  Barcelona       8520.0  \n",
       "1  Leishmania   Negativo   Spain  Barcelona       8520.0  \n",
       "2  Leishmania   Negativo   Spain  Barcelona       8520.0  \n",
       "3  Leishmania   Negativo   Spain  Barcelona       8520.0  \n",
       "4  Leishmania   Negativo   Spain  Barcelona       8520.0  "
      ]
     },
     "execution_count": 4,
     "metadata": {},
     "output_type": "execute_result"
    }
   ],
   "source": [
    "data = pd.read_csv(\"../backend/data/new_data.csv\", usecols=[\"Date\",\"Geo Location\",\"Name test\",\"Value test\",\"Country\",\"City\",\"Postal code\"])\n",
    "data.head()"
   ]
  },
  {
   "cell_type": "code",
   "execution_count": 5,
   "metadata": {},
   "outputs": [
    {
     "name": "stdout",
     "output_type": "stream",
     "text": [
      "datetime64[ns]\n"
     ]
    },
    {
     "data": {
      "text/html": [
       "<div>\n",
       "<style scoped>\n",
       "    .dataframe tbody tr th:only-of-type {\n",
       "        vertical-align: middle;\n",
       "    }\n",
       "\n",
       "    .dataframe tbody tr th {\n",
       "        vertical-align: top;\n",
       "    }\n",
       "\n",
       "    .dataframe thead th {\n",
       "        text-align: right;\n",
       "    }\n",
       "</style>\n",
       "<table border=\"1\" class=\"dataframe\">\n",
       "  <thead>\n",
       "    <tr style=\"text-align: right;\">\n",
       "      <th></th>\n",
       "      <th>Geo Location</th>\n",
       "      <th>Name test</th>\n",
       "      <th>Value test</th>\n",
       "      <th>Country</th>\n",
       "      <th>City</th>\n",
       "      <th>Postal code</th>\n",
       "    </tr>\n",
       "    <tr>\n",
       "      <th>Date</th>\n",
       "      <th></th>\n",
       "      <th></th>\n",
       "      <th></th>\n",
       "      <th></th>\n",
       "      <th></th>\n",
       "      <th></th>\n",
       "    </tr>\n",
       "  </thead>\n",
       "  <tbody>\n",
       "    <tr>\n",
       "      <th>2020-07-20 12:59:04</th>\n",
       "      <td>{\"latitude\":41.6276264,\"longitude\":2.2947037}</td>\n",
       "      <td>Leishmania</td>\n",
       "      <td>Negativo</td>\n",
       "      <td>Spain</td>\n",
       "      <td>Barcelona</td>\n",
       "      <td>8520.0</td>\n",
       "    </tr>\n",
       "    <tr>\n",
       "      <th>2020-07-20 12:59:25</th>\n",
       "      <td>{\"latitude\":41.6274545,\"longitude\":2.2949996}</td>\n",
       "      <td>Leishmania</td>\n",
       "      <td>Negativo</td>\n",
       "      <td>Spain</td>\n",
       "      <td>Barcelona</td>\n",
       "      <td>8520.0</td>\n",
       "    </tr>\n",
       "    <tr>\n",
       "      <th>2020-07-20 13:18:08</th>\n",
       "      <td>{\"latitude\":41.6274519,\"longitude\":2.2949754}</td>\n",
       "      <td>Leishmania</td>\n",
       "      <td>Negativo</td>\n",
       "      <td>Spain</td>\n",
       "      <td>Barcelona</td>\n",
       "      <td>8520.0</td>\n",
       "    </tr>\n",
       "    <tr>\n",
       "      <th>2020-07-20 13:19:02</th>\n",
       "      <td>{\"latitude\":41.6274799,\"longitude\":2.2950886}</td>\n",
       "      <td>Leishmania</td>\n",
       "      <td>Negativo</td>\n",
       "      <td>Spain</td>\n",
       "      <td>Barcelona</td>\n",
       "      <td>8520.0</td>\n",
       "    </tr>\n",
       "    <tr>\n",
       "      <th>2020-07-20 13:37:12</th>\n",
       "      <td>{\"latitude\":41.6274648,\"longitude\":2.2950282}</td>\n",
       "      <td>Leishmania</td>\n",
       "      <td>Negativo</td>\n",
       "      <td>Spain</td>\n",
       "      <td>Barcelona</td>\n",
       "      <td>8520.0</td>\n",
       "    </tr>\n",
       "  </tbody>\n",
       "</table>\n",
       "</div>"
      ],
      "text/plain": [
       "                                                      Geo Location  \\\n",
       "Date                                                                 \n",
       "2020-07-20 12:59:04  {\"latitude\":41.6276264,\"longitude\":2.2947037}   \n",
       "2020-07-20 12:59:25  {\"latitude\":41.6274545,\"longitude\":2.2949996}   \n",
       "2020-07-20 13:18:08  {\"latitude\":41.6274519,\"longitude\":2.2949754}   \n",
       "2020-07-20 13:19:02  {\"latitude\":41.6274799,\"longitude\":2.2950886}   \n",
       "2020-07-20 13:37:12  {\"latitude\":41.6274648,\"longitude\":2.2950282}   \n",
       "\n",
       "                      Name test Value test Country       City  Postal code  \n",
       "Date                                                                        \n",
       "2020-07-20 12:59:04  Leishmania   Negativo   Spain  Barcelona       8520.0  \n",
       "2020-07-20 12:59:25  Leishmania   Negativo   Spain  Barcelona       8520.0  \n",
       "2020-07-20 13:18:08  Leishmania   Negativo   Spain  Barcelona       8520.0  \n",
       "2020-07-20 13:19:02  Leishmania   Negativo   Spain  Barcelona       8520.0  \n",
       "2020-07-20 13:37:12  Leishmania   Negativo   Spain  Barcelona       8520.0  "
      ]
     },
     "execution_count": 5,
     "metadata": {},
     "output_type": "execute_result"
    }
   ],
   "source": [
    "# Convertir la columna 'Date' a formato de fecha\n",
    "data[\"Date\"] = pd.to_datetime(\n",
    "    data[\"Date\"]\n",
    "        .astype(str) \n",
    "        .str.replace('\\ufeff', '', regex=True)  \n",
    "        .str.replace('\"', '', regex=True)       \n",
    "        .str.strip(),                           \n",
    "    errors='coerce'  \n",
    ")\n",
    "\n",
    "# Eliminar filas donde 'Date' no pudo convertirse correctamente\n",
    "data = data.dropna(subset=[\"Date\"])\n",
    "\n",
    "print(data[\"Date\"].dtype)  # Verificar el tipo de dato\n",
    "\n",
    "data.set_index(\"Date\", inplace=True)\n",
    "\n",
    "data.head()"
   ]
  },
  {
   "cell_type": "code",
   "execution_count": 6,
   "metadata": {},
   "outputs": [
    {
     "data": {
      "text/html": [
       "<div>\n",
       "<style scoped>\n",
       "    .dataframe tbody tr th:only-of-type {\n",
       "        vertical-align: middle;\n",
       "    }\n",
       "\n",
       "    .dataframe tbody tr th {\n",
       "        vertical-align: top;\n",
       "    }\n",
       "\n",
       "    .dataframe thead th {\n",
       "        text-align: right;\n",
       "    }\n",
       "</style>\n",
       "<table border=\"1\" class=\"dataframe\">\n",
       "  <thead>\n",
       "    <tr style=\"text-align: right;\">\n",
       "      <th></th>\n",
       "      <th>Name test</th>\n",
       "      <th>Valor</th>\n",
       "      <th>Country</th>\n",
       "      <th>City</th>\n",
       "      <th>Postal code</th>\n",
       "      <th>latitud</th>\n",
       "      <th>longitud</th>\n",
       "    </tr>\n",
       "    <tr>\n",
       "      <th>Date</th>\n",
       "      <th></th>\n",
       "      <th></th>\n",
       "      <th></th>\n",
       "      <th></th>\n",
       "      <th></th>\n",
       "      <th></th>\n",
       "      <th></th>\n",
       "    </tr>\n",
       "  </thead>\n",
       "  <tbody>\n",
       "    <tr>\n",
       "      <th>2020-07-20 12:59:04</th>\n",
       "      <td>Leishmania</td>\n",
       "      <td>Negativo</td>\n",
       "      <td>Spain</td>\n",
       "      <td>Barcelona</td>\n",
       "      <td>8520.0</td>\n",
       "      <td>41.627626</td>\n",
       "      <td>2.294704</td>\n",
       "    </tr>\n",
       "    <tr>\n",
       "      <th>2020-07-20 12:59:25</th>\n",
       "      <td>Leishmania</td>\n",
       "      <td>Negativo</td>\n",
       "      <td>Spain</td>\n",
       "      <td>Barcelona</td>\n",
       "      <td>8520.0</td>\n",
       "      <td>41.627454</td>\n",
       "      <td>2.295</td>\n",
       "    </tr>\n",
       "    <tr>\n",
       "      <th>2020-07-20 13:18:08</th>\n",
       "      <td>Leishmania</td>\n",
       "      <td>Negativo</td>\n",
       "      <td>Spain</td>\n",
       "      <td>Barcelona</td>\n",
       "      <td>8520.0</td>\n",
       "      <td>41.627452</td>\n",
       "      <td>2.294975</td>\n",
       "    </tr>\n",
       "    <tr>\n",
       "      <th>2020-07-20 13:19:02</th>\n",
       "      <td>Leishmania</td>\n",
       "      <td>Negativo</td>\n",
       "      <td>Spain</td>\n",
       "      <td>Barcelona</td>\n",
       "      <td>8520.0</td>\n",
       "      <td>41.62748</td>\n",
       "      <td>2.295089</td>\n",
       "    </tr>\n",
       "    <tr>\n",
       "      <th>2020-07-20 13:37:12</th>\n",
       "      <td>Leishmania</td>\n",
       "      <td>Negativo</td>\n",
       "      <td>Spain</td>\n",
       "      <td>Barcelona</td>\n",
       "      <td>8520.0</td>\n",
       "      <td>41.627465</td>\n",
       "      <td>2.295028</td>\n",
       "    </tr>\n",
       "  </tbody>\n",
       "</table>\n",
       "</div>"
      ],
      "text/plain": [
       "                      Name test     Valor Country       City  Postal code  \\\n",
       "Date                                                                        \n",
       "2020-07-20 12:59:04  Leishmania  Negativo   Spain  Barcelona       8520.0   \n",
       "2020-07-20 12:59:25  Leishmania  Negativo   Spain  Barcelona       8520.0   \n",
       "2020-07-20 13:18:08  Leishmania  Negativo   Spain  Barcelona       8520.0   \n",
       "2020-07-20 13:19:02  Leishmania  Negativo   Spain  Barcelona       8520.0   \n",
       "2020-07-20 13:37:12  Leishmania  Negativo   Spain  Barcelona       8520.0   \n",
       "\n",
       "                       latitud  longitud  \n",
       "Date                                      \n",
       "2020-07-20 12:59:04  41.627626  2.294704  \n",
       "2020-07-20 12:59:25  41.627454     2.295  \n",
       "2020-07-20 13:18:08  41.627452  2.294975  \n",
       "2020-07-20 13:19:02   41.62748  2.295089  \n",
       "2020-07-20 13:37:12  41.627465  2.295028  "
      ]
     },
     "execution_count": 6,
     "metadata": {},
     "output_type": "execute_result"
    }
   ],
   "source": [
    "data.dropna(subset=[\"Geo Location\"], inplace=True)\n",
    "\n",
    "# Convertir cada string JSON a diccionario de Python\n",
    "data[\"Geo Location\"] = data[\"Geo Location\"].apply(ast.literal_eval)\n",
    "\n",
    "# Extraer latitud y longitud en columnas nuevas\n",
    "data[\"latitud\"] = data[\"Geo Location\"].apply(lambda x: x[\"latitude\"])\n",
    "data[\"longitud\"] = data[\"Geo Location\"].apply(lambda x: x[\"longitude\"])\n",
    "\n",
    "data.drop(columns=[\"Geo Location\"], inplace=True)\n",
    "\n",
    "data.rename(columns={\"Value test\": \"Valor\"}, inplace=True)\n",
    "\n",
    "data.head()"
   ]
  },
  {
   "cell_type": "code",
   "execution_count": 7,
   "metadata": {},
   "outputs": [
    {
     "data": {
      "text/html": [
       "<div>\n",
       "<style scoped>\n",
       "    .dataframe tbody tr th:only-of-type {\n",
       "        vertical-align: middle;\n",
       "    }\n",
       "\n",
       "    .dataframe tbody tr th {\n",
       "        vertical-align: top;\n",
       "    }\n",
       "\n",
       "    .dataframe thead th {\n",
       "        text-align: right;\n",
       "    }\n",
       "</style>\n",
       "<table border=\"1\" class=\"dataframe\">\n",
       "  <thead>\n",
       "    <tr style=\"text-align: right;\">\n",
       "      <th></th>\n",
       "      <th>Name test</th>\n",
       "      <th>Valor</th>\n",
       "      <th>Country</th>\n",
       "      <th>City</th>\n",
       "      <th>Postal code</th>\n",
       "      <th>latitud</th>\n",
       "      <th>longitud</th>\n",
       "      <th>Cod_prov</th>\n",
       "    </tr>\n",
       "    <tr>\n",
       "      <th>Date</th>\n",
       "      <th></th>\n",
       "      <th></th>\n",
       "      <th></th>\n",
       "      <th></th>\n",
       "      <th></th>\n",
       "      <th></th>\n",
       "      <th></th>\n",
       "      <th></th>\n",
       "    </tr>\n",
       "  </thead>\n",
       "  <tbody>\n",
       "    <tr>\n",
       "      <th>2020-07-20 12:59:04</th>\n",
       "      <td>Leishmania</td>\n",
       "      <td>Negativo</td>\n",
       "      <td>Spain</td>\n",
       "      <td>Barcelona</td>\n",
       "      <td>8520.0</td>\n",
       "      <td>41.627626</td>\n",
       "      <td>2.294704</td>\n",
       "      <td>8.0</td>\n",
       "    </tr>\n",
       "    <tr>\n",
       "      <th>2020-07-20 12:59:25</th>\n",
       "      <td>Leishmania</td>\n",
       "      <td>Negativo</td>\n",
       "      <td>Spain</td>\n",
       "      <td>Barcelona</td>\n",
       "      <td>8520.0</td>\n",
       "      <td>41.627454</td>\n",
       "      <td>2.295</td>\n",
       "      <td>8.0</td>\n",
       "    </tr>\n",
       "    <tr>\n",
       "      <th>2020-07-20 13:18:08</th>\n",
       "      <td>Leishmania</td>\n",
       "      <td>Negativo</td>\n",
       "      <td>Spain</td>\n",
       "      <td>Barcelona</td>\n",
       "      <td>8520.0</td>\n",
       "      <td>41.627452</td>\n",
       "      <td>2.294975</td>\n",
       "      <td>8.0</td>\n",
       "    </tr>\n",
       "    <tr>\n",
       "      <th>2020-07-20 13:19:02</th>\n",
       "      <td>Leishmania</td>\n",
       "      <td>Negativo</td>\n",
       "      <td>Spain</td>\n",
       "      <td>Barcelona</td>\n",
       "      <td>8520.0</td>\n",
       "      <td>41.62748</td>\n",
       "      <td>2.295089</td>\n",
       "      <td>8.0</td>\n",
       "    </tr>\n",
       "    <tr>\n",
       "      <th>2020-07-20 13:37:12</th>\n",
       "      <td>Leishmania</td>\n",
       "      <td>Negativo</td>\n",
       "      <td>Spain</td>\n",
       "      <td>Barcelona</td>\n",
       "      <td>8520.0</td>\n",
       "      <td>41.627465</td>\n",
       "      <td>2.295028</td>\n",
       "      <td>8.0</td>\n",
       "    </tr>\n",
       "  </tbody>\n",
       "</table>\n",
       "</div>"
      ],
      "text/plain": [
       "                      Name test     Valor Country       City  Postal code  \\\n",
       "Date                                                                        \n",
       "2020-07-20 12:59:04  Leishmania  Negativo   Spain  Barcelona       8520.0   \n",
       "2020-07-20 12:59:25  Leishmania  Negativo   Spain  Barcelona       8520.0   \n",
       "2020-07-20 13:18:08  Leishmania  Negativo   Spain  Barcelona       8520.0   \n",
       "2020-07-20 13:19:02  Leishmania  Negativo   Spain  Barcelona       8520.0   \n",
       "2020-07-20 13:37:12  Leishmania  Negativo   Spain  Barcelona       8520.0   \n",
       "\n",
       "                       latitud  longitud  Cod_prov  \n",
       "Date                                                \n",
       "2020-07-20 12:59:04  41.627626  2.294704       8.0  \n",
       "2020-07-20 12:59:25  41.627454     2.295       8.0  \n",
       "2020-07-20 13:18:08  41.627452  2.294975       8.0  \n",
       "2020-07-20 13:19:02   41.62748  2.295089       8.0  \n",
       "2020-07-20 13:37:12  41.627465  2.295028       8.0  "
      ]
     },
     "execution_count": 7,
     "metadata": {},
     "output_type": "execute_result"
    }
   ],
   "source": [
    "def extract_cod_prov(postal_code):\n",
    "    if pd.isnull(postal_code):\n",
    "        return None\n",
    "    code_str = str(int(postal_code))\n",
    "    if len(code_str) == 4:\n",
    "        return int(code_str[0])\n",
    "    elif len(code_str) == 5:\n",
    "        return int(code_str[:2])\n",
    "    else:\n",
    "        return None\n",
    "\n",
    "data['Cod_prov'] = data['Postal code'].apply(extract_cod_prov)\n",
    "data.head()"
   ]
  },
  {
   "cell_type": "code",
   "execution_count": 8,
   "metadata": {},
   "outputs": [
    {
     "data": {
      "text/plain": [
       "Valor\n",
       "Negativo           33083\n",
       "Positivo            4012\n",
       "Invalido             628\n",
       "Dudoso               435\n",
       "Inválido             155\n",
       "Positivo fuerte      149\n",
       "Error                 28\n",
       "Name: count, dtype: int64"
      ]
     },
     "execution_count": 8,
     "metadata": {},
     "output_type": "execute_result"
    }
   ],
   "source": [
    "data['Valor'].value_counts()"
   ]
  },
  {
   "cell_type": "code",
   "execution_count": 87,
   "metadata": {
    "ExecuteTime": {
     "end_time": "2025-04-10T09:59:38.105273Z",
     "start_time": "2025-04-10T09:59:38.073488Z"
    },
    "colab": {
     "base_uri": "https://localhost:8080/",
     "height": 238
    },
    "executionInfo": {
     "elapsed": 80,
     "status": "ok",
     "timestamp": 1755881893303,
     "user": {
      "displayName": "Alejandro Gómez Martín",
      "userId": "11487793164505300730"
     },
     "user_tz": -120
    },
    "id": "OS2vqIGktQ3S",
    "outputId": "3793bc66-a851-401b-898f-18c4e95509d2"
   },
   "outputs": [
    {
     "data": {
      "text/html": [
       "<div>\n",
       "<style scoped>\n",
       "    .dataframe tbody tr th:only-of-type {\n",
       "        vertical-align: middle;\n",
       "    }\n",
       "\n",
       "    .dataframe tbody tr th {\n",
       "        vertical-align: top;\n",
       "    }\n",
       "\n",
       "    .dataframe thead th {\n",
       "        text-align: right;\n",
       "    }\n",
       "</style>\n",
       "<table border=\"1\" class=\"dataframe\">\n",
       "  <thead>\n",
       "    <tr style=\"text-align: right;\">\n",
       "      <th></th>\n",
       "      <th>Name test</th>\n",
       "      <th>Country</th>\n",
       "      <th>City</th>\n",
       "      <th>Postal code</th>\n",
       "      <th>longitud</th>\n",
       "      <th>latitud</th>\n",
       "      <th>Valor</th>\n",
       "      <th>Cod_prov</th>\n",
       "    </tr>\n",
       "    <tr>\n",
       "      <th>Date</th>\n",
       "      <th></th>\n",
       "      <th></th>\n",
       "      <th></th>\n",
       "      <th></th>\n",
       "      <th></th>\n",
       "      <th></th>\n",
       "      <th></th>\n",
       "      <th></th>\n",
       "    </tr>\n",
       "  </thead>\n",
       "  <tbody>\n",
       "    <tr>\n",
       "      <th>2020-07-20</th>\n",
       "      <td>Leishmania</td>\n",
       "      <td>Spain</td>\n",
       "      <td>Barcelona</td>\n",
       "      <td>8520.0</td>\n",
       "      <td>2.294704</td>\n",
       "      <td>41.627626</td>\n",
       "      <td>Negativo</td>\n",
       "      <td>8.0</td>\n",
       "    </tr>\n",
       "    <tr>\n",
       "      <th>2020-07-20</th>\n",
       "      <td>Leishmania</td>\n",
       "      <td>Spain</td>\n",
       "      <td>Barcelona</td>\n",
       "      <td>8520.0</td>\n",
       "      <td>2.295000</td>\n",
       "      <td>41.627454</td>\n",
       "      <td>Negativo</td>\n",
       "      <td>8.0</td>\n",
       "    </tr>\n",
       "    <tr>\n",
       "      <th>2020-07-20</th>\n",
       "      <td>Leishmania</td>\n",
       "      <td>Spain</td>\n",
       "      <td>Barcelona</td>\n",
       "      <td>8520.0</td>\n",
       "      <td>2.294975</td>\n",
       "      <td>41.627452</td>\n",
       "      <td>Negativo</td>\n",
       "      <td>8.0</td>\n",
       "    </tr>\n",
       "    <tr>\n",
       "      <th>2020-07-20</th>\n",
       "      <td>Leishmania</td>\n",
       "      <td>Spain</td>\n",
       "      <td>Barcelona</td>\n",
       "      <td>8520.0</td>\n",
       "      <td>2.295089</td>\n",
       "      <td>41.627480</td>\n",
       "      <td>Negativo</td>\n",
       "      <td>8.0</td>\n",
       "    </tr>\n",
       "    <tr>\n",
       "      <th>2020-07-20</th>\n",
       "      <td>Leishmania</td>\n",
       "      <td>Spain</td>\n",
       "      <td>Barcelona</td>\n",
       "      <td>8520.0</td>\n",
       "      <td>2.295028</td>\n",
       "      <td>41.627465</td>\n",
       "      <td>Negativo</td>\n",
       "      <td>8.0</td>\n",
       "    </tr>\n",
       "  </tbody>\n",
       "</table>\n",
       "</div>"
      ],
      "text/plain": [
       "             Name test Country       City  Postal code  longitud    latitud  \\\n",
       "Date                                                                          \n",
       "2020-07-20  Leishmania   Spain  Barcelona       8520.0  2.294704  41.627626   \n",
       "2020-07-20  Leishmania   Spain  Barcelona       8520.0  2.295000  41.627454   \n",
       "2020-07-20  Leishmania   Spain  Barcelona       8520.0  2.294975  41.627452   \n",
       "2020-07-20  Leishmania   Spain  Barcelona       8520.0  2.295089  41.627480   \n",
       "2020-07-20  Leishmania   Spain  Barcelona       8520.0  2.295028  41.627465   \n",
       "\n",
       "               Valor  Cod_prov  \n",
       "Date                            \n",
       "2020-07-20  Negativo       8.0  \n",
       "2020-07-20  Negativo       8.0  \n",
       "2020-07-20  Negativo       8.0  \n",
       "2020-07-20  Negativo       8.0  \n",
       "2020-07-20  Negativo       8.0  "
      ]
     },
     "execution_count": 87,
     "metadata": {},
     "output_type": "execute_result"
    }
   ],
   "source": [
    "data_5.head()"
   ]
  },
  {
   "cell_type": "code",
   "execution_count": 88,
   "metadata": {
    "ExecuteTime": {
     "end_time": "2025-04-10T09:59:38.252980Z",
     "start_time": "2025-04-10T09:59:38.245400Z"
    },
    "colab": {
     "base_uri": "https://localhost:8080/",
     "height": 210
    },
    "executionInfo": {
     "elapsed": 25,
     "status": "ok",
     "timestamp": 1755881893328,
     "user": {
      "displayName": "Alejandro Gómez Martín",
      "userId": "11487793164505300730"
     },
     "user_tz": -120
    },
    "id": "6vZYDQX7tQ3T",
    "outputId": "c8b7cbca-8ac0-4aaf-93dc-e57341781bc5"
   },
   "outputs": [
    {
     "data": {
      "text/plain": [
       "Valor\n",
       "Negativo    36484\n",
       "Positivo     4867\n",
       "Resto        1463\n",
       "Name: count, dtype: int64"
      ]
     },
     "execution_count": 88,
     "metadata": {},
     "output_type": "execute_result"
    }
   ],
   "source": [
    "data_5['Valor'].value_counts()"
   ]
  },
  {
   "cell_type": "code",
   "execution_count": 89,
   "metadata": {
    "ExecuteTime": {
     "end_time": "2025-04-10T09:59:38.721844Z",
     "start_time": "2025-04-10T09:59:38.702897Z"
    },
    "colab": {
     "base_uri": "https://localhost:8080/"
    },
    "executionInfo": {
     "elapsed": 24,
     "status": "ok",
     "timestamp": 1755881893354,
     "user": {
      "displayName": "Alejandro Gómez Martín",
      "userId": "11487793164505300730"
     },
     "user_tz": -120
    },
    "id": "TeUFCAIvtQ3U",
    "outputId": "54edd69a-6ced-4497-e3f2-486d54d6cbd8"
   },
   "outputs": [
    {
     "name": "stdout",
     "output_type": "stream",
     "text": [
      "<class 'pandas.core.frame.DataFrame'>\n",
      "DatetimeIndex: 42814 entries, 2020-07-20 to 2024-10-31\n",
      "Data columns (total 8 columns):\n",
      " #   Column       Non-Null Count  Dtype  \n",
      "---  ------       --------------  -----  \n",
      " 0   Name test    42814 non-null  object \n",
      " 1   Country      42814 non-null  object \n",
      " 2   City         42814 non-null  object \n",
      " 3   Postal code  42811 non-null  float64\n",
      " 4   longitud     42728 non-null  float64\n",
      " 5   latitud      42728 non-null  float64\n",
      " 6   Valor        42814 non-null  object \n",
      " 7   Cod_prov     42811 non-null  float64\n",
      "dtypes: float64(4), object(4)\n",
      "memory usage: 2.9+ MB\n"
     ]
    }
   ],
   "source": [
    "data_5.info()"
   ]
  },
  {
   "cell_type": "markdown",
   "metadata": {},
   "source": [
    "## Preprocesamiento de datos borrando las filas sin codigo postal"
   ]
  },
  {
   "cell_type": "code",
   "execution_count": 90,
   "metadata": {
    "ExecuteTime": {
     "end_time": "2025-04-10T09:59:39.149198Z",
     "start_time": "2025-04-10T09:59:39.117282Z"
    },
    "colab": {
     "base_uri": "https://localhost:8080/"
    },
    "executionInfo": {
     "elapsed": 74,
     "status": "ok",
     "timestamp": 1755881893430,
     "user": {
      "displayName": "Alejandro Gómez Martín",
      "userId": "11487793164505300730"
     },
     "user_tz": -120
    },
    "id": "uQJa7F59tQ3U",
    "outputId": "934f04c2-9c8d-4879-d191-e7f3df20ee5a"
   },
   "outputs": [
    {
     "name": "stdout",
     "output_type": "stream",
     "text": [
      "<class 'pandas.core.frame.DataFrame'>\n",
      "DatetimeIndex: 42811 entries, 2020-07-20 to 2024-10-31\n",
      "Data columns (total 8 columns):\n",
      " #   Column       Non-Null Count  Dtype  \n",
      "---  ------       --------------  -----  \n",
      " 0   Name test    42811 non-null  object \n",
      " 1   Country      42811 non-null  object \n",
      " 2   City         42811 non-null  object \n",
      " 3   Postal code  42811 non-null  float64\n",
      " 4   longitud     42725 non-null  float64\n",
      " 5   latitud      42725 non-null  float64\n",
      " 6   Valor        42811 non-null  object \n",
      " 7   Cod_prov     42811 non-null  float64\n",
      "dtypes: float64(4), object(4)\n",
      "memory usage: 2.9+ MB\n"
     ]
    }
   ],
   "source": [
    "# Borramos las filas que no tienen CP\n",
    "data_5.dropna(subset = ['Postal code'], inplace = True)\n",
    "data_5.info()"
   ]
  },
  {
   "cell_type": "code",
   "execution_count": 91,
   "metadata": {
    "ExecuteTime": {
     "end_time": "2025-04-10T09:59:39.605177Z",
     "start_time": "2025-04-10T09:59:39.585365Z"
    },
    "colab": {
     "base_uri": "https://localhost:8080/",
     "height": 455
    },
    "executionInfo": {
     "elapsed": 158,
     "status": "ok",
     "timestamp": 1755881893571,
     "user": {
      "displayName": "Alejandro Gómez Martín",
      "userId": "11487793164505300730"
     },
     "user_tz": -120
    },
    "id": "oytd2_uLtQ3V",
    "outputId": "bce6a944-1800-413b-a384-113bcb0bd0a0"
   },
   "outputs": [
    {
     "data": {
      "text/html": [
       "<div>\n",
       "<style scoped>\n",
       "    .dataframe tbody tr th:only-of-type {\n",
       "        vertical-align: middle;\n",
       "    }\n",
       "\n",
       "    .dataframe tbody tr th {\n",
       "        vertical-align: top;\n",
       "    }\n",
       "\n",
       "    .dataframe thead th {\n",
       "        text-align: right;\n",
       "    }\n",
       "</style>\n",
       "<table border=\"1\" class=\"dataframe\">\n",
       "  <thead>\n",
       "    <tr style=\"text-align: right;\">\n",
       "      <th></th>\n",
       "      <th>Name test</th>\n",
       "      <th>Country</th>\n",
       "      <th>City</th>\n",
       "      <th>Postal code</th>\n",
       "      <th>longitud</th>\n",
       "      <th>latitud</th>\n",
       "      <th>Valor</th>\n",
       "      <th>Cod_prov</th>\n",
       "    </tr>\n",
       "    <tr>\n",
       "      <th>Date</th>\n",
       "      <th></th>\n",
       "      <th></th>\n",
       "      <th></th>\n",
       "      <th></th>\n",
       "      <th></th>\n",
       "      <th></th>\n",
       "      <th></th>\n",
       "      <th></th>\n",
       "    </tr>\n",
       "  </thead>\n",
       "  <tbody>\n",
       "    <tr>\n",
       "      <th>2020-07-21</th>\n",
       "      <td>Leishmania</td>\n",
       "      <td>Spain</td>\n",
       "      <td>Barcelona</td>\n",
       "      <td>8520.0</td>\n",
       "      <td>2.295092</td>\n",
       "      <td>41.627462</td>\n",
       "      <td>Positivo</td>\n",
       "      <td>8.0</td>\n",
       "    </tr>\n",
       "    <tr>\n",
       "      <th>2020-07-21</th>\n",
       "      <td>Leishmania</td>\n",
       "      <td>Spain</td>\n",
       "      <td>Barcelona</td>\n",
       "      <td>8520.0</td>\n",
       "      <td>2.295037</td>\n",
       "      <td>41.627451</td>\n",
       "      <td>Positivo</td>\n",
       "      <td>8.0</td>\n",
       "    </tr>\n",
       "    <tr>\n",
       "      <th>2020-07-21</th>\n",
       "      <td>Leishmania</td>\n",
       "      <td>Spain</td>\n",
       "      <td>Barcelona</td>\n",
       "      <td>8520.0</td>\n",
       "      <td>2.295067</td>\n",
       "      <td>41.627487</td>\n",
       "      <td>Positivo</td>\n",
       "      <td>8.0</td>\n",
       "    </tr>\n",
       "    <tr>\n",
       "      <th>2020-07-21</th>\n",
       "      <td>Leishmania</td>\n",
       "      <td>Spain</td>\n",
       "      <td>Barcelona</td>\n",
       "      <td>8520.0</td>\n",
       "      <td>2.294997</td>\n",
       "      <td>41.627520</td>\n",
       "      <td>Positivo</td>\n",
       "      <td>8.0</td>\n",
       "    </tr>\n",
       "    <tr>\n",
       "      <th>2020-07-22</th>\n",
       "      <td>Leishmania</td>\n",
       "      <td>Spain</td>\n",
       "      <td>Barcelona</td>\n",
       "      <td>8520.0</td>\n",
       "      <td>2.294814</td>\n",
       "      <td>41.627585</td>\n",
       "      <td>Positivo</td>\n",
       "      <td>8.0</td>\n",
       "    </tr>\n",
       "    <tr>\n",
       "      <th>...</th>\n",
       "      <td>...</td>\n",
       "      <td>...</td>\n",
       "      <td>...</td>\n",
       "      <td>...</td>\n",
       "      <td>...</td>\n",
       "      <td>...</td>\n",
       "      <td>...</td>\n",
       "      <td>...</td>\n",
       "    </tr>\n",
       "    <tr>\n",
       "      <th>2024-10-30</th>\n",
       "      <td>Leishmania</td>\n",
       "      <td>Spain</td>\n",
       "      <td>Huelva</td>\n",
       "      <td>21007.0</td>\n",
       "      <td>-6.924613</td>\n",
       "      <td>37.259517</td>\n",
       "      <td>Positivo</td>\n",
       "      <td>21.0</td>\n",
       "    </tr>\n",
       "    <tr>\n",
       "      <th>2024-10-30</th>\n",
       "      <td>Leishmania</td>\n",
       "      <td>Spain</td>\n",
       "      <td>Jaén</td>\n",
       "      <td>23320.0</td>\n",
       "      <td>-3.292525</td>\n",
       "      <td>38.035989</td>\n",
       "      <td>Positivo</td>\n",
       "      <td>23.0</td>\n",
       "    </tr>\n",
       "    <tr>\n",
       "      <th>2024-10-31</th>\n",
       "      <td>Leishmania</td>\n",
       "      <td>Spain</td>\n",
       "      <td>Tarragona</td>\n",
       "      <td>43580.0</td>\n",
       "      <td>0.736036</td>\n",
       "      <td>40.718648</td>\n",
       "      <td>Positivo</td>\n",
       "      <td>43.0</td>\n",
       "    </tr>\n",
       "    <tr>\n",
       "      <th>2024-10-31</th>\n",
       "      <td>Leishmania</td>\n",
       "      <td>Spain</td>\n",
       "      <td>Almería</td>\n",
       "      <td>4860.0</td>\n",
       "      <td>-2.299425</td>\n",
       "      <td>37.358603</td>\n",
       "      <td>Positivo</td>\n",
       "      <td>4.0</td>\n",
       "    </tr>\n",
       "    <tr>\n",
       "      <th>2024-10-31</th>\n",
       "      <td>Leishmania</td>\n",
       "      <td>Spain</td>\n",
       "      <td>Illes Balears</td>\n",
       "      <td>7817.0</td>\n",
       "      <td>1.398146</td>\n",
       "      <td>38.893525</td>\n",
       "      <td>Positivo</td>\n",
       "      <td>7.0</td>\n",
       "    </tr>\n",
       "  </tbody>\n",
       "</table>\n",
       "<p>3745 rows × 8 columns</p>\n",
       "</div>"
      ],
      "text/plain": [
       "             Name test Country           City  Postal code  longitud  \\\n",
       "Date                                                                   \n",
       "2020-07-21  Leishmania   Spain      Barcelona       8520.0  2.295092   \n",
       "2020-07-21  Leishmania   Spain      Barcelona       8520.0  2.295037   \n",
       "2020-07-21  Leishmania   Spain      Barcelona       8520.0  2.295067   \n",
       "2020-07-21  Leishmania   Spain      Barcelona       8520.0  2.294997   \n",
       "2020-07-22  Leishmania   Spain      Barcelona       8520.0  2.294814   \n",
       "...                ...     ...            ...          ...       ...   \n",
       "2024-10-30  Leishmania   Spain         Huelva      21007.0 -6.924613   \n",
       "2024-10-30  Leishmania   Spain           Jaén      23320.0 -3.292525   \n",
       "2024-10-31  Leishmania   Spain      Tarragona      43580.0  0.736036   \n",
       "2024-10-31  Leishmania   Spain        Almería       4860.0 -2.299425   \n",
       "2024-10-31  Leishmania   Spain  Illes Balears       7817.0  1.398146   \n",
       "\n",
       "              latitud     Valor  Cod_prov  \n",
       "Date                                       \n",
       "2020-07-21  41.627462  Positivo       8.0  \n",
       "2020-07-21  41.627451  Positivo       8.0  \n",
       "2020-07-21  41.627487  Positivo       8.0  \n",
       "2020-07-21  41.627520  Positivo       8.0  \n",
       "2020-07-22  41.627585  Positivo       8.0  \n",
       "...               ...       ...       ...  \n",
       "2024-10-30  37.259517  Positivo      21.0  \n",
       "2024-10-30  38.035989  Positivo      23.0  \n",
       "2024-10-31  40.718648  Positivo      43.0  \n",
       "2024-10-31  37.358603  Positivo       4.0  \n",
       "2024-10-31  38.893525  Positivo       7.0  \n",
       "\n",
       "[3745 rows x 8 columns]"
      ]
     },
     "execution_count": 91,
     "metadata": {},
     "output_type": "execute_result"
    }
   ],
   "source": [
    "df = data_5[(data_5['Name test'] == 'Leishmania') & (data_5['Valor'] == 'Positivo')].sort_index()\n",
    "df"
   ]
  },
  {
   "cell_type": "markdown",
   "metadata": {
    "id": "LvlVQzfjtQ3V"
   },
   "source": [
    "## Comparamos los datos por años con los datos por semanas\n",
    "\n",
    "### Agrupacion mensual"
   ]
  },
  {
   "cell_type": "code",
   "execution_count": 92,
   "metadata": {
    "ExecuteTime": {
     "end_time": "2025-04-10T11:34:17.253516Z",
     "start_time": "2025-04-10T11:34:17.179215Z"
    },
    "colab": {
     "base_uri": "https://localhost:8080/",
     "height": 560
    },
    "executionInfo": {
     "elapsed": 31,
     "status": "ok",
     "timestamp": 1755881893575,
     "user": {
      "displayName": "Alejandro Gómez Martín",
      "userId": "11487793164505300730"
     },
     "user_tz": -120
    },
    "id": "fiq1gblftQ3W",
    "outputId": "10d40da9-046a-4012-c327-789cb6fe8eb6",
    "scrolled": true
   },
   "outputs": [
    {
     "data": {
      "text/html": [
       "        <script type=\"text/javascript\">\n",
       "        window.PlotlyConfig = {MathJaxConfig: 'local'};\n",
       "        if (window.MathJax && window.MathJax.Hub && window.MathJax.Hub.Config) {window.MathJax.Hub.Config({SVG: {font: \"STIX-Web\"}});}\n",
       "        </script>\n",
       "        <script type=\"module\">import \"https://cdn.plot.ly/plotly-3.0.1.min\"</script>\n",
       "        "
      ]
     },
     "metadata": {},
     "output_type": "display_data"
    },
    {
     "data": {
      "application/vnd.plotly.v1+json": {
       "config": {
        "linkText": "Export to plot.ly",
        "plotlyServerURL": "https://plot.ly",
        "showLink": false
       },
       "data": [
        {
         "mode": "lines",
         "name": "2020",
         "type": "scatter",
         "x": {
          "bdata": "AQAAAAIAAAADAAAABAAAAAUAAAAGAAAABwAAAAgAAAAJAAAACgAAAAsAAAAMAAAA",
          "dtype": "i4"
         },
         "y": {
          "bdata": "AAAAAAAAAAAAAAAAAAAAAAAAAAAAAAAAAAAAAAAAAAAAAAAAAAAAAAAAAAAAAAAAAAAAAAAAIEAAAAAAAADwPwAAAAAAAAhAAAAAAAAAAAAAAAAAAAAAAAAAAAAAAAAA",
          "dtype": "f8"
         }
        },
        {
         "mode": "lines",
         "name": "2021",
         "type": "scatter",
         "x": {
          "bdata": "AQAAAAIAAAADAAAABAAAAAUAAAAGAAAABwAAAAgAAAAJAAAACgAAAAsAAAAMAAAA",
          "dtype": "i4"
         },
         "y": {
          "bdata": "AAAAAAAA8D8AAAAAAADwPwAAAAAAAAAAAAAAAAAACEAAAAAAAAAUQAAAAAAAAAAAAAAAAAAAJkAAAAAAAAAqQAAAAAAAAENAAAAAAACAR0AAAAAAAIBOQAAAAAAAgFFA",
          "dtype": "f8"
         }
        },
        {
         "mode": "lines",
         "name": "2022",
         "type": "scatter",
         "x": {
          "bdata": "AQAAAAIAAAADAAAABAAAAAUAAAAGAAAABwAAAAgAAAAJAAAACgAAAAsAAAAMAAAA",
          "dtype": "i4"
         },
         "y": {
          "bdata": "AAAAAACATkAAAAAAAEBWQAAAAAAAQFlAAAAAAABAXkAAAAAAAMBlQAAAAAAAQGNAAAAAAADAYEAAAAAAAABPQAAAAAAAQFVAAAAAAABAWkAAAAAAAABSQAAAAAAAQF1A",
          "dtype": "f8"
         }
        },
        {
         "mode": "lines",
         "name": "2023",
         "type": "scatter",
         "x": {
          "bdata": "AQAAAAIAAAADAAAABAAAAAUAAAAGAAAABwAAAAgAAAAJAAAACgAAAAsAAAAMAAAA",
          "dtype": "i4"
         },
         "y": {
          "bdata": "AAAAAACAWEAAAAAAAABcQAAAAAAAQGRAAAAAAACgYkAAAAAAAABlQAAAAAAAIGBAAAAAAAAAXkAAAAAAAMBgQAAAAAAAQFVAAAAAAABAWUAAAAAAAEBbQAAAAAAAgEFA",
          "dtype": "f8"
         }
        },
        {
         "mode": "lines",
         "name": "2024",
         "type": "scatter",
         "x": {
          "bdata": "AQAAAAIAAAADAAAABAAAAAUAAAAGAAAABwAAAAgAAAAJAAAACgAAAAsAAAAMAAAA",
          "dtype": "i4"
         },
         "y": {
          "bdata": "AAAAAAAAP0AAAAAAAAA+QAAAAAAAADFAAAAAAAAA8D8AAAAAAMBdQAAAAAAAAGBAAAAAAAAAYEAAAAAAAEBfQAAAAAAAAFtAAAAAAADAXUAAAAAAAAAAAAAAAAAAAAAA",
          "dtype": "f8"
         }
        }
       ],
       "layout": {
        "template": {
         "data": {
          "bar": [
           {
            "error_x": {
             "color": "#2a3f5f"
            },
            "error_y": {
             "color": "#2a3f5f"
            },
            "marker": {
             "line": {
              "color": "#E5ECF6",
              "width": 0.5
             },
             "pattern": {
              "fillmode": "overlay",
              "size": 10,
              "solidity": 0.2
             }
            },
            "type": "bar"
           }
          ],
          "barpolar": [
           {
            "marker": {
             "line": {
              "color": "#E5ECF6",
              "width": 0.5
             },
             "pattern": {
              "fillmode": "overlay",
              "size": 10,
              "solidity": 0.2
             }
            },
            "type": "barpolar"
           }
          ],
          "carpet": [
           {
            "aaxis": {
             "endlinecolor": "#2a3f5f",
             "gridcolor": "white",
             "linecolor": "white",
             "minorgridcolor": "white",
             "startlinecolor": "#2a3f5f"
            },
            "baxis": {
             "endlinecolor": "#2a3f5f",
             "gridcolor": "white",
             "linecolor": "white",
             "minorgridcolor": "white",
             "startlinecolor": "#2a3f5f"
            },
            "type": "carpet"
           }
          ],
          "choropleth": [
           {
            "colorbar": {
             "outlinewidth": 0,
             "ticks": ""
            },
            "type": "choropleth"
           }
          ],
          "contour": [
           {
            "colorbar": {
             "outlinewidth": 0,
             "ticks": ""
            },
            "colorscale": [
             [
              0,
              "#0d0887"
             ],
             [
              0.1111111111111111,
              "#46039f"
             ],
             [
              0.2222222222222222,
              "#7201a8"
             ],
             [
              0.3333333333333333,
              "#9c179e"
             ],
             [
              0.4444444444444444,
              "#bd3786"
             ],
             [
              0.5555555555555556,
              "#d8576b"
             ],
             [
              0.6666666666666666,
              "#ed7953"
             ],
             [
              0.7777777777777778,
              "#fb9f3a"
             ],
             [
              0.8888888888888888,
              "#fdca26"
             ],
             [
              1,
              "#f0f921"
             ]
            ],
            "type": "contour"
           }
          ],
          "contourcarpet": [
           {
            "colorbar": {
             "outlinewidth": 0,
             "ticks": ""
            },
            "type": "contourcarpet"
           }
          ],
          "heatmap": [
           {
            "colorbar": {
             "outlinewidth": 0,
             "ticks": ""
            },
            "colorscale": [
             [
              0,
              "#0d0887"
             ],
             [
              0.1111111111111111,
              "#46039f"
             ],
             [
              0.2222222222222222,
              "#7201a8"
             ],
             [
              0.3333333333333333,
              "#9c179e"
             ],
             [
              0.4444444444444444,
              "#bd3786"
             ],
             [
              0.5555555555555556,
              "#d8576b"
             ],
             [
              0.6666666666666666,
              "#ed7953"
             ],
             [
              0.7777777777777778,
              "#fb9f3a"
             ],
             [
              0.8888888888888888,
              "#fdca26"
             ],
             [
              1,
              "#f0f921"
             ]
            ],
            "type": "heatmap"
           }
          ],
          "histogram": [
           {
            "marker": {
             "pattern": {
              "fillmode": "overlay",
              "size": 10,
              "solidity": 0.2
             }
            },
            "type": "histogram"
           }
          ],
          "histogram2d": [
           {
            "colorbar": {
             "outlinewidth": 0,
             "ticks": ""
            },
            "colorscale": [
             [
              0,
              "#0d0887"
             ],
             [
              0.1111111111111111,
              "#46039f"
             ],
             [
              0.2222222222222222,
              "#7201a8"
             ],
             [
              0.3333333333333333,
              "#9c179e"
             ],
             [
              0.4444444444444444,
              "#bd3786"
             ],
             [
              0.5555555555555556,
              "#d8576b"
             ],
             [
              0.6666666666666666,
              "#ed7953"
             ],
             [
              0.7777777777777778,
              "#fb9f3a"
             ],
             [
              0.8888888888888888,
              "#fdca26"
             ],
             [
              1,
              "#f0f921"
             ]
            ],
            "type": "histogram2d"
           }
          ],
          "histogram2dcontour": [
           {
            "colorbar": {
             "outlinewidth": 0,
             "ticks": ""
            },
            "colorscale": [
             [
              0,
              "#0d0887"
             ],
             [
              0.1111111111111111,
              "#46039f"
             ],
             [
              0.2222222222222222,
              "#7201a8"
             ],
             [
              0.3333333333333333,
              "#9c179e"
             ],
             [
              0.4444444444444444,
              "#bd3786"
             ],
             [
              0.5555555555555556,
              "#d8576b"
             ],
             [
              0.6666666666666666,
              "#ed7953"
             ],
             [
              0.7777777777777778,
              "#fb9f3a"
             ],
             [
              0.8888888888888888,
              "#fdca26"
             ],
             [
              1,
              "#f0f921"
             ]
            ],
            "type": "histogram2dcontour"
           }
          ],
          "mesh3d": [
           {
            "colorbar": {
             "outlinewidth": 0,
             "ticks": ""
            },
            "type": "mesh3d"
           }
          ],
          "parcoords": [
           {
            "line": {
             "colorbar": {
              "outlinewidth": 0,
              "ticks": ""
             }
            },
            "type": "parcoords"
           }
          ],
          "pie": [
           {
            "automargin": true,
            "type": "pie"
           }
          ],
          "scatter": [
           {
            "fillpattern": {
             "fillmode": "overlay",
             "size": 10,
             "solidity": 0.2
            },
            "type": "scatter"
           }
          ],
          "scatter3d": [
           {
            "line": {
             "colorbar": {
              "outlinewidth": 0,
              "ticks": ""
             }
            },
            "marker": {
             "colorbar": {
              "outlinewidth": 0,
              "ticks": ""
             }
            },
            "type": "scatter3d"
           }
          ],
          "scattercarpet": [
           {
            "marker": {
             "colorbar": {
              "outlinewidth": 0,
              "ticks": ""
             }
            },
            "type": "scattercarpet"
           }
          ],
          "scattergeo": [
           {
            "marker": {
             "colorbar": {
              "outlinewidth": 0,
              "ticks": ""
             }
            },
            "type": "scattergeo"
           }
          ],
          "scattergl": [
           {
            "marker": {
             "colorbar": {
              "outlinewidth": 0,
              "ticks": ""
             }
            },
            "type": "scattergl"
           }
          ],
          "scattermap": [
           {
            "marker": {
             "colorbar": {
              "outlinewidth": 0,
              "ticks": ""
             }
            },
            "type": "scattermap"
           }
          ],
          "scattermapbox": [
           {
            "marker": {
             "colorbar": {
              "outlinewidth": 0,
              "ticks": ""
             }
            },
            "type": "scattermapbox"
           }
          ],
          "scatterpolar": [
           {
            "marker": {
             "colorbar": {
              "outlinewidth": 0,
              "ticks": ""
             }
            },
            "type": "scatterpolar"
           }
          ],
          "scatterpolargl": [
           {
            "marker": {
             "colorbar": {
              "outlinewidth": 0,
              "ticks": ""
             }
            },
            "type": "scatterpolargl"
           }
          ],
          "scatterternary": [
           {
            "marker": {
             "colorbar": {
              "outlinewidth": 0,
              "ticks": ""
             }
            },
            "type": "scatterternary"
           }
          ],
          "surface": [
           {
            "colorbar": {
             "outlinewidth": 0,
             "ticks": ""
            },
            "colorscale": [
             [
              0,
              "#0d0887"
             ],
             [
              0.1111111111111111,
              "#46039f"
             ],
             [
              0.2222222222222222,
              "#7201a8"
             ],
             [
              0.3333333333333333,
              "#9c179e"
             ],
             [
              0.4444444444444444,
              "#bd3786"
             ],
             [
              0.5555555555555556,
              "#d8576b"
             ],
             [
              0.6666666666666666,
              "#ed7953"
             ],
             [
              0.7777777777777778,
              "#fb9f3a"
             ],
             [
              0.8888888888888888,
              "#fdca26"
             ],
             [
              1,
              "#f0f921"
             ]
            ],
            "type": "surface"
           }
          ],
          "table": [
           {
            "cells": {
             "fill": {
              "color": "#EBF0F8"
             },
             "line": {
              "color": "white"
             }
            },
            "header": {
             "fill": {
              "color": "#C8D4E3"
             },
             "line": {
              "color": "white"
             }
            },
            "type": "table"
           }
          ]
         },
         "layout": {
          "annotationdefaults": {
           "arrowcolor": "#2a3f5f",
           "arrowhead": 0,
           "arrowwidth": 1
          },
          "autotypenumbers": "strict",
          "coloraxis": {
           "colorbar": {
            "outlinewidth": 0,
            "ticks": ""
           }
          },
          "colorscale": {
           "diverging": [
            [
             0,
             "#8e0152"
            ],
            [
             0.1,
             "#c51b7d"
            ],
            [
             0.2,
             "#de77ae"
            ],
            [
             0.3,
             "#f1b6da"
            ],
            [
             0.4,
             "#fde0ef"
            ],
            [
             0.5,
             "#f7f7f7"
            ],
            [
             0.6,
             "#e6f5d0"
            ],
            [
             0.7,
             "#b8e186"
            ],
            [
             0.8,
             "#7fbc41"
            ],
            [
             0.9,
             "#4d9221"
            ],
            [
             1,
             "#276419"
            ]
           ],
           "sequential": [
            [
             0,
             "#0d0887"
            ],
            [
             0.1111111111111111,
             "#46039f"
            ],
            [
             0.2222222222222222,
             "#7201a8"
            ],
            [
             0.3333333333333333,
             "#9c179e"
            ],
            [
             0.4444444444444444,
             "#bd3786"
            ],
            [
             0.5555555555555556,
             "#d8576b"
            ],
            [
             0.6666666666666666,
             "#ed7953"
            ],
            [
             0.7777777777777778,
             "#fb9f3a"
            ],
            [
             0.8888888888888888,
             "#fdca26"
            ],
            [
             1,
             "#f0f921"
            ]
           ],
           "sequentialminus": [
            [
             0,
             "#0d0887"
            ],
            [
             0.1111111111111111,
             "#46039f"
            ],
            [
             0.2222222222222222,
             "#7201a8"
            ],
            [
             0.3333333333333333,
             "#9c179e"
            ],
            [
             0.4444444444444444,
             "#bd3786"
            ],
            [
             0.5555555555555556,
             "#d8576b"
            ],
            [
             0.6666666666666666,
             "#ed7953"
            ],
            [
             0.7777777777777778,
             "#fb9f3a"
            ],
            [
             0.8888888888888888,
             "#fdca26"
            ],
            [
             1,
             "#f0f921"
            ]
           ]
          },
          "colorway": [
           "#636efa",
           "#EF553B",
           "#00cc96",
           "#ab63fa",
           "#FFA15A",
           "#19d3f3",
           "#FF6692",
           "#B6E880",
           "#FF97FF",
           "#FECB52"
          ],
          "font": {
           "color": "#2a3f5f"
          },
          "geo": {
           "bgcolor": "white",
           "lakecolor": "white",
           "landcolor": "#E5ECF6",
           "showlakes": true,
           "showland": true,
           "subunitcolor": "white"
          },
          "hoverlabel": {
           "align": "left"
          },
          "hovermode": "closest",
          "mapbox": {
           "style": "light"
          },
          "paper_bgcolor": "white",
          "plot_bgcolor": "#E5ECF6",
          "polar": {
           "angularaxis": {
            "gridcolor": "white",
            "linecolor": "white",
            "ticks": ""
           },
           "bgcolor": "#E5ECF6",
           "radialaxis": {
            "gridcolor": "white",
            "linecolor": "white",
            "ticks": ""
           }
          },
          "scene": {
           "xaxis": {
            "backgroundcolor": "#E5ECF6",
            "gridcolor": "white",
            "gridwidth": 2,
            "linecolor": "white",
            "showbackground": true,
            "ticks": "",
            "zerolinecolor": "white"
           },
           "yaxis": {
            "backgroundcolor": "#E5ECF6",
            "gridcolor": "white",
            "gridwidth": 2,
            "linecolor": "white",
            "showbackground": true,
            "ticks": "",
            "zerolinecolor": "white"
           },
           "zaxis": {
            "backgroundcolor": "#E5ECF6",
            "gridcolor": "white",
            "gridwidth": 2,
            "linecolor": "white",
            "showbackground": true,
            "ticks": "",
            "zerolinecolor": "white"
           }
          },
          "shapedefaults": {
           "line": {
            "color": "#2a3f5f"
           }
          },
          "ternary": {
           "aaxis": {
            "gridcolor": "white",
            "linecolor": "white",
            "ticks": ""
           },
           "baxis": {
            "gridcolor": "white",
            "linecolor": "white",
            "ticks": ""
           },
           "bgcolor": "#E5ECF6",
           "caxis": {
            "gridcolor": "white",
            "linecolor": "white",
            "ticks": ""
           }
          },
          "title": {
           "x": 0.05
          },
          "xaxis": {
           "automargin": true,
           "gridcolor": "white",
           "linecolor": "white",
           "ticks": "",
           "title": {
            "standoff": 15
           },
           "zerolinecolor": "white",
           "zerolinewidth": 2
          },
          "yaxis": {
           "automargin": true,
           "gridcolor": "white",
           "linecolor": "white",
           "ticks": "",
           "title": {
            "standoff": 15
           },
           "zerolinecolor": "white",
           "zerolinewidth": 2
          }
         }
        },
        "title": {
         "text": "Casos mensuales por año"
        },
        "xaxis": {
         "ticktext": [
          "Enero",
          "Febrero",
          "Marzo",
          "Abril",
          "Mayo",
          "Junio",
          "Julio",
          "Agosto",
          "Septiembre",
          "Octubre",
          "Noviembre",
          "Diciembre"
         ],
         "tickvals": [
          1,
          2,
          3,
          4,
          5,
          6,
          7,
          8,
          9,
          10,
          11,
          12
         ],
         "title": {
          "text": "Month"
         }
        }
       }
      },
      "text/html": [
       "<div>            <script src=\"https://cdnjs.cloudflare.com/ajax/libs/mathjax/2.7.5/MathJax.js?config=TeX-AMS-MML_SVG\"></script><script type=\"text/javascript\">if (window.MathJax && window.MathJax.Hub && window.MathJax.Hub.Config) {window.MathJax.Hub.Config({SVG: {font: \"STIX-Web\"}});}</script>                <script type=\"text/javascript\">window.PlotlyConfig = {MathJaxConfig: 'local'};</script>\n",
       "        <script charset=\"utf-8\" src=\"https://cdn.plot.ly/plotly-3.0.1.min.js\"></script>                <div id=\"471d7359-05fa-4b15-9d01-bbc7ffc1d3c2\" class=\"plotly-graph-div\" style=\"height:525px; width:100%;\"></div>            <script type=\"text/javascript\">                window.PLOTLYENV=window.PLOTLYENV || {};                                if (document.getElementById(\"471d7359-05fa-4b15-9d01-bbc7ffc1d3c2\")) {                    Plotly.newPlot(                        \"471d7359-05fa-4b15-9d01-bbc7ffc1d3c2\",                        [{\"mode\":\"lines\",\"name\":\"2020\",\"x\":{\"dtype\":\"i4\",\"bdata\":\"AQAAAAIAAAADAAAABAAAAAUAAAAGAAAABwAAAAgAAAAJAAAACgAAAAsAAAAMAAAA\"},\"y\":{\"dtype\":\"f8\",\"bdata\":\"AAAAAAAAAAAAAAAAAAAAAAAAAAAAAAAAAAAAAAAAAAAAAAAAAAAAAAAAAAAAAAAAAAAAAAAAIEAAAAAAAADwPwAAAAAAAAhAAAAAAAAAAAAAAAAAAAAAAAAAAAAAAAAA\"},\"type\":\"scatter\"},{\"mode\":\"lines\",\"name\":\"2021\",\"x\":{\"dtype\":\"i4\",\"bdata\":\"AQAAAAIAAAADAAAABAAAAAUAAAAGAAAABwAAAAgAAAAJAAAACgAAAAsAAAAMAAAA\"},\"y\":{\"dtype\":\"f8\",\"bdata\":\"AAAAAAAA8D8AAAAAAADwPwAAAAAAAAAAAAAAAAAACEAAAAAAAAAUQAAAAAAAAAAAAAAAAAAAJkAAAAAAAAAqQAAAAAAAAENAAAAAAACAR0AAAAAAAIBOQAAAAAAAgFFA\"},\"type\":\"scatter\"},{\"mode\":\"lines\",\"name\":\"2022\",\"x\":{\"dtype\":\"i4\",\"bdata\":\"AQAAAAIAAAADAAAABAAAAAUAAAAGAAAABwAAAAgAAAAJAAAACgAAAAsAAAAMAAAA\"},\"y\":{\"dtype\":\"f8\",\"bdata\":\"AAAAAACATkAAAAAAAEBWQAAAAAAAQFlAAAAAAABAXkAAAAAAAMBlQAAAAAAAQGNAAAAAAADAYEAAAAAAAABPQAAAAAAAQFVAAAAAAABAWkAAAAAAAABSQAAAAAAAQF1A\"},\"type\":\"scatter\"},{\"mode\":\"lines\",\"name\":\"2023\",\"x\":{\"dtype\":\"i4\",\"bdata\":\"AQAAAAIAAAADAAAABAAAAAUAAAAGAAAABwAAAAgAAAAJAAAACgAAAAsAAAAMAAAA\"},\"y\":{\"dtype\":\"f8\",\"bdata\":\"AAAAAACAWEAAAAAAAABcQAAAAAAAQGRAAAAAAACgYkAAAAAAAABlQAAAAAAAIGBAAAAAAAAAXkAAAAAAAMBgQAAAAAAAQFVAAAAAAABAWUAAAAAAAEBbQAAAAAAAgEFA\"},\"type\":\"scatter\"},{\"mode\":\"lines\",\"name\":\"2024\",\"x\":{\"dtype\":\"i4\",\"bdata\":\"AQAAAAIAAAADAAAABAAAAAUAAAAGAAAABwAAAAgAAAAJAAAACgAAAAsAAAAMAAAA\"},\"y\":{\"dtype\":\"f8\",\"bdata\":\"AAAAAAAAP0AAAAAAAAA+QAAAAAAAADFAAAAAAAAA8D8AAAAAAMBdQAAAAAAAAGBAAAAAAAAAYEAAAAAAAEBfQAAAAAAAAFtAAAAAAADAXUAAAAAAAAAAAAAAAAAAAAAA\"},\"type\":\"scatter\"}],                        {\"template\":{\"data\":{\"barpolar\":[{\"marker\":{\"line\":{\"color\":\"#E5ECF6\",\"width\":0.5},\"pattern\":{\"fillmode\":\"overlay\",\"size\":10,\"solidity\":0.2}},\"type\":\"barpolar\"}],\"bar\":[{\"error_x\":{\"color\":\"#2a3f5f\"},\"error_y\":{\"color\":\"#2a3f5f\"},\"marker\":{\"line\":{\"color\":\"#E5ECF6\",\"width\":0.5},\"pattern\":{\"fillmode\":\"overlay\",\"size\":10,\"solidity\":0.2}},\"type\":\"bar\"}],\"carpet\":[{\"aaxis\":{\"endlinecolor\":\"#2a3f5f\",\"gridcolor\":\"white\",\"linecolor\":\"white\",\"minorgridcolor\":\"white\",\"startlinecolor\":\"#2a3f5f\"},\"baxis\":{\"endlinecolor\":\"#2a3f5f\",\"gridcolor\":\"white\",\"linecolor\":\"white\",\"minorgridcolor\":\"white\",\"startlinecolor\":\"#2a3f5f\"},\"type\":\"carpet\"}],\"choropleth\":[{\"colorbar\":{\"outlinewidth\":0,\"ticks\":\"\"},\"type\":\"choropleth\"}],\"contourcarpet\":[{\"colorbar\":{\"outlinewidth\":0,\"ticks\":\"\"},\"type\":\"contourcarpet\"}],\"contour\":[{\"colorbar\":{\"outlinewidth\":0,\"ticks\":\"\"},\"colorscale\":[[0.0,\"#0d0887\"],[0.1111111111111111,\"#46039f\"],[0.2222222222222222,\"#7201a8\"],[0.3333333333333333,\"#9c179e\"],[0.4444444444444444,\"#bd3786\"],[0.5555555555555556,\"#d8576b\"],[0.6666666666666666,\"#ed7953\"],[0.7777777777777778,\"#fb9f3a\"],[0.8888888888888888,\"#fdca26\"],[1.0,\"#f0f921\"]],\"type\":\"contour\"}],\"heatmap\":[{\"colorbar\":{\"outlinewidth\":0,\"ticks\":\"\"},\"colorscale\":[[0.0,\"#0d0887\"],[0.1111111111111111,\"#46039f\"],[0.2222222222222222,\"#7201a8\"],[0.3333333333333333,\"#9c179e\"],[0.4444444444444444,\"#bd3786\"],[0.5555555555555556,\"#d8576b\"],[0.6666666666666666,\"#ed7953\"],[0.7777777777777778,\"#fb9f3a\"],[0.8888888888888888,\"#fdca26\"],[1.0,\"#f0f921\"]],\"type\":\"heatmap\"}],\"histogram2dcontour\":[{\"colorbar\":{\"outlinewidth\":0,\"ticks\":\"\"},\"colorscale\":[[0.0,\"#0d0887\"],[0.1111111111111111,\"#46039f\"],[0.2222222222222222,\"#7201a8\"],[0.3333333333333333,\"#9c179e\"],[0.4444444444444444,\"#bd3786\"],[0.5555555555555556,\"#d8576b\"],[0.6666666666666666,\"#ed7953\"],[0.7777777777777778,\"#fb9f3a\"],[0.8888888888888888,\"#fdca26\"],[1.0,\"#f0f921\"]],\"type\":\"histogram2dcontour\"}],\"histogram2d\":[{\"colorbar\":{\"outlinewidth\":0,\"ticks\":\"\"},\"colorscale\":[[0.0,\"#0d0887\"],[0.1111111111111111,\"#46039f\"],[0.2222222222222222,\"#7201a8\"],[0.3333333333333333,\"#9c179e\"],[0.4444444444444444,\"#bd3786\"],[0.5555555555555556,\"#d8576b\"],[0.6666666666666666,\"#ed7953\"],[0.7777777777777778,\"#fb9f3a\"],[0.8888888888888888,\"#fdca26\"],[1.0,\"#f0f921\"]],\"type\":\"histogram2d\"}],\"histogram\":[{\"marker\":{\"pattern\":{\"fillmode\":\"overlay\",\"size\":10,\"solidity\":0.2}},\"type\":\"histogram\"}],\"mesh3d\":[{\"colorbar\":{\"outlinewidth\":0,\"ticks\":\"\"},\"type\":\"mesh3d\"}],\"parcoords\":[{\"line\":{\"colorbar\":{\"outlinewidth\":0,\"ticks\":\"\"}},\"type\":\"parcoords\"}],\"pie\":[{\"automargin\":true,\"type\":\"pie\"}],\"scatter3d\":[{\"line\":{\"colorbar\":{\"outlinewidth\":0,\"ticks\":\"\"}},\"marker\":{\"colorbar\":{\"outlinewidth\":0,\"ticks\":\"\"}},\"type\":\"scatter3d\"}],\"scattercarpet\":[{\"marker\":{\"colorbar\":{\"outlinewidth\":0,\"ticks\":\"\"}},\"type\":\"scattercarpet\"}],\"scattergeo\":[{\"marker\":{\"colorbar\":{\"outlinewidth\":0,\"ticks\":\"\"}},\"type\":\"scattergeo\"}],\"scattergl\":[{\"marker\":{\"colorbar\":{\"outlinewidth\":0,\"ticks\":\"\"}},\"type\":\"scattergl\"}],\"scattermapbox\":[{\"marker\":{\"colorbar\":{\"outlinewidth\":0,\"ticks\":\"\"}},\"type\":\"scattermapbox\"}],\"scattermap\":[{\"marker\":{\"colorbar\":{\"outlinewidth\":0,\"ticks\":\"\"}},\"type\":\"scattermap\"}],\"scatterpolargl\":[{\"marker\":{\"colorbar\":{\"outlinewidth\":0,\"ticks\":\"\"}},\"type\":\"scatterpolargl\"}],\"scatterpolar\":[{\"marker\":{\"colorbar\":{\"outlinewidth\":0,\"ticks\":\"\"}},\"type\":\"scatterpolar\"}],\"scatter\":[{\"fillpattern\":{\"fillmode\":\"overlay\",\"size\":10,\"solidity\":0.2},\"type\":\"scatter\"}],\"scatterternary\":[{\"marker\":{\"colorbar\":{\"outlinewidth\":0,\"ticks\":\"\"}},\"type\":\"scatterternary\"}],\"surface\":[{\"colorbar\":{\"outlinewidth\":0,\"ticks\":\"\"},\"colorscale\":[[0.0,\"#0d0887\"],[0.1111111111111111,\"#46039f\"],[0.2222222222222222,\"#7201a8\"],[0.3333333333333333,\"#9c179e\"],[0.4444444444444444,\"#bd3786\"],[0.5555555555555556,\"#d8576b\"],[0.6666666666666666,\"#ed7953\"],[0.7777777777777778,\"#fb9f3a\"],[0.8888888888888888,\"#fdca26\"],[1.0,\"#f0f921\"]],\"type\":\"surface\"}],\"table\":[{\"cells\":{\"fill\":{\"color\":\"#EBF0F8\"},\"line\":{\"color\":\"white\"}},\"header\":{\"fill\":{\"color\":\"#C8D4E3\"},\"line\":{\"color\":\"white\"}},\"type\":\"table\"}]},\"layout\":{\"annotationdefaults\":{\"arrowcolor\":\"#2a3f5f\",\"arrowhead\":0,\"arrowwidth\":1},\"autotypenumbers\":\"strict\",\"coloraxis\":{\"colorbar\":{\"outlinewidth\":0,\"ticks\":\"\"}},\"colorscale\":{\"diverging\":[[0,\"#8e0152\"],[0.1,\"#c51b7d\"],[0.2,\"#de77ae\"],[0.3,\"#f1b6da\"],[0.4,\"#fde0ef\"],[0.5,\"#f7f7f7\"],[0.6,\"#e6f5d0\"],[0.7,\"#b8e186\"],[0.8,\"#7fbc41\"],[0.9,\"#4d9221\"],[1,\"#276419\"]],\"sequential\":[[0.0,\"#0d0887\"],[0.1111111111111111,\"#46039f\"],[0.2222222222222222,\"#7201a8\"],[0.3333333333333333,\"#9c179e\"],[0.4444444444444444,\"#bd3786\"],[0.5555555555555556,\"#d8576b\"],[0.6666666666666666,\"#ed7953\"],[0.7777777777777778,\"#fb9f3a\"],[0.8888888888888888,\"#fdca26\"],[1.0,\"#f0f921\"]],\"sequentialminus\":[[0.0,\"#0d0887\"],[0.1111111111111111,\"#46039f\"],[0.2222222222222222,\"#7201a8\"],[0.3333333333333333,\"#9c179e\"],[0.4444444444444444,\"#bd3786\"],[0.5555555555555556,\"#d8576b\"],[0.6666666666666666,\"#ed7953\"],[0.7777777777777778,\"#fb9f3a\"],[0.8888888888888888,\"#fdca26\"],[1.0,\"#f0f921\"]]},\"colorway\":[\"#636efa\",\"#EF553B\",\"#00cc96\",\"#ab63fa\",\"#FFA15A\",\"#19d3f3\",\"#FF6692\",\"#B6E880\",\"#FF97FF\",\"#FECB52\"],\"font\":{\"color\":\"#2a3f5f\"},\"geo\":{\"bgcolor\":\"white\",\"lakecolor\":\"white\",\"landcolor\":\"#E5ECF6\",\"showlakes\":true,\"showland\":true,\"subunitcolor\":\"white\"},\"hoverlabel\":{\"align\":\"left\"},\"hovermode\":\"closest\",\"mapbox\":{\"style\":\"light\"},\"paper_bgcolor\":\"white\",\"plot_bgcolor\":\"#E5ECF6\",\"polar\":{\"angularaxis\":{\"gridcolor\":\"white\",\"linecolor\":\"white\",\"ticks\":\"\"},\"bgcolor\":\"#E5ECF6\",\"radialaxis\":{\"gridcolor\":\"white\",\"linecolor\":\"white\",\"ticks\":\"\"}},\"scene\":{\"xaxis\":{\"backgroundcolor\":\"#E5ECF6\",\"gridcolor\":\"white\",\"gridwidth\":2,\"linecolor\":\"white\",\"showbackground\":true,\"ticks\":\"\",\"zerolinecolor\":\"white\"},\"yaxis\":{\"backgroundcolor\":\"#E5ECF6\",\"gridcolor\":\"white\",\"gridwidth\":2,\"linecolor\":\"white\",\"showbackground\":true,\"ticks\":\"\",\"zerolinecolor\":\"white\"},\"zaxis\":{\"backgroundcolor\":\"#E5ECF6\",\"gridcolor\":\"white\",\"gridwidth\":2,\"linecolor\":\"white\",\"showbackground\":true,\"ticks\":\"\",\"zerolinecolor\":\"white\"}},\"shapedefaults\":{\"line\":{\"color\":\"#2a3f5f\"}},\"ternary\":{\"aaxis\":{\"gridcolor\":\"white\",\"linecolor\":\"white\",\"ticks\":\"\"},\"baxis\":{\"gridcolor\":\"white\",\"linecolor\":\"white\",\"ticks\":\"\"},\"bgcolor\":\"#E5ECF6\",\"caxis\":{\"gridcolor\":\"white\",\"linecolor\":\"white\",\"ticks\":\"\"}},\"title\":{\"x\":0.05},\"xaxis\":{\"automargin\":true,\"gridcolor\":\"white\",\"linecolor\":\"white\",\"ticks\":\"\",\"title\":{\"standoff\":15},\"zerolinecolor\":\"white\",\"zerolinewidth\":2},\"yaxis\":{\"automargin\":true,\"gridcolor\":\"white\",\"linecolor\":\"white\",\"ticks\":\"\",\"title\":{\"standoff\":15},\"zerolinecolor\":\"white\",\"zerolinewidth\":2}}},\"title\":{\"text\":\"Casos mensuales por a\\u00f1o\"},\"xaxis\":{\"ticktext\":[\"Enero\",\"Febrero\",\"Marzo\",\"Abril\",\"Mayo\",\"Junio\",\"Julio\",\"Agosto\",\"Septiembre\",\"Octubre\",\"Noviembre\",\"Diciembre\"],\"tickvals\":[1,2,3,4,5,6,7,8,9,10,11,12],\"title\":{\"text\":\"Month\"}}},                        {\"responsive\": true}                    ).then(function(){\n",
       "                            \n",
       "var gd = document.getElementById('471d7359-05fa-4b15-9d01-bbc7ffc1d3c2');\n",
       "var x = new MutationObserver(function (mutations, observer) {{\n",
       "        var display = window.getComputedStyle(gd).display;\n",
       "        if (!display || display === 'none') {{\n",
       "            console.log([gd, 'removed!']);\n",
       "            Plotly.purge(gd);\n",
       "            observer.disconnect();\n",
       "        }}\n",
       "}});\n",
       "\n",
       "// Listen for the removal of the full notebook cells\n",
       "var notebookContainer = gd.closest('#notebook-container');\n",
       "if (notebookContainer) {{\n",
       "    x.observe(notebookContainer, {childList: true});\n",
       "}}\n",
       "\n",
       "// Listen for the clearing of the current output cell\n",
       "var outputEl = gd.closest('.output');\n",
       "if (outputEl) {{\n",
       "    x.observe(outputEl, {childList: true});\n",
       "}}\n",
       "\n",
       "                        })                };            </script>        </div>"
      ]
     },
     "metadata": {},
     "output_type": "display_data"
    }
   ],
   "source": [
    "import calendar\n",
    "import locale\n",
    "\n",
    "# set the locale to Spain\n",
    "locale.setlocale(locale.LC_TIME, \"es_ES\")\n",
    "months_list = [calendar.month_name[i].title() for i in range(1, 13)]\n",
    "\n",
    "\n",
    "import plotly.graph_objs as go\n",
    "\n",
    "from plotly.offline import init_notebook_mode, iplot\n",
    "init_notebook_mode(connected=True)\n",
    "\n",
    "df['year'] = df.index.year\n",
    "anual = df.groupby(['year', pd.Grouper(freq = 'MS')]).City.count().reset_index()\n",
    "anual['month']= anual.Date.dt.month\n",
    "anual = anual.pivot_table(index = 'month', columns = 'year', values= 'City', aggfunc='sum').fillna(0)\n",
    "\n",
    "data= []\n",
    "for col in anual.columns:\n",
    "    trace = go.Scatter(\n",
    "        x = anual.index,\n",
    "        y = anual[col],\n",
    "        name = col,\n",
    "    # IMPORTANTE: establecemos que es un gráfico de líneas\n",
    "        mode = 'lines'\n",
    "    )\n",
    "\n",
    "    data.append(trace)\n",
    "\n",
    "layout = dict(\n",
    "            title = dict( text = \"Casos mensuales por año\" ),\n",
    "            # Configuración del eje X\n",
    "            xaxis = dict(\n",
    "               title = dict( text = \"Month\" ),\n",
    "\n",
    "               # vamos a poner marcas en los valores entre 0 y 6 (incluido)\n",
    "               tickvals = list(range(1,13)),\n",
    "\n",
    "               # Cada marca se corresponderá con un día de la semana\n",
    "               ticktext = months_list\n",
    "            ),\n",
    "         )\n",
    "fig = go.Figure(data=data, layout=layout)\n",
    "iplot(fig)"
   ]
  },
  {
   "cell_type": "code",
   "execution_count": 93,
   "metadata": {
    "ExecuteTime": {
     "end_time": "2025-04-10T11:34:23.158961Z",
     "start_time": "2025-04-10T11:34:23.114438Z"
    },
    "colab": {
     "base_uri": "https://localhost:8080/",
     "height": 341
    },
    "executionInfo": {
     "elapsed": 20,
     "status": "error",
     "timestamp": 1755881952162,
     "user": {
      "displayName": "Alejandro Gómez Martín",
      "userId": "11487793164505300730"
     },
     "user_tz": -120
    },
    "id": "LHojjgj1tQ3W",
    "outputId": "67dd0ccc-63d6-45a7-e399-528c27f91ffe"
   },
   "outputs": [
    {
     "data": {
      "application/vnd.plotly.v1+json": {
       "config": {
        "linkText": "Export to plot.ly",
        "plotlyServerURL": "https://plot.ly",
        "showLink": false
       },
       "data": [
        {
         "name": "2020",
         "type": "bar",
         "x": {
          "bdata": "AQAAAAIAAAADAAAABAAAAAUAAAAGAAAABwAAAAgAAAAJAAAACgAAAAsAAAAMAAAA",
          "dtype": "i4"
         },
         "y": {
          "bdata": "AAAAAAAAAAAAAAAAAAAAAAAAAAAAAAAAAAAAAAAAAAAAAAAAAAAAAAAAAAAAAAAAAAAAAAAAIEAAAAAAAADwPwAAAAAAAAhAAAAAAAAAAAAAAAAAAAAAAAAAAAAAAAAA",
          "dtype": "f8"
         }
        },
        {
         "name": "2021",
         "type": "bar",
         "x": {
          "bdata": "AQAAAAIAAAADAAAABAAAAAUAAAAGAAAABwAAAAgAAAAJAAAACgAAAAsAAAAMAAAA",
          "dtype": "i4"
         },
         "y": {
          "bdata": "AAAAAAAA8D8AAAAAAADwPwAAAAAAAAAAAAAAAAAACEAAAAAAAAAUQAAAAAAAAAAAAAAAAAAAJkAAAAAAAAAqQAAAAAAAAENAAAAAAACAR0AAAAAAAIBOQAAAAAAAgFFA",
          "dtype": "f8"
         }
        },
        {
         "name": "2022",
         "type": "bar",
         "x": {
          "bdata": "AQAAAAIAAAADAAAABAAAAAUAAAAGAAAABwAAAAgAAAAJAAAACgAAAAsAAAAMAAAA",
          "dtype": "i4"
         },
         "y": {
          "bdata": "AAAAAACATkAAAAAAAEBWQAAAAAAAQFlAAAAAAABAXkAAAAAAAMBlQAAAAAAAQGNAAAAAAADAYEAAAAAAAABPQAAAAAAAQFVAAAAAAABAWkAAAAAAAABSQAAAAAAAQF1A",
          "dtype": "f8"
         }
        },
        {
         "name": "2023",
         "type": "bar",
         "x": {
          "bdata": "AQAAAAIAAAADAAAABAAAAAUAAAAGAAAABwAAAAgAAAAJAAAACgAAAAsAAAAMAAAA",
          "dtype": "i4"
         },
         "y": {
          "bdata": "AAAAAACAWEAAAAAAAABcQAAAAAAAQGRAAAAAAACgYkAAAAAAAABlQAAAAAAAIGBAAAAAAAAAXkAAAAAAAMBgQAAAAAAAQFVAAAAAAABAWUAAAAAAAEBbQAAAAAAAgEFA",
          "dtype": "f8"
         }
        },
        {
         "name": "2024",
         "type": "bar",
         "x": {
          "bdata": "AQAAAAIAAAADAAAABAAAAAUAAAAGAAAABwAAAAgAAAAJAAAACgAAAAsAAAAMAAAA",
          "dtype": "i4"
         },
         "y": {
          "bdata": "AAAAAAAAP0AAAAAAAAA+QAAAAAAAADFAAAAAAAAA8D8AAAAAAMBdQAAAAAAAAGBAAAAAAAAAYEAAAAAAAEBfQAAAAAAAAFtAAAAAAADAXUAAAAAAAAAAAAAAAAAAAAAA",
          "dtype": "f8"
         }
        }
       ],
       "layout": {
        "template": {
         "data": {
          "bar": [
           {
            "error_x": {
             "color": "#2a3f5f"
            },
            "error_y": {
             "color": "#2a3f5f"
            },
            "marker": {
             "line": {
              "color": "#E5ECF6",
              "width": 0.5
             },
             "pattern": {
              "fillmode": "overlay",
              "size": 10,
              "solidity": 0.2
             }
            },
            "type": "bar"
           }
          ],
          "barpolar": [
           {
            "marker": {
             "line": {
              "color": "#E5ECF6",
              "width": 0.5
             },
             "pattern": {
              "fillmode": "overlay",
              "size": 10,
              "solidity": 0.2
             }
            },
            "type": "barpolar"
           }
          ],
          "carpet": [
           {
            "aaxis": {
             "endlinecolor": "#2a3f5f",
             "gridcolor": "white",
             "linecolor": "white",
             "minorgridcolor": "white",
             "startlinecolor": "#2a3f5f"
            },
            "baxis": {
             "endlinecolor": "#2a3f5f",
             "gridcolor": "white",
             "linecolor": "white",
             "minorgridcolor": "white",
             "startlinecolor": "#2a3f5f"
            },
            "type": "carpet"
           }
          ],
          "choropleth": [
           {
            "colorbar": {
             "outlinewidth": 0,
             "ticks": ""
            },
            "type": "choropleth"
           }
          ],
          "contour": [
           {
            "colorbar": {
             "outlinewidth": 0,
             "ticks": ""
            },
            "colorscale": [
             [
              0,
              "#0d0887"
             ],
             [
              0.1111111111111111,
              "#46039f"
             ],
             [
              0.2222222222222222,
              "#7201a8"
             ],
             [
              0.3333333333333333,
              "#9c179e"
             ],
             [
              0.4444444444444444,
              "#bd3786"
             ],
             [
              0.5555555555555556,
              "#d8576b"
             ],
             [
              0.6666666666666666,
              "#ed7953"
             ],
             [
              0.7777777777777778,
              "#fb9f3a"
             ],
             [
              0.8888888888888888,
              "#fdca26"
             ],
             [
              1,
              "#f0f921"
             ]
            ],
            "type": "contour"
           }
          ],
          "contourcarpet": [
           {
            "colorbar": {
             "outlinewidth": 0,
             "ticks": ""
            },
            "type": "contourcarpet"
           }
          ],
          "heatmap": [
           {
            "colorbar": {
             "outlinewidth": 0,
             "ticks": ""
            },
            "colorscale": [
             [
              0,
              "#0d0887"
             ],
             [
              0.1111111111111111,
              "#46039f"
             ],
             [
              0.2222222222222222,
              "#7201a8"
             ],
             [
              0.3333333333333333,
              "#9c179e"
             ],
             [
              0.4444444444444444,
              "#bd3786"
             ],
             [
              0.5555555555555556,
              "#d8576b"
             ],
             [
              0.6666666666666666,
              "#ed7953"
             ],
             [
              0.7777777777777778,
              "#fb9f3a"
             ],
             [
              0.8888888888888888,
              "#fdca26"
             ],
             [
              1,
              "#f0f921"
             ]
            ],
            "type": "heatmap"
           }
          ],
          "histogram": [
           {
            "marker": {
             "pattern": {
              "fillmode": "overlay",
              "size": 10,
              "solidity": 0.2
             }
            },
            "type": "histogram"
           }
          ],
          "histogram2d": [
           {
            "colorbar": {
             "outlinewidth": 0,
             "ticks": ""
            },
            "colorscale": [
             [
              0,
              "#0d0887"
             ],
             [
              0.1111111111111111,
              "#46039f"
             ],
             [
              0.2222222222222222,
              "#7201a8"
             ],
             [
              0.3333333333333333,
              "#9c179e"
             ],
             [
              0.4444444444444444,
              "#bd3786"
             ],
             [
              0.5555555555555556,
              "#d8576b"
             ],
             [
              0.6666666666666666,
              "#ed7953"
             ],
             [
              0.7777777777777778,
              "#fb9f3a"
             ],
             [
              0.8888888888888888,
              "#fdca26"
             ],
             [
              1,
              "#f0f921"
             ]
            ],
            "type": "histogram2d"
           }
          ],
          "histogram2dcontour": [
           {
            "colorbar": {
             "outlinewidth": 0,
             "ticks": ""
            },
            "colorscale": [
             [
              0,
              "#0d0887"
             ],
             [
              0.1111111111111111,
              "#46039f"
             ],
             [
              0.2222222222222222,
              "#7201a8"
             ],
             [
              0.3333333333333333,
              "#9c179e"
             ],
             [
              0.4444444444444444,
              "#bd3786"
             ],
             [
              0.5555555555555556,
              "#d8576b"
             ],
             [
              0.6666666666666666,
              "#ed7953"
             ],
             [
              0.7777777777777778,
              "#fb9f3a"
             ],
             [
              0.8888888888888888,
              "#fdca26"
             ],
             [
              1,
              "#f0f921"
             ]
            ],
            "type": "histogram2dcontour"
           }
          ],
          "mesh3d": [
           {
            "colorbar": {
             "outlinewidth": 0,
             "ticks": ""
            },
            "type": "mesh3d"
           }
          ],
          "parcoords": [
           {
            "line": {
             "colorbar": {
              "outlinewidth": 0,
              "ticks": ""
             }
            },
            "type": "parcoords"
           }
          ],
          "pie": [
           {
            "automargin": true,
            "type": "pie"
           }
          ],
          "scatter": [
           {
            "fillpattern": {
             "fillmode": "overlay",
             "size": 10,
             "solidity": 0.2
            },
            "type": "scatter"
           }
          ],
          "scatter3d": [
           {
            "line": {
             "colorbar": {
              "outlinewidth": 0,
              "ticks": ""
             }
            },
            "marker": {
             "colorbar": {
              "outlinewidth": 0,
              "ticks": ""
             }
            },
            "type": "scatter3d"
           }
          ],
          "scattercarpet": [
           {
            "marker": {
             "colorbar": {
              "outlinewidth": 0,
              "ticks": ""
             }
            },
            "type": "scattercarpet"
           }
          ],
          "scattergeo": [
           {
            "marker": {
             "colorbar": {
              "outlinewidth": 0,
              "ticks": ""
             }
            },
            "type": "scattergeo"
           }
          ],
          "scattergl": [
           {
            "marker": {
             "colorbar": {
              "outlinewidth": 0,
              "ticks": ""
             }
            },
            "type": "scattergl"
           }
          ],
          "scattermap": [
           {
            "marker": {
             "colorbar": {
              "outlinewidth": 0,
              "ticks": ""
             }
            },
            "type": "scattermap"
           }
          ],
          "scattermapbox": [
           {
            "marker": {
             "colorbar": {
              "outlinewidth": 0,
              "ticks": ""
             }
            },
            "type": "scattermapbox"
           }
          ],
          "scatterpolar": [
           {
            "marker": {
             "colorbar": {
              "outlinewidth": 0,
              "ticks": ""
             }
            },
            "type": "scatterpolar"
           }
          ],
          "scatterpolargl": [
           {
            "marker": {
             "colorbar": {
              "outlinewidth": 0,
              "ticks": ""
             }
            },
            "type": "scatterpolargl"
           }
          ],
          "scatterternary": [
           {
            "marker": {
             "colorbar": {
              "outlinewidth": 0,
              "ticks": ""
             }
            },
            "type": "scatterternary"
           }
          ],
          "surface": [
           {
            "colorbar": {
             "outlinewidth": 0,
             "ticks": ""
            },
            "colorscale": [
             [
              0,
              "#0d0887"
             ],
             [
              0.1111111111111111,
              "#46039f"
             ],
             [
              0.2222222222222222,
              "#7201a8"
             ],
             [
              0.3333333333333333,
              "#9c179e"
             ],
             [
              0.4444444444444444,
              "#bd3786"
             ],
             [
              0.5555555555555556,
              "#d8576b"
             ],
             [
              0.6666666666666666,
              "#ed7953"
             ],
             [
              0.7777777777777778,
              "#fb9f3a"
             ],
             [
              0.8888888888888888,
              "#fdca26"
             ],
             [
              1,
              "#f0f921"
             ]
            ],
            "type": "surface"
           }
          ],
          "table": [
           {
            "cells": {
             "fill": {
              "color": "#EBF0F8"
             },
             "line": {
              "color": "white"
             }
            },
            "header": {
             "fill": {
              "color": "#C8D4E3"
             },
             "line": {
              "color": "white"
             }
            },
            "type": "table"
           }
          ]
         },
         "layout": {
          "annotationdefaults": {
           "arrowcolor": "#2a3f5f",
           "arrowhead": 0,
           "arrowwidth": 1
          },
          "autotypenumbers": "strict",
          "coloraxis": {
           "colorbar": {
            "outlinewidth": 0,
            "ticks": ""
           }
          },
          "colorscale": {
           "diverging": [
            [
             0,
             "#8e0152"
            ],
            [
             0.1,
             "#c51b7d"
            ],
            [
             0.2,
             "#de77ae"
            ],
            [
             0.3,
             "#f1b6da"
            ],
            [
             0.4,
             "#fde0ef"
            ],
            [
             0.5,
             "#f7f7f7"
            ],
            [
             0.6,
             "#e6f5d0"
            ],
            [
             0.7,
             "#b8e186"
            ],
            [
             0.8,
             "#7fbc41"
            ],
            [
             0.9,
             "#4d9221"
            ],
            [
             1,
             "#276419"
            ]
           ],
           "sequential": [
            [
             0,
             "#0d0887"
            ],
            [
             0.1111111111111111,
             "#46039f"
            ],
            [
             0.2222222222222222,
             "#7201a8"
            ],
            [
             0.3333333333333333,
             "#9c179e"
            ],
            [
             0.4444444444444444,
             "#bd3786"
            ],
            [
             0.5555555555555556,
             "#d8576b"
            ],
            [
             0.6666666666666666,
             "#ed7953"
            ],
            [
             0.7777777777777778,
             "#fb9f3a"
            ],
            [
             0.8888888888888888,
             "#fdca26"
            ],
            [
             1,
             "#f0f921"
            ]
           ],
           "sequentialminus": [
            [
             0,
             "#0d0887"
            ],
            [
             0.1111111111111111,
             "#46039f"
            ],
            [
             0.2222222222222222,
             "#7201a8"
            ],
            [
             0.3333333333333333,
             "#9c179e"
            ],
            [
             0.4444444444444444,
             "#bd3786"
            ],
            [
             0.5555555555555556,
             "#d8576b"
            ],
            [
             0.6666666666666666,
             "#ed7953"
            ],
            [
             0.7777777777777778,
             "#fb9f3a"
            ],
            [
             0.8888888888888888,
             "#fdca26"
            ],
            [
             1,
             "#f0f921"
            ]
           ]
          },
          "colorway": [
           "#636efa",
           "#EF553B",
           "#00cc96",
           "#ab63fa",
           "#FFA15A",
           "#19d3f3",
           "#FF6692",
           "#B6E880",
           "#FF97FF",
           "#FECB52"
          ],
          "font": {
           "color": "#2a3f5f"
          },
          "geo": {
           "bgcolor": "white",
           "lakecolor": "white",
           "landcolor": "#E5ECF6",
           "showlakes": true,
           "showland": true,
           "subunitcolor": "white"
          },
          "hoverlabel": {
           "align": "left"
          },
          "hovermode": "closest",
          "mapbox": {
           "style": "light"
          },
          "paper_bgcolor": "white",
          "plot_bgcolor": "#E5ECF6",
          "polar": {
           "angularaxis": {
            "gridcolor": "white",
            "linecolor": "white",
            "ticks": ""
           },
           "bgcolor": "#E5ECF6",
           "radialaxis": {
            "gridcolor": "white",
            "linecolor": "white",
            "ticks": ""
           }
          },
          "scene": {
           "xaxis": {
            "backgroundcolor": "#E5ECF6",
            "gridcolor": "white",
            "gridwidth": 2,
            "linecolor": "white",
            "showbackground": true,
            "ticks": "",
            "zerolinecolor": "white"
           },
           "yaxis": {
            "backgroundcolor": "#E5ECF6",
            "gridcolor": "white",
            "gridwidth": 2,
            "linecolor": "white",
            "showbackground": true,
            "ticks": "",
            "zerolinecolor": "white"
           },
           "zaxis": {
            "backgroundcolor": "#E5ECF6",
            "gridcolor": "white",
            "gridwidth": 2,
            "linecolor": "white",
            "showbackground": true,
            "ticks": "",
            "zerolinecolor": "white"
           }
          },
          "shapedefaults": {
           "line": {
            "color": "#2a3f5f"
           }
          },
          "ternary": {
           "aaxis": {
            "gridcolor": "white",
            "linecolor": "white",
            "ticks": ""
           },
           "baxis": {
            "gridcolor": "white",
            "linecolor": "white",
            "ticks": ""
           },
           "bgcolor": "#E5ECF6",
           "caxis": {
            "gridcolor": "white",
            "linecolor": "white",
            "ticks": ""
           }
          },
          "title": {
           "x": 0.05
          },
          "xaxis": {
           "automargin": true,
           "gridcolor": "white",
           "linecolor": "white",
           "ticks": "",
           "title": {
            "standoff": 15
           },
           "zerolinecolor": "white",
           "zerolinewidth": 2
          },
          "yaxis": {
           "automargin": true,
           "gridcolor": "white",
           "linecolor": "white",
           "ticks": "",
           "title": {
            "standoff": 15
           },
           "zerolinecolor": "white",
           "zerolinewidth": 2
          }
         }
        },
        "title": {
         "text": "Casos de Leishmania mensual "
        },
        "xaxis": {
         "ticktext": [
          "Enero",
          "Febrero",
          "Marzo",
          "Abril",
          "Mayo",
          "Junio",
          "Julio",
          "Agosto",
          "Septiembre",
          "Octubre",
          "Noviembre",
          "Diciembre"
         ],
         "tickvals": [
          1,
          2,
          3,
          4,
          5,
          6,
          7,
          8,
          9,
          10,
          11,
          12
         ],
         "title": {
          "text": "Month"
         }
        }
       }
      },
      "text/html": [
       "<div>            <script src=\"https://cdnjs.cloudflare.com/ajax/libs/mathjax/2.7.5/MathJax.js?config=TeX-AMS-MML_SVG\"></script><script type=\"text/javascript\">if (window.MathJax && window.MathJax.Hub && window.MathJax.Hub.Config) {window.MathJax.Hub.Config({SVG: {font: \"STIX-Web\"}});}</script>                <script type=\"text/javascript\">window.PlotlyConfig = {MathJaxConfig: 'local'};</script>\n",
       "        <script charset=\"utf-8\" src=\"https://cdn.plot.ly/plotly-3.0.1.min.js\"></script>                <div id=\"637b0a26-7544-43dd-91b3-b28a00954601\" class=\"plotly-graph-div\" style=\"height:525px; width:100%;\"></div>            <script type=\"text/javascript\">                window.PLOTLYENV=window.PLOTLYENV || {};                                if (document.getElementById(\"637b0a26-7544-43dd-91b3-b28a00954601\")) {                    Plotly.newPlot(                        \"637b0a26-7544-43dd-91b3-b28a00954601\",                        [{\"name\":\"2020\",\"x\":{\"dtype\":\"i4\",\"bdata\":\"AQAAAAIAAAADAAAABAAAAAUAAAAGAAAABwAAAAgAAAAJAAAACgAAAAsAAAAMAAAA\"},\"y\":{\"dtype\":\"f8\",\"bdata\":\"AAAAAAAAAAAAAAAAAAAAAAAAAAAAAAAAAAAAAAAAAAAAAAAAAAAAAAAAAAAAAAAAAAAAAAAAIEAAAAAAAADwPwAAAAAAAAhAAAAAAAAAAAAAAAAAAAAAAAAAAAAAAAAA\"},\"type\":\"bar\"},{\"name\":\"2021\",\"x\":{\"dtype\":\"i4\",\"bdata\":\"AQAAAAIAAAADAAAABAAAAAUAAAAGAAAABwAAAAgAAAAJAAAACgAAAAsAAAAMAAAA\"},\"y\":{\"dtype\":\"f8\",\"bdata\":\"AAAAAAAA8D8AAAAAAADwPwAAAAAAAAAAAAAAAAAACEAAAAAAAAAUQAAAAAAAAAAAAAAAAAAAJkAAAAAAAAAqQAAAAAAAAENAAAAAAACAR0AAAAAAAIBOQAAAAAAAgFFA\"},\"type\":\"bar\"},{\"name\":\"2022\",\"x\":{\"dtype\":\"i4\",\"bdata\":\"AQAAAAIAAAADAAAABAAAAAUAAAAGAAAABwAAAAgAAAAJAAAACgAAAAsAAAAMAAAA\"},\"y\":{\"dtype\":\"f8\",\"bdata\":\"AAAAAACATkAAAAAAAEBWQAAAAAAAQFlAAAAAAABAXkAAAAAAAMBlQAAAAAAAQGNAAAAAAADAYEAAAAAAAABPQAAAAAAAQFVAAAAAAABAWkAAAAAAAABSQAAAAAAAQF1A\"},\"type\":\"bar\"},{\"name\":\"2023\",\"x\":{\"dtype\":\"i4\",\"bdata\":\"AQAAAAIAAAADAAAABAAAAAUAAAAGAAAABwAAAAgAAAAJAAAACgAAAAsAAAAMAAAA\"},\"y\":{\"dtype\":\"f8\",\"bdata\":\"AAAAAACAWEAAAAAAAABcQAAAAAAAQGRAAAAAAACgYkAAAAAAAABlQAAAAAAAIGBAAAAAAAAAXkAAAAAAAMBgQAAAAAAAQFVAAAAAAABAWUAAAAAAAEBbQAAAAAAAgEFA\"},\"type\":\"bar\"},{\"name\":\"2024\",\"x\":{\"dtype\":\"i4\",\"bdata\":\"AQAAAAIAAAADAAAABAAAAAUAAAAGAAAABwAAAAgAAAAJAAAACgAAAAsAAAAMAAAA\"},\"y\":{\"dtype\":\"f8\",\"bdata\":\"AAAAAAAAP0AAAAAAAAA+QAAAAAAAADFAAAAAAAAA8D8AAAAAAMBdQAAAAAAAAGBAAAAAAAAAYEAAAAAAAEBfQAAAAAAAAFtAAAAAAADAXUAAAAAAAAAAAAAAAAAAAAAA\"},\"type\":\"bar\"}],                        {\"template\":{\"data\":{\"barpolar\":[{\"marker\":{\"line\":{\"color\":\"#E5ECF6\",\"width\":0.5},\"pattern\":{\"fillmode\":\"overlay\",\"size\":10,\"solidity\":0.2}},\"type\":\"barpolar\"}],\"bar\":[{\"error_x\":{\"color\":\"#2a3f5f\"},\"error_y\":{\"color\":\"#2a3f5f\"},\"marker\":{\"line\":{\"color\":\"#E5ECF6\",\"width\":0.5},\"pattern\":{\"fillmode\":\"overlay\",\"size\":10,\"solidity\":0.2}},\"type\":\"bar\"}],\"carpet\":[{\"aaxis\":{\"endlinecolor\":\"#2a3f5f\",\"gridcolor\":\"white\",\"linecolor\":\"white\",\"minorgridcolor\":\"white\",\"startlinecolor\":\"#2a3f5f\"},\"baxis\":{\"endlinecolor\":\"#2a3f5f\",\"gridcolor\":\"white\",\"linecolor\":\"white\",\"minorgridcolor\":\"white\",\"startlinecolor\":\"#2a3f5f\"},\"type\":\"carpet\"}],\"choropleth\":[{\"colorbar\":{\"outlinewidth\":0,\"ticks\":\"\"},\"type\":\"choropleth\"}],\"contourcarpet\":[{\"colorbar\":{\"outlinewidth\":0,\"ticks\":\"\"},\"type\":\"contourcarpet\"}],\"contour\":[{\"colorbar\":{\"outlinewidth\":0,\"ticks\":\"\"},\"colorscale\":[[0.0,\"#0d0887\"],[0.1111111111111111,\"#46039f\"],[0.2222222222222222,\"#7201a8\"],[0.3333333333333333,\"#9c179e\"],[0.4444444444444444,\"#bd3786\"],[0.5555555555555556,\"#d8576b\"],[0.6666666666666666,\"#ed7953\"],[0.7777777777777778,\"#fb9f3a\"],[0.8888888888888888,\"#fdca26\"],[1.0,\"#f0f921\"]],\"type\":\"contour\"}],\"heatmap\":[{\"colorbar\":{\"outlinewidth\":0,\"ticks\":\"\"},\"colorscale\":[[0.0,\"#0d0887\"],[0.1111111111111111,\"#46039f\"],[0.2222222222222222,\"#7201a8\"],[0.3333333333333333,\"#9c179e\"],[0.4444444444444444,\"#bd3786\"],[0.5555555555555556,\"#d8576b\"],[0.6666666666666666,\"#ed7953\"],[0.7777777777777778,\"#fb9f3a\"],[0.8888888888888888,\"#fdca26\"],[1.0,\"#f0f921\"]],\"type\":\"heatmap\"}],\"histogram2dcontour\":[{\"colorbar\":{\"outlinewidth\":0,\"ticks\":\"\"},\"colorscale\":[[0.0,\"#0d0887\"],[0.1111111111111111,\"#46039f\"],[0.2222222222222222,\"#7201a8\"],[0.3333333333333333,\"#9c179e\"],[0.4444444444444444,\"#bd3786\"],[0.5555555555555556,\"#d8576b\"],[0.6666666666666666,\"#ed7953\"],[0.7777777777777778,\"#fb9f3a\"],[0.8888888888888888,\"#fdca26\"],[1.0,\"#f0f921\"]],\"type\":\"histogram2dcontour\"}],\"histogram2d\":[{\"colorbar\":{\"outlinewidth\":0,\"ticks\":\"\"},\"colorscale\":[[0.0,\"#0d0887\"],[0.1111111111111111,\"#46039f\"],[0.2222222222222222,\"#7201a8\"],[0.3333333333333333,\"#9c179e\"],[0.4444444444444444,\"#bd3786\"],[0.5555555555555556,\"#d8576b\"],[0.6666666666666666,\"#ed7953\"],[0.7777777777777778,\"#fb9f3a\"],[0.8888888888888888,\"#fdca26\"],[1.0,\"#f0f921\"]],\"type\":\"histogram2d\"}],\"histogram\":[{\"marker\":{\"pattern\":{\"fillmode\":\"overlay\",\"size\":10,\"solidity\":0.2}},\"type\":\"histogram\"}],\"mesh3d\":[{\"colorbar\":{\"outlinewidth\":0,\"ticks\":\"\"},\"type\":\"mesh3d\"}],\"parcoords\":[{\"line\":{\"colorbar\":{\"outlinewidth\":0,\"ticks\":\"\"}},\"type\":\"parcoords\"}],\"pie\":[{\"automargin\":true,\"type\":\"pie\"}],\"scatter3d\":[{\"line\":{\"colorbar\":{\"outlinewidth\":0,\"ticks\":\"\"}},\"marker\":{\"colorbar\":{\"outlinewidth\":0,\"ticks\":\"\"}},\"type\":\"scatter3d\"}],\"scattercarpet\":[{\"marker\":{\"colorbar\":{\"outlinewidth\":0,\"ticks\":\"\"}},\"type\":\"scattercarpet\"}],\"scattergeo\":[{\"marker\":{\"colorbar\":{\"outlinewidth\":0,\"ticks\":\"\"}},\"type\":\"scattergeo\"}],\"scattergl\":[{\"marker\":{\"colorbar\":{\"outlinewidth\":0,\"ticks\":\"\"}},\"type\":\"scattergl\"}],\"scattermapbox\":[{\"marker\":{\"colorbar\":{\"outlinewidth\":0,\"ticks\":\"\"}},\"type\":\"scattermapbox\"}],\"scattermap\":[{\"marker\":{\"colorbar\":{\"outlinewidth\":0,\"ticks\":\"\"}},\"type\":\"scattermap\"}],\"scatterpolargl\":[{\"marker\":{\"colorbar\":{\"outlinewidth\":0,\"ticks\":\"\"}},\"type\":\"scatterpolargl\"}],\"scatterpolar\":[{\"marker\":{\"colorbar\":{\"outlinewidth\":0,\"ticks\":\"\"}},\"type\":\"scatterpolar\"}],\"scatter\":[{\"fillpattern\":{\"fillmode\":\"overlay\",\"size\":10,\"solidity\":0.2},\"type\":\"scatter\"}],\"scatterternary\":[{\"marker\":{\"colorbar\":{\"outlinewidth\":0,\"ticks\":\"\"}},\"type\":\"scatterternary\"}],\"surface\":[{\"colorbar\":{\"outlinewidth\":0,\"ticks\":\"\"},\"colorscale\":[[0.0,\"#0d0887\"],[0.1111111111111111,\"#46039f\"],[0.2222222222222222,\"#7201a8\"],[0.3333333333333333,\"#9c179e\"],[0.4444444444444444,\"#bd3786\"],[0.5555555555555556,\"#d8576b\"],[0.6666666666666666,\"#ed7953\"],[0.7777777777777778,\"#fb9f3a\"],[0.8888888888888888,\"#fdca26\"],[1.0,\"#f0f921\"]],\"type\":\"surface\"}],\"table\":[{\"cells\":{\"fill\":{\"color\":\"#EBF0F8\"},\"line\":{\"color\":\"white\"}},\"header\":{\"fill\":{\"color\":\"#C8D4E3\"},\"line\":{\"color\":\"white\"}},\"type\":\"table\"}]},\"layout\":{\"annotationdefaults\":{\"arrowcolor\":\"#2a3f5f\",\"arrowhead\":0,\"arrowwidth\":1},\"autotypenumbers\":\"strict\",\"coloraxis\":{\"colorbar\":{\"outlinewidth\":0,\"ticks\":\"\"}},\"colorscale\":{\"diverging\":[[0,\"#8e0152\"],[0.1,\"#c51b7d\"],[0.2,\"#de77ae\"],[0.3,\"#f1b6da\"],[0.4,\"#fde0ef\"],[0.5,\"#f7f7f7\"],[0.6,\"#e6f5d0\"],[0.7,\"#b8e186\"],[0.8,\"#7fbc41\"],[0.9,\"#4d9221\"],[1,\"#276419\"]],\"sequential\":[[0.0,\"#0d0887\"],[0.1111111111111111,\"#46039f\"],[0.2222222222222222,\"#7201a8\"],[0.3333333333333333,\"#9c179e\"],[0.4444444444444444,\"#bd3786\"],[0.5555555555555556,\"#d8576b\"],[0.6666666666666666,\"#ed7953\"],[0.7777777777777778,\"#fb9f3a\"],[0.8888888888888888,\"#fdca26\"],[1.0,\"#f0f921\"]],\"sequentialminus\":[[0.0,\"#0d0887\"],[0.1111111111111111,\"#46039f\"],[0.2222222222222222,\"#7201a8\"],[0.3333333333333333,\"#9c179e\"],[0.4444444444444444,\"#bd3786\"],[0.5555555555555556,\"#d8576b\"],[0.6666666666666666,\"#ed7953\"],[0.7777777777777778,\"#fb9f3a\"],[0.8888888888888888,\"#fdca26\"],[1.0,\"#f0f921\"]]},\"colorway\":[\"#636efa\",\"#EF553B\",\"#00cc96\",\"#ab63fa\",\"#FFA15A\",\"#19d3f3\",\"#FF6692\",\"#B6E880\",\"#FF97FF\",\"#FECB52\"],\"font\":{\"color\":\"#2a3f5f\"},\"geo\":{\"bgcolor\":\"white\",\"lakecolor\":\"white\",\"landcolor\":\"#E5ECF6\",\"showlakes\":true,\"showland\":true,\"subunitcolor\":\"white\"},\"hoverlabel\":{\"align\":\"left\"},\"hovermode\":\"closest\",\"mapbox\":{\"style\":\"light\"},\"paper_bgcolor\":\"white\",\"plot_bgcolor\":\"#E5ECF6\",\"polar\":{\"angularaxis\":{\"gridcolor\":\"white\",\"linecolor\":\"white\",\"ticks\":\"\"},\"bgcolor\":\"#E5ECF6\",\"radialaxis\":{\"gridcolor\":\"white\",\"linecolor\":\"white\",\"ticks\":\"\"}},\"scene\":{\"xaxis\":{\"backgroundcolor\":\"#E5ECF6\",\"gridcolor\":\"white\",\"gridwidth\":2,\"linecolor\":\"white\",\"showbackground\":true,\"ticks\":\"\",\"zerolinecolor\":\"white\"},\"yaxis\":{\"backgroundcolor\":\"#E5ECF6\",\"gridcolor\":\"white\",\"gridwidth\":2,\"linecolor\":\"white\",\"showbackground\":true,\"ticks\":\"\",\"zerolinecolor\":\"white\"},\"zaxis\":{\"backgroundcolor\":\"#E5ECF6\",\"gridcolor\":\"white\",\"gridwidth\":2,\"linecolor\":\"white\",\"showbackground\":true,\"ticks\":\"\",\"zerolinecolor\":\"white\"}},\"shapedefaults\":{\"line\":{\"color\":\"#2a3f5f\"}},\"ternary\":{\"aaxis\":{\"gridcolor\":\"white\",\"linecolor\":\"white\",\"ticks\":\"\"},\"baxis\":{\"gridcolor\":\"white\",\"linecolor\":\"white\",\"ticks\":\"\"},\"bgcolor\":\"#E5ECF6\",\"caxis\":{\"gridcolor\":\"white\",\"linecolor\":\"white\",\"ticks\":\"\"}},\"title\":{\"x\":0.05},\"xaxis\":{\"automargin\":true,\"gridcolor\":\"white\",\"linecolor\":\"white\",\"ticks\":\"\",\"title\":{\"standoff\":15},\"zerolinecolor\":\"white\",\"zerolinewidth\":2},\"yaxis\":{\"automargin\":true,\"gridcolor\":\"white\",\"linecolor\":\"white\",\"ticks\":\"\",\"title\":{\"standoff\":15},\"zerolinecolor\":\"white\",\"zerolinewidth\":2}}},\"title\":{\"text\":\"Casos de Leishmania mensual \"},\"xaxis\":{\"ticktext\":[\"Enero\",\"Febrero\",\"Marzo\",\"Abril\",\"Mayo\",\"Junio\",\"Julio\",\"Agosto\",\"Septiembre\",\"Octubre\",\"Noviembre\",\"Diciembre\"],\"tickvals\":[1,2,3,4,5,6,7,8,9,10,11,12],\"title\":{\"text\":\"Month\"}}},                        {\"responsive\": true}                    ).then(function(){\n",
       "                            \n",
       "var gd = document.getElementById('637b0a26-7544-43dd-91b3-b28a00954601');\n",
       "var x = new MutationObserver(function (mutations, observer) {{\n",
       "        var display = window.getComputedStyle(gd).display;\n",
       "        if (!display || display === 'none') {{\n",
       "            console.log([gd, 'removed!']);\n",
       "            Plotly.purge(gd);\n",
       "            observer.disconnect();\n",
       "        }}\n",
       "}});\n",
       "\n",
       "// Listen for the removal of the full notebook cells\n",
       "var notebookContainer = gd.closest('#notebook-container');\n",
       "if (notebookContainer) {{\n",
       "    x.observe(notebookContainer, {childList: true});\n",
       "}}\n",
       "\n",
       "// Listen for the clearing of the current output cell\n",
       "var outputEl = gd.closest('.output');\n",
       "if (outputEl) {{\n",
       "    x.observe(outputEl, {childList: true});\n",
       "}}\n",
       "\n",
       "                        })                };            </script>        </div>"
      ]
     },
     "metadata": {},
     "output_type": "display_data"
    }
   ],
   "source": [
    "import calendar\n",
    "import locale\n",
    "\n",
    "# set the locale to Spain\n",
    "locale.setlocale(locale.LC_TIME, \"es_ES\")\n",
    "months_list = [calendar.month_name[i].title() for i in range(1, 13)]\n",
    "\n",
    "\n",
    "data= []\n",
    "for col in anual.columns:\n",
    "    trace = go.Bar(\n",
    "        x = anual.index,\n",
    "        y = anual[col],\n",
    "        name = col\n",
    "    )\n",
    "    data.append(trace)\n",
    "\n",
    "# Creamos el layout\n",
    "layout = dict(\n",
    "            # Título\n",
    "            title = dict( text = \"Casos de Leishmania mensual \" ),\n",
    "    # Configuración del eje X\n",
    "            xaxis = dict(\n",
    "               title = dict( text = \"Month\" ),\n",
    "\n",
    "               # vamos a poner marcas en los valores entre 0 y 6 (incluido)\n",
    "               tickvals = list(range(1,13)),\n",
    "\n",
    "               # Cada marca se corresponderá con un día de la semana\n",
    "               ticktext = months_list\n",
    "            ),\n",
    "         )\n",
    "fig = go.Figure(data=data, layout=layout)\n",
    "iplot(fig)"
   ]
  },
  {
   "cell_type": "code",
   "execution_count": 94,
   "metadata": {
    "ExecuteTime": {
     "end_time": "2025-04-10T11:34:24.879980Z",
     "start_time": "2025-04-10T11:34:24.853591Z"
    },
    "executionInfo": {
     "elapsed": 78,
     "status": "aborted",
     "timestamp": 1755881893672,
     "user": {
      "displayName": "Alejandro Gómez Martín",
      "userId": "11487793164505300730"
     },
     "user_tz": -120
    },
    "id": "x2vY92rWtQ3X"
   },
   "outputs": [
    {
     "data": {
      "text/html": [
       "<div>\n",
       "<style scoped>\n",
       "    .dataframe tbody tr th:only-of-type {\n",
       "        vertical-align: middle;\n",
       "    }\n",
       "\n",
       "    .dataframe tbody tr th {\n",
       "        vertical-align: top;\n",
       "    }\n",
       "\n",
       "    .dataframe thead th {\n",
       "        text-align: right;\n",
       "    }\n",
       "</style>\n",
       "<table border=\"1\" class=\"dataframe\">\n",
       "  <thead>\n",
       "    <tr style=\"text-align: right;\">\n",
       "      <th></th>\n",
       "      <th>min</th>\n",
       "      <th>25%</th>\n",
       "      <th>50%</th>\n",
       "      <th>75%</th>\n",
       "      <th>max</th>\n",
       "    </tr>\n",
       "    <tr>\n",
       "      <th>year</th>\n",
       "      <th></th>\n",
       "      <th></th>\n",
       "      <th></th>\n",
       "      <th></th>\n",
       "      <th></th>\n",
       "    </tr>\n",
       "  </thead>\n",
       "  <tbody>\n",
       "    <tr>\n",
       "      <th>2020</th>\n",
       "      <td>0.0</td>\n",
       "      <td>0.00</td>\n",
       "      <td>0.0</td>\n",
       "      <td>0.25</td>\n",
       "      <td>8.0</td>\n",
       "    </tr>\n",
       "    <tr>\n",
       "      <th>2021</th>\n",
       "      <td>0.0</td>\n",
       "      <td>1.00</td>\n",
       "      <td>8.0</td>\n",
       "      <td>40.25</td>\n",
       "      <td>70.0</td>\n",
       "    </tr>\n",
       "    <tr>\n",
       "      <th>2022</th>\n",
       "      <td>61.0</td>\n",
       "      <td>81.75</td>\n",
       "      <td>103.0</td>\n",
       "      <td>124.25</td>\n",
       "      <td>174.0</td>\n",
       "    </tr>\n",
       "    <tr>\n",
       "      <th>2023</th>\n",
       "      <td>35.0</td>\n",
       "      <td>100.25</td>\n",
       "      <td>116.0</td>\n",
       "      <td>137.75</td>\n",
       "      <td>168.0</td>\n",
       "    </tr>\n",
       "    <tr>\n",
       "      <th>2024</th>\n",
       "      <td>0.0</td>\n",
       "      <td>13.00</td>\n",
       "      <td>69.5</td>\n",
       "      <td>120.50</td>\n",
       "      <td>128.0</td>\n",
       "    </tr>\n",
       "  </tbody>\n",
       "</table>\n",
       "</div>"
      ],
      "text/plain": [
       "       min     25%    50%     75%    max\n",
       "year                                    \n",
       "2020   0.0    0.00    0.0    0.25    8.0\n",
       "2021   0.0    1.00    8.0   40.25   70.0\n",
       "2022  61.0   81.75  103.0  124.25  174.0\n",
       "2023  35.0  100.25  116.0  137.75  168.0\n",
       "2024   0.0   13.00   69.5  120.50  128.0"
      ]
     },
     "execution_count": 94,
     "metadata": {},
     "output_type": "execute_result"
    }
   ],
   "source": [
    "estadisticos = anual.describe().T.loc[:,'min': 'max']\n",
    "estadisticos"
   ]
  },
  {
   "cell_type": "markdown",
   "metadata": {
    "id": "WUwQgHRNtQ3X"
   },
   "source": [
    "### Agrupación semanal"
   ]
  },
  {
   "cell_type": "code",
   "execution_count": 95,
   "metadata": {
    "ExecuteTime": {
     "end_time": "2025-04-10T11:34:29.925490Z",
     "start_time": "2025-04-10T11:34:29.868481Z"
    },
    "executionInfo": {
     "elapsed": 694,
     "status": "aborted",
     "timestamp": 1755881893677,
     "user": {
      "displayName": "Alejandro Gómez Martín",
      "userId": "11487793164505300730"
     },
     "user_tz": -120
    },
    "id": "NMJT4IRTtQ3X"
   },
   "outputs": [
    {
     "data": {
      "application/vnd.plotly.v1+json": {
       "config": {
        "linkText": "Export to plot.ly",
        "plotlyServerURL": "https://plot.ly",
        "showLink": false
       },
       "data": [
        {
         "mode": "lines",
         "name": "2020",
         "type": "scatter",
         "x": {
          "bdata": "AQAAAAIAAAADAAAABAAAAAUAAAAGAAAABwAAAAgAAAAJAAAACgAAAAsAAAAMAAAADQAAAA4AAAAPAAAAEAAAABEAAAASAAAAEwAAABQAAAAVAAAAFgAAABcAAAAYAAAAGQAAABoAAAAbAAAAHAAAAB0AAAAeAAAAHwAAACAAAAAhAAAAIgAAACMAAAAkAAAAJQAAACYAAAAnAAAAKAAAACkAAAAqAAAAKwAAACwAAAAtAAAALgAAAC8AAAAwAAAAMQAAADIAAAAzAAAANAAAAA==",
          "dtype": "u4"
         },
         "y": {
          "bdata": "AAAAAAAAAAAAAAAAAAAAAAAAAAAAAAAAAAAAAAAAAAAAAAAAAAAAAAAAAAAAAAAAAAAAAAAAAAAAAAAAAAAAAAAAAAAAAAAAAAAAAAAAAAAAAAAAAAAAAAAAAAAAAAAAAAAAAAAAAAAAAAAAAAAAAAAAAAAAAAAAAAAAAAAAAAAAAAAAAAAAAAAAAAAAAAAAAAAAAAAAAAAAAAAAAAAAAAAAAAAAAAAAAAAAAAAAAAAAAAAAAAAAAAAAAAAAAAAAAAAAAAAAAAAAAAAAAAAAAAAAAAAAAAAAAAAAAAAAAAAAAAAAAAAAAAAAAAAAACBAAAAAAAAAAAAAAAAAAADwPwAAAAAAAAAAAAAAAAAAAAAAAAAAAAAAAAAAAAAAAAhAAAAAAAAAAAAAAAAAAAAAAAAAAAAAAAAAAAAAAAAAAAAAAAAAAAAAAAAAAAAAAAAAAAAAAAAAAAAAAAAAAAAAAAAAAAAAAAAAAAAAAAAAAAAAAAAAAAAAAAAAAAAAAAAAAAAAAAAAAAAAAAAAAAAAAAAAAAAAAAAAAAAAAAAAAAA=",
          "dtype": "f8"
         }
        },
        {
         "mode": "lines",
         "name": "2021",
         "type": "scatter",
         "x": {
          "bdata": "AQAAAAIAAAADAAAABAAAAAUAAAAGAAAABwAAAAgAAAAJAAAACgAAAAsAAAAMAAAADQAAAA4AAAAPAAAAEAAAABEAAAASAAAAEwAAABQAAAAVAAAAFgAAABcAAAAYAAAAGQAAABoAAAAbAAAAHAAAAB0AAAAeAAAAHwAAACAAAAAhAAAAIgAAACMAAAAkAAAAJQAAACYAAAAnAAAAKAAAACkAAAAqAAAAKwAAACwAAAAtAAAALgAAAC8AAAAwAAAAMQAAADIAAAAzAAAANAAAAA==",
          "dtype": "u4"
         },
         "y": {
          "bdata": "AAAAAAAAAAAAAAAAAAAAAAAAAAAAAPA/AAAAAAAAAAAAAAAAAAAAAAAAAAAAAAAAAAAAAAAAAAAAAAAAAADwPwAAAAAAAAAAAAAAAAAAAAAAAAAAAAAAAAAAAAAAAAAAAAAAAAAAAAAAAAAAAAAAAAAAAAAAAAhAAAAAAAAAAAAAAAAAAAAAAAAAAAAAAAAAAAAAAAAAAAAAAAAAAAAAAAAAAAAAAPA/AAAAAAAAEEAAAAAAAAAAAAAAAAAAAAAAAAAAAAAAAAAAAAAAAAAAAAAAAAAAAPA/AAAAAAAAIkAAAAAAAAAAAAAAAAAAAPA/AAAAAAAAAEAAAAAAAAAAAAAAAAAAAAAAAAAAAAAAJkAAAAAAAAAcQAAAAAAAACRAAAAAAAAACEAAAAAAAAAiQAAAAAAAACZAAAAAAAAAKkAAAAAAAAAIQAAAAAAAADJAAAAAAAAAJkAAAAAAAAAkQAAAAAAAABRAAAAAAAAAPUAAAAAAAAAuQAAAAAAAADBAAAAAAAAANEAAAAAAAAAsQAAAAAAAAC5AAAAAAAAAHEA=",
          "dtype": "f8"
         }
        },
        {
         "mode": "lines",
         "name": "2022",
         "type": "scatter",
         "x": {
          "bdata": "AQAAAAIAAAADAAAABAAAAAUAAAAGAAAABwAAAAgAAAAJAAAACgAAAAsAAAAMAAAADQAAAA4AAAAPAAAAEAAAABEAAAASAAAAEwAAABQAAAAVAAAAFgAAABcAAAAYAAAAGQAAABoAAAAbAAAAHAAAAB0AAAAeAAAAHwAAACAAAAAhAAAAIgAAACMAAAAkAAAAJQAAACYAAAAnAAAAKAAAACkAAAAqAAAAKwAAACwAAAAtAAAALgAAAC8AAAAwAAAAMQAAADIAAAAzAAAANAAAAA==",
          "dtype": "u4"
         },
         "y": {
          "bdata": "AAAAAAAAFEAAAAAAAAA1QAAAAAAAACZAAAAAAAAAMEAAAAAAAAAxQAAAAAAAADRAAAAAAAAAQUAAAAAAAAA1QAAAAAAAAChAAAAAAAAANUAAAAAAAAA3QAAAAAAAADxAAAAAAAAAPkAAAAAAAAA8QAAAAAAAACZAAAAAAAAAQUAAAAAAAIBDQAAAAAAAgEVAAAAAAACAR0AAAAAAAABBQAAAAAAAAEJAAAAAAACAQkAAAAAAAAA/QAAAAAAAgEBAAAAAAACAQ0AAAAAAAIBCQAAAAAAAADtAAAAAAACAQ0AAAAAAAABCQAAAAAAAADdAAAAAAAAAMEAAAAAAAAAwQAAAAAAAABxAAAAAAAAAMEAAAAAAAAAsQAAAAAAAADlAAAAAAAAANkAAAAAAAAAuQAAAAAAAADJAAAAAAACAQkAAAAAAAAAxQAAAAAAAADJAAAAAAAAAOEAAAAAAAAAwQAAAAAAAADlAAAAAAAAAIkAAAAAAAAAzQAAAAAAAAC5AAAAAAAAAKkAAAAAAAABOQAAAAAAAADFAAAAAAAAAN0A=",
          "dtype": "f8"
         }
        },
        {
         "mode": "lines",
         "name": "2023",
         "type": "scatter",
         "x": {
          "bdata": "AQAAAAIAAAADAAAABAAAAAUAAAAGAAAABwAAAAgAAAAJAAAACgAAAAsAAAAMAAAADQAAAA4AAAAPAAAAEAAAABEAAAASAAAAEwAAABQAAAAVAAAAFgAAABcAAAAYAAAAGQAAABoAAAAbAAAAHAAAAB0AAAAeAAAAHwAAACAAAAAhAAAAIgAAACMAAAAkAAAAJQAAACYAAAAnAAAAKAAAACkAAAAqAAAAKwAAACwAAAAtAAAALgAAAC8AAAAwAAAAMQAAADIAAAAzAAAANAAAAA==",
          "dtype": "u4"
         },
         "y": {
          "bdata": "AAAAAAAAMkAAAAAAAAA6QAAAAAAAADtAAAAAAAAAM0AAAAAAAAA6QAAAAAAAAEBAAAAAAACAQkAAAAAAAAA0QAAAAAAAgEBAAAAAAAAAQEAAAAAAAAA9QAAAAAAAgEFAAAAAAACAREAAAAAAAABBQAAAAAAAAD1AAAAAAAAASEAAAAAAAIBBQAAAAAAAADxAAAAAAAAARUAAAAAAAABEQAAAAAAAgERAAAAAAAAAPUAAAAAAAAA8QAAAAAAAAEZAAAAAAAAANEAAAAAAAAA5QAAAAAAAAENAAAAAAAAAN0AAAAAAAAA6QAAAAAAAADpAAAAAAAAAPkAAAAAAAIBAQAAAAAAAADhAAAAAAAAAQkAAAAAAAAA6QAAAAAAAADFAAAAAAAAAOEAAAAAAAAA0QAAAAAAAADBAAAAAAAAAOEAAAAAAAAAzQAAAAAAAgEJAAAAAAAAAKkAAAAAAAAAwQAAAAAAAAD9AAAAAAACAQEAAAAAAAAAzQAAAAAAAADdAAAAAAAAANkAAAAAAAAAQQAAAAAAAAABAAAAAAAAAAEA=",
          "dtype": "f8"
         }
        },
        {
         "mode": "lines",
         "name": "2024",
         "type": "scatter",
         "x": {
          "bdata": "AQAAAAIAAAADAAAABAAAAAUAAAAGAAAABwAAAAgAAAAJAAAACgAAAAsAAAAMAAAADQAAAA4AAAAPAAAAEAAAABEAAAASAAAAEwAAABQAAAAVAAAAFgAAABcAAAAYAAAAGQAAABoAAAAbAAAAHAAAAB0AAAAeAAAAHwAAACAAAAAhAAAAIgAAACMAAAAkAAAAJQAAACYAAAAnAAAAKAAAACkAAAAqAAAAKwAAACwAAAAtAAAALgAAAC8AAAAwAAAAMQAAADIAAAAzAAAANAAAAA==",
          "dtype": "u4"
         },
         "y": {
          "bdata": "AAAAAAAAGEAAAAAAAADwPwAAAAAAACxAAAAAAAAAHEAAAAAAAAAcQAAAAAAAACJAAAAAAAAAAEAAAAAAAAAgQAAAAAAAACBAAAAAAAAAIEAAAAAAAAAUQAAAAAAAAABAAAAAAAAA8D8AAAAAAADwPwAAAAAAAAAAAAAAAAAAAAAAAAAAAAAAAAAAAAAAAAAAAAAAAAAAN0AAAAAAAAA9QAAAAAAAgEJAAAAAAAAAQkAAAAAAAAA9QAAAAAAAgEJAAAAAAAAAPEAAAAAAAAA8QAAAAAAAgEBAAAAAAACAQEAAAAAAAAA1QAAAAAAAADxAAAAAAAAANUAAAAAAAABCQAAAAAAAADZAAAAAAAAAPEAAAAAAAAA/QAAAAAAAAD5AAAAAAAAANEAAAAAAAAA2QAAAAAAAAD5AAAAAAAAAPEAAAAAAAAA5QAAAAAAAADpAAAAAAAAAPUAAAAAAAAAxQAAAAAAAAAAAAAAAAAAAAAAAAAAAAAAAAAAAAAAAAAAAAAAAAAAAAAAAAAAAAAAAAAAAAAAAAAAAAAAAAAAAAAA=",
          "dtype": "f8"
         }
        }
       ],
       "layout": {
        "template": {
         "data": {
          "bar": [
           {
            "error_x": {
             "color": "#2a3f5f"
            },
            "error_y": {
             "color": "#2a3f5f"
            },
            "marker": {
             "line": {
              "color": "#E5ECF6",
              "width": 0.5
             },
             "pattern": {
              "fillmode": "overlay",
              "size": 10,
              "solidity": 0.2
             }
            },
            "type": "bar"
           }
          ],
          "barpolar": [
           {
            "marker": {
             "line": {
              "color": "#E5ECF6",
              "width": 0.5
             },
             "pattern": {
              "fillmode": "overlay",
              "size": 10,
              "solidity": 0.2
             }
            },
            "type": "barpolar"
           }
          ],
          "carpet": [
           {
            "aaxis": {
             "endlinecolor": "#2a3f5f",
             "gridcolor": "white",
             "linecolor": "white",
             "minorgridcolor": "white",
             "startlinecolor": "#2a3f5f"
            },
            "baxis": {
             "endlinecolor": "#2a3f5f",
             "gridcolor": "white",
             "linecolor": "white",
             "minorgridcolor": "white",
             "startlinecolor": "#2a3f5f"
            },
            "type": "carpet"
           }
          ],
          "choropleth": [
           {
            "colorbar": {
             "outlinewidth": 0,
             "ticks": ""
            },
            "type": "choropleth"
           }
          ],
          "contour": [
           {
            "colorbar": {
             "outlinewidth": 0,
             "ticks": ""
            },
            "colorscale": [
             [
              0,
              "#0d0887"
             ],
             [
              0.1111111111111111,
              "#46039f"
             ],
             [
              0.2222222222222222,
              "#7201a8"
             ],
             [
              0.3333333333333333,
              "#9c179e"
             ],
             [
              0.4444444444444444,
              "#bd3786"
             ],
             [
              0.5555555555555556,
              "#d8576b"
             ],
             [
              0.6666666666666666,
              "#ed7953"
             ],
             [
              0.7777777777777778,
              "#fb9f3a"
             ],
             [
              0.8888888888888888,
              "#fdca26"
             ],
             [
              1,
              "#f0f921"
             ]
            ],
            "type": "contour"
           }
          ],
          "contourcarpet": [
           {
            "colorbar": {
             "outlinewidth": 0,
             "ticks": ""
            },
            "type": "contourcarpet"
           }
          ],
          "heatmap": [
           {
            "colorbar": {
             "outlinewidth": 0,
             "ticks": ""
            },
            "colorscale": [
             [
              0,
              "#0d0887"
             ],
             [
              0.1111111111111111,
              "#46039f"
             ],
             [
              0.2222222222222222,
              "#7201a8"
             ],
             [
              0.3333333333333333,
              "#9c179e"
             ],
             [
              0.4444444444444444,
              "#bd3786"
             ],
             [
              0.5555555555555556,
              "#d8576b"
             ],
             [
              0.6666666666666666,
              "#ed7953"
             ],
             [
              0.7777777777777778,
              "#fb9f3a"
             ],
             [
              0.8888888888888888,
              "#fdca26"
             ],
             [
              1,
              "#f0f921"
             ]
            ],
            "type": "heatmap"
           }
          ],
          "histogram": [
           {
            "marker": {
             "pattern": {
              "fillmode": "overlay",
              "size": 10,
              "solidity": 0.2
             }
            },
            "type": "histogram"
           }
          ],
          "histogram2d": [
           {
            "colorbar": {
             "outlinewidth": 0,
             "ticks": ""
            },
            "colorscale": [
             [
              0,
              "#0d0887"
             ],
             [
              0.1111111111111111,
              "#46039f"
             ],
             [
              0.2222222222222222,
              "#7201a8"
             ],
             [
              0.3333333333333333,
              "#9c179e"
             ],
             [
              0.4444444444444444,
              "#bd3786"
             ],
             [
              0.5555555555555556,
              "#d8576b"
             ],
             [
              0.6666666666666666,
              "#ed7953"
             ],
             [
              0.7777777777777778,
              "#fb9f3a"
             ],
             [
              0.8888888888888888,
              "#fdca26"
             ],
             [
              1,
              "#f0f921"
             ]
            ],
            "type": "histogram2d"
           }
          ],
          "histogram2dcontour": [
           {
            "colorbar": {
             "outlinewidth": 0,
             "ticks": ""
            },
            "colorscale": [
             [
              0,
              "#0d0887"
             ],
             [
              0.1111111111111111,
              "#46039f"
             ],
             [
              0.2222222222222222,
              "#7201a8"
             ],
             [
              0.3333333333333333,
              "#9c179e"
             ],
             [
              0.4444444444444444,
              "#bd3786"
             ],
             [
              0.5555555555555556,
              "#d8576b"
             ],
             [
              0.6666666666666666,
              "#ed7953"
             ],
             [
              0.7777777777777778,
              "#fb9f3a"
             ],
             [
              0.8888888888888888,
              "#fdca26"
             ],
             [
              1,
              "#f0f921"
             ]
            ],
            "type": "histogram2dcontour"
           }
          ],
          "mesh3d": [
           {
            "colorbar": {
             "outlinewidth": 0,
             "ticks": ""
            },
            "type": "mesh3d"
           }
          ],
          "parcoords": [
           {
            "line": {
             "colorbar": {
              "outlinewidth": 0,
              "ticks": ""
             }
            },
            "type": "parcoords"
           }
          ],
          "pie": [
           {
            "automargin": true,
            "type": "pie"
           }
          ],
          "scatter": [
           {
            "fillpattern": {
             "fillmode": "overlay",
             "size": 10,
             "solidity": 0.2
            },
            "type": "scatter"
           }
          ],
          "scatter3d": [
           {
            "line": {
             "colorbar": {
              "outlinewidth": 0,
              "ticks": ""
             }
            },
            "marker": {
             "colorbar": {
              "outlinewidth": 0,
              "ticks": ""
             }
            },
            "type": "scatter3d"
           }
          ],
          "scattercarpet": [
           {
            "marker": {
             "colorbar": {
              "outlinewidth": 0,
              "ticks": ""
             }
            },
            "type": "scattercarpet"
           }
          ],
          "scattergeo": [
           {
            "marker": {
             "colorbar": {
              "outlinewidth": 0,
              "ticks": ""
             }
            },
            "type": "scattergeo"
           }
          ],
          "scattergl": [
           {
            "marker": {
             "colorbar": {
              "outlinewidth": 0,
              "ticks": ""
             }
            },
            "type": "scattergl"
           }
          ],
          "scattermap": [
           {
            "marker": {
             "colorbar": {
              "outlinewidth": 0,
              "ticks": ""
             }
            },
            "type": "scattermap"
           }
          ],
          "scattermapbox": [
           {
            "marker": {
             "colorbar": {
              "outlinewidth": 0,
              "ticks": ""
             }
            },
            "type": "scattermapbox"
           }
          ],
          "scatterpolar": [
           {
            "marker": {
             "colorbar": {
              "outlinewidth": 0,
              "ticks": ""
             }
            },
            "type": "scatterpolar"
           }
          ],
          "scatterpolargl": [
           {
            "marker": {
             "colorbar": {
              "outlinewidth": 0,
              "ticks": ""
             }
            },
            "type": "scatterpolargl"
           }
          ],
          "scatterternary": [
           {
            "marker": {
             "colorbar": {
              "outlinewidth": 0,
              "ticks": ""
             }
            },
            "type": "scatterternary"
           }
          ],
          "surface": [
           {
            "colorbar": {
             "outlinewidth": 0,
             "ticks": ""
            },
            "colorscale": [
             [
              0,
              "#0d0887"
             ],
             [
              0.1111111111111111,
              "#46039f"
             ],
             [
              0.2222222222222222,
              "#7201a8"
             ],
             [
              0.3333333333333333,
              "#9c179e"
             ],
             [
              0.4444444444444444,
              "#bd3786"
             ],
             [
              0.5555555555555556,
              "#d8576b"
             ],
             [
              0.6666666666666666,
              "#ed7953"
             ],
             [
              0.7777777777777778,
              "#fb9f3a"
             ],
             [
              0.8888888888888888,
              "#fdca26"
             ],
             [
              1,
              "#f0f921"
             ]
            ],
            "type": "surface"
           }
          ],
          "table": [
           {
            "cells": {
             "fill": {
              "color": "#EBF0F8"
             },
             "line": {
              "color": "white"
             }
            },
            "header": {
             "fill": {
              "color": "#C8D4E3"
             },
             "line": {
              "color": "white"
             }
            },
            "type": "table"
           }
          ]
         },
         "layout": {
          "annotationdefaults": {
           "arrowcolor": "#2a3f5f",
           "arrowhead": 0,
           "arrowwidth": 1
          },
          "autotypenumbers": "strict",
          "coloraxis": {
           "colorbar": {
            "outlinewidth": 0,
            "ticks": ""
           }
          },
          "colorscale": {
           "diverging": [
            [
             0,
             "#8e0152"
            ],
            [
             0.1,
             "#c51b7d"
            ],
            [
             0.2,
             "#de77ae"
            ],
            [
             0.3,
             "#f1b6da"
            ],
            [
             0.4,
             "#fde0ef"
            ],
            [
             0.5,
             "#f7f7f7"
            ],
            [
             0.6,
             "#e6f5d0"
            ],
            [
             0.7,
             "#b8e186"
            ],
            [
             0.8,
             "#7fbc41"
            ],
            [
             0.9,
             "#4d9221"
            ],
            [
             1,
             "#276419"
            ]
           ],
           "sequential": [
            [
             0,
             "#0d0887"
            ],
            [
             0.1111111111111111,
             "#46039f"
            ],
            [
             0.2222222222222222,
             "#7201a8"
            ],
            [
             0.3333333333333333,
             "#9c179e"
            ],
            [
             0.4444444444444444,
             "#bd3786"
            ],
            [
             0.5555555555555556,
             "#d8576b"
            ],
            [
             0.6666666666666666,
             "#ed7953"
            ],
            [
             0.7777777777777778,
             "#fb9f3a"
            ],
            [
             0.8888888888888888,
             "#fdca26"
            ],
            [
             1,
             "#f0f921"
            ]
           ],
           "sequentialminus": [
            [
             0,
             "#0d0887"
            ],
            [
             0.1111111111111111,
             "#46039f"
            ],
            [
             0.2222222222222222,
             "#7201a8"
            ],
            [
             0.3333333333333333,
             "#9c179e"
            ],
            [
             0.4444444444444444,
             "#bd3786"
            ],
            [
             0.5555555555555556,
             "#d8576b"
            ],
            [
             0.6666666666666666,
             "#ed7953"
            ],
            [
             0.7777777777777778,
             "#fb9f3a"
            ],
            [
             0.8888888888888888,
             "#fdca26"
            ],
            [
             1,
             "#f0f921"
            ]
           ]
          },
          "colorway": [
           "#636efa",
           "#EF553B",
           "#00cc96",
           "#ab63fa",
           "#FFA15A",
           "#19d3f3",
           "#FF6692",
           "#B6E880",
           "#FF97FF",
           "#FECB52"
          ],
          "font": {
           "color": "#2a3f5f"
          },
          "geo": {
           "bgcolor": "white",
           "lakecolor": "white",
           "landcolor": "#E5ECF6",
           "showlakes": true,
           "showland": true,
           "subunitcolor": "white"
          },
          "hoverlabel": {
           "align": "left"
          },
          "hovermode": "closest",
          "mapbox": {
           "style": "light"
          },
          "paper_bgcolor": "white",
          "plot_bgcolor": "#E5ECF6",
          "polar": {
           "angularaxis": {
            "gridcolor": "white",
            "linecolor": "white",
            "ticks": ""
           },
           "bgcolor": "#E5ECF6",
           "radialaxis": {
            "gridcolor": "white",
            "linecolor": "white",
            "ticks": ""
           }
          },
          "scene": {
           "xaxis": {
            "backgroundcolor": "#E5ECF6",
            "gridcolor": "white",
            "gridwidth": 2,
            "linecolor": "white",
            "showbackground": true,
            "ticks": "",
            "zerolinecolor": "white"
           },
           "yaxis": {
            "backgroundcolor": "#E5ECF6",
            "gridcolor": "white",
            "gridwidth": 2,
            "linecolor": "white",
            "showbackground": true,
            "ticks": "",
            "zerolinecolor": "white"
           },
           "zaxis": {
            "backgroundcolor": "#E5ECF6",
            "gridcolor": "white",
            "gridwidth": 2,
            "linecolor": "white",
            "showbackground": true,
            "ticks": "",
            "zerolinecolor": "white"
           }
          },
          "shapedefaults": {
           "line": {
            "color": "#2a3f5f"
           }
          },
          "ternary": {
           "aaxis": {
            "gridcolor": "white",
            "linecolor": "white",
            "ticks": ""
           },
           "baxis": {
            "gridcolor": "white",
            "linecolor": "white",
            "ticks": ""
           },
           "bgcolor": "#E5ECF6",
           "caxis": {
            "gridcolor": "white",
            "linecolor": "white",
            "ticks": ""
           }
          },
          "title": {
           "x": 0.05
          },
          "xaxis": {
           "automargin": true,
           "gridcolor": "white",
           "linecolor": "white",
           "ticks": "",
           "title": {
            "standoff": 15
           },
           "zerolinecolor": "white",
           "zerolinewidth": 2
          },
          "yaxis": {
           "automargin": true,
           "gridcolor": "white",
           "linecolor": "white",
           "ticks": "",
           "title": {
            "standoff": 15
           },
           "zerolinecolor": "white",
           "zerolinewidth": 2
          }
         }
        },
        "title": {
         "text": "Casos semanales por año"
        }
       }
      },
      "text/html": [
       "<div>            <script src=\"https://cdnjs.cloudflare.com/ajax/libs/mathjax/2.7.5/MathJax.js?config=TeX-AMS-MML_SVG\"></script><script type=\"text/javascript\">if (window.MathJax && window.MathJax.Hub && window.MathJax.Hub.Config) {window.MathJax.Hub.Config({SVG: {font: \"STIX-Web\"}});}</script>                <script type=\"text/javascript\">window.PlotlyConfig = {MathJaxConfig: 'local'};</script>\n",
       "        <script charset=\"utf-8\" src=\"https://cdn.plot.ly/plotly-3.0.1.min.js\"></script>                <div id=\"b45e9dcd-c29b-40be-8f21-b0c3018b7ba7\" class=\"plotly-graph-div\" style=\"height:525px; width:100%;\"></div>            <script type=\"text/javascript\">                window.PLOTLYENV=window.PLOTLYENV || {};                                if (document.getElementById(\"b45e9dcd-c29b-40be-8f21-b0c3018b7ba7\")) {                    Plotly.newPlot(                        \"b45e9dcd-c29b-40be-8f21-b0c3018b7ba7\",                        [{\"mode\":\"lines\",\"name\":\"2020\",\"x\":{\"dtype\":\"u4\",\"bdata\":\"AQAAAAIAAAADAAAABAAAAAUAAAAGAAAABwAAAAgAAAAJAAAACgAAAAsAAAAMAAAADQAAAA4AAAAPAAAAEAAAABEAAAASAAAAEwAAABQAAAAVAAAAFgAAABcAAAAYAAAAGQAAABoAAAAbAAAAHAAAAB0AAAAeAAAAHwAAACAAAAAhAAAAIgAAACMAAAAkAAAAJQAAACYAAAAnAAAAKAAAACkAAAAqAAAAKwAAACwAAAAtAAAALgAAAC8AAAAwAAAAMQAAADIAAAAzAAAANAAAAA==\"},\"y\":{\"dtype\":\"f8\",\"bdata\":\"AAAAAAAAAAAAAAAAAAAAAAAAAAAAAAAAAAAAAAAAAAAAAAAAAAAAAAAAAAAAAAAAAAAAAAAAAAAAAAAAAAAAAAAAAAAAAAAAAAAAAAAAAAAAAAAAAAAAAAAAAAAAAAAAAAAAAAAAAAAAAAAAAAAAAAAAAAAAAAAAAAAAAAAAAAAAAAAAAAAAAAAAAAAAAAAAAAAAAAAAAAAAAAAAAAAAAAAAAAAAAAAAAAAAAAAAAAAAAAAAAAAAAAAAAAAAAAAAAAAAAAAAAAAAAAAAAAAAAAAAAAAAAAAAAAAAAAAAAAAAAAAAAAAAAAAAAAAAACBAAAAAAAAAAAAAAAAAAADwPwAAAAAAAAAAAAAAAAAAAAAAAAAAAAAAAAAAAAAAAAhAAAAAAAAAAAAAAAAAAAAAAAAAAAAAAAAAAAAAAAAAAAAAAAAAAAAAAAAAAAAAAAAAAAAAAAAAAAAAAAAAAAAAAAAAAAAAAAAAAAAAAAAAAAAAAAAAAAAAAAAAAAAAAAAAAAAAAAAAAAAAAAAAAAAAAAAAAAAAAAAAAAAAAAAAAAA=\"},\"type\":\"scatter\"},{\"mode\":\"lines\",\"name\":\"2021\",\"x\":{\"dtype\":\"u4\",\"bdata\":\"AQAAAAIAAAADAAAABAAAAAUAAAAGAAAABwAAAAgAAAAJAAAACgAAAAsAAAAMAAAADQAAAA4AAAAPAAAAEAAAABEAAAASAAAAEwAAABQAAAAVAAAAFgAAABcAAAAYAAAAGQAAABoAAAAbAAAAHAAAAB0AAAAeAAAAHwAAACAAAAAhAAAAIgAAACMAAAAkAAAAJQAAACYAAAAnAAAAKAAAACkAAAAqAAAAKwAAACwAAAAtAAAALgAAAC8AAAAwAAAAMQAAADIAAAAzAAAANAAAAA==\"},\"y\":{\"dtype\":\"f8\",\"bdata\":\"AAAAAAAAAAAAAAAAAAAAAAAAAAAAAPA\\u002fAAAAAAAAAAAAAAAAAAAAAAAAAAAAAAAAAAAAAAAAAAAAAAAAAADwPwAAAAAAAAAAAAAAAAAAAAAAAAAAAAAAAAAAAAAAAAAAAAAAAAAAAAAAAAAAAAAAAAAAAAAAAAhAAAAAAAAAAAAAAAAAAAAAAAAAAAAAAAAAAAAAAAAAAAAAAAAAAAAAAAAAAAAAAPA\\u002fAAAAAAAAEEAAAAAAAAAAAAAAAAAAAAAAAAAAAAAAAAAAAAAAAAAAAAAAAAAAAPA\\u002fAAAAAAAAIkAAAAAAAAAAAAAAAAAAAPA\\u002fAAAAAAAAAEAAAAAAAAAAAAAAAAAAAAAAAAAAAAAAJkAAAAAAAAAcQAAAAAAAACRAAAAAAAAACEAAAAAAAAAiQAAAAAAAACZAAAAAAAAAKkAAAAAAAAAIQAAAAAAAADJAAAAAAAAAJkAAAAAAAAAkQAAAAAAAABRAAAAAAAAAPUAAAAAAAAAuQAAAAAAAADBAAAAAAAAANEAAAAAAAAAsQAAAAAAAAC5AAAAAAAAAHEA=\"},\"type\":\"scatter\"},{\"mode\":\"lines\",\"name\":\"2022\",\"x\":{\"dtype\":\"u4\",\"bdata\":\"AQAAAAIAAAADAAAABAAAAAUAAAAGAAAABwAAAAgAAAAJAAAACgAAAAsAAAAMAAAADQAAAA4AAAAPAAAAEAAAABEAAAASAAAAEwAAABQAAAAVAAAAFgAAABcAAAAYAAAAGQAAABoAAAAbAAAAHAAAAB0AAAAeAAAAHwAAACAAAAAhAAAAIgAAACMAAAAkAAAAJQAAACYAAAAnAAAAKAAAACkAAAAqAAAAKwAAACwAAAAtAAAALgAAAC8AAAAwAAAAMQAAADIAAAAzAAAANAAAAA==\"},\"y\":{\"dtype\":\"f8\",\"bdata\":\"AAAAAAAAFEAAAAAAAAA1QAAAAAAAACZAAAAAAAAAMEAAAAAAAAAxQAAAAAAAADRAAAAAAAAAQUAAAAAAAAA1QAAAAAAAAChAAAAAAAAANUAAAAAAAAA3QAAAAAAAADxAAAAAAAAAPkAAAAAAAAA8QAAAAAAAACZAAAAAAAAAQUAAAAAAAIBDQAAAAAAAgEVAAAAAAACAR0AAAAAAAABBQAAAAAAAAEJAAAAAAACAQkAAAAAAAAA\\u002fQAAAAAAAgEBAAAAAAACAQ0AAAAAAAIBCQAAAAAAAADtAAAAAAACAQ0AAAAAAAABCQAAAAAAAADdAAAAAAAAAMEAAAAAAAAAwQAAAAAAAABxAAAAAAAAAMEAAAAAAAAAsQAAAAAAAADlAAAAAAAAANkAAAAAAAAAuQAAAAAAAADJAAAAAAACAQkAAAAAAAAAxQAAAAAAAADJAAAAAAAAAOEAAAAAAAAAwQAAAAAAAADlAAAAAAAAAIkAAAAAAAAAzQAAAAAAAAC5AAAAAAAAAKkAAAAAAAABOQAAAAAAAADFAAAAAAAAAN0A=\"},\"type\":\"scatter\"},{\"mode\":\"lines\",\"name\":\"2023\",\"x\":{\"dtype\":\"u4\",\"bdata\":\"AQAAAAIAAAADAAAABAAAAAUAAAAGAAAABwAAAAgAAAAJAAAACgAAAAsAAAAMAAAADQAAAA4AAAAPAAAAEAAAABEAAAASAAAAEwAAABQAAAAVAAAAFgAAABcAAAAYAAAAGQAAABoAAAAbAAAAHAAAAB0AAAAeAAAAHwAAACAAAAAhAAAAIgAAACMAAAAkAAAAJQAAACYAAAAnAAAAKAAAACkAAAAqAAAAKwAAACwAAAAtAAAALgAAAC8AAAAwAAAAMQAAADIAAAAzAAAANAAAAA==\"},\"y\":{\"dtype\":\"f8\",\"bdata\":\"AAAAAAAAMkAAAAAAAAA6QAAAAAAAADtAAAAAAAAAM0AAAAAAAAA6QAAAAAAAAEBAAAAAAACAQkAAAAAAAAA0QAAAAAAAgEBAAAAAAAAAQEAAAAAAAAA9QAAAAAAAgEFAAAAAAACAREAAAAAAAABBQAAAAAAAAD1AAAAAAAAASEAAAAAAAIBBQAAAAAAAADxAAAAAAAAARUAAAAAAAABEQAAAAAAAgERAAAAAAAAAPUAAAAAAAAA8QAAAAAAAAEZAAAAAAAAANEAAAAAAAAA5QAAAAAAAAENAAAAAAAAAN0AAAAAAAAA6QAAAAAAAADpAAAAAAAAAPkAAAAAAAIBAQAAAAAAAADhAAAAAAAAAQkAAAAAAAAA6QAAAAAAAADFAAAAAAAAAOEAAAAAAAAA0QAAAAAAAADBAAAAAAAAAOEAAAAAAAAAzQAAAAAAAgEJAAAAAAAAAKkAAAAAAAAAwQAAAAAAAAD9AAAAAAACAQEAAAAAAAAAzQAAAAAAAADdAAAAAAAAANkAAAAAAAAAQQAAAAAAAAABAAAAAAAAAAEA=\"},\"type\":\"scatter\"},{\"mode\":\"lines\",\"name\":\"2024\",\"x\":{\"dtype\":\"u4\",\"bdata\":\"AQAAAAIAAAADAAAABAAAAAUAAAAGAAAABwAAAAgAAAAJAAAACgAAAAsAAAAMAAAADQAAAA4AAAAPAAAAEAAAABEAAAASAAAAEwAAABQAAAAVAAAAFgAAABcAAAAYAAAAGQAAABoAAAAbAAAAHAAAAB0AAAAeAAAAHwAAACAAAAAhAAAAIgAAACMAAAAkAAAAJQAAACYAAAAnAAAAKAAAACkAAAAqAAAAKwAAACwAAAAtAAAALgAAAC8AAAAwAAAAMQAAADIAAAAzAAAANAAAAA==\"},\"y\":{\"dtype\":\"f8\",\"bdata\":\"AAAAAAAAGEAAAAAAAADwPwAAAAAAACxAAAAAAAAAHEAAAAAAAAAcQAAAAAAAACJAAAAAAAAAAEAAAAAAAAAgQAAAAAAAACBAAAAAAAAAIEAAAAAAAAAUQAAAAAAAAABAAAAAAAAA8D8AAAAAAADwPwAAAAAAAAAAAAAAAAAAAAAAAAAAAAAAAAAAAAAAAAAAAAAAAAAAN0AAAAAAAAA9QAAAAAAAgEJAAAAAAAAAQkAAAAAAAAA9QAAAAAAAgEJAAAAAAAAAPEAAAAAAAAA8QAAAAAAAgEBAAAAAAACAQEAAAAAAAAA1QAAAAAAAADxAAAAAAAAANUAAAAAAAABCQAAAAAAAADZAAAAAAAAAPEAAAAAAAAA\\u002fQAAAAAAAAD5AAAAAAAAANEAAAAAAAAA2QAAAAAAAAD5AAAAAAAAAPEAAAAAAAAA5QAAAAAAAADpAAAAAAAAAPUAAAAAAAAAxQAAAAAAAAAAAAAAAAAAAAAAAAAAAAAAAAAAAAAAAAAAAAAAAAAAAAAAAAAAAAAAAAAAAAAAAAAAAAAAAAAAAAAA=\"},\"type\":\"scatter\"}],                        {\"template\":{\"data\":{\"barpolar\":[{\"marker\":{\"line\":{\"color\":\"#E5ECF6\",\"width\":0.5},\"pattern\":{\"fillmode\":\"overlay\",\"size\":10,\"solidity\":0.2}},\"type\":\"barpolar\"}],\"bar\":[{\"error_x\":{\"color\":\"#2a3f5f\"},\"error_y\":{\"color\":\"#2a3f5f\"},\"marker\":{\"line\":{\"color\":\"#E5ECF6\",\"width\":0.5},\"pattern\":{\"fillmode\":\"overlay\",\"size\":10,\"solidity\":0.2}},\"type\":\"bar\"}],\"carpet\":[{\"aaxis\":{\"endlinecolor\":\"#2a3f5f\",\"gridcolor\":\"white\",\"linecolor\":\"white\",\"minorgridcolor\":\"white\",\"startlinecolor\":\"#2a3f5f\"},\"baxis\":{\"endlinecolor\":\"#2a3f5f\",\"gridcolor\":\"white\",\"linecolor\":\"white\",\"minorgridcolor\":\"white\",\"startlinecolor\":\"#2a3f5f\"},\"type\":\"carpet\"}],\"choropleth\":[{\"colorbar\":{\"outlinewidth\":0,\"ticks\":\"\"},\"type\":\"choropleth\"}],\"contourcarpet\":[{\"colorbar\":{\"outlinewidth\":0,\"ticks\":\"\"},\"type\":\"contourcarpet\"}],\"contour\":[{\"colorbar\":{\"outlinewidth\":0,\"ticks\":\"\"},\"colorscale\":[[0.0,\"#0d0887\"],[0.1111111111111111,\"#46039f\"],[0.2222222222222222,\"#7201a8\"],[0.3333333333333333,\"#9c179e\"],[0.4444444444444444,\"#bd3786\"],[0.5555555555555556,\"#d8576b\"],[0.6666666666666666,\"#ed7953\"],[0.7777777777777778,\"#fb9f3a\"],[0.8888888888888888,\"#fdca26\"],[1.0,\"#f0f921\"]],\"type\":\"contour\"}],\"heatmap\":[{\"colorbar\":{\"outlinewidth\":0,\"ticks\":\"\"},\"colorscale\":[[0.0,\"#0d0887\"],[0.1111111111111111,\"#46039f\"],[0.2222222222222222,\"#7201a8\"],[0.3333333333333333,\"#9c179e\"],[0.4444444444444444,\"#bd3786\"],[0.5555555555555556,\"#d8576b\"],[0.6666666666666666,\"#ed7953\"],[0.7777777777777778,\"#fb9f3a\"],[0.8888888888888888,\"#fdca26\"],[1.0,\"#f0f921\"]],\"type\":\"heatmap\"}],\"histogram2dcontour\":[{\"colorbar\":{\"outlinewidth\":0,\"ticks\":\"\"},\"colorscale\":[[0.0,\"#0d0887\"],[0.1111111111111111,\"#46039f\"],[0.2222222222222222,\"#7201a8\"],[0.3333333333333333,\"#9c179e\"],[0.4444444444444444,\"#bd3786\"],[0.5555555555555556,\"#d8576b\"],[0.6666666666666666,\"#ed7953\"],[0.7777777777777778,\"#fb9f3a\"],[0.8888888888888888,\"#fdca26\"],[1.0,\"#f0f921\"]],\"type\":\"histogram2dcontour\"}],\"histogram2d\":[{\"colorbar\":{\"outlinewidth\":0,\"ticks\":\"\"},\"colorscale\":[[0.0,\"#0d0887\"],[0.1111111111111111,\"#46039f\"],[0.2222222222222222,\"#7201a8\"],[0.3333333333333333,\"#9c179e\"],[0.4444444444444444,\"#bd3786\"],[0.5555555555555556,\"#d8576b\"],[0.6666666666666666,\"#ed7953\"],[0.7777777777777778,\"#fb9f3a\"],[0.8888888888888888,\"#fdca26\"],[1.0,\"#f0f921\"]],\"type\":\"histogram2d\"}],\"histogram\":[{\"marker\":{\"pattern\":{\"fillmode\":\"overlay\",\"size\":10,\"solidity\":0.2}},\"type\":\"histogram\"}],\"mesh3d\":[{\"colorbar\":{\"outlinewidth\":0,\"ticks\":\"\"},\"type\":\"mesh3d\"}],\"parcoords\":[{\"line\":{\"colorbar\":{\"outlinewidth\":0,\"ticks\":\"\"}},\"type\":\"parcoords\"}],\"pie\":[{\"automargin\":true,\"type\":\"pie\"}],\"scatter3d\":[{\"line\":{\"colorbar\":{\"outlinewidth\":0,\"ticks\":\"\"}},\"marker\":{\"colorbar\":{\"outlinewidth\":0,\"ticks\":\"\"}},\"type\":\"scatter3d\"}],\"scattercarpet\":[{\"marker\":{\"colorbar\":{\"outlinewidth\":0,\"ticks\":\"\"}},\"type\":\"scattercarpet\"}],\"scattergeo\":[{\"marker\":{\"colorbar\":{\"outlinewidth\":0,\"ticks\":\"\"}},\"type\":\"scattergeo\"}],\"scattergl\":[{\"marker\":{\"colorbar\":{\"outlinewidth\":0,\"ticks\":\"\"}},\"type\":\"scattergl\"}],\"scattermapbox\":[{\"marker\":{\"colorbar\":{\"outlinewidth\":0,\"ticks\":\"\"}},\"type\":\"scattermapbox\"}],\"scattermap\":[{\"marker\":{\"colorbar\":{\"outlinewidth\":0,\"ticks\":\"\"}},\"type\":\"scattermap\"}],\"scatterpolargl\":[{\"marker\":{\"colorbar\":{\"outlinewidth\":0,\"ticks\":\"\"}},\"type\":\"scatterpolargl\"}],\"scatterpolar\":[{\"marker\":{\"colorbar\":{\"outlinewidth\":0,\"ticks\":\"\"}},\"type\":\"scatterpolar\"}],\"scatter\":[{\"fillpattern\":{\"fillmode\":\"overlay\",\"size\":10,\"solidity\":0.2},\"type\":\"scatter\"}],\"scatterternary\":[{\"marker\":{\"colorbar\":{\"outlinewidth\":0,\"ticks\":\"\"}},\"type\":\"scatterternary\"}],\"surface\":[{\"colorbar\":{\"outlinewidth\":0,\"ticks\":\"\"},\"colorscale\":[[0.0,\"#0d0887\"],[0.1111111111111111,\"#46039f\"],[0.2222222222222222,\"#7201a8\"],[0.3333333333333333,\"#9c179e\"],[0.4444444444444444,\"#bd3786\"],[0.5555555555555556,\"#d8576b\"],[0.6666666666666666,\"#ed7953\"],[0.7777777777777778,\"#fb9f3a\"],[0.8888888888888888,\"#fdca26\"],[1.0,\"#f0f921\"]],\"type\":\"surface\"}],\"table\":[{\"cells\":{\"fill\":{\"color\":\"#EBF0F8\"},\"line\":{\"color\":\"white\"}},\"header\":{\"fill\":{\"color\":\"#C8D4E3\"},\"line\":{\"color\":\"white\"}},\"type\":\"table\"}]},\"layout\":{\"annotationdefaults\":{\"arrowcolor\":\"#2a3f5f\",\"arrowhead\":0,\"arrowwidth\":1},\"autotypenumbers\":\"strict\",\"coloraxis\":{\"colorbar\":{\"outlinewidth\":0,\"ticks\":\"\"}},\"colorscale\":{\"diverging\":[[0,\"#8e0152\"],[0.1,\"#c51b7d\"],[0.2,\"#de77ae\"],[0.3,\"#f1b6da\"],[0.4,\"#fde0ef\"],[0.5,\"#f7f7f7\"],[0.6,\"#e6f5d0\"],[0.7,\"#b8e186\"],[0.8,\"#7fbc41\"],[0.9,\"#4d9221\"],[1,\"#276419\"]],\"sequential\":[[0.0,\"#0d0887\"],[0.1111111111111111,\"#46039f\"],[0.2222222222222222,\"#7201a8\"],[0.3333333333333333,\"#9c179e\"],[0.4444444444444444,\"#bd3786\"],[0.5555555555555556,\"#d8576b\"],[0.6666666666666666,\"#ed7953\"],[0.7777777777777778,\"#fb9f3a\"],[0.8888888888888888,\"#fdca26\"],[1.0,\"#f0f921\"]],\"sequentialminus\":[[0.0,\"#0d0887\"],[0.1111111111111111,\"#46039f\"],[0.2222222222222222,\"#7201a8\"],[0.3333333333333333,\"#9c179e\"],[0.4444444444444444,\"#bd3786\"],[0.5555555555555556,\"#d8576b\"],[0.6666666666666666,\"#ed7953\"],[0.7777777777777778,\"#fb9f3a\"],[0.8888888888888888,\"#fdca26\"],[1.0,\"#f0f921\"]]},\"colorway\":[\"#636efa\",\"#EF553B\",\"#00cc96\",\"#ab63fa\",\"#FFA15A\",\"#19d3f3\",\"#FF6692\",\"#B6E880\",\"#FF97FF\",\"#FECB52\"],\"font\":{\"color\":\"#2a3f5f\"},\"geo\":{\"bgcolor\":\"white\",\"lakecolor\":\"white\",\"landcolor\":\"#E5ECF6\",\"showlakes\":true,\"showland\":true,\"subunitcolor\":\"white\"},\"hoverlabel\":{\"align\":\"left\"},\"hovermode\":\"closest\",\"mapbox\":{\"style\":\"light\"},\"paper_bgcolor\":\"white\",\"plot_bgcolor\":\"#E5ECF6\",\"polar\":{\"angularaxis\":{\"gridcolor\":\"white\",\"linecolor\":\"white\",\"ticks\":\"\"},\"bgcolor\":\"#E5ECF6\",\"radialaxis\":{\"gridcolor\":\"white\",\"linecolor\":\"white\",\"ticks\":\"\"}},\"scene\":{\"xaxis\":{\"backgroundcolor\":\"#E5ECF6\",\"gridcolor\":\"white\",\"gridwidth\":2,\"linecolor\":\"white\",\"showbackground\":true,\"ticks\":\"\",\"zerolinecolor\":\"white\"},\"yaxis\":{\"backgroundcolor\":\"#E5ECF6\",\"gridcolor\":\"white\",\"gridwidth\":2,\"linecolor\":\"white\",\"showbackground\":true,\"ticks\":\"\",\"zerolinecolor\":\"white\"},\"zaxis\":{\"backgroundcolor\":\"#E5ECF6\",\"gridcolor\":\"white\",\"gridwidth\":2,\"linecolor\":\"white\",\"showbackground\":true,\"ticks\":\"\",\"zerolinecolor\":\"white\"}},\"shapedefaults\":{\"line\":{\"color\":\"#2a3f5f\"}},\"ternary\":{\"aaxis\":{\"gridcolor\":\"white\",\"linecolor\":\"white\",\"ticks\":\"\"},\"baxis\":{\"gridcolor\":\"white\",\"linecolor\":\"white\",\"ticks\":\"\"},\"bgcolor\":\"#E5ECF6\",\"caxis\":{\"gridcolor\":\"white\",\"linecolor\":\"white\",\"ticks\":\"\"}},\"title\":{\"x\":0.05},\"xaxis\":{\"automargin\":true,\"gridcolor\":\"white\",\"linecolor\":\"white\",\"ticks\":\"\",\"title\":{\"standoff\":15},\"zerolinecolor\":\"white\",\"zerolinewidth\":2},\"yaxis\":{\"automargin\":true,\"gridcolor\":\"white\",\"linecolor\":\"white\",\"ticks\":\"\",\"title\":{\"standoff\":15},\"zerolinecolor\":\"white\",\"zerolinewidth\":2}}},\"title\":{\"text\":\"Casos semanales por a\\u00f1o\"}},                        {\"responsive\": true}                    ).then(function(){\n",
       "                            \n",
       "var gd = document.getElementById('b45e9dcd-c29b-40be-8f21-b0c3018b7ba7');\n",
       "var x = new MutationObserver(function (mutations, observer) {{\n",
       "        var display = window.getComputedStyle(gd).display;\n",
       "        if (!display || display === 'none') {{\n",
       "            console.log([gd, 'removed!']);\n",
       "            Plotly.purge(gd);\n",
       "            observer.disconnect();\n",
       "        }}\n",
       "}});\n",
       "\n",
       "// Listen for the removal of the full notebook cells\n",
       "var notebookContainer = gd.closest('#notebook-container');\n",
       "if (notebookContainer) {{\n",
       "    x.observe(notebookContainer, {childList: true});\n",
       "}}\n",
       "\n",
       "// Listen for the clearing of the current output cell\n",
       "var outputEl = gd.closest('.output');\n",
       "if (outputEl) {{\n",
       "    x.observe(outputEl, {childList: true});\n",
       "}}\n",
       "\n",
       "                        })                };            </script>        </div>"
      ]
     },
     "metadata": {},
     "output_type": "display_data"
    }
   ],
   "source": [
    "df['year'] = df.index.year\n",
    "week = df.groupby(['year', pd.Grouper(freq = 'W')]).Valor.count().reset_index()\n",
    "week['week'] = week['Date'].dt.isocalendar().week\n",
    "week = week.pivot_table(index = 'week', columns = 'year', values= 'Valor', aggfunc='sum').fillna(0)\n",
    "\n",
    "data= []\n",
    "for col in week.columns:\n",
    "    trace = go.Scatter(\n",
    "        x = week.index,\n",
    "        y = week[col],\n",
    "        name = col,\n",
    "    # IMPORTANTE: establecemos que es un gráfico de líneas\n",
    "        mode = 'lines'\n",
    "    )\n",
    "\n",
    "    data.append(trace)\n",
    "\n",
    "layout = dict(\n",
    "            title = dict( text = \"Casos semanales por año\" ),\n",
    "            # Configuración del eje X\n",
    "            xaxis = dict(\n",
    "\n",
    "            ),\n",
    "         )\n",
    "fig = go.Figure(data=data, layout=layout)\n",
    "iplot(fig)"
   ]
  },
  {
   "cell_type": "markdown",
   "metadata": {
    "id": "jZm6hwKztQ3Y"
   },
   "source": [
    "Los años 2020 y 2021  tienen pocos datos y son diferentes al resto. 2022 y 2323 son años con un poco más de actividad.\n",
    "\n",
    "Se eligió los datos por semanas por peticion de Irene"
   ]
  },
  {
   "cell_type": "markdown",
   "metadata": {
    "id": "lC3y4KPGtQ3Y"
   },
   "source": [
    "## Estudio de estacionalidad semanal usando el numero de casos\n",
    "\n",
    "En esta sección se analizará la estacionalidad semanal del numero de positivos de Leishmania. Se utilizarán herramientas estadísticas, como la descomposición de la serie y el análisis de autocorrelación.\n",
    "\n",
    "**Bibliografía:**\n",
    "\n",
    "- https://www.kaggle.com/code/iamleonie/time-series-interpreting-acf-and-pacf\n",
    "- https://machinelearningmastery.com/time-series-data-stationary-python/\n",
    "- https://machinelearningmastery.com/gentle-introduction-random-walk-times-series-forecasting-python/"
   ]
  },
  {
   "cell_type": "markdown",
   "metadata": {
    "id": "VA0ckSiRtQ3Y"
   },
   "source": [
    "Calculamos el número de casos por semanas:"
   ]
  },
  {
   "cell_type": "code",
   "execution_count": 96,
   "metadata": {
    "ExecuteTime": {
     "end_time": "2025-04-10T11:34:36.865779Z",
     "start_time": "2025-04-10T11:34:36.851703Z"
    },
    "executionInfo": {
     "elapsed": 695,
     "status": "aborted",
     "timestamp": 1755881893679,
     "user": {
      "displayName": "Alejandro Gómez Martín",
      "userId": "11487793164505300730"
     },
     "user_tz": -120
    },
    "id": "Kv_r9OFRtQ3Z"
   },
   "outputs": [
    {
     "data": {
      "text/plain": [
       "Date\n",
       "2020-07-26     8\n",
       "2020-08-02     0\n",
       "2020-08-09     1\n",
       "2020-08-16     0\n",
       "2020-08-23     0\n",
       "              ..\n",
       "2024-10-06    28\n",
       "2024-10-13    25\n",
       "2024-10-20    26\n",
       "2024-10-27    29\n",
       "2024-11-03    17\n",
       "Freq: W-SUN, Name: Valor, Length: 224, dtype: int64"
      ]
     },
     "execution_count": 96,
     "metadata": {},
     "output_type": "execute_result"
    }
   ],
   "source": [
    "week = df.groupby([ pd.Grouper(freq = 'W')]).Valor.count()\n",
    "week"
   ]
  },
  {
   "cell_type": "code",
   "execution_count": 97,
   "metadata": {
    "ExecuteTime": {
     "end_time": "2025-04-10T10:26:06.061729Z",
     "start_time": "2025-04-10T10:26:02.859647Z"
    },
    "executionInfo": {
     "elapsed": 4,
     "status": "aborted",
     "timestamp": 1755881893725,
     "user": {
      "displayName": "Alejandro Gómez Martín",
      "userId": "11487793164505300730"
     },
     "user_tz": -120
    },
    "id": "Kkgy_IT7tQ3Z"
   },
   "outputs": [
    {
     "name": "stdout",
     "output_type": "stream",
     "text": [
      "ADF Statistic: -2.414806\n",
      "p-value: 0.137601\n",
      "Critical Values:\n",
      "\t1%: -3.460\n",
      "\t5%: -2.875\n",
      "\t10%: -2.574\n",
      "RESULTADO: Non-stationary\n"
     ]
    }
   ],
   "source": [
    "# Aplicamos test de estacionalidad\n",
    "\n",
    "from statsmodels.tsa.stattools import adfuller\n",
    "\n",
    "def check_stationarity(series):\n",
    "    # Copied from https://machinelearningmastery.com/time-series-data-stationary-python/\n",
    "\n",
    "    result = adfuller(series.values)\n",
    "\n",
    "    print('ADF Statistic: %f' % result[0])\n",
    "    print('p-value: %f' % result[1])\n",
    "    print('Critical Values:')\n",
    "    for key, value in result[4].items():\n",
    "        print('\\t%s: %.3f' % (key, value))\n",
    "\n",
    "    if (result[1] <= 0.05) & (result[4]['5%'] > result[0]):\n",
    "        print(\"RESULTADO: Stationary\")\n",
    "    else:\n",
    "        print(\"RESULTADO: Non-stationary\")\n",
    "\n",
    "check_stationarity(week)"
   ]
  },
  {
   "cell_type": "markdown",
   "metadata": {
    "id": "4FKbTKfVtQ3Z"
   },
   "source": [
    "No se observa evidencia clara de estacionalidad en la serie temporal, ya que el p-value obtenido en la prueba de Dickey-Fuller Aumentada (ADF) es mayor a 0.05. Esto indica que no podemos rechazar la hipótesis nula de no estacionariedad, por lo que la serie presenta un comportamiento aleatorio sin patrones estacionales definidos."
   ]
  },
  {
   "cell_type": "markdown",
   "metadata": {},
   "source": [
    "### Descomposicion\n",
    "\n",
    "En esta sección se analizará la serie temporal semanal de la tasa de positivos de Leishmania mediante técnicas de descomposición. El objetivo es separar la serie en sus componentes principales: tendencia, estacionalidad y residuo. Esto permite identificar patrones subyacentes y comprender mejor la estructura de la serie antes de aplicar modelos de predicción o realizar análisis adicionales."
   ]
  },
  {
   "cell_type": "code",
   "execution_count": 98,
   "metadata": {
    "executionInfo": {
     "elapsed": 5,
     "status": "aborted",
     "timestamp": 1755881893727,
     "user": {
      "displayName": "Alejandro Gómez Martín",
      "userId": "11487793164505300730"
     },
     "user_tz": -120
    },
    "id": "1e5bmgSAtTnV"
   },
   "outputs": [
    {
     "data": {
      "image/png": "[encoded data removed]",
      "text/plain": [
       "<Figure size 640x480 with 4 Axes>"
      ]
     },
     "metadata": {},
     "output_type": "display_data"
    }
   ],
   "source": [
    "from statsmodels.tsa.seasonal import seasonal_decompose\n",
    "result = seasonal_decompose(week, model='additive', period=52)\n",
    "result.plot()\n",
    "plt.show()"
   ]
  },
  {
   "cell_type": "markdown",
   "metadata": {
    "id": "FHgpJ-MjtQ3Z"
   },
   "source": [
    "### Estudio de autocorrelación y autocorrelación parcial\n",
    "\n",
    "La autocorrelación representa la correlación entre una secuencia y sí misma. Podemos hacer un análisis de autocorrelación para ver si los datos se correlacionan con la misma serie desplazada 1 semana, 2 semanas, 3 semanas, etc. A lo mejor podríamos ver que si en un año X el calor llega más tarde, los casos de Leishmania aparecen también más tarde en el año Y. Veríamos estacionalidad anual si en la semana 52 (más o menos) se ve un pico alto.\n",
    "\n",
    "La secuencia de hace varios períodos atrás se llama “retraso” o “lag” en inglés, porque es una versión retrasada de la original."
   ]
  },
  {
   "cell_type": "code",
   "execution_count": 99,
   "metadata": {
    "ExecuteTime": {
     "end_time": "2025-04-10T10:37:34.014058Z",
     "start_time": "2025-04-10T10:37:32.580723Z"
    },
    "executionInfo": {
     "elapsed": 6,
     "status": "aborted",
     "timestamp": 1755881893730,
     "user": {
      "displayName": "Alejandro Gómez Martín",
      "userId": "11487793164505300730"
     },
     "user_tz": -120
    },
    "id": "yakRQUULtQ3a"
   },
   "outputs": [
    {
     "data": {
      "image/png": "[encoded data removed]",
      "text/plain": [
       "<Figure size 1400x600 with 2 Axes>"
      ]
     },
     "metadata": {},
     "output_type": "display_data"
    }
   ],
   "source": [
    "import matplotlib.pyplot as plt\n",
    "from statsmodels.graphics.tsaplots import plot_acf\n",
    "from statsmodels.graphics.tsaplots import plot_pacf\n",
    "#from pmdarima import auto_arima\n",
    "\n",
    "fig, axes = plt.subplots(1, 2, figsize=(14, 6))  #\n",
    "\n",
    "plot_acf(week, lags=52, ax = axes[0])  # mirar hasta 3 años\n",
    "axes[0].set_title('ACF - Autocorrelación')\n",
    "\n",
    "\n",
    "# Graficar PACF\n",
    "plot_pacf(week, lags=52, ax = axes[1])  # lags es cuántos lags se muestran\n",
    "axes[1].set_title('PACF  Autocorrelación parcial');"
   ]
  },
  {
   "cell_type": "markdown",
   "metadata": {
    "id": "wfD31eAytQ3a"
   },
   "source": [
    "Este gráfico sugiere que nuestra serie temporal sigue un patrón de tipo \"random walk\", es decir, que los cambios en la serie temporal son aleatorios. Los random walks no son estacionarios, pero pueden volverse estacionarias al diferenciar."
   ]
  },
  {
   "cell_type": "markdown",
   "metadata": {
    "id": "rou7xV5ltQ3a"
   },
   "source": [
    "En el gráfico izquierdo, los valores en el eje x representan los retrasos en semanas, que en este caso van hasta 70. En el eje Y tenemos los valores para el coeficiente de autocorrelación. La correlación solo puede tomar valores entre -1 y 1.\n",
    "Las líneas en el gráfico representan la autocorrelación entre el número de casos y una versión retrasada de de la serie. La primera línea indica la autocorrelación del mes con sigo mismo, la segunda línea representa la autocorrelación de la serie, con la serie con una semana de retraso, y así sucesivamente. La primera línea es uno porque la correlación entre un valor y sí mismo siempre será uno.\n",
    "\n",
    "El área azul alrededor del eje X representa la significación de los valores de autocorrelación. Es decir, mide si son significativamente distintos de cero, lo que sugiere la existencia de autocorrelación para ese retraso específico.\n",
    "\n",
    "Lo que podemos ver, es que solo hay una correlación fuerte con las semanas  anteriores, es decir, el valor actual depende del valor anterior (2 valores anteriores). Si vemos la autocorrelación parcial (derecha), vemos que efectivamente solo hay correlación con el dato de la semana anterior.\n",
    "\n",
    "\n",
    "__Conclusión__: es difícil de modelar este tipo de series temporales y no puede ser fácilmente predicho. De hecho, la mejor predicción es la que se obtiene de la semana anterior."
   ]
  },
  {
   "cell_type": "markdown",
   "metadata": {
    "id": "IBJO_EWXtQ3a"
   },
   "source": [
    "### Estudio de las diferencias\n",
    "\n",
    "Vamos a calcular la serie de la primera diferencia (diferencia con respecto al mes anterior):"
   ]
  },
  {
   "cell_type": "code",
   "execution_count": 100,
   "metadata": {
    "ExecuteTime": {
     "end_time": "2025-04-10T11:34:44.792910Z",
     "start_time": "2025-04-10T11:34:44.773637Z"
    },
    "executionInfo": {
     "elapsed": 9,
     "status": "aborted",
     "timestamp": 1755881893733,
     "user": {
      "displayName": "Alejandro Gómez Martín",
      "userId": "11487793164505300730"
     },
     "user_tz": -120
    },
    "id": "vo8t3T8itQ3b"
   },
   "outputs": [
    {
     "name": "stdout",
     "output_type": "stream",
     "text": [
      "ADF Statistic: -17.445696\n",
      "p-value: 0.000000\n",
      "Critical Values:\n",
      "\t1%: -3.460\n",
      "\t5%: -2.875\n",
      "\t10%: -2.574\n",
      "RESULTADO: Stationary\n"
     ]
    }
   ],
   "source": [
    "# Como la serie no es estacionaria, podemos aplicar diferenciación\n",
    "# Realizar una diferenciación simple\n",
    "w_diff = week.diff().dropna()\n",
    "\n",
    "# Comprobar si después de la diferenciación la serie es estacionaria\n",
    "check_stationarity(w_diff)"
   ]
  },
  {
   "cell_type": "markdown",
   "metadata": {
    "id": "paL1hVNOtQ3b"
   },
   "source": [
    "Las diferencias son estacionales. Ahora vemos la autocorrelación:"
   ]
  },
  {
   "cell_type": "code",
   "execution_count": 101,
   "metadata": {
    "ExecuteTime": {
     "end_time": "2025-04-10T11:34:47.794817Z",
     "start_time": "2025-04-10T11:34:47.550150Z"
    },
    "executionInfo": {
     "elapsed": 7,
     "status": "aborted",
     "timestamp": 1755881893736,
     "user": {
      "displayName": "Alejandro Gómez Martín",
      "userId": "11487793164505300730"
     },
     "user_tz": -120
    },
    "id": "uJ6BqGpytQ3b"
   },
   "outputs": [
    {
     "data": {
      "image/png": "[encoded data removed]",
      "text/plain": [
       "<Figure size 1400x600 with 2 Axes>"
      ]
     },
     "metadata": {},
     "output_type": "display_data"
    }
   ],
   "source": [
    "from statsmodels.graphics.tsaplots import plot_acf\n",
    "from statsmodels.graphics.tsaplots import plot_pacf\n",
    "\n",
    "fig, axes = plt.subplots(1, 2, figsize=(14, 6))  #\n",
    "\n",
    "plot_acf(w_diff, lags=24, ax = axes[0])  # mirar hasta 3 años\n",
    "axes[0].set_title('ACF - Autocorrelación')\n",
    "\n",
    "\n",
    "# Graficar PACF\n",
    "plot_pacf(w_diff, lags=24, ax = axes[1])  # lags es cuántos lags se muestran\n",
    "axes[1].set_title('PACF  Autocorrelación parcial');"
   ]
  },
  {
   "cell_type": "markdown",
   "metadata": {
    "id": "x5GBY2HltQ3b"
   },
   "source": [
    "En este caso, los valores de la autocorrelación son pequeños, cercanas a cero y por debajo de los niveles de confianza del 95 %"
   ]
  },
  {
   "cell_type": "markdown",
   "metadata": {
    "id": "gAtDGwSQtQ3b"
   },
   "source": [
    "## Estudio del modelo\n",
    "Aunque se ha determinado que ARIMA no es el modelo óptimo, se realizará una predicción."
   ]
  },
  {
   "cell_type": "markdown",
   "metadata": {
    "id": "Cf4PiSuotQ3b"
   },
   "source": [
    "\n",
    "Para este tipo de series temporales, podemos usar modelo ingenuo basado símplemente en el valor anterior. Por ejemplo: ARIMA(0,1,0)\n",
    "\n",
    "$$ y_t = y_{t-1} + \\epsilon$$\n",
    "\n",
    "También podemos calcular los mejores hiperparámetros para ARIMA:"
   ]
  },
  {
   "cell_type": "code",
   "execution_count": 102,
   "metadata": {
    "ExecuteTime": {
     "end_time": "2025-04-10T11:35:39.077653Z",
     "start_time": "2025-04-10T11:35:20.716998Z"
    },
    "executionInfo": {
     "elapsed": 4,
     "status": "aborted",
     "timestamp": 1755881893739,
     "user": {
      "displayName": "Alejandro Gómez Martín",
      "userId": "11487793164505300730"
     },
     "user_tz": -120
    },
    "id": "9jLQGm6ytQ3b"
   },
   "outputs": [
    {
     "name": "stdout",
     "output_type": "stream",
     "text": [
      "Mejor modelo ARIMA: (2, 1, 3) con AIC = 1537.07\n"
     ]
    }
   ],
   "source": [
    "import pandas as pd\n",
    "import numpy as np\n",
    "from statsmodels.tsa.arima.model import ARIMA\n",
    "import warnings\n",
    "warnings.filterwarnings(\"ignore\")\n",
    "\n",
    "\n",
    "best_aic = np.inf\n",
    "best_order = None\n",
    "best_model = None\n",
    "\n",
    "# Define rangos posibles para p, d, q\n",
    "p_range = range(0, 4)\n",
    "d_range = range(0,4)\n",
    "q_range = range(0, 4)\n",
    "\n",
    "# Grid search\n",
    "for p in p_range:\n",
    "    for d in d_range:\n",
    "        for q in q_range:\n",
    "            try:\n",
    "                model = ARIMA(week, order=(p, d, q)).fit()\n",
    "                if model.aic < best_aic:\n",
    "                    best_aic = model.aic\n",
    "                    best_order = (p, d, q)\n",
    "                    best_model = model\n",
    "            except:\n",
    "                continue\n",
    "\n",
    "print(f\"Mejor modelo ARIMA: {best_order} con AIC = {best_aic:.2f}\")\n"
   ]
  },
  {
   "cell_type": "markdown",
   "metadata": {
    "id": "eKs8_281tQ3c"
   },
   "source": [
    "* p = 2: número de retardos autorregresivos (AR). El modelo se basa en las 2 observaciones anteriores para predecir la siguiente.\n",
    "* d = 1: número de diferenciaciones necesarias para hacer la serie estacionaria (I, de \"Integrated\"). Se aplicó una diferencia de orden 1 (por ejemplo, data.diff(1)) antes de modelar.\n",
    "* q = 3: número de términos del promedio móvil (MA). Usa los últimos 3 errores del modelo (residuos) para mejorar la predicción."
   ]
  },
  {
   "cell_type": "code",
   "execution_count": 103,
   "metadata": {
    "ExecuteTime": {
     "end_time": "2025-04-10T11:32:08.884578Z",
     "start_time": "2025-04-10T11:32:07.976739Z"
    },
    "executionInfo": {
     "elapsed": 765,
     "status": "aborted",
     "timestamp": 1755881893753,
     "user": {
      "displayName": "Alejandro Gómez Martín",
      "userId": "11487793164505300730"
     },
     "user_tz": -120
    },
    "id": "TLPJhW6ctQ3c"
   },
   "outputs": [
    {
     "name": "stdout",
     "output_type": "stream",
     "text": [
      "                               SARIMAX Results                                \n",
      "==============================================================================\n",
      "Dep. Variable:                  Valor   No. Observations:                  224\n",
      "Model:                 ARIMA(2, 1, 3)   Log Likelihood                -762.533\n",
      "Date:               ju., 28 ago. 2025   AIC                           1537.066\n",
      "Time:                        11:02:33   BIC                           1557.509\n",
      "Sample:                    07-26-2020   HQIC                          1545.318\n",
      "                         - 11-03-2024                                         \n",
      "Covariance Type:                  opg                                         \n",
      "==============================================================================\n",
      "                 coef    std err          z      P>|z|      [0.025      0.975]\n",
      "------------------------------------------------------------------------------\n",
      "ar.L1         -0.2683      0.059     -4.562      0.000      -0.384      -0.153\n",
      "ar.L2         -0.9448      0.051    -18.510      0.000      -1.045      -0.845\n",
      "ma.L1         -0.3482      0.087     -4.011      0.000      -0.518      -0.178\n",
      "ma.L2          0.7783      0.082      9.489      0.000       0.618       0.939\n",
      "ma.L3         -0.4978      0.064     -7.748      0.000      -0.624      -0.372\n",
      "sigma2        53.8551      3.346     16.095      0.000      47.297      60.413\n",
      "===================================================================================\n",
      "Ljung-Box (L1) (Q):                   0.02   Jarque-Bera (JB):               304.64\n",
      "Prob(Q):                              0.89   Prob(JB):                         0.00\n",
      "Heteroskedasticity (H):               4.47   Skew:                             1.19\n",
      "Prob(H) (two-sided):                  0.00   Kurtosis:                         8.21\n",
      "===================================================================================\n",
      "\n",
      "Warnings:\n",
      "[1] Covariance matrix calculated using the outer product of gradients (complex-step).\n"
     ]
    }
   ],
   "source": [
    "from statsmodels.tsa.arima.model import ARIMA\n",
    "\n",
    "model = ARIMA(week, order=(2, 1, 3))\n",
    "results = model.fit()\n",
    "\n",
    "print(results.summary())"
   ]
  },
  {
   "cell_type": "code",
   "execution_count": 104,
   "metadata": {
    "executionInfo": {
     "elapsed": 767,
     "status": "aborted",
     "timestamp": 1755881893756,
     "user": {
      "displayName": "Alejandro Gómez Martín",
      "userId": "11487793164505300730"
     },
     "user_tz": -120
    },
    "id": "OHP-3yjktQ3c"
   },
   "outputs": [
    {
     "data": {
      "image/png": "[encoded data removed]",
      "text/plain": [
       "<Figure size 1000x400 with 1 Axes>"
      ]
     },
     "metadata": {},
     "output_type": "display_data"
    }
   ],
   "source": [
    "import matplotlib.pyplot as plt\n",
    "\n",
    "plt.figure(figsize=(10, 4))\n",
    "plt.plot(results.resid)\n",
    "plt.title(\"Residuos del modelo ARIMA\")\n",
    "plt.show()"
   ]
  },
  {
   "cell_type": "markdown",
   "metadata": {
    "id": "aQCidpjutQ3d"
   },
   "source": [
    "Los residuos tienen “explosiones” de varianza en ciertos períodos (es decir, más dispersión en algunos tramos),  lo que sugiere heterocedasticidad (la varianza no es constante)"
   ]
  },
  {
   "cell_type": "markdown",
   "metadata": {
    "id": "-jbQmo6YtQ3d"
   },
   "source": [
    "* Log-Likelihood: cuanto más cercano a 0 mejor\n",
    "* sigma2: valor muy alto (esto es malo e indica que hay mucha aleatoriedad). p-value = 0 <  0.001 (significativo)\n",
    "* Residuos:\n",
    "    * No hay correlación entre los residuos . (Ljung-Box). Esto es bueno\n",
    "    * No hay normalidad de residuos (Jarque-Bera (__esto es malo__)). Lo chequeamos con shapiro a continuación\n",
    "    * No parece que  hay Heterocesasticiadad (varianza es constante, lo que es bueno) . Lo vemos a continuación\n",
    "\n",
    "El análisisi de residuos concluye que este modelo no captura bien la estructura de los datos"
   ]
  },
  {
   "cell_type": "code",
   "execution_count": 105,
   "metadata": {
    "executionInfo": {
     "elapsed": 769,
     "status": "aborted",
     "timestamp": 1755881893758,
     "user": {
      "displayName": "Alejandro Gómez Martín",
      "userId": "11487793164505300730"
     },
     "user_tz": -120
    },
    "id": "mkaj9ZpttQ3d"
   },
   "outputs": [
    {
     "name": "stdout",
     "output_type": "stream",
     "text": [
      "      lb_stat  lb_pvalue\n",
      "52  65.392211   0.100447\n"
     ]
    }
   ],
   "source": [
    "from statsmodels.stats.diagnostic import acorr_ljungbox\n",
    "\n",
    "ljung_box = acorr_ljungbox(results.resid, lags=[52], return_df=True)\n",
    "\n",
    "print(ljung_box)"
   ]
  },
  {
   "cell_type": "markdown",
   "metadata": {
    "id": "TL-t1ZYhtQ3d"
   },
   "source": [
    "p-valor ≥ 0.05, no hay evidencia de autocorrelación"
   ]
  },
  {
   "cell_type": "code",
   "execution_count": 106,
   "metadata": {
    "ExecuteTime": {
     "end_time": "2025-04-10T11:42:19.437992Z",
     "start_time": "2025-04-10T11:42:19.154196Z"
    },
    "executionInfo": {
     "elapsed": 770,
     "status": "aborted",
     "timestamp": 1755881893760,
     "user": {
      "displayName": "Alejandro Gómez Martín",
      "userId": "11487793164505300730"
     },
     "user_tz": -120
    },
    "id": "Q65mjRCatQ3d"
   },
   "outputs": [
    {
     "data": {
      "image/png": "[encoded data removed]",
      "text/plain": [
       "<Figure size 640x480 with 1 Axes>"
      ]
     },
     "metadata": {},
     "output_type": "display_data"
    },
    {
     "name": "stdout",
     "output_type": "stream",
     "text": [
      "p-valor Shapiro-Wilk: 0.0000\n",
      "residuos no normales\n"
     ]
    }
   ],
   "source": [
    "# analisis de residuos\n",
    "import seaborn as sns\n",
    "from scipy.stats import shapiro\n",
    "\n",
    "# Histograma con curva KDE\n",
    "sns.histplot(results.resid, kde=True)\n",
    "plt.title(\"Distribución de los residuos\")\n",
    "plt.show()\n",
    "\n",
    "# Prueba de Shapiro-Wilk\n",
    "stat, p = shapiro(results.resid)\n",
    "print(f\"p-valor Shapiro-Wilk: {p:.4f}\")\n",
    "\n",
    "if p > 0.05:\n",
    "    print(\"residuos aproximadamente normales\")\n",
    "else:\n",
    "    print(\"residuos no normales\")\n"
   ]
  },
  {
   "cell_type": "code",
   "execution_count": 107,
   "metadata": {
    "ExecuteTime": {
     "end_time": "2025-04-10T11:43:37.950840Z",
     "start_time": "2025-04-10T11:43:37.943273Z"
    },
    "executionInfo": {
     "elapsed": 770,
     "status": "aborted",
     "timestamp": 1755881893761,
     "user": {
      "displayName": "Alejandro Gómez Martín",
      "userId": "11487793164505300730"
     },
     "user_tz": -120
    },
    "id": "nMATBdTWtQ3e"
   },
   "outputs": [
    {
     "name": "stdout",
     "output_type": "stream",
     "text": [
      "ARCH Test p-valor: 0.4022\n",
      "(varianza constante)\n"
     ]
    }
   ],
   "source": [
    "from statsmodels.stats.diagnostic import het_arch\n",
    "\n",
    "arch_test = het_arch(results.resid)\n",
    "print(f\"ARCH Test p-valor: {arch_test[1]:.4f}\")\n",
    "\n",
    "if arch_test[1] > 0.05:\n",
    "    print(\"(varianza constante)\")\n",
    "else:\n",
    "    print(\"heterocedasticidad (varianza no constante)\")"
   ]
  },
  {
   "cell_type": "markdown",
   "metadata": {
    "id": "n1i0C2H_tQ3e"
   },
   "source": [
    "## Predicciones"
   ]
  },
  {
   "cell_type": "code",
   "execution_count": 108,
   "metadata": {
    "executionInfo": {
     "elapsed": 771,
     "status": "aborted",
     "timestamp": 1755881893763,
     "user": {
      "displayName": "Alejandro Gómez Martín",
      "userId": "11487793164505300730"
     },
     "user_tz": -120
    },
    "id": "lPGRc4OWtQ3e"
   },
   "outputs": [
    {
     "name": "stdout",
     "output_type": "stream",
     "text": [
      "Predicciones:\n",
      " 2024-09-01    28.663433\n",
      "2024-09-08    25.980860\n",
      "2024-09-15    28.293957\n",
      "2024-09-22    26.893683\n",
      "2024-09-29    27.335638\n",
      "2024-10-06    27.590723\n",
      "2024-10-13    27.001947\n",
      "2024-10-20    27.610194\n",
      "2024-10-27    27.173319\n",
      "2024-11-03    27.377981\n",
      "Freq: W-SUN, Name: predicted_mean, dtype: float64\n",
      "\n",
      "Intervalos de confianza:\n",
      "             lower Valor  upper Valor\n",
      "2024-09-01    13.773746    43.553119\n",
      "2024-09-08    10.014496    41.947224\n",
      "2024-09-15    11.359505    45.228409\n",
      "2024-09-22     8.588217    45.199149\n",
      "2024-09-29     8.267815    46.403460\n",
      "2024-10-06     7.397854    47.783592\n",
      "2024-10-13     5.961849    48.042044\n",
      "2024-10-20     5.707073    49.513316\n",
      "2024-10-27     4.384250    49.962387\n",
      "2024-11-03     3.831422    50.924539\n"
     ]
    },
    {
     "data": {
      "image/png": "[encoded data removed]",
      "text/plain": [
       "<Figure size 1000x500 with 1 Axes>"
      ]
     },
     "metadata": {},
     "output_type": "display_data"
    }
   ],
   "source": [
    "# Ajustamos el modelo ARIMA\n",
    "# entrenamos el modelo con 10 semanas menos\n",
    "model = ARIMA(week.iloc[:-10], order=(2, 1, 3))\n",
    "model_fit = model.fit()\n",
    "\n",
    "# Predicciones futuras (por ejemplo, 6 pasos adelante)\n",
    "forecast = model_fit.get_forecast(steps=10)\n",
    "predicted_mean = forecast.predicted_mean\n",
    "conf_int = forecast.conf_int()\n",
    "\n",
    "# Mostrar resultados\n",
    "print(\"Predicciones:\\n\", predicted_mean)\n",
    "print(\"\\nIntervalos de confianza:\\n\", conf_int)\n",
    "\n",
    "#  Pintamos los resultados de la predicción\n",
    "plt.figure(figsize=(10, 5))\n",
    "plt.plot(week, label='Serie Original')\n",
    "plt.plot(predicted_mean.index, predicted_mean, label='Pronóstico', color='red')\n",
    "plt.fill_between(predicted_mean.index,\n",
    "                 conf_int.iloc[:, 0], conf_int.iloc[:, 1],\n",
    "                 color='lightgreen', alpha=0.3, label='Intervalo Confianza')\n",
    "plt.legend()\n",
    "plt.show()"
   ]
  },
  {
   "cell_type": "markdown",
   "metadata": {},
   "source": [
    "__Conclusion__\n",
    "\n",
    "Aunque el modelo ARIMA(2, 1, 3) es el que mejor se ajusta según el AIC, la evaluación de los residuos muestra limitaciones importantes. Los residuos no son normales y presentan \"explosiones\" de varianza, lo que indica que el modelo no captura toda la complejidad y aleatoriedad de la serie de casos de Leishmania. No se detecta autocorrelación ni heterocedasticidad significativa según las pruebas estadísticas, pero la variabilidad no constante y la naturaleza de \"random walk\" dificultan la predicción precisa con modelos lineales como ARIMA. Por tanto, aunque ARIMA ayuda a entender ciertas dependencias temporales, su capacidad predictiva es limitada y podrían requerirse modelos más avanzados para series con alta aleatoriedad y variabilidad."
   ]
  }
 ],
 "metadata": {
  "colab": {
   "provenance": []
  },
  "kernelspec": {
   "display_name": "Python 3",
   "language": "python",
   "name": "python3"
  },
  "language_info": {
   "codemirror_mode": {
    "name": "ipython",
    "version": 3
   },
   "file_extension": ".py",
   "mimetype": "text/x-python",
   "name": "python",
   "nbconvert_exporter": "python",
   "pygments_lexer": "ipython3",
   "version": "3.12.0"
  }
 },
 "nbformat": 4,
 "nbformat_minor": 0
}
