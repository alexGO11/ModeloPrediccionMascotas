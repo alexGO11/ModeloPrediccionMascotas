{
 "cells": [
  {
   "cell_type": "markdown",
   "metadata": {
    "id": "oza9C8BuHL1G"
   },
   "source": [
    "# Estudio de tendencia y estacionalidad con la tasa de positivos\n",
    "\n",
    "Primero importamos los datos"
   ]
  },
  {
   "cell_type": "code",
   "execution_count": 26,
   "metadata": {
    "ExecuteTime": {
     "end_time": "2025-04-10T09:59:29.658447Z",
     "start_time": "2025-04-10T09:59:25.243343Z"
    },
    "colab": {
     "base_uri": "https://localhost:8080/",
     "height": 17
    },
    "executionInfo": {
     "elapsed": 1301,
     "status": "ok",
     "timestamp": 1750152342152,
     "user": {
      "displayName": "Alejandro Gómez Martín",
      "userId": "11487793164505300730"
     },
     "user_tz": -120
    },
    "id": "NSWUOz1THL1J",
    "outputId": "1bead115-88ad-49c1-9497-8ce7db28b5b7"
   },
   "outputs": [
    {
     "data": {
      "text/html": [
       "        <script type=\"text/javascript\">\n",
       "        window.PlotlyConfig = {MathJaxConfig: 'local'};\n",
       "        if (window.MathJax && window.MathJax.Hub && window.MathJax.Hub.Config) {window.MathJax.Hub.Config({SVG: {font: \"STIX-Web\"}});}\n",
       "        </script>\n",
       "        <script type=\"module\">import \"https://cdn.plot.ly/plotly-3.0.1.min\"</script>\n",
       "        "
      ]
     },
     "metadata": {},
     "output_type": "display_data"
    }
   ],
   "source": [
    "\n",
    "import pandas as pd\n",
    "import plotly.graph_objs as go\n",
    "\n",
    "from plotly.offline import init_notebook_mode, iplot\n",
    "init_notebook_mode(connected=True)\n",
    "import matplotlib.pyplot as plt"
   ]
  },
  {
   "cell_type": "markdown",
   "metadata": {},
   "source": [
    "## Carga y exploración inicial de los datos"
   ]
  },
  {
   "cell_type": "code",
   "execution_count": 27,
   "metadata": {
    "ExecuteTime": {
     "end_time": "2025-04-10T09:59:37.674367Z",
     "start_time": "2025-04-10T09:59:37.557271Z"
    },
    "colab": {
     "base_uri": "https://localhost:8080/"
    },
    "executionInfo": {
     "elapsed": 45,
     "status": "ok",
     "timestamp": 1750152452616,
     "user": {
      "displayName": "Alejandro Gómez Martín",
      "userId": "11487793164505300730"
     },
     "user_tz": -120
    },
    "id": "9zUYzlnfHL1K",
    "outputId": "28843d3f-0fc9-41e6-e337-f9dc3be19884"
   },
   "outputs": [
    {
     "data": {
      "text/plain": [
       "(42814, 8)"
      ]
     },
     "execution_count": 27,
     "metadata": {},
     "output_type": "execute_result"
    }
   ],
   "source": [
    "data_5 = pd.read_csv('data5.csv', parse_dates = [0], index_col = [0], usecols = ['Date', 'Name test',       'Country', 'City', 'Postal code', 'longitud', 'latitud', 'Valor',       'Cod_prov'])\n",
    "data_5.shape"
   ]
  },
  {
   "cell_type": "code",
   "execution_count": 28,
   "metadata": {
    "ExecuteTime": {
     "end_time": "2025-04-10T09:59:38.105273Z",
     "start_time": "2025-04-10T09:59:38.073488Z"
    },
    "id": "AtXKoolsHL1L",
    "outputId": "b3640d2c-4256-4be7-a2a7-e147fb1e496c"
   },
   "outputs": [
    {
     "data": {
      "text/html": [
       "<div>\n",
       "<style scoped>\n",
       "    .dataframe tbody tr th:only-of-type {\n",
       "        vertical-align: middle;\n",
       "    }\n",
       "\n",
       "    .dataframe tbody tr th {\n",
       "        vertical-align: top;\n",
       "    }\n",
       "\n",
       "    .dataframe thead th {\n",
       "        text-align: right;\n",
       "    }\n",
       "</style>\n",
       "<table border=\"1\" class=\"dataframe\">\n",
       "  <thead>\n",
       "    <tr style=\"text-align: right;\">\n",
       "      <th></th>\n",
       "      <th>Name test</th>\n",
       "      <th>Country</th>\n",
       "      <th>City</th>\n",
       "      <th>Postal code</th>\n",
       "      <th>longitud</th>\n",
       "      <th>latitud</th>\n",
       "      <th>Valor</th>\n",
       "      <th>Cod_prov</th>\n",
       "    </tr>\n",
       "    <tr>\n",
       "      <th>Date</th>\n",
       "      <th></th>\n",
       "      <th></th>\n",
       "      <th></th>\n",
       "      <th></th>\n",
       "      <th></th>\n",
       "      <th></th>\n",
       "      <th></th>\n",
       "      <th></th>\n",
       "    </tr>\n",
       "  </thead>\n",
       "  <tbody>\n",
       "    <tr>\n",
       "      <th>2020-07-20</th>\n",
       "      <td>Leishmania</td>\n",
       "      <td>Spain</td>\n",
       "      <td>Barcelona</td>\n",
       "      <td>8520.0</td>\n",
       "      <td>2.294704</td>\n",
       "      <td>41.627626</td>\n",
       "      <td>Negativo</td>\n",
       "      <td>8.0</td>\n",
       "    </tr>\n",
       "    <tr>\n",
       "      <th>2020-07-20</th>\n",
       "      <td>Leishmania</td>\n",
       "      <td>Spain</td>\n",
       "      <td>Barcelona</td>\n",
       "      <td>8520.0</td>\n",
       "      <td>2.295000</td>\n",
       "      <td>41.627454</td>\n",
       "      <td>Negativo</td>\n",
       "      <td>8.0</td>\n",
       "    </tr>\n",
       "    <tr>\n",
       "      <th>2020-07-20</th>\n",
       "      <td>Leishmania</td>\n",
       "      <td>Spain</td>\n",
       "      <td>Barcelona</td>\n",
       "      <td>8520.0</td>\n",
       "      <td>2.294975</td>\n",
       "      <td>41.627452</td>\n",
       "      <td>Negativo</td>\n",
       "      <td>8.0</td>\n",
       "    </tr>\n",
       "    <tr>\n",
       "      <th>2020-07-20</th>\n",
       "      <td>Leishmania</td>\n",
       "      <td>Spain</td>\n",
       "      <td>Barcelona</td>\n",
       "      <td>8520.0</td>\n",
       "      <td>2.295089</td>\n",
       "      <td>41.627480</td>\n",
       "      <td>Negativo</td>\n",
       "      <td>8.0</td>\n",
       "    </tr>\n",
       "    <tr>\n",
       "      <th>2020-07-20</th>\n",
       "      <td>Leishmania</td>\n",
       "      <td>Spain</td>\n",
       "      <td>Barcelona</td>\n",
       "      <td>8520.0</td>\n",
       "      <td>2.295028</td>\n",
       "      <td>41.627465</td>\n",
       "      <td>Negativo</td>\n",
       "      <td>8.0</td>\n",
       "    </tr>\n",
       "  </tbody>\n",
       "</table>\n",
       "</div>"
      ],
      "text/plain": [
       "             Name test Country       City  Postal code  longitud    latitud  \\\n",
       "Date                                                                          \n",
       "2020-07-20  Leishmania   Spain  Barcelona       8520.0  2.294704  41.627626   \n",
       "2020-07-20  Leishmania   Spain  Barcelona       8520.0  2.295000  41.627454   \n",
       "2020-07-20  Leishmania   Spain  Barcelona       8520.0  2.294975  41.627452   \n",
       "2020-07-20  Leishmania   Spain  Barcelona       8520.0  2.295089  41.627480   \n",
       "2020-07-20  Leishmania   Spain  Barcelona       8520.0  2.295028  41.627465   \n",
       "\n",
       "               Valor  Cod_prov  \n",
       "Date                            \n",
       "2020-07-20  Negativo       8.0  \n",
       "2020-07-20  Negativo       8.0  \n",
       "2020-07-20  Negativo       8.0  \n",
       "2020-07-20  Negativo       8.0  \n",
       "2020-07-20  Negativo       8.0  "
      ]
     },
     "execution_count": 28,
     "metadata": {},
     "output_type": "execute_result"
    }
   ],
   "source": [
    "data_5.head()"
   ]
  },
  {
   "cell_type": "code",
   "execution_count": 29,
   "metadata": {
    "ExecuteTime": {
     "end_time": "2025-04-10T09:59:38.252980Z",
     "start_time": "2025-04-10T09:59:38.245400Z"
    },
    "colab": {
     "base_uri": "https://localhost:8080/",
     "height": 210
    },
    "executionInfo": {
     "elapsed": 26,
     "status": "ok",
     "timestamp": 1750152455565,
     "user": {
      "displayName": "Alejandro Gómez Martín",
      "userId": "11487793164505300730"
     },
     "user_tz": -120
    },
    "id": "1jBBJzT1HL1M",
    "outputId": "f7fe4c4c-73fc-4325-d4c7-e721a79863c3"
   },
   "outputs": [
    {
     "data": {
      "text/plain": [
       "Valor\n",
       "Negativo    36484\n",
       "Positivo     4867\n",
       "Resto        1463\n",
       "Name: count, dtype: int64"
      ]
     },
     "execution_count": 29,
     "metadata": {},
     "output_type": "execute_result"
    }
   ],
   "source": [
    "data_5['Valor'].value_counts()"
   ]
  },
  {
   "cell_type": "code",
   "execution_count": 30,
   "metadata": {
    "ExecuteTime": {
     "end_time": "2025-04-10T09:59:38.721844Z",
     "start_time": "2025-04-10T09:59:38.702897Z"
    },
    "colab": {
     "base_uri": "https://localhost:8080/"
    },
    "executionInfo": {
     "elapsed": 34,
     "status": "ok",
     "timestamp": 1750152458567,
     "user": {
      "displayName": "Alejandro Gómez Martín",
      "userId": "11487793164505300730"
     },
     "user_tz": -120
    },
    "id": "L9H_nicdHL1N",
    "outputId": "10c49bda-aeae-407d-be46-6112b41016d1"
   },
   "outputs": [
    {
     "name": "stdout",
     "output_type": "stream",
     "text": [
      "<class 'pandas.core.frame.DataFrame'>\n",
      "DatetimeIndex: 42814 entries, 2020-07-20 to 2024-10-31\n",
      "Data columns (total 8 columns):\n",
      " #   Column       Non-Null Count  Dtype  \n",
      "---  ------       --------------  -----  \n",
      " 0   Name test    42814 non-null  object \n",
      " 1   Country      42814 non-null  object \n",
      " 2   City         42814 non-null  object \n",
      " 3   Postal code  42811 non-null  float64\n",
      " 4   longitud     42728 non-null  float64\n",
      " 5   latitud      42728 non-null  float64\n",
      " 6   Valor        42814 non-null  object \n",
      " 7   Cod_prov     42811 non-null  float64\n",
      "dtypes: float64(4), object(4)\n",
      "memory usage: 2.9+ MB\n"
     ]
    }
   ],
   "source": [
    "data_5.info()"
   ]
  },
  {
   "cell_type": "markdown",
   "metadata": {},
   "source": [
    "## Preprocesamiento de datos borrando las filas sin codigo postal"
   ]
  },
  {
   "cell_type": "code",
   "execution_count": 31,
   "metadata": {
    "ExecuteTime": {
     "end_time": "2025-04-10T09:59:39.149198Z",
     "start_time": "2025-04-10T09:59:39.117282Z"
    },
    "colab": {
     "base_uri": "https://localhost:8080/"
    },
    "executionInfo": {
     "elapsed": 62,
     "status": "ok",
     "timestamp": 1750153781450,
     "user": {
      "displayName": "Alejandro Gómez Martín",
      "userId": "11487793164505300730"
     },
     "user_tz": -120
    },
    "id": "01nhyJeHHL1O",
    "outputId": "808d2254-0f64-4fbc-a993-1cd1c6a92384"
   },
   "outputs": [
    {
     "name": "stdout",
     "output_type": "stream",
     "text": [
      "<class 'pandas.core.frame.DataFrame'>\n",
      "DatetimeIndex: 42811 entries, 2020-07-20 to 2024-10-31\n",
      "Data columns (total 8 columns):\n",
      " #   Column       Non-Null Count  Dtype  \n",
      "---  ------       --------------  -----  \n",
      " 0   Name test    42811 non-null  object \n",
      " 1   Country      42811 non-null  object \n",
      " 2   City         42811 non-null  object \n",
      " 3   Postal code  42811 non-null  float64\n",
      " 4   longitud     42725 non-null  float64\n",
      " 5   latitud      42725 non-null  float64\n",
      " 6   Valor        42811 non-null  object \n",
      " 7   Cod_prov     42811 non-null  float64\n",
      "dtypes: float64(4), object(4)\n",
      "memory usage: 2.9+ MB\n"
     ]
    }
   ],
   "source": [
    "# Borramos las filas que no tienen CP\n",
    "data_5.dropna(subset = ['Postal code'], inplace = True)\n",
    "data_5.info()"
   ]
  },
  {
   "cell_type": "markdown",
   "metadata": {
    "id": "SkpCm3d4HL1P"
   },
   "source": [
    "### Calculamos tasa de positivos de leishmania"
   ]
  },
  {
   "cell_type": "code",
   "execution_count": 32,
   "metadata": {
    "ExecuteTime": {
     "end_time": "2025-04-10T09:59:39.605177Z",
     "start_time": "2025-04-10T09:59:39.585365Z"
    },
    "colab": {
     "base_uri": "https://localhost:8080/",
     "height": 455
    },
    "executionInfo": {
     "elapsed": 308,
     "status": "ok",
     "timestamp": 1750152463839,
     "user": {
      "displayName": "Alejandro Gómez Martín",
      "userId": "11487793164505300730"
     },
     "user_tz": -120
    },
    "id": "PzpQzP7hHL1Q",
    "outputId": "87c07550-91c7-4371-a479-f11134c10e3f"
   },
   "outputs": [
    {
     "data": {
      "text/html": [
       "<div>\n",
       "<style scoped>\n",
       "    .dataframe tbody tr th:only-of-type {\n",
       "        vertical-align: middle;\n",
       "    }\n",
       "\n",
       "    .dataframe tbody tr th {\n",
       "        vertical-align: top;\n",
       "    }\n",
       "\n",
       "    .dataframe thead th {\n",
       "        text-align: right;\n",
       "    }\n",
       "</style>\n",
       "<table border=\"1\" class=\"dataframe\">\n",
       "  <thead>\n",
       "    <tr style=\"text-align: right;\">\n",
       "      <th></th>\n",
       "      <th>Name test</th>\n",
       "      <th>Country</th>\n",
       "      <th>City</th>\n",
       "      <th>Postal code</th>\n",
       "      <th>longitud</th>\n",
       "      <th>latitud</th>\n",
       "      <th>Valor</th>\n",
       "      <th>Cod_prov</th>\n",
       "    </tr>\n",
       "    <tr>\n",
       "      <th>Date</th>\n",
       "      <th></th>\n",
       "      <th></th>\n",
       "      <th></th>\n",
       "      <th></th>\n",
       "      <th></th>\n",
       "      <th></th>\n",
       "      <th></th>\n",
       "      <th></th>\n",
       "    </tr>\n",
       "  </thead>\n",
       "  <tbody>\n",
       "    <tr>\n",
       "      <th>2020-07-20</th>\n",
       "      <td>Leishmania</td>\n",
       "      <td>Spain</td>\n",
       "      <td>Barcelona</td>\n",
       "      <td>8520.0</td>\n",
       "      <td>2.294704</td>\n",
       "      <td>41.627626</td>\n",
       "      <td>Negativo</td>\n",
       "      <td>8.0</td>\n",
       "    </tr>\n",
       "    <tr>\n",
       "      <th>2020-07-20</th>\n",
       "      <td>Leishmania</td>\n",
       "      <td>Spain</td>\n",
       "      <td>Barcelona</td>\n",
       "      <td>8520.0</td>\n",
       "      <td>2.295000</td>\n",
       "      <td>41.627454</td>\n",
       "      <td>Negativo</td>\n",
       "      <td>8.0</td>\n",
       "    </tr>\n",
       "    <tr>\n",
       "      <th>2020-07-20</th>\n",
       "      <td>Leishmania</td>\n",
       "      <td>Spain</td>\n",
       "      <td>Barcelona</td>\n",
       "      <td>8520.0</td>\n",
       "      <td>2.294975</td>\n",
       "      <td>41.627452</td>\n",
       "      <td>Negativo</td>\n",
       "      <td>8.0</td>\n",
       "    </tr>\n",
       "    <tr>\n",
       "      <th>2020-07-20</th>\n",
       "      <td>Leishmania</td>\n",
       "      <td>Spain</td>\n",
       "      <td>Barcelona</td>\n",
       "      <td>8520.0</td>\n",
       "      <td>2.295089</td>\n",
       "      <td>41.627480</td>\n",
       "      <td>Negativo</td>\n",
       "      <td>8.0</td>\n",
       "    </tr>\n",
       "    <tr>\n",
       "      <th>2020-07-20</th>\n",
       "      <td>Leishmania</td>\n",
       "      <td>Spain</td>\n",
       "      <td>Barcelona</td>\n",
       "      <td>8520.0</td>\n",
       "      <td>2.295028</td>\n",
       "      <td>41.627465</td>\n",
       "      <td>Negativo</td>\n",
       "      <td>8.0</td>\n",
       "    </tr>\n",
       "    <tr>\n",
       "      <th>...</th>\n",
       "      <td>...</td>\n",
       "      <td>...</td>\n",
       "      <td>...</td>\n",
       "      <td>...</td>\n",
       "      <td>...</td>\n",
       "      <td>...</td>\n",
       "      <td>...</td>\n",
       "      <td>...</td>\n",
       "    </tr>\n",
       "    <tr>\n",
       "      <th>2024-10-31</th>\n",
       "      <td>Leishmania</td>\n",
       "      <td>Spain</td>\n",
       "      <td>Las Palmas</td>\n",
       "      <td>35018.0</td>\n",
       "      <td>-15.475251</td>\n",
       "      <td>28.075976</td>\n",
       "      <td>Resto</td>\n",
       "      <td>35.0</td>\n",
       "    </tr>\n",
       "    <tr>\n",
       "      <th>2024-10-31</th>\n",
       "      <td>Leishmania</td>\n",
       "      <td>Spain</td>\n",
       "      <td>Cádiz</td>\n",
       "      <td>11500.0</td>\n",
       "      <td>-6.241169</td>\n",
       "      <td>36.595153</td>\n",
       "      <td>Negativo</td>\n",
       "      <td>11.0</td>\n",
       "    </tr>\n",
       "    <tr>\n",
       "      <th>2024-10-31</th>\n",
       "      <td>Leishmania</td>\n",
       "      <td>Spain</td>\n",
       "      <td>Córdoba</td>\n",
       "      <td>14004.0</td>\n",
       "      <td>-4.793745</td>\n",
       "      <td>37.872509</td>\n",
       "      <td>Negativo</td>\n",
       "      <td>14.0</td>\n",
       "    </tr>\n",
       "    <tr>\n",
       "      <th>2024-10-31</th>\n",
       "      <td>Leishmania</td>\n",
       "      <td>Spain</td>\n",
       "      <td>Cádiz</td>\n",
       "      <td>11500.0</td>\n",
       "      <td>-6.241169</td>\n",
       "      <td>36.595153</td>\n",
       "      <td>Negativo</td>\n",
       "      <td>11.0</td>\n",
       "    </tr>\n",
       "    <tr>\n",
       "      <th>2024-10-31</th>\n",
       "      <td>Leishmania</td>\n",
       "      <td>Spain</td>\n",
       "      <td>Málaga</td>\n",
       "      <td>29651.0</td>\n",
       "      <td>-4.642556</td>\n",
       "      <td>36.545952</td>\n",
       "      <td>Negativo</td>\n",
       "      <td>29.0</td>\n",
       "    </tr>\n",
       "  </tbody>\n",
       "</table>\n",
       "<p>38653 rows × 8 columns</p>\n",
       "</div>"
      ],
      "text/plain": [
       "             Name test Country        City  Postal code   longitud    latitud  \\\n",
       "Date                                                                            \n",
       "2020-07-20  Leishmania   Spain   Barcelona       8520.0   2.294704  41.627626   \n",
       "2020-07-20  Leishmania   Spain   Barcelona       8520.0   2.295000  41.627454   \n",
       "2020-07-20  Leishmania   Spain   Barcelona       8520.0   2.294975  41.627452   \n",
       "2020-07-20  Leishmania   Spain   Barcelona       8520.0   2.295089  41.627480   \n",
       "2020-07-20  Leishmania   Spain   Barcelona       8520.0   2.295028  41.627465   \n",
       "...                ...     ...         ...          ...        ...        ...   \n",
       "2024-10-31  Leishmania   Spain  Las Palmas      35018.0 -15.475251  28.075976   \n",
       "2024-10-31  Leishmania   Spain       Cádiz      11500.0  -6.241169  36.595153   \n",
       "2024-10-31  Leishmania   Spain     Córdoba      14004.0  -4.793745  37.872509   \n",
       "2024-10-31  Leishmania   Spain       Cádiz      11500.0  -6.241169  36.595153   \n",
       "2024-10-31  Leishmania   Spain      Málaga      29651.0  -4.642556  36.545952   \n",
       "\n",
       "               Valor  Cod_prov  \n",
       "Date                            \n",
       "2020-07-20  Negativo       8.0  \n",
       "2020-07-20  Negativo       8.0  \n",
       "2020-07-20  Negativo       8.0  \n",
       "2020-07-20  Negativo       8.0  \n",
       "2020-07-20  Negativo       8.0  \n",
       "...              ...       ...  \n",
       "2024-10-31     Resto      35.0  \n",
       "2024-10-31  Negativo      11.0  \n",
       "2024-10-31  Negativo      14.0  \n",
       "2024-10-31  Negativo      11.0  \n",
       "2024-10-31  Negativo      29.0  \n",
       "\n",
       "[38653 rows x 8 columns]"
      ]
     },
     "execution_count": 32,
     "metadata": {},
     "output_type": "execute_result"
    }
   ],
   "source": [
    "# Solo Leishmania\n",
    "df = data_5[(data_5['Name test'] == 'Leishmania')].sort_index()\n",
    "df"
   ]
  },
  {
   "cell_type": "markdown",
   "metadata": {
    "id": "BAR3jghjHL1Q"
   },
   "source": [
    "Tasa diaria:"
   ]
  },
  {
   "cell_type": "code",
   "execution_count": 33,
   "metadata": {
    "colab": {
     "base_uri": "https://localhost:8080/",
     "height": 455
    },
    "executionInfo": {
     "elapsed": 117,
     "status": "ok",
     "timestamp": 1750152467553,
     "user": {
      "displayName": "Alejandro Gómez Martín",
      "userId": "11487793164505300730"
     },
     "user_tz": -120
    },
    "id": "bnxgrEiXHL1R",
    "outputId": "e8af88f7-868d-4fcb-d188-45fe515a1bf6"
   },
   "outputs": [
    {
     "data": {
      "text/html": [
       "<div>\n",
       "<style scoped>\n",
       "    .dataframe tbody tr th:only-of-type {\n",
       "        vertical-align: middle;\n",
       "    }\n",
       "\n",
       "    .dataframe tbody tr th {\n",
       "        vertical-align: top;\n",
       "    }\n",
       "\n",
       "    .dataframe thead th {\n",
       "        text-align: right;\n",
       "    }\n",
       "</style>\n",
       "<table border=\"1\" class=\"dataframe\">\n",
       "  <thead>\n",
       "    <tr style=\"text-align: right;\">\n",
       "      <th>Valor</th>\n",
       "      <th>Negativo</th>\n",
       "      <th>Positivo</th>\n",
       "      <th>Resto</th>\n",
       "      <th>total_controles</th>\n",
       "    </tr>\n",
       "    <tr>\n",
       "      <th>Date</th>\n",
       "      <th></th>\n",
       "      <th></th>\n",
       "      <th></th>\n",
       "      <th></th>\n",
       "    </tr>\n",
       "  </thead>\n",
       "  <tbody>\n",
       "    <tr>\n",
       "      <th>2020-07-20</th>\n",
       "      <td>8.0</td>\n",
       "      <td>0.0</td>\n",
       "      <td>0.0</td>\n",
       "      <td>8.0</td>\n",
       "    </tr>\n",
       "    <tr>\n",
       "      <th>2020-07-21</th>\n",
       "      <td>8.0</td>\n",
       "      <td>4.0</td>\n",
       "      <td>1.0</td>\n",
       "      <td>13.0</td>\n",
       "    </tr>\n",
       "    <tr>\n",
       "      <th>2020-07-22</th>\n",
       "      <td>0.0</td>\n",
       "      <td>2.0</td>\n",
       "      <td>1.0</td>\n",
       "      <td>3.0</td>\n",
       "    </tr>\n",
       "    <tr>\n",
       "      <th>2020-07-23</th>\n",
       "      <td>4.0</td>\n",
       "      <td>2.0</td>\n",
       "      <td>1.0</td>\n",
       "      <td>7.0</td>\n",
       "    </tr>\n",
       "    <tr>\n",
       "      <th>2020-07-29</th>\n",
       "      <td>2.0</td>\n",
       "      <td>0.0</td>\n",
       "      <td>0.0</td>\n",
       "      <td>2.0</td>\n",
       "    </tr>\n",
       "    <tr>\n",
       "      <th>...</th>\n",
       "      <td>...</td>\n",
       "      <td>...</td>\n",
       "      <td>...</td>\n",
       "      <td>...</td>\n",
       "    </tr>\n",
       "    <tr>\n",
       "      <th>2024-10-27</th>\n",
       "      <td>2.0</td>\n",
       "      <td>0.0</td>\n",
       "      <td>0.0</td>\n",
       "      <td>2.0</td>\n",
       "    </tr>\n",
       "    <tr>\n",
       "      <th>2024-10-28</th>\n",
       "      <td>66.0</td>\n",
       "      <td>4.0</td>\n",
       "      <td>1.0</td>\n",
       "      <td>71.0</td>\n",
       "    </tr>\n",
       "    <tr>\n",
       "      <th>2024-10-29</th>\n",
       "      <td>40.0</td>\n",
       "      <td>6.0</td>\n",
       "      <td>0.0</td>\n",
       "      <td>46.0</td>\n",
       "    </tr>\n",
       "    <tr>\n",
       "      <th>2024-10-30</th>\n",
       "      <td>49.0</td>\n",
       "      <td>4.0</td>\n",
       "      <td>3.0</td>\n",
       "      <td>56.0</td>\n",
       "    </tr>\n",
       "    <tr>\n",
       "      <th>2024-10-31</th>\n",
       "      <td>38.0</td>\n",
       "      <td>3.0</td>\n",
       "      <td>2.0</td>\n",
       "      <td>43.0</td>\n",
       "    </tr>\n",
       "  </tbody>\n",
       "</table>\n",
       "<p>1068 rows × 4 columns</p>\n",
       "</div>"
      ],
      "text/plain": [
       "Valor       Negativo  Positivo  Resto  total_controles\n",
       "Date                                                  \n",
       "2020-07-20       8.0       0.0    0.0              8.0\n",
       "2020-07-21       8.0       4.0    1.0             13.0\n",
       "2020-07-22       0.0       2.0    1.0              3.0\n",
       "2020-07-23       4.0       2.0    1.0              7.0\n",
       "2020-07-29       2.0       0.0    0.0              2.0\n",
       "...              ...       ...    ...              ...\n",
       "2024-10-27       2.0       0.0    0.0              2.0\n",
       "2024-10-28      66.0       4.0    1.0             71.0\n",
       "2024-10-29      40.0       6.0    0.0             46.0\n",
       "2024-10-30      49.0       4.0    3.0             56.0\n",
       "2024-10-31      38.0       3.0    2.0             43.0\n",
       "\n",
       "[1068 rows x 4 columns]"
      ]
     },
     "execution_count": 33,
     "metadata": {},
     "output_type": "execute_result"
    }
   ],
   "source": [
    "df_pivot = df.pivot_table(index= df.index, columns= 'Valor', values= 'Country', aggfunc=  'count').fillna(0)\n",
    "df_pivot['total_controles'] = df_pivot.sum(axis= 1)\n",
    "df_pivot"
   ]
  },
  {
   "cell_type": "code",
   "execution_count": 34,
   "metadata": {
    "colab": {
     "base_uri": "https://localhost:8080/",
     "height": 455
    },
    "executionInfo": {
     "elapsed": 101,
     "status": "ok",
     "timestamp": 1750152526937,
     "user": {
      "displayName": "Alejandro Gómez Martín",
      "userId": "11487793164505300730"
     },
     "user_tz": -120
    },
    "id": "v_iT4Y-lNPHP",
    "outputId": "8193e1d5-4c5b-487e-be88-64f510a96934"
   },
   "outputs": [
    {
     "data": {
      "text/html": [
       "<div>\n",
       "<style scoped>\n",
       "    .dataframe tbody tr th:only-of-type {\n",
       "        vertical-align: middle;\n",
       "    }\n",
       "\n",
       "    .dataframe tbody tr th {\n",
       "        vertical-align: top;\n",
       "    }\n",
       "\n",
       "    .dataframe thead th {\n",
       "        text-align: right;\n",
       "    }\n",
       "</style>\n",
       "<table border=\"1\" class=\"dataframe\">\n",
       "  <thead>\n",
       "    <tr style=\"text-align: right;\">\n",
       "      <th>Valor</th>\n",
       "      <th>Negativo</th>\n",
       "      <th>Positivo</th>\n",
       "      <th>Resto</th>\n",
       "      <th>total_controles</th>\n",
       "      <th>tasa_pos</th>\n",
       "    </tr>\n",
       "    <tr>\n",
       "      <th>Date</th>\n",
       "      <th></th>\n",
       "      <th></th>\n",
       "      <th></th>\n",
       "      <th></th>\n",
       "      <th></th>\n",
       "    </tr>\n",
       "  </thead>\n",
       "  <tbody>\n",
       "    <tr>\n",
       "      <th>2020-07-20</th>\n",
       "      <td>8.0</td>\n",
       "      <td>0.0</td>\n",
       "      <td>0.0</td>\n",
       "      <td>8.0</td>\n",
       "      <td>0.000000</td>\n",
       "    </tr>\n",
       "    <tr>\n",
       "      <th>2020-07-21</th>\n",
       "      <td>8.0</td>\n",
       "      <td>4.0</td>\n",
       "      <td>1.0</td>\n",
       "      <td>13.0</td>\n",
       "      <td>0.307692</td>\n",
       "    </tr>\n",
       "    <tr>\n",
       "      <th>2020-07-22</th>\n",
       "      <td>0.0</td>\n",
       "      <td>2.0</td>\n",
       "      <td>1.0</td>\n",
       "      <td>3.0</td>\n",
       "      <td>0.666667</td>\n",
       "    </tr>\n",
       "    <tr>\n",
       "      <th>2020-07-23</th>\n",
       "      <td>4.0</td>\n",
       "      <td>2.0</td>\n",
       "      <td>1.0</td>\n",
       "      <td>7.0</td>\n",
       "      <td>0.285714</td>\n",
       "    </tr>\n",
       "    <tr>\n",
       "      <th>2020-07-29</th>\n",
       "      <td>2.0</td>\n",
       "      <td>0.0</td>\n",
       "      <td>0.0</td>\n",
       "      <td>2.0</td>\n",
       "      <td>0.000000</td>\n",
       "    </tr>\n",
       "    <tr>\n",
       "      <th>...</th>\n",
       "      <td>...</td>\n",
       "      <td>...</td>\n",
       "      <td>...</td>\n",
       "      <td>...</td>\n",
       "      <td>...</td>\n",
       "    </tr>\n",
       "    <tr>\n",
       "      <th>2024-10-27</th>\n",
       "      <td>2.0</td>\n",
       "      <td>0.0</td>\n",
       "      <td>0.0</td>\n",
       "      <td>2.0</td>\n",
       "      <td>0.000000</td>\n",
       "    </tr>\n",
       "    <tr>\n",
       "      <th>2024-10-28</th>\n",
       "      <td>66.0</td>\n",
       "      <td>4.0</td>\n",
       "      <td>1.0</td>\n",
       "      <td>71.0</td>\n",
       "      <td>0.056338</td>\n",
       "    </tr>\n",
       "    <tr>\n",
       "      <th>2024-10-29</th>\n",
       "      <td>40.0</td>\n",
       "      <td>6.0</td>\n",
       "      <td>0.0</td>\n",
       "      <td>46.0</td>\n",
       "      <td>0.130435</td>\n",
       "    </tr>\n",
       "    <tr>\n",
       "      <th>2024-10-30</th>\n",
       "      <td>49.0</td>\n",
       "      <td>4.0</td>\n",
       "      <td>3.0</td>\n",
       "      <td>56.0</td>\n",
       "      <td>0.071429</td>\n",
       "    </tr>\n",
       "    <tr>\n",
       "      <th>2024-10-31</th>\n",
       "      <td>38.0</td>\n",
       "      <td>3.0</td>\n",
       "      <td>2.0</td>\n",
       "      <td>43.0</td>\n",
       "      <td>0.069767</td>\n",
       "    </tr>\n",
       "  </tbody>\n",
       "</table>\n",
       "<p>1068 rows × 5 columns</p>\n",
       "</div>"
      ],
      "text/plain": [
       "Valor       Negativo  Positivo  Resto  total_controles  tasa_pos\n",
       "Date                                                            \n",
       "2020-07-20       8.0       0.0    0.0              8.0  0.000000\n",
       "2020-07-21       8.0       4.0    1.0             13.0  0.307692\n",
       "2020-07-22       0.0       2.0    1.0              3.0  0.666667\n",
       "2020-07-23       4.0       2.0    1.0              7.0  0.285714\n",
       "2020-07-29       2.0       0.0    0.0              2.0  0.000000\n",
       "...              ...       ...    ...              ...       ...\n",
       "2024-10-27       2.0       0.0    0.0              2.0  0.000000\n",
       "2024-10-28      66.0       4.0    1.0             71.0  0.056338\n",
       "2024-10-29      40.0       6.0    0.0             46.0  0.130435\n",
       "2024-10-30      49.0       4.0    3.0             56.0  0.071429\n",
       "2024-10-31      38.0       3.0    2.0             43.0  0.069767\n",
       "\n",
       "[1068 rows x 5 columns]"
      ]
     },
     "execution_count": 34,
     "metadata": {},
     "output_type": "execute_result"
    }
   ],
   "source": [
    "# Tasa positivos diario\n",
    "df_pivot['tasa_pos'] = df_pivot['Positivo'] / df_pivot['total_controles']\n",
    "df_day = df_pivot.copy()\n",
    "df_day"
   ]
  },
  {
   "cell_type": "markdown",
   "metadata": {
    "id": "FoyH-cIZHL1S"
   },
   "source": [
    "Tasa semanal:"
   ]
  },
  {
   "cell_type": "code",
   "execution_count": 35,
   "metadata": {
    "id": "24AOzRA-HL1S",
    "outputId": "167a6824-6f01-4c41-86bb-556c71434bd4"
   },
   "outputs": [
    {
     "data": {
      "text/html": [
       "<div>\n",
       "<style scoped>\n",
       "    .dataframe tbody tr th:only-of-type {\n",
       "        vertical-align: middle;\n",
       "    }\n",
       "\n",
       "    .dataframe tbody tr th {\n",
       "        vertical-align: top;\n",
       "    }\n",
       "\n",
       "    .dataframe thead th {\n",
       "        text-align: right;\n",
       "    }\n",
       "</style>\n",
       "<table border=\"1\" class=\"dataframe\">\n",
       "  <thead>\n",
       "    <tr style=\"text-align: right;\">\n",
       "      <th>Valor</th>\n",
       "      <th>Negativo</th>\n",
       "      <th>Positivo</th>\n",
       "      <th>Resto</th>\n",
       "      <th>total_controles</th>\n",
       "      <th>tasa_pos</th>\n",
       "    </tr>\n",
       "    <tr>\n",
       "      <th>Date</th>\n",
       "      <th></th>\n",
       "      <th></th>\n",
       "      <th></th>\n",
       "      <th></th>\n",
       "      <th></th>\n",
       "    </tr>\n",
       "  </thead>\n",
       "  <tbody>\n",
       "    <tr>\n",
       "      <th>2020-07-26</th>\n",
       "      <td>20.0</td>\n",
       "      <td>8.0</td>\n",
       "      <td>3.0</td>\n",
       "      <td>31.0</td>\n",
       "      <td>0.258065</td>\n",
       "    </tr>\n",
       "    <tr>\n",
       "      <th>2020-08-02</th>\n",
       "      <td>2.0</td>\n",
       "      <td>0.0</td>\n",
       "      <td>2.0</td>\n",
       "      <td>4.0</td>\n",
       "      <td>0.000000</td>\n",
       "    </tr>\n",
       "    <tr>\n",
       "      <th>2020-08-09</th>\n",
       "      <td>3.0</td>\n",
       "      <td>1.0</td>\n",
       "      <td>8.0</td>\n",
       "      <td>12.0</td>\n",
       "      <td>0.083333</td>\n",
       "    </tr>\n",
       "    <tr>\n",
       "      <th>2020-08-30</th>\n",
       "      <td>0.0</td>\n",
       "      <td>0.0</td>\n",
       "      <td>4.0</td>\n",
       "      <td>4.0</td>\n",
       "      <td>0.000000</td>\n",
       "    </tr>\n",
       "    <tr>\n",
       "      <th>2020-09-06</th>\n",
       "      <td>1.0</td>\n",
       "      <td>3.0</td>\n",
       "      <td>0.0</td>\n",
       "      <td>4.0</td>\n",
       "      <td>0.750000</td>\n",
       "    </tr>\n",
       "    <tr>\n",
       "      <th>...</th>\n",
       "      <td>...</td>\n",
       "      <td>...</td>\n",
       "      <td>...</td>\n",
       "      <td>...</td>\n",
       "      <td>...</td>\n",
       "    </tr>\n",
       "    <tr>\n",
       "      <th>2024-10-06</th>\n",
       "      <td>309.0</td>\n",
       "      <td>28.0</td>\n",
       "      <td>8.0</td>\n",
       "      <td>345.0</td>\n",
       "      <td>0.081159</td>\n",
       "    </tr>\n",
       "    <tr>\n",
       "      <th>2024-10-13</th>\n",
       "      <td>260.0</td>\n",
       "      <td>25.0</td>\n",
       "      <td>4.0</td>\n",
       "      <td>289.0</td>\n",
       "      <td>0.086505</td>\n",
       "    </tr>\n",
       "    <tr>\n",
       "      <th>2024-10-20</th>\n",
       "      <td>275.0</td>\n",
       "      <td>26.0</td>\n",
       "      <td>7.0</td>\n",
       "      <td>308.0</td>\n",
       "      <td>0.084416</td>\n",
       "    </tr>\n",
       "    <tr>\n",
       "      <th>2024-10-27</th>\n",
       "      <td>271.0</td>\n",
       "      <td>29.0</td>\n",
       "      <td>4.0</td>\n",
       "      <td>304.0</td>\n",
       "      <td>0.095395</td>\n",
       "    </tr>\n",
       "    <tr>\n",
       "      <th>2024-11-03</th>\n",
       "      <td>193.0</td>\n",
       "      <td>17.0</td>\n",
       "      <td>6.0</td>\n",
       "      <td>216.0</td>\n",
       "      <td>0.078704</td>\n",
       "    </tr>\n",
       "  </tbody>\n",
       "</table>\n",
       "<p>188 rows × 5 columns</p>\n",
       "</div>"
      ],
      "text/plain": [
       "Valor       Negativo  Positivo  Resto  total_controles  tasa_pos\n",
       "Date                                                            \n",
       "2020-07-26      20.0       8.0    3.0             31.0  0.258065\n",
       "2020-08-02       2.0       0.0    2.0              4.0  0.000000\n",
       "2020-08-09       3.0       1.0    8.0             12.0  0.083333\n",
       "2020-08-30       0.0       0.0    4.0              4.0  0.000000\n",
       "2020-09-06       1.0       3.0    0.0              4.0  0.750000\n",
       "...              ...       ...    ...              ...       ...\n",
       "2024-10-06     309.0      28.0    8.0            345.0  0.081159\n",
       "2024-10-13     260.0      25.0    4.0            289.0  0.086505\n",
       "2024-10-20     275.0      26.0    7.0            308.0  0.084416\n",
       "2024-10-27     271.0      29.0    4.0            304.0  0.095395\n",
       "2024-11-03     193.0      17.0    6.0            216.0  0.078704\n",
       "\n",
       "[188 rows x 5 columns]"
      ]
     },
     "execution_count": 35,
     "metadata": {},
     "output_type": "execute_result"
    }
   ],
   "source": [
    "df['year'] = df.index.year\n",
    "week = df.groupby([ pd.Grouper(freq = 'W'), 'Valor']).Country.count().unstack().fillna(0)\n",
    "week['total_controles'] = week.sum(axis= 1)\n",
    "week['tasa_pos'] = week['Positivo'] / week['total_controles']\n",
    "df_week = week.copy()\n",
    "df_week"
   ]
  },
  {
   "cell_type": "markdown",
   "metadata": {
    "id": "2x-j-nmuHL1S"
   },
   "source": [
    "Tasa mensual:"
   ]
  },
  {
   "cell_type": "code",
   "execution_count": 36,
   "metadata": {
    "colab": {
     "base_uri": "https://localhost:8080/",
     "height": 216
    },
    "executionInfo": {
     "elapsed": 83,
     "status": "error",
     "timestamp": 1750172315686,
     "user": {
      "displayName": "Alejandro Gómez Martín",
      "userId": "11487793164505300730"
     },
     "user_tz": -120
    },
    "id": "pmbGRlNsHL1T",
    "outputId": "8a2d876f-5802-48f7-990d-a3e5317dde14"
   },
   "outputs": [
    {
     "data": {
      "text/html": [
       "<div>\n",
       "<style scoped>\n",
       "    .dataframe tbody tr th:only-of-type {\n",
       "        vertical-align: middle;\n",
       "    }\n",
       "\n",
       "    .dataframe tbody tr th {\n",
       "        vertical-align: top;\n",
       "    }\n",
       "\n",
       "    .dataframe thead th {\n",
       "        text-align: right;\n",
       "    }\n",
       "</style>\n",
       "<table border=\"1\" class=\"dataframe\">\n",
       "  <thead>\n",
       "    <tr style=\"text-align: right;\">\n",
       "      <th>Valor</th>\n",
       "      <th>Negativo</th>\n",
       "      <th>Positivo</th>\n",
       "      <th>Resto</th>\n",
       "      <th>total_controles</th>\n",
       "      <th>tasa_pos</th>\n",
       "    </tr>\n",
       "    <tr>\n",
       "      <th>Date</th>\n",
       "      <th></th>\n",
       "      <th></th>\n",
       "      <th></th>\n",
       "      <th></th>\n",
       "      <th></th>\n",
       "    </tr>\n",
       "  </thead>\n",
       "  <tbody>\n",
       "    <tr>\n",
       "      <th>2020-07-01</th>\n",
       "      <td>22.0</td>\n",
       "      <td>8.0</td>\n",
       "      <td>5.0</td>\n",
       "      <td>35.0</td>\n",
       "      <td>0.228571</td>\n",
       "    </tr>\n",
       "    <tr>\n",
       "      <th>2020-08-01</th>\n",
       "      <td>3.0</td>\n",
       "      <td>1.0</td>\n",
       "      <td>12.0</td>\n",
       "      <td>16.0</td>\n",
       "      <td>0.062500</td>\n",
       "    </tr>\n",
       "    <tr>\n",
       "      <th>2020-09-01</th>\n",
       "      <td>46.0</td>\n",
       "      <td>3.0</td>\n",
       "      <td>1.0</td>\n",
       "      <td>50.0</td>\n",
       "      <td>0.060000</td>\n",
       "    </tr>\n",
       "    <tr>\n",
       "      <th>2020-10-01</th>\n",
       "      <td>9.0</td>\n",
       "      <td>0.0</td>\n",
       "      <td>0.0</td>\n",
       "      <td>9.0</td>\n",
       "      <td>0.000000</td>\n",
       "    </tr>\n",
       "    <tr>\n",
       "      <th>2020-11-01</th>\n",
       "      <td>12.0</td>\n",
       "      <td>0.0</td>\n",
       "      <td>0.0</td>\n",
       "      <td>12.0</td>\n",
       "      <td>0.000000</td>\n",
       "    </tr>\n",
       "    <tr>\n",
       "      <th>2020-12-01</th>\n",
       "      <td>10.0</td>\n",
       "      <td>0.0</td>\n",
       "      <td>0.0</td>\n",
       "      <td>10.0</td>\n",
       "      <td>0.000000</td>\n",
       "    </tr>\n",
       "    <tr>\n",
       "      <th>2021-01-01</th>\n",
       "      <td>0.0</td>\n",
       "      <td>1.0</td>\n",
       "      <td>0.0</td>\n",
       "      <td>1.0</td>\n",
       "      <td>1.000000</td>\n",
       "    </tr>\n",
       "    <tr>\n",
       "      <th>2021-02-01</th>\n",
       "      <td>3.0</td>\n",
       "      <td>1.0</td>\n",
       "      <td>0.0</td>\n",
       "      <td>4.0</td>\n",
       "      <td>0.250000</td>\n",
       "    </tr>\n",
       "    <tr>\n",
       "      <th>2021-04-01</th>\n",
       "      <td>0.0</td>\n",
       "      <td>3.0</td>\n",
       "      <td>0.0</td>\n",
       "      <td>3.0</td>\n",
       "      <td>1.000000</td>\n",
       "    </tr>\n",
       "    <tr>\n",
       "      <th>2021-05-01</th>\n",
       "      <td>4.0</td>\n",
       "      <td>5.0</td>\n",
       "      <td>0.0</td>\n",
       "      <td>9.0</td>\n",
       "      <td>0.555556</td>\n",
       "    </tr>\n",
       "    <tr>\n",
       "      <th>2021-07-01</th>\n",
       "      <td>24.0</td>\n",
       "      <td>11.0</td>\n",
       "      <td>2.0</td>\n",
       "      <td>37.0</td>\n",
       "      <td>0.297297</td>\n",
       "    </tr>\n",
       "    <tr>\n",
       "      <th>2021-08-01</th>\n",
       "      <td>17.0</td>\n",
       "      <td>13.0</td>\n",
       "      <td>1.0</td>\n",
       "      <td>31.0</td>\n",
       "      <td>0.419355</td>\n",
       "    </tr>\n",
       "    <tr>\n",
       "      <th>2021-09-01</th>\n",
       "      <td>81.0</td>\n",
       "      <td>38.0</td>\n",
       "      <td>6.0</td>\n",
       "      <td>125.0</td>\n",
       "      <td>0.304000</td>\n",
       "    </tr>\n",
       "    <tr>\n",
       "      <th>2021-10-01</th>\n",
       "      <td>181.0</td>\n",
       "      <td>47.0</td>\n",
       "      <td>7.0</td>\n",
       "      <td>235.0</td>\n",
       "      <td>0.200000</td>\n",
       "    </tr>\n",
       "    <tr>\n",
       "      <th>2021-11-01</th>\n",
       "      <td>309.0</td>\n",
       "      <td>61.0</td>\n",
       "      <td>24.0</td>\n",
       "      <td>394.0</td>\n",
       "      <td>0.154822</td>\n",
       "    </tr>\n",
       "    <tr>\n",
       "      <th>2021-12-01</th>\n",
       "      <td>282.0</td>\n",
       "      <td>70.0</td>\n",
       "      <td>12.0</td>\n",
       "      <td>364.0</td>\n",
       "      <td>0.192308</td>\n",
       "    </tr>\n",
       "    <tr>\n",
       "      <th>2022-01-01</th>\n",
       "      <td>395.0</td>\n",
       "      <td>61.0</td>\n",
       "      <td>42.0</td>\n",
       "      <td>498.0</td>\n",
       "      <td>0.122490</td>\n",
       "    </tr>\n",
       "    <tr>\n",
       "      <th>2022-02-01</th>\n",
       "      <td>647.0</td>\n",
       "      <td>89.0</td>\n",
       "      <td>41.0</td>\n",
       "      <td>777.0</td>\n",
       "      <td>0.114543</td>\n",
       "    </tr>\n",
       "    <tr>\n",
       "      <th>2022-03-01</th>\n",
       "      <td>756.0</td>\n",
       "      <td>101.0</td>\n",
       "      <td>153.0</td>\n",
       "      <td>1010.0</td>\n",
       "      <td>0.100000</td>\n",
       "    </tr>\n",
       "    <tr>\n",
       "      <th>2022-04-01</th>\n",
       "      <td>842.0</td>\n",
       "      <td>121.0</td>\n",
       "      <td>28.0</td>\n",
       "      <td>991.0</td>\n",
       "      <td>0.122099</td>\n",
       "    </tr>\n",
       "    <tr>\n",
       "      <th>2022-05-01</th>\n",
       "      <td>1137.0</td>\n",
       "      <td>174.0</td>\n",
       "      <td>51.0</td>\n",
       "      <td>1362.0</td>\n",
       "      <td>0.127753</td>\n",
       "    </tr>\n",
       "    <tr>\n",
       "      <th>2022-06-01</th>\n",
       "      <td>1244.0</td>\n",
       "      <td>154.0</td>\n",
       "      <td>34.0</td>\n",
       "      <td>1432.0</td>\n",
       "      <td>0.107542</td>\n",
       "    </tr>\n",
       "    <tr>\n",
       "      <th>2022-07-01</th>\n",
       "      <td>948.0</td>\n",
       "      <td>134.0</td>\n",
       "      <td>29.0</td>\n",
       "      <td>1111.0</td>\n",
       "      <td>0.120612</td>\n",
       "    </tr>\n",
       "    <tr>\n",
       "      <th>2022-08-01</th>\n",
       "      <td>548.0</td>\n",
       "      <td>62.0</td>\n",
       "      <td>10.0</td>\n",
       "      <td>620.0</td>\n",
       "      <td>0.100000</td>\n",
       "    </tr>\n",
       "    <tr>\n",
       "      <th>2022-09-01</th>\n",
       "      <td>595.0</td>\n",
       "      <td>85.0</td>\n",
       "      <td>12.0</td>\n",
       "      <td>692.0</td>\n",
       "      <td>0.122832</td>\n",
       "    </tr>\n",
       "    <tr>\n",
       "      <th>2022-10-01</th>\n",
       "      <td>636.0</td>\n",
       "      <td>105.0</td>\n",
       "      <td>16.0</td>\n",
       "      <td>757.0</td>\n",
       "      <td>0.138705</td>\n",
       "    </tr>\n",
       "    <tr>\n",
       "      <th>2022-11-01</th>\n",
       "      <td>621.0</td>\n",
       "      <td>72.0</td>\n",
       "      <td>11.0</td>\n",
       "      <td>704.0</td>\n",
       "      <td>0.102273</td>\n",
       "    </tr>\n",
       "    <tr>\n",
       "      <th>2022-12-01</th>\n",
       "      <td>718.0</td>\n",
       "      <td>117.0</td>\n",
       "      <td>32.0</td>\n",
       "      <td>867.0</td>\n",
       "      <td>0.134948</td>\n",
       "    </tr>\n",
       "    <tr>\n",
       "      <th>2023-01-01</th>\n",
       "      <td>918.0</td>\n",
       "      <td>98.0</td>\n",
       "      <td>24.0</td>\n",
       "      <td>1040.0</td>\n",
       "      <td>0.094231</td>\n",
       "    </tr>\n",
       "    <tr>\n",
       "      <th>2023-02-01</th>\n",
       "      <td>1197.0</td>\n",
       "      <td>112.0</td>\n",
       "      <td>41.0</td>\n",
       "      <td>1350.0</td>\n",
       "      <td>0.082963</td>\n",
       "    </tr>\n",
       "    <tr>\n",
       "      <th>2023-03-01</th>\n",
       "      <td>1783.0</td>\n",
       "      <td>162.0</td>\n",
       "      <td>107.0</td>\n",
       "      <td>2052.0</td>\n",
       "      <td>0.078947</td>\n",
       "    </tr>\n",
       "    <tr>\n",
       "      <th>2023-04-01</th>\n",
       "      <td>1657.0</td>\n",
       "      <td>149.0</td>\n",
       "      <td>44.0</td>\n",
       "      <td>1850.0</td>\n",
       "      <td>0.080541</td>\n",
       "    </tr>\n",
       "    <tr>\n",
       "      <th>2023-05-01</th>\n",
       "      <td>1814.0</td>\n",
       "      <td>168.0</td>\n",
       "      <td>28.0</td>\n",
       "      <td>2010.0</td>\n",
       "      <td>0.083582</td>\n",
       "    </tr>\n",
       "    <tr>\n",
       "      <th>2023-06-01</th>\n",
       "      <td>1843.0</td>\n",
       "      <td>129.0</td>\n",
       "      <td>28.0</td>\n",
       "      <td>2000.0</td>\n",
       "      <td>0.064500</td>\n",
       "    </tr>\n",
       "    <tr>\n",
       "      <th>2023-07-01</th>\n",
       "      <td>1312.0</td>\n",
       "      <td>120.0</td>\n",
       "      <td>23.0</td>\n",
       "      <td>1455.0</td>\n",
       "      <td>0.082474</td>\n",
       "    </tr>\n",
       "    <tr>\n",
       "      <th>2023-08-01</th>\n",
       "      <td>944.0</td>\n",
       "      <td>134.0</td>\n",
       "      <td>22.0</td>\n",
       "      <td>1100.0</td>\n",
       "      <td>0.121818</td>\n",
       "    </tr>\n",
       "    <tr>\n",
       "      <th>2023-09-01</th>\n",
       "      <td>772.0</td>\n",
       "      <td>85.0</td>\n",
       "      <td>27.0</td>\n",
       "      <td>884.0</td>\n",
       "      <td>0.096154</td>\n",
       "    </tr>\n",
       "    <tr>\n",
       "      <th>2023-10-01</th>\n",
       "      <td>879.0</td>\n",
       "      <td>101.0</td>\n",
       "      <td>31.0</td>\n",
       "      <td>1011.0</td>\n",
       "      <td>0.099901</td>\n",
       "    </tr>\n",
       "    <tr>\n",
       "      <th>2023-11-01</th>\n",
       "      <td>835.0</td>\n",
       "      <td>109.0</td>\n",
       "      <td>21.0</td>\n",
       "      <td>965.0</td>\n",
       "      <td>0.112953</td>\n",
       "    </tr>\n",
       "    <tr>\n",
       "      <th>2023-12-01</th>\n",
       "      <td>216.0</td>\n",
       "      <td>35.0</td>\n",
       "      <td>6.0</td>\n",
       "      <td>257.0</td>\n",
       "      <td>0.136187</td>\n",
       "    </tr>\n",
       "    <tr>\n",
       "      <th>2024-01-01</th>\n",
       "      <td>130.0</td>\n",
       "      <td>31.0</td>\n",
       "      <td>6.0</td>\n",
       "      <td>167.0</td>\n",
       "      <td>0.185629</td>\n",
       "    </tr>\n",
       "    <tr>\n",
       "      <th>2024-02-01</th>\n",
       "      <td>134.0</td>\n",
       "      <td>30.0</td>\n",
       "      <td>2.0</td>\n",
       "      <td>166.0</td>\n",
       "      <td>0.180723</td>\n",
       "    </tr>\n",
       "    <tr>\n",
       "      <th>2024-03-01</th>\n",
       "      <td>177.0</td>\n",
       "      <td>17.0</td>\n",
       "      <td>24.0</td>\n",
       "      <td>218.0</td>\n",
       "      <td>0.077982</td>\n",
       "    </tr>\n",
       "    <tr>\n",
       "      <th>2024-04-01</th>\n",
       "      <td>30.0</td>\n",
       "      <td>1.0</td>\n",
       "      <td>0.0</td>\n",
       "      <td>31.0</td>\n",
       "      <td>0.032258</td>\n",
       "    </tr>\n",
       "    <tr>\n",
       "      <th>2024-05-01</th>\n",
       "      <td>1645.0</td>\n",
       "      <td>119.0</td>\n",
       "      <td>47.0</td>\n",
       "      <td>1811.0</td>\n",
       "      <td>0.065710</td>\n",
       "    </tr>\n",
       "    <tr>\n",
       "      <th>2024-06-01</th>\n",
       "      <td>2005.0</td>\n",
       "      <td>128.0</td>\n",
       "      <td>46.0</td>\n",
       "      <td>2179.0</td>\n",
       "      <td>0.058743</td>\n",
       "    </tr>\n",
       "    <tr>\n",
       "      <th>2024-07-01</th>\n",
       "      <td>1751.0</td>\n",
       "      <td>128.0</td>\n",
       "      <td>48.0</td>\n",
       "      <td>1927.0</td>\n",
       "      <td>0.066424</td>\n",
       "    </tr>\n",
       "    <tr>\n",
       "      <th>2024-08-01</th>\n",
       "      <td>1149.0</td>\n",
       "      <td>125.0</td>\n",
       "      <td>36.0</td>\n",
       "      <td>1310.0</td>\n",
       "      <td>0.095420</td>\n",
       "    </tr>\n",
       "    <tr>\n",
       "      <th>2024-09-01</th>\n",
       "      <td>1153.0</td>\n",
       "      <td>108.0</td>\n",
       "      <td>35.0</td>\n",
       "      <td>1296.0</td>\n",
       "      <td>0.083333</td>\n",
       "    </tr>\n",
       "    <tr>\n",
       "      <th>2024-10-01</th>\n",
       "      <td>1271.0</td>\n",
       "      <td>119.0</td>\n",
       "      <td>28.0</td>\n",
       "      <td>1418.0</td>\n",
       "      <td>0.083921</td>\n",
       "    </tr>\n",
       "  </tbody>\n",
       "</table>\n",
       "</div>"
      ],
      "text/plain": [
       "Valor       Negativo  Positivo  Resto  total_controles  tasa_pos\n",
       "Date                                                            \n",
       "2020-07-01      22.0       8.0    5.0             35.0  0.228571\n",
       "2020-08-01       3.0       1.0   12.0             16.0  0.062500\n",
       "2020-09-01      46.0       3.0    1.0             50.0  0.060000\n",
       "2020-10-01       9.0       0.0    0.0              9.0  0.000000\n",
       "2020-11-01      12.0       0.0    0.0             12.0  0.000000\n",
       "2020-12-01      10.0       0.0    0.0             10.0  0.000000\n",
       "2021-01-01       0.0       1.0    0.0              1.0  1.000000\n",
       "2021-02-01       3.0       1.0    0.0              4.0  0.250000\n",
       "2021-04-01       0.0       3.0    0.0              3.0  1.000000\n",
       "2021-05-01       4.0       5.0    0.0              9.0  0.555556\n",
       "2021-07-01      24.0      11.0    2.0             37.0  0.297297\n",
       "2021-08-01      17.0      13.0    1.0             31.0  0.419355\n",
       "2021-09-01      81.0      38.0    6.0            125.0  0.304000\n",
       "2021-10-01     181.0      47.0    7.0            235.0  0.200000\n",
       "2021-11-01     309.0      61.0   24.0            394.0  0.154822\n",
       "2021-12-01     282.0      70.0   12.0            364.0  0.192308\n",
       "2022-01-01     395.0      61.0   42.0            498.0  0.122490\n",
       "2022-02-01     647.0      89.0   41.0            777.0  0.114543\n",
       "2022-03-01     756.0     101.0  153.0           1010.0  0.100000\n",
       "2022-04-01     842.0     121.0   28.0            991.0  0.122099\n",
       "2022-05-01    1137.0     174.0   51.0           1362.0  0.127753\n",
       "2022-06-01    1244.0     154.0   34.0           1432.0  0.107542\n",
       "2022-07-01     948.0     134.0   29.0           1111.0  0.120612\n",
       "2022-08-01     548.0      62.0   10.0            620.0  0.100000\n",
       "2022-09-01     595.0      85.0   12.0            692.0  0.122832\n",
       "2022-10-01     636.0     105.0   16.0            757.0  0.138705\n",
       "2022-11-01     621.0      72.0   11.0            704.0  0.102273\n",
       "2022-12-01     718.0     117.0   32.0            867.0  0.134948\n",
       "2023-01-01     918.0      98.0   24.0           1040.0  0.094231\n",
       "2023-02-01    1197.0     112.0   41.0           1350.0  0.082963\n",
       "2023-03-01    1783.0     162.0  107.0           2052.0  0.078947\n",
       "2023-04-01    1657.0     149.0   44.0           1850.0  0.080541\n",
       "2023-05-01    1814.0     168.0   28.0           2010.0  0.083582\n",
       "2023-06-01    1843.0     129.0   28.0           2000.0  0.064500\n",
       "2023-07-01    1312.0     120.0   23.0           1455.0  0.082474\n",
       "2023-08-01     944.0     134.0   22.0           1100.0  0.121818\n",
       "2023-09-01     772.0      85.0   27.0            884.0  0.096154\n",
       "2023-10-01     879.0     101.0   31.0           1011.0  0.099901\n",
       "2023-11-01     835.0     109.0   21.0            965.0  0.112953\n",
       "2023-12-01     216.0      35.0    6.0            257.0  0.136187\n",
       "2024-01-01     130.0      31.0    6.0            167.0  0.185629\n",
       "2024-02-01     134.0      30.0    2.0            166.0  0.180723\n",
       "2024-03-01     177.0      17.0   24.0            218.0  0.077982\n",
       "2024-04-01      30.0       1.0    0.0             31.0  0.032258\n",
       "2024-05-01    1645.0     119.0   47.0           1811.0  0.065710\n",
       "2024-06-01    2005.0     128.0   46.0           2179.0  0.058743\n",
       "2024-07-01    1751.0     128.0   48.0           1927.0  0.066424\n",
       "2024-08-01    1149.0     125.0   36.0           1310.0  0.095420\n",
       "2024-09-01    1153.0     108.0   35.0           1296.0  0.083333\n",
       "2024-10-01    1271.0     119.0   28.0           1418.0  0.083921"
      ]
     },
     "execution_count": 36,
     "metadata": {},
     "output_type": "execute_result"
    }
   ],
   "source": [
    "df['year'] = df.index.year\n",
    "month = df.groupby([ pd.Grouper(freq = 'MS'), 'Valor']).Country.count().unstack().fillna(0)\n",
    "month['total_controles'] = month.sum(axis= 1)\n",
    "month['tasa_pos'] = month['Positivo'] / month['total_controles']\n",
    "df_month = month.copy()\n",
    "df_month"
   ]
  },
  {
   "cell_type": "markdown",
   "metadata": {
    "id": "reKdA6JMHL1T"
   },
   "source": [
    "## Análisis de la tasa semanal\n",
    "Igual que en el estudio de numero de casos totales, se analiza la tasa semanal de positivos agrupando los datos por semana para identificar patrones de tendencia y estacionalidad."
   ]
  },
  {
   "cell_type": "code",
   "execution_count": 37,
   "metadata": {
    "id": "m6tFFohrHL1U",
    "outputId": "1a0d3329-9371-452f-d29e-abef82e0ef2b"
   },
   "outputs": [
    {
     "data": {
      "text/html": [
       "<div>\n",
       "<style scoped>\n",
       "    .dataframe tbody tr th:only-of-type {\n",
       "        vertical-align: middle;\n",
       "    }\n",
       "\n",
       "    .dataframe tbody tr th {\n",
       "        vertical-align: top;\n",
       "    }\n",
       "\n",
       "    .dataframe thead th {\n",
       "        text-align: right;\n",
       "    }\n",
       "</style>\n",
       "<table border=\"1\" class=\"dataframe\">\n",
       "  <thead>\n",
       "    <tr style=\"text-align: right;\">\n",
       "      <th>Valor</th>\n",
       "      <th>Negativo</th>\n",
       "      <th>Positivo</th>\n",
       "      <th>Resto</th>\n",
       "      <th>total_controles</th>\n",
       "      <th>tasa_pos</th>\n",
       "      <th>year</th>\n",
       "      <th>week</th>\n",
       "    </tr>\n",
       "    <tr>\n",
       "      <th>Date</th>\n",
       "      <th></th>\n",
       "      <th></th>\n",
       "      <th></th>\n",
       "      <th></th>\n",
       "      <th></th>\n",
       "      <th></th>\n",
       "      <th></th>\n",
       "    </tr>\n",
       "  </thead>\n",
       "  <tbody>\n",
       "    <tr>\n",
       "      <th>2023-12-03</th>\n",
       "      <td>166.0</td>\n",
       "      <td>23.0</td>\n",
       "      <td>2.0</td>\n",
       "      <td>191.0</td>\n",
       "      <td>0.120419</td>\n",
       "      <td>2023</td>\n",
       "      <td>48</td>\n",
       "    </tr>\n",
       "    <tr>\n",
       "      <th>2023-12-10</th>\n",
       "      <td>89.0</td>\n",
       "      <td>22.0</td>\n",
       "      <td>4.0</td>\n",
       "      <td>115.0</td>\n",
       "      <td>0.191304</td>\n",
       "      <td>2023</td>\n",
       "      <td>49</td>\n",
       "    </tr>\n",
       "    <tr>\n",
       "      <th>2023-12-17</th>\n",
       "      <td>41.0</td>\n",
       "      <td>4.0</td>\n",
       "      <td>0.0</td>\n",
       "      <td>45.0</td>\n",
       "      <td>0.088889</td>\n",
       "      <td>2023</td>\n",
       "      <td>50</td>\n",
       "    </tr>\n",
       "    <tr>\n",
       "      <th>2023-12-24</th>\n",
       "      <td>26.0</td>\n",
       "      <td>2.0</td>\n",
       "      <td>1.0</td>\n",
       "      <td>29.0</td>\n",
       "      <td>0.068966</td>\n",
       "      <td>2023</td>\n",
       "      <td>51</td>\n",
       "    </tr>\n",
       "    <tr>\n",
       "      <th>2023-12-31</th>\n",
       "      <td>19.0</td>\n",
       "      <td>2.0</td>\n",
       "      <td>0.0</td>\n",
       "      <td>21.0</td>\n",
       "      <td>0.095238</td>\n",
       "      <td>2023</td>\n",
       "      <td>52</td>\n",
       "    </tr>\n",
       "  </tbody>\n",
       "</table>\n",
       "</div>"
      ],
      "text/plain": [
       "Valor       Negativo  Positivo  Resto  total_controles  tasa_pos  year  week\n",
       "Date                                                                        \n",
       "2023-12-03     166.0      23.0    2.0            191.0  0.120419  2023    48\n",
       "2023-12-10      89.0      22.0    4.0            115.0  0.191304  2023    49\n",
       "2023-12-17      41.0       4.0    0.0             45.0  0.088889  2023    50\n",
       "2023-12-24      26.0       2.0    1.0             29.0  0.068966  2023    51\n",
       "2023-12-31      19.0       2.0    0.0             21.0  0.095238  2023    52"
      ]
     },
     "execution_count": 37,
     "metadata": {},
     "output_type": "execute_result"
    }
   ],
   "source": [
    "df_week['year'] = df_week.index.year\n",
    "df_week['week'] = df_week.index.isocalendar().week\n",
    "df_week[df_week.duplicated(subset= ['year', 'week'])]\n",
    "df_week.loc['2023-12']"
   ]
  },
  {
   "cell_type": "code",
   "execution_count": 38,
   "metadata": {
    "id": "0Pq2bXH3HL1U",
    "outputId": "eb661902-3220-43d5-fa8f-23436e851579"
   },
   "outputs": [
    {
     "data": {
      "text/html": [
       "<div>\n",
       "<style scoped>\n",
       "    .dataframe tbody tr th:only-of-type {\n",
       "        vertical-align: middle;\n",
       "    }\n",
       "\n",
       "    .dataframe tbody tr th {\n",
       "        vertical-align: top;\n",
       "    }\n",
       "\n",
       "    .dataframe thead th {\n",
       "        text-align: right;\n",
       "    }\n",
       "</style>\n",
       "<table border=\"1\" class=\"dataframe\">\n",
       "  <thead>\n",
       "    <tr style=\"text-align: right;\">\n",
       "      <th>year</th>\n",
       "      <th>2020</th>\n",
       "      <th>2021</th>\n",
       "      <th>2022</th>\n",
       "      <th>2023</th>\n",
       "      <th>2024</th>\n",
       "    </tr>\n",
       "    <tr>\n",
       "      <th>week</th>\n",
       "      <th></th>\n",
       "      <th></th>\n",
       "      <th></th>\n",
       "      <th></th>\n",
       "      <th></th>\n",
       "    </tr>\n",
       "  </thead>\n",
       "  <tbody>\n",
       "    <tr>\n",
       "      <th>1</th>\n",
       "      <td>0.000000</td>\n",
       "      <td>0.000000</td>\n",
       "      <td>0.075758</td>\n",
       "      <td>0.109756</td>\n",
       "      <td>0.214286</td>\n",
       "    </tr>\n",
       "    <tr>\n",
       "      <th>2</th>\n",
       "      <td>0.000000</td>\n",
       "      <td>0.000000</td>\n",
       "      <td>0.170732</td>\n",
       "      <td>0.103586</td>\n",
       "      <td>0.058824</td>\n",
       "    </tr>\n",
       "    <tr>\n",
       "      <th>3</th>\n",
       "      <td>0.000000</td>\n",
       "      <td>1.000000</td>\n",
       "      <td>0.096491</td>\n",
       "      <td>0.101124</td>\n",
       "      <td>0.264151</td>\n",
       "    </tr>\n",
       "    <tr>\n",
       "      <th>4</th>\n",
       "      <td>0.000000</td>\n",
       "      <td>0.000000</td>\n",
       "      <td>0.101266</td>\n",
       "      <td>0.073359</td>\n",
       "      <td>0.142857</td>\n",
       "    </tr>\n",
       "    <tr>\n",
       "      <th>5</th>\n",
       "      <td>0.000000</td>\n",
       "      <td>0.000000</td>\n",
       "      <td>0.089474</td>\n",
       "      <td>0.091549</td>\n",
       "      <td>0.241379</td>\n",
       "    </tr>\n",
       "    <tr>\n",
       "      <th>6</th>\n",
       "      <td>0.000000</td>\n",
       "      <td>0.000000</td>\n",
       "      <td>0.119048</td>\n",
       "      <td>0.087912</td>\n",
       "      <td>0.214286</td>\n",
       "    </tr>\n",
       "    <tr>\n",
       "      <th>7</th>\n",
       "      <td>0.000000</td>\n",
       "      <td>0.000000</td>\n",
       "      <td>0.138211</td>\n",
       "      <td>0.107872</td>\n",
       "      <td>0.048780</td>\n",
       "    </tr>\n",
       "    <tr>\n",
       "      <th>8</th>\n",
       "      <td>0.000000</td>\n",
       "      <td>0.500000</td>\n",
       "      <td>0.115385</td>\n",
       "      <td>0.057637</td>\n",
       "      <td>0.177778</td>\n",
       "    </tr>\n",
       "    <tr>\n",
       "      <th>9</th>\n",
       "      <td>0.000000</td>\n",
       "      <td>0.000000</td>\n",
       "      <td>0.059701</td>\n",
       "      <td>0.092437</td>\n",
       "      <td>0.205128</td>\n",
       "    </tr>\n",
       "    <tr>\n",
       "      <th>10</th>\n",
       "      <td>0.000000</td>\n",
       "      <td>0.000000</td>\n",
       "      <td>0.099057</td>\n",
       "      <td>0.063492</td>\n",
       "      <td>0.126984</td>\n",
       "    </tr>\n",
       "    <tr>\n",
       "      <th>11</th>\n",
       "      <td>0.000000</td>\n",
       "      <td>0.000000</td>\n",
       "      <td>0.093496</td>\n",
       "      <td>0.066820</td>\n",
       "      <td>0.071429</td>\n",
       "    </tr>\n",
       "    <tr>\n",
       "      <th>12</th>\n",
       "      <td>0.000000</td>\n",
       "      <td>0.000000</td>\n",
       "      <td>0.131455</td>\n",
       "      <td>0.078829</td>\n",
       "      <td>0.035088</td>\n",
       "    </tr>\n",
       "    <tr>\n",
       "      <th>13</th>\n",
       "      <td>0.000000</td>\n",
       "      <td>0.000000</td>\n",
       "      <td>0.136986</td>\n",
       "      <td>0.091314</td>\n",
       "      <td>0.055556</td>\n",
       "    </tr>\n",
       "    <tr>\n",
       "      <th>14</th>\n",
       "      <td>0.000000</td>\n",
       "      <td>0.000000</td>\n",
       "      <td>0.110672</td>\n",
       "      <td>0.094183</td>\n",
       "      <td>0.032258</td>\n",
       "    </tr>\n",
       "    <tr>\n",
       "      <th>15</th>\n",
       "      <td>0.000000</td>\n",
       "      <td>1.000000</td>\n",
       "      <td>0.061798</td>\n",
       "      <td>0.062099</td>\n",
       "      <td>0.000000</td>\n",
       "    </tr>\n",
       "    <tr>\n",
       "      <th>16</th>\n",
       "      <td>0.000000</td>\n",
       "      <td>0.000000</td>\n",
       "      <td>0.134921</td>\n",
       "      <td>0.093750</td>\n",
       "      <td>0.000000</td>\n",
       "    </tr>\n",
       "    <tr>\n",
       "      <th>17</th>\n",
       "      <td>0.000000</td>\n",
       "      <td>0.000000</td>\n",
       "      <td>0.154150</td>\n",
       "      <td>0.072165</td>\n",
       "      <td>0.000000</td>\n",
       "    </tr>\n",
       "    <tr>\n",
       "      <th>18</th>\n",
       "      <td>0.000000</td>\n",
       "      <td>0.000000</td>\n",
       "      <td>0.153025</td>\n",
       "      <td>0.072165</td>\n",
       "      <td>0.000000</td>\n",
       "    </tr>\n",
       "    <tr>\n",
       "      <th>19</th>\n",
       "      <td>0.000000</td>\n",
       "      <td>0.000000</td>\n",
       "      <td>0.141141</td>\n",
       "      <td>0.088608</td>\n",
       "      <td>0.089494</td>\n",
       "    </tr>\n",
       "    <tr>\n",
       "      <th>20</th>\n",
       "      <td>0.000000</td>\n",
       "      <td>0.000000</td>\n",
       "      <td>0.098837</td>\n",
       "      <td>0.083857</td>\n",
       "      <td>0.053704</td>\n",
       "    </tr>\n",
       "    <tr>\n",
       "      <th>21</th>\n",
       "      <td>0.000000</td>\n",
       "      <td>1.000000</td>\n",
       "      <td>0.128114</td>\n",
       "      <td>0.093394</td>\n",
       "      <td>0.073559</td>\n",
       "    </tr>\n",
       "    <tr>\n",
       "      <th>22</th>\n",
       "      <td>0.000000</td>\n",
       "      <td>0.500000</td>\n",
       "      <td>0.105413</td>\n",
       "      <td>0.069544</td>\n",
       "      <td>0.067039</td>\n",
       "    </tr>\n",
       "    <tr>\n",
       "      <th>23</th>\n",
       "      <td>0.000000</td>\n",
       "      <td>0.000000</td>\n",
       "      <td>0.086592</td>\n",
       "      <td>0.060475</td>\n",
       "      <td>0.049404</td>\n",
       "    </tr>\n",
       "    <tr>\n",
       "      <th>24</th>\n",
       "      <td>0.000000</td>\n",
       "      <td>0.000000</td>\n",
       "      <td>0.099398</td>\n",
       "      <td>0.087475</td>\n",
       "      <td>0.069811</td>\n",
       "    </tr>\n",
       "    <tr>\n",
       "      <th>25</th>\n",
       "      <td>0.000000</td>\n",
       "      <td>0.000000</td>\n",
       "      <td>0.131757</td>\n",
       "      <td>0.043764</td>\n",
       "      <td>0.051852</td>\n",
       "    </tr>\n",
       "    <tr>\n",
       "      <th>26</th>\n",
       "      <td>0.000000</td>\n",
       "      <td>0.000000</td>\n",
       "      <td>0.134545</td>\n",
       "      <td>0.060241</td>\n",
       "      <td>0.056452</td>\n",
       "    </tr>\n",
       "    <tr>\n",
       "      <th>27</th>\n",
       "      <td>0.000000</td>\n",
       "      <td>1.000000</td>\n",
       "      <td>0.100000</td>\n",
       "      <td>0.082969</td>\n",
       "      <td>0.069767</td>\n",
       "    </tr>\n",
       "    <tr>\n",
       "      <th>28</th>\n",
       "      <td>0.000000</td>\n",
       "      <td>0.428571</td>\n",
       "      <td>0.137324</td>\n",
       "      <td>0.078767</td>\n",
       "      <td>0.071895</td>\n",
       "    </tr>\n",
       "    <tr>\n",
       "      <th>29</th>\n",
       "      <td>0.000000</td>\n",
       "      <td>0.000000</td>\n",
       "      <td>0.127660</td>\n",
       "      <td>0.089347</td>\n",
       "      <td>0.050481</td>\n",
       "    </tr>\n",
       "    <tr>\n",
       "      <th>30</th>\n",
       "      <td>0.258065</td>\n",
       "      <td>0.125000</td>\n",
       "      <td>0.105505</td>\n",
       "      <td>0.082540</td>\n",
       "      <td>0.077135</td>\n",
       "    </tr>\n",
       "    <tr>\n",
       "      <th>31</th>\n",
       "      <td>0.000000</td>\n",
       "      <td>0.500000</td>\n",
       "      <td>0.110345</td>\n",
       "      <td>0.091185</td>\n",
       "      <td>0.058824</td>\n",
       "    </tr>\n",
       "    <tr>\n",
       "      <th>32</th>\n",
       "      <td>0.083333</td>\n",
       "      <td>0.000000</td>\n",
       "      <td>0.110345</td>\n",
       "      <td>0.127413</td>\n",
       "      <td>0.105572</td>\n",
       "    </tr>\n",
       "    <tr>\n",
       "      <th>33</th>\n",
       "      <td>0.000000</td>\n",
       "      <td>0.000000</td>\n",
       "      <td>0.076087</td>\n",
       "      <td>0.144578</td>\n",
       "      <td>0.090909</td>\n",
       "    </tr>\n",
       "    <tr>\n",
       "      <th>34</th>\n",
       "      <td>0.000000</td>\n",
       "      <td>0.478261</td>\n",
       "      <td>0.108844</td>\n",
       "      <td>0.157205</td>\n",
       "      <td>0.093333</td>\n",
       "    </tr>\n",
       "    <tr>\n",
       "      <th>35</th>\n",
       "      <td>0.000000</td>\n",
       "      <td>0.280000</td>\n",
       "      <td>0.091503</td>\n",
       "      <td>0.102767</td>\n",
       "      <td>0.108392</td>\n",
       "    </tr>\n",
       "    <tr>\n",
       "      <th>36</th>\n",
       "      <td>0.750000</td>\n",
       "      <td>0.555556</td>\n",
       "      <td>0.130890</td>\n",
       "      <td>0.079070</td>\n",
       "      <td>0.094937</td>\n",
       "    </tr>\n",
       "    <tr>\n",
       "      <th>37</th>\n",
       "      <td>0.000000</td>\n",
       "      <td>0.150000</td>\n",
       "      <td>0.113402</td>\n",
       "      <td>0.089552</td>\n",
       "      <td>0.070922</td>\n",
       "    </tr>\n",
       "    <tr>\n",
       "      <th>38</th>\n",
       "      <td>0.000000</td>\n",
       "      <td>0.272727</td>\n",
       "      <td>0.147059</td>\n",
       "      <td>0.102564</td>\n",
       "      <td>0.071661</td>\n",
       "    </tr>\n",
       "    <tr>\n",
       "      <th>39</th>\n",
       "      <td>0.000000</td>\n",
       "      <td>0.255814</td>\n",
       "      <td>0.117647</td>\n",
       "      <td>0.109589</td>\n",
       "      <td>0.086455</td>\n",
       "    </tr>\n",
       "    <tr>\n",
       "      <th>40</th>\n",
       "      <td>0.000000</td>\n",
       "      <td>0.206349</td>\n",
       "      <td>0.182266</td>\n",
       "      <td>0.096386</td>\n",
       "      <td>0.081159</td>\n",
       "    </tr>\n",
       "    <tr>\n",
       "      <th>41</th>\n",
       "      <td>0.000000</td>\n",
       "      <td>0.090909</td>\n",
       "      <td>0.110390</td>\n",
       "      <td>0.091787</td>\n",
       "      <td>0.086505</td>\n",
       "    </tr>\n",
       "    <tr>\n",
       "      <th>42</th>\n",
       "      <td>0.000000</td>\n",
       "      <td>0.253521</td>\n",
       "      <td>0.113208</td>\n",
       "      <td>0.145669</td>\n",
       "      <td>0.084416</td>\n",
       "    </tr>\n",
       "    <tr>\n",
       "      <th>43</th>\n",
       "      <td>0.000000</td>\n",
       "      <td>0.203704</td>\n",
       "      <td>0.127660</td>\n",
       "      <td>0.057522</td>\n",
       "      <td>0.095395</td>\n",
       "    </tr>\n",
       "    <tr>\n",
       "      <th>44</th>\n",
       "      <td>0.000000</td>\n",
       "      <td>0.151515</td>\n",
       "      <td>0.087432</td>\n",
       "      <td>0.108108</td>\n",
       "      <td>0.078704</td>\n",
       "    </tr>\n",
       "    <tr>\n",
       "      <th>45</th>\n",
       "      <td>0.000000</td>\n",
       "      <td>0.084746</td>\n",
       "      <td>0.118483</td>\n",
       "      <td>0.129707</td>\n",
       "      <td>0.000000</td>\n",
       "    </tr>\n",
       "    <tr>\n",
       "      <th>46</th>\n",
       "      <td>0.000000</td>\n",
       "      <td>0.233871</td>\n",
       "      <td>0.096774</td>\n",
       "      <td>0.120000</td>\n",
       "      <td>0.000000</td>\n",
       "    </tr>\n",
       "    <tr>\n",
       "      <th>47</th>\n",
       "      <td>0.000000</td>\n",
       "      <td>0.142857</td>\n",
       "      <td>0.100529</td>\n",
       "      <td>0.081197</td>\n",
       "      <td>0.000000</td>\n",
       "    </tr>\n",
       "    <tr>\n",
       "      <th>48</th>\n",
       "      <td>0.000000</td>\n",
       "      <td>0.137931</td>\n",
       "      <td>0.102740</td>\n",
       "      <td>0.120419</td>\n",
       "      <td>0.000000</td>\n",
       "    </tr>\n",
       "    <tr>\n",
       "      <th>49</th>\n",
       "      <td>0.000000</td>\n",
       "      <td>0.240964</td>\n",
       "      <td>0.099237</td>\n",
       "      <td>0.191304</td>\n",
       "      <td>0.000000</td>\n",
       "    </tr>\n",
       "    <tr>\n",
       "      <th>50</th>\n",
       "      <td>0.000000</td>\n",
       "      <td>0.170732</td>\n",
       "      <td>0.229008</td>\n",
       "      <td>0.088889</td>\n",
       "      <td>0.000000</td>\n",
       "    </tr>\n",
       "    <tr>\n",
       "      <th>51</th>\n",
       "      <td>0.000000</td>\n",
       "      <td>0.208333</td>\n",
       "      <td>0.082524</td>\n",
       "      <td>0.068966</td>\n",
       "      <td>0.000000</td>\n",
       "    </tr>\n",
       "    <tr>\n",
       "      <th>52</th>\n",
       "      <td>0.000000</td>\n",
       "      <td>0.000000</td>\n",
       "      <td>0.150943</td>\n",
       "      <td>0.113990</td>\n",
       "      <td>0.000000</td>\n",
       "    </tr>\n",
       "  </tbody>\n",
       "</table>\n",
       "</div>"
      ],
      "text/plain": [
       "year      2020      2021      2022      2023      2024\n",
       "week                                                  \n",
       "1     0.000000  0.000000  0.075758  0.109756  0.214286\n",
       "2     0.000000  0.000000  0.170732  0.103586  0.058824\n",
       "3     0.000000  1.000000  0.096491  0.101124  0.264151\n",
       "4     0.000000  0.000000  0.101266  0.073359  0.142857\n",
       "5     0.000000  0.000000  0.089474  0.091549  0.241379\n",
       "6     0.000000  0.000000  0.119048  0.087912  0.214286\n",
       "7     0.000000  0.000000  0.138211  0.107872  0.048780\n",
       "8     0.000000  0.500000  0.115385  0.057637  0.177778\n",
       "9     0.000000  0.000000  0.059701  0.092437  0.205128\n",
       "10    0.000000  0.000000  0.099057  0.063492  0.126984\n",
       "11    0.000000  0.000000  0.093496  0.066820  0.071429\n",
       "12    0.000000  0.000000  0.131455  0.078829  0.035088\n",
       "13    0.000000  0.000000  0.136986  0.091314  0.055556\n",
       "14    0.000000  0.000000  0.110672  0.094183  0.032258\n",
       "15    0.000000  1.000000  0.061798  0.062099  0.000000\n",
       "16    0.000000  0.000000  0.134921  0.093750  0.000000\n",
       "17    0.000000  0.000000  0.154150  0.072165  0.000000\n",
       "18    0.000000  0.000000  0.153025  0.072165  0.000000\n",
       "19    0.000000  0.000000  0.141141  0.088608  0.089494\n",
       "20    0.000000  0.000000  0.098837  0.083857  0.053704\n",
       "21    0.000000  1.000000  0.128114  0.093394  0.073559\n",
       "22    0.000000  0.500000  0.105413  0.069544  0.067039\n",
       "23    0.000000  0.000000  0.086592  0.060475  0.049404\n",
       "24    0.000000  0.000000  0.099398  0.087475  0.069811\n",
       "25    0.000000  0.000000  0.131757  0.043764  0.051852\n",
       "26    0.000000  0.000000  0.134545  0.060241  0.056452\n",
       "27    0.000000  1.000000  0.100000  0.082969  0.069767\n",
       "28    0.000000  0.428571  0.137324  0.078767  0.071895\n",
       "29    0.000000  0.000000  0.127660  0.089347  0.050481\n",
       "30    0.258065  0.125000  0.105505  0.082540  0.077135\n",
       "31    0.000000  0.500000  0.110345  0.091185  0.058824\n",
       "32    0.083333  0.000000  0.110345  0.127413  0.105572\n",
       "33    0.000000  0.000000  0.076087  0.144578  0.090909\n",
       "34    0.000000  0.478261  0.108844  0.157205  0.093333\n",
       "35    0.000000  0.280000  0.091503  0.102767  0.108392\n",
       "36    0.750000  0.555556  0.130890  0.079070  0.094937\n",
       "37    0.000000  0.150000  0.113402  0.089552  0.070922\n",
       "38    0.000000  0.272727  0.147059  0.102564  0.071661\n",
       "39    0.000000  0.255814  0.117647  0.109589  0.086455\n",
       "40    0.000000  0.206349  0.182266  0.096386  0.081159\n",
       "41    0.000000  0.090909  0.110390  0.091787  0.086505\n",
       "42    0.000000  0.253521  0.113208  0.145669  0.084416\n",
       "43    0.000000  0.203704  0.127660  0.057522  0.095395\n",
       "44    0.000000  0.151515  0.087432  0.108108  0.078704\n",
       "45    0.000000  0.084746  0.118483  0.129707  0.000000\n",
       "46    0.000000  0.233871  0.096774  0.120000  0.000000\n",
       "47    0.000000  0.142857  0.100529  0.081197  0.000000\n",
       "48    0.000000  0.137931  0.102740  0.120419  0.000000\n",
       "49    0.000000  0.240964  0.099237  0.191304  0.000000\n",
       "50    0.000000  0.170732  0.229008  0.088889  0.000000\n",
       "51    0.000000  0.208333  0.082524  0.068966  0.000000\n",
       "52    0.000000  0.000000  0.150943  0.113990  0.000000"
      ]
     },
     "execution_count": 38,
     "metadata": {},
     "output_type": "execute_result"
    }
   ],
   "source": [
    "df_week_p = df_week.pivot_table(index = 'week', columns = 'year', values= 'tasa_pos', aggfunc='max').fillna(0)\n",
    "df_week_p"
   ]
  },
  {
   "cell_type": "markdown",
   "metadata": {},
   "source": [
    "### Visualizacion de la tasa"
   ]
  },
  {
   "cell_type": "code",
   "execution_count": 39,
   "metadata": {
    "ExecuteTime": {
     "end_time": "2025-04-10T11:34:29.925490Z",
     "start_time": "2025-04-10T11:34:29.868481Z"
    },
    "id": "JAm7pa0mHL1V",
    "outputId": "e7a455dc-e05d-40ce-c0f5-222fadca6305"
   },
   "outputs": [
    {
     "data": {
      "application/vnd.plotly.v1+json": {
       "config": {
        "linkText": "Export to plot.ly",
        "plotlyServerURL": "https://plot.ly",
        "showLink": false
       },
       "data": [
        {
         "mode": "lines",
         "name": "2020",
         "type": "scatter",
         "x": {
          "bdata": "AQAAAAIAAAADAAAABAAAAAUAAAAGAAAABwAAAAgAAAAJAAAACgAAAAsAAAAMAAAADQAAAA4AAAAPAAAAEAAAABEAAAASAAAAEwAAABQAAAAVAAAAFgAAABcAAAAYAAAAGQAAABoAAAAbAAAAHAAAAB0AAAAeAAAAHwAAACAAAAAhAAAAIgAAACMAAAAkAAAAJQAAACYAAAAnAAAAKAAAACkAAAAqAAAAKwAAACwAAAAtAAAALgAAAC8AAAAwAAAAMQAAADIAAAAzAAAANAAAAA==",
          "dtype": "u4"
         },
         "y": {
          "bdata": "AAAAAAAAAAAAAAAAAAAAAAAAAAAAAAAAAAAAAAAAAAAAAAAAAAAAAAAAAAAAAAAAAAAAAAAAAAAAAAAAAAAAAAAAAAAAAAAAAAAAAAAAAAAAAAAAAAAAAAAAAAAAAAAAAAAAAAAAAAAAAAAAAAAAAAAAAAAAAAAAAAAAAAAAAAAAAAAAAAAAAAAAAAAAAAAAAAAAAAAAAAAAAAAAAAAAAAAAAAAAAAAAAAAAAAAAAAAAAAAAAAAAAAAAAAAAAAAAAAAAAAAAAAAAAAAAAAAAAAAAAAAAAAAAAAAAAAAAAAAAAAAAAAAAAIQQQgghhNA/AAAAAAAAAABVVVVVVVW1PwAAAAAAAAAAAAAAAAAAAAAAAAAAAAAAAAAAAAAAAOg/AAAAAAAAAAAAAAAAAAAAAAAAAAAAAAAAAAAAAAAAAAAAAAAAAAAAAAAAAAAAAAAAAAAAAAAAAAAAAAAAAAAAAAAAAAAAAAAAAAAAAAAAAAAAAAAAAAAAAAAAAAAAAAAAAAAAAAAAAAAAAAAAAAAAAAAAAAAAAAAAAAAAAAAAAAA=",
          "dtype": "f8"
         }
        },
        {
         "mode": "lines",
         "name": "2021",
         "type": "scatter",
         "x": {
          "bdata": "AQAAAAIAAAADAAAABAAAAAUAAAAGAAAABwAAAAgAAAAJAAAACgAAAAsAAAAMAAAADQAAAA4AAAAPAAAAEAAAABEAAAASAAAAEwAAABQAAAAVAAAAFgAAABcAAAAYAAAAGQAAABoAAAAbAAAAHAAAAB0AAAAeAAAAHwAAACAAAAAhAAAAIgAAACMAAAAkAAAAJQAAACYAAAAnAAAAKAAAACkAAAAqAAAAKwAAACwAAAAtAAAALgAAAC8AAAAwAAAAMQAAADIAAAAzAAAANAAAAA==",
          "dtype": "u4"
         },
         "y": {
          "bdata": "AAAAAAAAAAAAAAAAAAAAAAAAAAAAAPA/AAAAAAAAAAAAAAAAAAAAAAAAAAAAAAAAAAAAAAAAAAAAAAAAAADgPwAAAAAAAAAAAAAAAAAAAAAAAAAAAAAAAAAAAAAAAAAAAAAAAAAAAAAAAAAAAAAAAAAAAAAAAPA/AAAAAAAAAAAAAAAAAAAAAAAAAAAAAAAAAAAAAAAAAAAAAAAAAAAAAAAAAAAAAPA/AAAAAAAA4D8AAAAAAAAAAAAAAAAAAAAAAAAAAAAAAAAAAAAAAAAAAAAAAAAAAPA/27Zt27Zt2z8AAAAAAAAAAAAAAAAAAMA/AAAAAAAA4D8AAAAAAAAAAAAAAAAAAAAA6k1vetOb3j/sUbgehevRP3Icx3Ecx+E/MzMzMzMzwz900UUXXXTRPxj0BX1BX9A/mqZpmqZpyj9GF1100UW3PzYHEq2wOdA/L6G9hPYSyj9lk0022WTDP9BwUvflsbU/77333nvvzT+SJEmSJEnCP5Z7GmG5p8E/lPBGU+fXzj/blahdidrFP6uqqqqqqso/AAAAAAAAAAA=",
          "dtype": "f8"
         }
        },
        {
         "mode": "lines",
         "name": "2022",
         "type": "scatter",
         "x": {
          "bdata": "AQAAAAIAAAADAAAABAAAAAUAAAAGAAAABwAAAAgAAAAJAAAACgAAAAsAAAAMAAAADQAAAA4AAAAPAAAAEAAAABEAAAASAAAAEwAAABQAAAAVAAAAFgAAABcAAAAYAAAAGQAAABoAAAAbAAAAHAAAAB0AAAAeAAAAHwAAACAAAAAhAAAAIgAAACMAAAAkAAAAJQAAACYAAAAnAAAAKAAAACkAAAAqAAAAKwAAACwAAAAtAAAALgAAAC8AAAAwAAAAMQAAADIAAAAzAAAANAAAAA==",
          "dtype": "u4"
         },
         "y": {
          "bdata": "ZZNNNtlksz/blahdidrFPzqL6Syms7g/2TMQlY7suT98bolTv+e2P57neZ7neb4/sZEOG+mwwT+e2Imd2Im9P2e38Ksxka4/fg6pCcZbuT/vl/V+We+3PxzF7M+H08A/jBgxYsSIwT+u5Pb8/lS8P/rRj370o68/URRFURRFwT+wOr6UMbvDPzaNLf5RlsM/DyGptOkQwj9T1pQ1ZU25Pz/zPRwJZsA/xq9RcFr8uj8JHumv5yq2P0dT59cecrk/1g2myGfdwD85kYwTyTjBP5qZmZmZmbk/ezJ+u9STwT9BTK4gJlfAPyawaT9ZArs/8PjDAY8/vD/w+MMBjz+8Pzi96U1verM/9waUiSvduz8XwmwXwmy3P8XTHlcBwcA/HRX44uoHvT/T0tLS0tLCPx4eHh4eHr4/dGy+G35Uxz/5CXFWfkK8PyI1wXgr+7w/QUyuICZXwD/5IlFq7GG2P2DrCs3tVL4/xhhjjDHGuD/EmxFvRry5P9KkSZMmTbo//FWckJJnuT9KnmVEH1DNP5PzsohPILU/wXgr+xxSwz8=",
          "dtype": "f8"
         }
        },
        {
         "mode": "lines",
         "name": "2023",
         "type": "scatter",
         "x": {
          "bdata": "AQAAAAIAAAADAAAABAAAAAUAAAAGAAAABwAAAAgAAAAJAAAACgAAAAsAAAAMAAAADQAAAA4AAAAPAAAAEAAAABEAAAASAAAAEwAAABQAAAAVAAAAFgAAABcAAAAYAAAAGQAAABoAAAAbAAAAHAAAAB0AAAAeAAAAHwAAACAAAAAhAAAAIgAAACMAAAAkAAAAJQAAACYAAAAnAAAAKAAAACkAAAAqAAAAKwAAACwAAAAtAAAALgAAAC8AAAAwAAAAMQAAADIAAAAzAAAANAAAAA==",
          "dtype": "u4"
         },
         "y": {
          "bdata": "GZyPwfkYvD+HtL3yloS6P57xjGc847k/eyzxBKnHsj/57VJPxm+3PxdogRZogbY/emsQJnuduz/ux6MGlYKtPxjzqRfzqbc/EARBEARBsD+JbEQ2IhuxP+JCzUkgLrQ/dfOVOVtgtz/hS02bXRy4P3xPde5fy68/AAAAAAAAuD8SmYbtZnmyPxKZhu1mebI/Xi1uwvyutj/XMGlsrne1P09PSJys6Lc/X0Uv06jNsT8Nx+i1mfauP5DKnnjFZLY/X6afSzFopj+U8EZT59euPwqrWxZ8PbU/oUKFChUqtD8X4nU+c9+2PxVSIRVSIbU/yyNCU+1Xtz/xBKnHEk/AP7/2kMuKgcI/g6+nIk0fxD/r+FLG7E66P6neQ5HqPbQ/jYn0QOXstj8apEEapEG6P+DAgQMHDrw/qvNrD7msuD8j3FKzYX+3P6lUKpVKpcI/ozjXMYpzrT/QusEU+ay7P7JGIiA+msA/uB6F61G4vj+VTMmUTMm0PyOaswbF074/iHG/Lql8yD8XbMEWbMG2P5Z7GmG5p7E/45VPxGwuvT8=",
          "dtype": "f8"
         }
        },
        {
         "mode": "lines",
         "name": "2024",
         "type": "scatter",
         "x": {
          "bdata": "AQAAAAIAAAADAAAABAAAAAUAAAAGAAAABwAAAAgAAAAJAAAACgAAAAsAAAAMAAAADQAAAA4AAAAPAAAAEAAAABEAAAASAAAAEwAAABQAAAAVAAAAFgAAABcAAAAYAAAAGQAAABoAAAAbAAAAHAAAAB0AAAAeAAAAHwAAACAAAAAhAAAAIgAAACMAAAAkAAAAJQAAACYAAAAnAAAAKAAAACkAAAAqAAAAKwAAACwAAAAtAAAALgAAAC8AAAAwAAAAMQAAADIAAAAzAAAANAAAAA==",
          "dtype": "u4"
         },
         "y": {
          "bdata": "27Zt27Ztyz8eHh4eHh6uP6kJxlvZ59A/kiRJkiRJwj9HWO5phOXOP9u2bdu2bcs/+hicj8H5qD8XbMEWbMHGPxqkQRqkQco/EARBEARBwD+SJEmSJEmyP3AfwX0E96E/HMdxHMdxrD+EEEIIIYSgPwAAAAAAAAAAAAAAAAAAAAAAAAAAAAAAAAAAAAAAAAAAF+kW6Rbptj/xtylGDX+rP4Tk+VO91LI/1WlykHkpsT8KuM6yckupPxk2iJsn37E/xajhb1OMqj/nnHPOOeesP3fEHXFH3LE/Er1nEr1nsj+KndiJndipP6i2N1Mev7M/Hh4eHh4erj8HG2ywwQa7P0YXXXTRRbc/5RdLfrHktz+E6jNtjb+7P5wwv6vFTbg/STilefEnsj8+cq0QZFiyP/PV+sTvIbY/TEHoH93GtD9wYVJDNCW2PwpxVn5CnLU/vYbyGspruD9fQnsJ7SW0PwAAAAAAAAAAAAAAAAAAAAAAAAAAAAAAAAAAAAAAAAAAAAAAAAAAAAAAAAAAAAAAAAAAAAAAAAAAAAAAAAAAAAA=",
          "dtype": "f8"
         }
        }
       ],
       "layout": {
        "template": {
         "data": {
          "bar": [
           {
            "error_x": {
             "color": "#2a3f5f"
            },
            "error_y": {
             "color": "#2a3f5f"
            },
            "marker": {
             "line": {
              "color": "#E5ECF6",
              "width": 0.5
             },
             "pattern": {
              "fillmode": "overlay",
              "size": 10,
              "solidity": 0.2
             }
            },
            "type": "bar"
           }
          ],
          "barpolar": [
           {
            "marker": {
             "line": {
              "color": "#E5ECF6",
              "width": 0.5
             },
             "pattern": {
              "fillmode": "overlay",
              "size": 10,
              "solidity": 0.2
             }
            },
            "type": "barpolar"
           }
          ],
          "carpet": [
           {
            "aaxis": {
             "endlinecolor": "#2a3f5f",
             "gridcolor": "white",
             "linecolor": "white",
             "minorgridcolor": "white",
             "startlinecolor": "#2a3f5f"
            },
            "baxis": {
             "endlinecolor": "#2a3f5f",
             "gridcolor": "white",
             "linecolor": "white",
             "minorgridcolor": "white",
             "startlinecolor": "#2a3f5f"
            },
            "type": "carpet"
           }
          ],
          "choropleth": [
           {
            "colorbar": {
             "outlinewidth": 0,
             "ticks": ""
            },
            "type": "choropleth"
           }
          ],
          "contour": [
           {
            "colorbar": {
             "outlinewidth": 0,
             "ticks": ""
            },
            "colorscale": [
             [
              0,
              "#0d0887"
             ],
             [
              0.1111111111111111,
              "#46039f"
             ],
             [
              0.2222222222222222,
              "#7201a8"
             ],
             [
              0.3333333333333333,
              "#9c179e"
             ],
             [
              0.4444444444444444,
              "#bd3786"
             ],
             [
              0.5555555555555556,
              "#d8576b"
             ],
             [
              0.6666666666666666,
              "#ed7953"
             ],
             [
              0.7777777777777778,
              "#fb9f3a"
             ],
             [
              0.8888888888888888,
              "#fdca26"
             ],
             [
              1,
              "#f0f921"
             ]
            ],
            "type": "contour"
           }
          ],
          "contourcarpet": [
           {
            "colorbar": {
             "outlinewidth": 0,
             "ticks": ""
            },
            "type": "contourcarpet"
           }
          ],
          "heatmap": [
           {
            "colorbar": {
             "outlinewidth": 0,
             "ticks": ""
            },
            "colorscale": [
             [
              0,
              "#0d0887"
             ],
             [
              0.1111111111111111,
              "#46039f"
             ],
             [
              0.2222222222222222,
              "#7201a8"
             ],
             [
              0.3333333333333333,
              "#9c179e"
             ],
             [
              0.4444444444444444,
              "#bd3786"
             ],
             [
              0.5555555555555556,
              "#d8576b"
             ],
             [
              0.6666666666666666,
              "#ed7953"
             ],
             [
              0.7777777777777778,
              "#fb9f3a"
             ],
             [
              0.8888888888888888,
              "#fdca26"
             ],
             [
              1,
              "#f0f921"
             ]
            ],
            "type": "heatmap"
           }
          ],
          "histogram": [
           {
            "marker": {
             "pattern": {
              "fillmode": "overlay",
              "size": 10,
              "solidity": 0.2
             }
            },
            "type": "histogram"
           }
          ],
          "histogram2d": [
           {
            "colorbar": {
             "outlinewidth": 0,
             "ticks": ""
            },
            "colorscale": [
             [
              0,
              "#0d0887"
             ],
             [
              0.1111111111111111,
              "#46039f"
             ],
             [
              0.2222222222222222,
              "#7201a8"
             ],
             [
              0.3333333333333333,
              "#9c179e"
             ],
             [
              0.4444444444444444,
              "#bd3786"
             ],
             [
              0.5555555555555556,
              "#d8576b"
             ],
             [
              0.6666666666666666,
              "#ed7953"
             ],
             [
              0.7777777777777778,
              "#fb9f3a"
             ],
             [
              0.8888888888888888,
              "#fdca26"
             ],
             [
              1,
              "#f0f921"
             ]
            ],
            "type": "histogram2d"
           }
          ],
          "histogram2dcontour": [
           {
            "colorbar": {
             "outlinewidth": 0,
             "ticks": ""
            },
            "colorscale": [
             [
              0,
              "#0d0887"
             ],
             [
              0.1111111111111111,
              "#46039f"
             ],
             [
              0.2222222222222222,
              "#7201a8"
             ],
             [
              0.3333333333333333,
              "#9c179e"
             ],
             [
              0.4444444444444444,
              "#bd3786"
             ],
             [
              0.5555555555555556,
              "#d8576b"
             ],
             [
              0.6666666666666666,
              "#ed7953"
             ],
             [
              0.7777777777777778,
              "#fb9f3a"
             ],
             [
              0.8888888888888888,
              "#fdca26"
             ],
             [
              1,
              "#f0f921"
             ]
            ],
            "type": "histogram2dcontour"
           }
          ],
          "mesh3d": [
           {
            "colorbar": {
             "outlinewidth": 0,
             "ticks": ""
            },
            "type": "mesh3d"
           }
          ],
          "parcoords": [
           {
            "line": {
             "colorbar": {
              "outlinewidth": 0,
              "ticks": ""
             }
            },
            "type": "parcoords"
           }
          ],
          "pie": [
           {
            "automargin": true,
            "type": "pie"
           }
          ],
          "scatter": [
           {
            "fillpattern": {
             "fillmode": "overlay",
             "size": 10,
             "solidity": 0.2
            },
            "type": "scatter"
           }
          ],
          "scatter3d": [
           {
            "line": {
             "colorbar": {
              "outlinewidth": 0,
              "ticks": ""
             }
            },
            "marker": {
             "colorbar": {
              "outlinewidth": 0,
              "ticks": ""
             }
            },
            "type": "scatter3d"
           }
          ],
          "scattercarpet": [
           {
            "marker": {
             "colorbar": {
              "outlinewidth": 0,
              "ticks": ""
             }
            },
            "type": "scattercarpet"
           }
          ],
          "scattergeo": [
           {
            "marker": {
             "colorbar": {
              "outlinewidth": 0,
              "ticks": ""
             }
            },
            "type": "scattergeo"
           }
          ],
          "scattergl": [
           {
            "marker": {
             "colorbar": {
              "outlinewidth": 0,
              "ticks": ""
             }
            },
            "type": "scattergl"
           }
          ],
          "scattermap": [
           {
            "marker": {
             "colorbar": {
              "outlinewidth": 0,
              "ticks": ""
             }
            },
            "type": "scattermap"
           }
          ],
          "scattermapbox": [
           {
            "marker": {
             "colorbar": {
              "outlinewidth": 0,
              "ticks": ""
             }
            },
            "type": "scattermapbox"
           }
          ],
          "scatterpolar": [
           {
            "marker": {
             "colorbar": {
              "outlinewidth": 0,
              "ticks": ""
             }
            },
            "type": "scatterpolar"
           }
          ],
          "scatterpolargl": [
           {
            "marker": {
             "colorbar": {
              "outlinewidth": 0,
              "ticks": ""
             }
            },
            "type": "scatterpolargl"
           }
          ],
          "scatterternary": [
           {
            "marker": {
             "colorbar": {
              "outlinewidth": 0,
              "ticks": ""
             }
            },
            "type": "scatterternary"
           }
          ],
          "surface": [
           {
            "colorbar": {
             "outlinewidth": 0,
             "ticks": ""
            },
            "colorscale": [
             [
              0,
              "#0d0887"
             ],
             [
              0.1111111111111111,
              "#46039f"
             ],
             [
              0.2222222222222222,
              "#7201a8"
             ],
             [
              0.3333333333333333,
              "#9c179e"
             ],
             [
              0.4444444444444444,
              "#bd3786"
             ],
             [
              0.5555555555555556,
              "#d8576b"
             ],
             [
              0.6666666666666666,
              "#ed7953"
             ],
             [
              0.7777777777777778,
              "#fb9f3a"
             ],
             [
              0.8888888888888888,
              "#fdca26"
             ],
             [
              1,
              "#f0f921"
             ]
            ],
            "type": "surface"
           }
          ],
          "table": [
           {
            "cells": {
             "fill": {
              "color": "#EBF0F8"
             },
             "line": {
              "color": "white"
             }
            },
            "header": {
             "fill": {
              "color": "#C8D4E3"
             },
             "line": {
              "color": "white"
             }
            },
            "type": "table"
           }
          ]
         },
         "layout": {
          "annotationdefaults": {
           "arrowcolor": "#2a3f5f",
           "arrowhead": 0,
           "arrowwidth": 1
          },
          "autotypenumbers": "strict",
          "coloraxis": {
           "colorbar": {
            "outlinewidth": 0,
            "ticks": ""
           }
          },
          "colorscale": {
           "diverging": [
            [
             0,
             "#8e0152"
            ],
            [
             0.1,
             "#c51b7d"
            ],
            [
             0.2,
             "#de77ae"
            ],
            [
             0.3,
             "#f1b6da"
            ],
            [
             0.4,
             "#fde0ef"
            ],
            [
             0.5,
             "#f7f7f7"
            ],
            [
             0.6,
             "#e6f5d0"
            ],
            [
             0.7,
             "#b8e186"
            ],
            [
             0.8,
             "#7fbc41"
            ],
            [
             0.9,
             "#4d9221"
            ],
            [
             1,
             "#276419"
            ]
           ],
           "sequential": [
            [
             0,
             "#0d0887"
            ],
            [
             0.1111111111111111,
             "#46039f"
            ],
            [
             0.2222222222222222,
             "#7201a8"
            ],
            [
             0.3333333333333333,
             "#9c179e"
            ],
            [
             0.4444444444444444,
             "#bd3786"
            ],
            [
             0.5555555555555556,
             "#d8576b"
            ],
            [
             0.6666666666666666,
             "#ed7953"
            ],
            [
             0.7777777777777778,
             "#fb9f3a"
            ],
            [
             0.8888888888888888,
             "#fdca26"
            ],
            [
             1,
             "#f0f921"
            ]
           ],
           "sequentialminus": [
            [
             0,
             "#0d0887"
            ],
            [
             0.1111111111111111,
             "#46039f"
            ],
            [
             0.2222222222222222,
             "#7201a8"
            ],
            [
             0.3333333333333333,
             "#9c179e"
            ],
            [
             0.4444444444444444,
             "#bd3786"
            ],
            [
             0.5555555555555556,
             "#d8576b"
            ],
            [
             0.6666666666666666,
             "#ed7953"
            ],
            [
             0.7777777777777778,
             "#fb9f3a"
            ],
            [
             0.8888888888888888,
             "#fdca26"
            ],
            [
             1,
             "#f0f921"
            ]
           ]
          },
          "colorway": [
           "#636efa",
           "#EF553B",
           "#00cc96",
           "#ab63fa",
           "#FFA15A",
           "#19d3f3",
           "#FF6692",
           "#B6E880",
           "#FF97FF",
           "#FECB52"
          ],
          "font": {
           "color": "#2a3f5f"
          },
          "geo": {
           "bgcolor": "white",
           "lakecolor": "white",
           "landcolor": "#E5ECF6",
           "showlakes": true,
           "showland": true,
           "subunitcolor": "white"
          },
          "hoverlabel": {
           "align": "left"
          },
          "hovermode": "closest",
          "mapbox": {
           "style": "light"
          },
          "paper_bgcolor": "white",
          "plot_bgcolor": "#E5ECF6",
          "polar": {
           "angularaxis": {
            "gridcolor": "white",
            "linecolor": "white",
            "ticks": ""
           },
           "bgcolor": "#E5ECF6",
           "radialaxis": {
            "gridcolor": "white",
            "linecolor": "white",
            "ticks": ""
           }
          },
          "scene": {
           "xaxis": {
            "backgroundcolor": "#E5ECF6",
            "gridcolor": "white",
            "gridwidth": 2,
            "linecolor": "white",
            "showbackground": true,
            "ticks": "",
            "zerolinecolor": "white"
           },
           "yaxis": {
            "backgroundcolor": "#E5ECF6",
            "gridcolor": "white",
            "gridwidth": 2,
            "linecolor": "white",
            "showbackground": true,
            "ticks": "",
            "zerolinecolor": "white"
           },
           "zaxis": {
            "backgroundcolor": "#E5ECF6",
            "gridcolor": "white",
            "gridwidth": 2,
            "linecolor": "white",
            "showbackground": true,
            "ticks": "",
            "zerolinecolor": "white"
           }
          },
          "shapedefaults": {
           "line": {
            "color": "#2a3f5f"
           }
          },
          "ternary": {
           "aaxis": {
            "gridcolor": "white",
            "linecolor": "white",
            "ticks": ""
           },
           "baxis": {
            "gridcolor": "white",
            "linecolor": "white",
            "ticks": ""
           },
           "bgcolor": "#E5ECF6",
           "caxis": {
            "gridcolor": "white",
            "linecolor": "white",
            "ticks": ""
           }
          },
          "title": {
           "x": 0.05
          },
          "xaxis": {
           "automargin": true,
           "gridcolor": "white",
           "linecolor": "white",
           "ticks": "",
           "title": {
            "standoff": 15
           },
           "zerolinecolor": "white",
           "zerolinewidth": 2
          },
          "yaxis": {
           "automargin": true,
           "gridcolor": "white",
           "linecolor": "white",
           "ticks": "",
           "title": {
            "standoff": 15
           },
           "zerolinecolor": "white",
           "zerolinewidth": 2
          }
         }
        },
        "title": {
         "text": "Tasa de positivos semanales por año"
        }
       }
      },
      "text/html": [
       "<div>            <script src=\"https://cdnjs.cloudflare.com/ajax/libs/mathjax/2.7.5/MathJax.js?config=TeX-AMS-MML_SVG\"></script><script type=\"text/javascript\">if (window.MathJax && window.MathJax.Hub && window.MathJax.Hub.Config) {window.MathJax.Hub.Config({SVG: {font: \"STIX-Web\"}});}</script>                <script type=\"text/javascript\">window.PlotlyConfig = {MathJaxConfig: 'local'};</script>\n",
       "        <script charset=\"utf-8\" src=\"https://cdn.plot.ly/plotly-3.0.1.min.js\"></script>                <div id=\"c7fe79c6-6193-4380-8571-9309ee34d4fa\" class=\"plotly-graph-div\" style=\"height:525px; width:100%;\"></div>            <script type=\"text/javascript\">                window.PLOTLYENV=window.PLOTLYENV || {};                                if (document.getElementById(\"c7fe79c6-6193-4380-8571-9309ee34d4fa\")) {                    Plotly.newPlot(                        \"c7fe79c6-6193-4380-8571-9309ee34d4fa\",                        [{\"mode\":\"lines\",\"name\":\"2020\",\"x\":{\"dtype\":\"u4\",\"bdata\":\"AQAAAAIAAAADAAAABAAAAAUAAAAGAAAABwAAAAgAAAAJAAAACgAAAAsAAAAMAAAADQAAAA4AAAAPAAAAEAAAABEAAAASAAAAEwAAABQAAAAVAAAAFgAAABcAAAAYAAAAGQAAABoAAAAbAAAAHAAAAB0AAAAeAAAAHwAAACAAAAAhAAAAIgAAACMAAAAkAAAAJQAAACYAAAAnAAAAKAAAACkAAAAqAAAAKwAAACwAAAAtAAAALgAAAC8AAAAwAAAAMQAAADIAAAAzAAAANAAAAA==\"},\"y\":{\"dtype\":\"f8\",\"bdata\":\"AAAAAAAAAAAAAAAAAAAAAAAAAAAAAAAAAAAAAAAAAAAAAAAAAAAAAAAAAAAAAAAAAAAAAAAAAAAAAAAAAAAAAAAAAAAAAAAAAAAAAAAAAAAAAAAAAAAAAAAAAAAAAAAAAAAAAAAAAAAAAAAAAAAAAAAAAAAAAAAAAAAAAAAAAAAAAAAAAAAAAAAAAAAAAAAAAAAAAAAAAAAAAAAAAAAAAAAAAAAAAAAAAAAAAAAAAAAAAAAAAAAAAAAAAAAAAAAAAAAAAAAAAAAAAAAAAAAAAAAAAAAAAAAAAAAAAAAAAAAAAAAAAAAAAIQQQgghhNA\\u002fAAAAAAAAAABVVVVVVVW1PwAAAAAAAAAAAAAAAAAAAAAAAAAAAAAAAAAAAAAAAOg\\u002fAAAAAAAAAAAAAAAAAAAAAAAAAAAAAAAAAAAAAAAAAAAAAAAAAAAAAAAAAAAAAAAAAAAAAAAAAAAAAAAAAAAAAAAAAAAAAAAAAAAAAAAAAAAAAAAAAAAAAAAAAAAAAAAAAAAAAAAAAAAAAAAAAAAAAAAAAAAAAAAAAAAAAAAAAAA=\"},\"type\":\"scatter\"},{\"mode\":\"lines\",\"name\":\"2021\",\"x\":{\"dtype\":\"u4\",\"bdata\":\"AQAAAAIAAAADAAAABAAAAAUAAAAGAAAABwAAAAgAAAAJAAAACgAAAAsAAAAMAAAADQAAAA4AAAAPAAAAEAAAABEAAAASAAAAEwAAABQAAAAVAAAAFgAAABcAAAAYAAAAGQAAABoAAAAbAAAAHAAAAB0AAAAeAAAAHwAAACAAAAAhAAAAIgAAACMAAAAkAAAAJQAAACYAAAAnAAAAKAAAACkAAAAqAAAAKwAAACwAAAAtAAAALgAAAC8AAAAwAAAAMQAAADIAAAAzAAAANAAAAA==\"},\"y\":{\"dtype\":\"f8\",\"bdata\":\"AAAAAAAAAAAAAAAAAAAAAAAAAAAAAPA\\u002fAAAAAAAAAAAAAAAAAAAAAAAAAAAAAAAAAAAAAAAAAAAAAAAAAADgPwAAAAAAAAAAAAAAAAAAAAAAAAAAAAAAAAAAAAAAAAAAAAAAAAAAAAAAAAAAAAAAAAAAAAAAAPA\\u002fAAAAAAAAAAAAAAAAAAAAAAAAAAAAAAAAAAAAAAAAAAAAAAAAAAAAAAAAAAAAAPA\\u002fAAAAAAAA4D8AAAAAAAAAAAAAAAAAAAAAAAAAAAAAAAAAAAAAAAAAAAAAAAAAAPA\\u002f27Zt27Zt2z8AAAAAAAAAAAAAAAAAAMA\\u002fAAAAAAAA4D8AAAAAAAAAAAAAAAAAAAAA6k1vetOb3j\\u002fsUbgehevRP3Icx3Ecx+E\\u002fMzMzMzMzwz900UUXXXTRPxj0BX1BX9A\\u002fmqZpmqZpyj9GF1100UW3PzYHEq2wOdA\\u002fL6G9hPYSyj9lk0022WTDP9BwUvflsbU\\u002f77333nvvzT+SJEmSJEnCP5Z7GmG5p8E\\u002flPBGU+fXzj\\u002fblahdidrFP6uqqqqqqso\\u002fAAAAAAAAAAA=\"},\"type\":\"scatter\"},{\"mode\":\"lines\",\"name\":\"2022\",\"x\":{\"dtype\":\"u4\",\"bdata\":\"AQAAAAIAAAADAAAABAAAAAUAAAAGAAAABwAAAAgAAAAJAAAACgAAAAsAAAAMAAAADQAAAA4AAAAPAAAAEAAAABEAAAASAAAAEwAAABQAAAAVAAAAFgAAABcAAAAYAAAAGQAAABoAAAAbAAAAHAAAAB0AAAAeAAAAHwAAACAAAAAhAAAAIgAAACMAAAAkAAAAJQAAACYAAAAnAAAAKAAAACkAAAAqAAAAKwAAACwAAAAtAAAALgAAAC8AAAAwAAAAMQAAADIAAAAzAAAANAAAAA==\"},\"y\":{\"dtype\":\"f8\",\"bdata\":\"ZZNNNtlksz\\u002fblahdidrFPzqL6Syms7g\\u002f2TMQlY7suT98bolTv+e2P57neZ7neb4\\u002fsZEOG+mwwT+e2Imd2Im9P2e38Ksxka4\\u002ffg6pCcZbuT\\u002fvl\\u002fV+We+3PxzF7M+H08A\\u002fjBgxYsSIwT+u5Pb8\\u002flS8P\\u002frRj370o68\\u002fURRFURRFwT+wOr6UMbvDPzaNLf5RlsM\\u002fDyGptOkQwj9T1pQ1ZU25Pz\\u002fzPRwJZsA\\u002fxq9RcFr8uj8JHumv5yq2P0dT59cecrk\\u002f1g2myGfdwD85kYwTyTjBP5qZmZmZmbk\\u002fezJ+u9STwT9BTK4gJlfAPyawaT9ZArs\\u002f8PjDAY8\\u002fvD\\u002fw+MMBjz+8Pzi96U1verM\\u002f9waUiSvduz8XwmwXwmy3P8XTHlcBwcA\\u002fHRX44uoHvT\\u002fT0tLS0tLCPx4eHh4eHr4\\u002fdGy+G35Uxz\\u002f5CXFWfkK8PyI1wXgr+7w\\u002fQUyuICZXwD\\u002f5IlFq7GG2P2DrCs3tVL4\\u002fxhhjjDHGuD\\u002fEmxFvRry5P9KkSZMmTbo\\u002f\\u002fFWckJJnuT9KnmVEH1DNP5PzsohPILU\\u002fwXgr+xxSwz8=\"},\"type\":\"scatter\"},{\"mode\":\"lines\",\"name\":\"2023\",\"x\":{\"dtype\":\"u4\",\"bdata\":\"AQAAAAIAAAADAAAABAAAAAUAAAAGAAAABwAAAAgAAAAJAAAACgAAAAsAAAAMAAAADQAAAA4AAAAPAAAAEAAAABEAAAASAAAAEwAAABQAAAAVAAAAFgAAABcAAAAYAAAAGQAAABoAAAAbAAAAHAAAAB0AAAAeAAAAHwAAACAAAAAhAAAAIgAAACMAAAAkAAAAJQAAACYAAAAnAAAAKAAAACkAAAAqAAAAKwAAACwAAAAtAAAALgAAAC8AAAAwAAAAMQAAADIAAAAzAAAANAAAAA==\"},\"y\":{\"dtype\":\"f8\",\"bdata\":\"GZyPwfkYvD+HtL3yloS6P57xjGc847k\\u002feyzxBKnHsj\\u002f57VJPxm+3PxdogRZogbY\\u002femsQJnuduz\\u002fux6MGlYKtPxjzqRfzqbc\\u002fEARBEARBsD+JbEQ2IhuxP+JCzUkgLrQ\\u002fdfOVOVtgtz\\u002fhS02bXRy4P3xPde5fy68\\u002fAAAAAAAAuD8SmYbtZnmyPxKZhu1mebI\\u002fXi1uwvyutj\\u002fXMGlsrne1P09PSJys6Lc\\u002fX0Uv06jNsT8Nx+i1mfauP5DKnnjFZLY\\u002fX6afSzFopj+U8EZT59euPwqrWxZ8PbU\\u002foUKFChUqtD8X4nU+c9+2PxVSIRVSIbU\\u002fyyNCU+1Xtz\\u002fxBKnHEk\\u002fAP7\\u002f2kMuKgcI\\u002fg6+nIk0fxD\\u002fr+FLG7E66P6neQ5HqPbQ\\u002fjYn0QOXstj8apEEapEG6P+DAgQMHDrw\\u002fqvNrD7msuD8j3FKzYX+3P6lUKpVKpcI\\u002fozjXMYpzrT\\u002fQusEU+ay7P7JGIiA+msA\\u002fuB6F61G4vj+VTMmUTMm0PyOaswbF074\\u002fiHG\\u002fLql8yD8XbMEWbMG2P5Z7GmG5p7E\\u002f45VPxGwuvT8=\"},\"type\":\"scatter\"},{\"mode\":\"lines\",\"name\":\"2024\",\"x\":{\"dtype\":\"u4\",\"bdata\":\"AQAAAAIAAAADAAAABAAAAAUAAAAGAAAABwAAAAgAAAAJAAAACgAAAAsAAAAMAAAADQAAAA4AAAAPAAAAEAAAABEAAAASAAAAEwAAABQAAAAVAAAAFgAAABcAAAAYAAAAGQAAABoAAAAbAAAAHAAAAB0AAAAeAAAAHwAAACAAAAAhAAAAIgAAACMAAAAkAAAAJQAAACYAAAAnAAAAKAAAACkAAAAqAAAAKwAAACwAAAAtAAAALgAAAC8AAAAwAAAAMQAAADIAAAAzAAAANAAAAA==\"},\"y\":{\"dtype\":\"f8\",\"bdata\":\"27Zt27Ztyz8eHh4eHh6uP6kJxlvZ59A\\u002fkiRJkiRJwj9HWO5phOXOP9u2bdu2bcs\\u002f+hicj8H5qD8XbMEWbMHGPxqkQRqkQco\\u002fEARBEARBwD+SJEmSJEmyP3AfwX0E96E\\u002fHMdxHMdxrD+EEEIIIYSgPwAAAAAAAAAAAAAAAAAAAAAAAAAAAAAAAAAAAAAAAAAAF+kW6Rbptj\\u002fxtylGDX+rP4Tk+VO91LI\\u002f1WlykHkpsT8KuM6yckupPxk2iJsn37E\\u002fxajhb1OMqj\\u002fnnHPOOeesP3fEHXFH3LE\\u002fEr1nEr1nsj+KndiJndipP6i2N1Mev7M\\u002fHh4eHh4erj8HG2ywwQa7P0YXXXTRRbc\\u002f5RdLfrHktz+E6jNtjb+7P5wwv6vFTbg\\u002fSTilefEnsj8+cq0QZFiyP\\u002fPV+sTvIbY\\u002fTEHoH93GtD9wYVJDNCW2PwpxVn5CnLU\\u002fvYbyGspruD9fQnsJ7SW0PwAAAAAAAAAAAAAAAAAAAAAAAAAAAAAAAAAAAAAAAAAAAAAAAAAAAAAAAAAAAAAAAAAAAAAAAAAAAAAAAAAAAAA=\"},\"type\":\"scatter\"}],                        {\"template\":{\"data\":{\"barpolar\":[{\"marker\":{\"line\":{\"color\":\"#E5ECF6\",\"width\":0.5},\"pattern\":{\"fillmode\":\"overlay\",\"size\":10,\"solidity\":0.2}},\"type\":\"barpolar\"}],\"bar\":[{\"error_x\":{\"color\":\"#2a3f5f\"},\"error_y\":{\"color\":\"#2a3f5f\"},\"marker\":{\"line\":{\"color\":\"#E5ECF6\",\"width\":0.5},\"pattern\":{\"fillmode\":\"overlay\",\"size\":10,\"solidity\":0.2}},\"type\":\"bar\"}],\"carpet\":[{\"aaxis\":{\"endlinecolor\":\"#2a3f5f\",\"gridcolor\":\"white\",\"linecolor\":\"white\",\"minorgridcolor\":\"white\",\"startlinecolor\":\"#2a3f5f\"},\"baxis\":{\"endlinecolor\":\"#2a3f5f\",\"gridcolor\":\"white\",\"linecolor\":\"white\",\"minorgridcolor\":\"white\",\"startlinecolor\":\"#2a3f5f\"},\"type\":\"carpet\"}],\"choropleth\":[{\"colorbar\":{\"outlinewidth\":0,\"ticks\":\"\"},\"type\":\"choropleth\"}],\"contourcarpet\":[{\"colorbar\":{\"outlinewidth\":0,\"ticks\":\"\"},\"type\":\"contourcarpet\"}],\"contour\":[{\"colorbar\":{\"outlinewidth\":0,\"ticks\":\"\"},\"colorscale\":[[0.0,\"#0d0887\"],[0.1111111111111111,\"#46039f\"],[0.2222222222222222,\"#7201a8\"],[0.3333333333333333,\"#9c179e\"],[0.4444444444444444,\"#bd3786\"],[0.5555555555555556,\"#d8576b\"],[0.6666666666666666,\"#ed7953\"],[0.7777777777777778,\"#fb9f3a\"],[0.8888888888888888,\"#fdca26\"],[1.0,\"#f0f921\"]],\"type\":\"contour\"}],\"heatmap\":[{\"colorbar\":{\"outlinewidth\":0,\"ticks\":\"\"},\"colorscale\":[[0.0,\"#0d0887\"],[0.1111111111111111,\"#46039f\"],[0.2222222222222222,\"#7201a8\"],[0.3333333333333333,\"#9c179e\"],[0.4444444444444444,\"#bd3786\"],[0.5555555555555556,\"#d8576b\"],[0.6666666666666666,\"#ed7953\"],[0.7777777777777778,\"#fb9f3a\"],[0.8888888888888888,\"#fdca26\"],[1.0,\"#f0f921\"]],\"type\":\"heatmap\"}],\"histogram2dcontour\":[{\"colorbar\":{\"outlinewidth\":0,\"ticks\":\"\"},\"colorscale\":[[0.0,\"#0d0887\"],[0.1111111111111111,\"#46039f\"],[0.2222222222222222,\"#7201a8\"],[0.3333333333333333,\"#9c179e\"],[0.4444444444444444,\"#bd3786\"],[0.5555555555555556,\"#d8576b\"],[0.6666666666666666,\"#ed7953\"],[0.7777777777777778,\"#fb9f3a\"],[0.8888888888888888,\"#fdca26\"],[1.0,\"#f0f921\"]],\"type\":\"histogram2dcontour\"}],\"histogram2d\":[{\"colorbar\":{\"outlinewidth\":0,\"ticks\":\"\"},\"colorscale\":[[0.0,\"#0d0887\"],[0.1111111111111111,\"#46039f\"],[0.2222222222222222,\"#7201a8\"],[0.3333333333333333,\"#9c179e\"],[0.4444444444444444,\"#bd3786\"],[0.5555555555555556,\"#d8576b\"],[0.6666666666666666,\"#ed7953\"],[0.7777777777777778,\"#fb9f3a\"],[0.8888888888888888,\"#fdca26\"],[1.0,\"#f0f921\"]],\"type\":\"histogram2d\"}],\"histogram\":[{\"marker\":{\"pattern\":{\"fillmode\":\"overlay\",\"size\":10,\"solidity\":0.2}},\"type\":\"histogram\"}],\"mesh3d\":[{\"colorbar\":{\"outlinewidth\":0,\"ticks\":\"\"},\"type\":\"mesh3d\"}],\"parcoords\":[{\"line\":{\"colorbar\":{\"outlinewidth\":0,\"ticks\":\"\"}},\"type\":\"parcoords\"}],\"pie\":[{\"automargin\":true,\"type\":\"pie\"}],\"scatter3d\":[{\"line\":{\"colorbar\":{\"outlinewidth\":0,\"ticks\":\"\"}},\"marker\":{\"colorbar\":{\"outlinewidth\":0,\"ticks\":\"\"}},\"type\":\"scatter3d\"}],\"scattercarpet\":[{\"marker\":{\"colorbar\":{\"outlinewidth\":0,\"ticks\":\"\"}},\"type\":\"scattercarpet\"}],\"scattergeo\":[{\"marker\":{\"colorbar\":{\"outlinewidth\":0,\"ticks\":\"\"}},\"type\":\"scattergeo\"}],\"scattergl\":[{\"marker\":{\"colorbar\":{\"outlinewidth\":0,\"ticks\":\"\"}},\"type\":\"scattergl\"}],\"scattermapbox\":[{\"marker\":{\"colorbar\":{\"outlinewidth\":0,\"ticks\":\"\"}},\"type\":\"scattermapbox\"}],\"scattermap\":[{\"marker\":{\"colorbar\":{\"outlinewidth\":0,\"ticks\":\"\"}},\"type\":\"scattermap\"}],\"scatterpolargl\":[{\"marker\":{\"colorbar\":{\"outlinewidth\":0,\"ticks\":\"\"}},\"type\":\"scatterpolargl\"}],\"scatterpolar\":[{\"marker\":{\"colorbar\":{\"outlinewidth\":0,\"ticks\":\"\"}},\"type\":\"scatterpolar\"}],\"scatter\":[{\"fillpattern\":{\"fillmode\":\"overlay\",\"size\":10,\"solidity\":0.2},\"type\":\"scatter\"}],\"scatterternary\":[{\"marker\":{\"colorbar\":{\"outlinewidth\":0,\"ticks\":\"\"}},\"type\":\"scatterternary\"}],\"surface\":[{\"colorbar\":{\"outlinewidth\":0,\"ticks\":\"\"},\"colorscale\":[[0.0,\"#0d0887\"],[0.1111111111111111,\"#46039f\"],[0.2222222222222222,\"#7201a8\"],[0.3333333333333333,\"#9c179e\"],[0.4444444444444444,\"#bd3786\"],[0.5555555555555556,\"#d8576b\"],[0.6666666666666666,\"#ed7953\"],[0.7777777777777778,\"#fb9f3a\"],[0.8888888888888888,\"#fdca26\"],[1.0,\"#f0f921\"]],\"type\":\"surface\"}],\"table\":[{\"cells\":{\"fill\":{\"color\":\"#EBF0F8\"},\"line\":{\"color\":\"white\"}},\"header\":{\"fill\":{\"color\":\"#C8D4E3\"},\"line\":{\"color\":\"white\"}},\"type\":\"table\"}]},\"layout\":{\"annotationdefaults\":{\"arrowcolor\":\"#2a3f5f\",\"arrowhead\":0,\"arrowwidth\":1},\"autotypenumbers\":\"strict\",\"coloraxis\":{\"colorbar\":{\"outlinewidth\":0,\"ticks\":\"\"}},\"colorscale\":{\"diverging\":[[0,\"#8e0152\"],[0.1,\"#c51b7d\"],[0.2,\"#de77ae\"],[0.3,\"#f1b6da\"],[0.4,\"#fde0ef\"],[0.5,\"#f7f7f7\"],[0.6,\"#e6f5d0\"],[0.7,\"#b8e186\"],[0.8,\"#7fbc41\"],[0.9,\"#4d9221\"],[1,\"#276419\"]],\"sequential\":[[0.0,\"#0d0887\"],[0.1111111111111111,\"#46039f\"],[0.2222222222222222,\"#7201a8\"],[0.3333333333333333,\"#9c179e\"],[0.4444444444444444,\"#bd3786\"],[0.5555555555555556,\"#d8576b\"],[0.6666666666666666,\"#ed7953\"],[0.7777777777777778,\"#fb9f3a\"],[0.8888888888888888,\"#fdca26\"],[1.0,\"#f0f921\"]],\"sequentialminus\":[[0.0,\"#0d0887\"],[0.1111111111111111,\"#46039f\"],[0.2222222222222222,\"#7201a8\"],[0.3333333333333333,\"#9c179e\"],[0.4444444444444444,\"#bd3786\"],[0.5555555555555556,\"#d8576b\"],[0.6666666666666666,\"#ed7953\"],[0.7777777777777778,\"#fb9f3a\"],[0.8888888888888888,\"#fdca26\"],[1.0,\"#f0f921\"]]},\"colorway\":[\"#636efa\",\"#EF553B\",\"#00cc96\",\"#ab63fa\",\"#FFA15A\",\"#19d3f3\",\"#FF6692\",\"#B6E880\",\"#FF97FF\",\"#FECB52\"],\"font\":{\"color\":\"#2a3f5f\"},\"geo\":{\"bgcolor\":\"white\",\"lakecolor\":\"white\",\"landcolor\":\"#E5ECF6\",\"showlakes\":true,\"showland\":true,\"subunitcolor\":\"white\"},\"hoverlabel\":{\"align\":\"left\"},\"hovermode\":\"closest\",\"mapbox\":{\"style\":\"light\"},\"paper_bgcolor\":\"white\",\"plot_bgcolor\":\"#E5ECF6\",\"polar\":{\"angularaxis\":{\"gridcolor\":\"white\",\"linecolor\":\"white\",\"ticks\":\"\"},\"bgcolor\":\"#E5ECF6\",\"radialaxis\":{\"gridcolor\":\"white\",\"linecolor\":\"white\",\"ticks\":\"\"}},\"scene\":{\"xaxis\":{\"backgroundcolor\":\"#E5ECF6\",\"gridcolor\":\"white\",\"gridwidth\":2,\"linecolor\":\"white\",\"showbackground\":true,\"ticks\":\"\",\"zerolinecolor\":\"white\"},\"yaxis\":{\"backgroundcolor\":\"#E5ECF6\",\"gridcolor\":\"white\",\"gridwidth\":2,\"linecolor\":\"white\",\"showbackground\":true,\"ticks\":\"\",\"zerolinecolor\":\"white\"},\"zaxis\":{\"backgroundcolor\":\"#E5ECF6\",\"gridcolor\":\"white\",\"gridwidth\":2,\"linecolor\":\"white\",\"showbackground\":true,\"ticks\":\"\",\"zerolinecolor\":\"white\"}},\"shapedefaults\":{\"line\":{\"color\":\"#2a3f5f\"}},\"ternary\":{\"aaxis\":{\"gridcolor\":\"white\",\"linecolor\":\"white\",\"ticks\":\"\"},\"baxis\":{\"gridcolor\":\"white\",\"linecolor\":\"white\",\"ticks\":\"\"},\"bgcolor\":\"#E5ECF6\",\"caxis\":{\"gridcolor\":\"white\",\"linecolor\":\"white\",\"ticks\":\"\"}},\"title\":{\"x\":0.05},\"xaxis\":{\"automargin\":true,\"gridcolor\":\"white\",\"linecolor\":\"white\",\"ticks\":\"\",\"title\":{\"standoff\":15},\"zerolinecolor\":\"white\",\"zerolinewidth\":2},\"yaxis\":{\"automargin\":true,\"gridcolor\":\"white\",\"linecolor\":\"white\",\"ticks\":\"\",\"title\":{\"standoff\":15},\"zerolinecolor\":\"white\",\"zerolinewidth\":2}}},\"title\":{\"text\":\"Tasa de positivos semanales por a\\u00f1o\"}},                        {\"responsive\": true}                    ).then(function(){\n",
       "                            \n",
       "var gd = document.getElementById('c7fe79c6-6193-4380-8571-9309ee34d4fa');\n",
       "var x = new MutationObserver(function (mutations, observer) {{\n",
       "        var display = window.getComputedStyle(gd).display;\n",
       "        if (!display || display === 'none') {{\n",
       "            console.log([gd, 'removed!']);\n",
       "            Plotly.purge(gd);\n",
       "            observer.disconnect();\n",
       "        }}\n",
       "}});\n",
       "\n",
       "// Listen for the removal of the full notebook cells\n",
       "var notebookContainer = gd.closest('#notebook-container');\n",
       "if (notebookContainer) {{\n",
       "    x.observe(notebookContainer, {childList: true});\n",
       "}}\n",
       "\n",
       "// Listen for the clearing of the current output cell\n",
       "var outputEl = gd.closest('.output');\n",
       "if (outputEl) {{\n",
       "    x.observe(outputEl, {childList: true});\n",
       "}}\n",
       "\n",
       "                        })                };            </script>        </div>"
      ]
     },
     "metadata": {},
     "output_type": "display_data"
    }
   ],
   "source": [
    "data= []\n",
    "week = df_week_p.copy()\n",
    "for col in week.columns:\n",
    "    trace = go.Scatter(\n",
    "        x = week.index,\n",
    "        y = week[col],\n",
    "        name = col,\n",
    "    # IMPORTANTE: establecemos que es un gráfico de líneas\n",
    "        mode = 'lines'\n",
    "    )\n",
    "\n",
    "    data.append(trace)\n",
    "\n",
    "layout = dict(\n",
    "            title = dict( text = \"Tasa de positivos semanales por año\" ),\n",
    "            # Configuración del eje X\n",
    "            xaxis = dict(\n",
    "\n",
    "            ),\n",
    "         )\n",
    "fig = go.Figure(data=data, layout=layout)\n",
    "iplot(fig)"
   ]
  },
  {
   "cell_type": "markdown",
   "metadata": {
    "id": "9Sa2DVjFHL1V"
   },
   "source": [
    "## Estudio de estacionalidad semanal usando la tasa\n",
    "\n",
    "En esta sección se analizará la estacionalidad semanal de la tasa de positivos de Leishmania. Se utilizarán herramientas estadísticas, como la descomposición de la serie y el análisis de autocorrelación.\n",
    "\n",
    "**Bibliografía:**\n",
    "\n",
    "- https://www.kaggle.com/code/iamleonie/time-series-interpreting-acf-and-pacf\n",
    "- https://machinelearningmastery.com/time-series-data-stationary-python/\n",
    "- https://machinelearningmastery.com/gentle-introduction-random-walk-times-series-forecasting-python/"
   ]
  },
  {
   "cell_type": "code",
   "execution_count": 40,
   "metadata": {
    "ExecuteTime": {
     "end_time": "2025-04-10T11:34:36.865779Z",
     "start_time": "2025-04-10T11:34:36.851703Z"
    },
    "id": "dbOTzUfyHL1W",
    "outputId": "630b4fb3-791e-42f0-f8e9-d404f4446488"
   },
   "outputs": [
    {
     "data": {
      "text/plain": [
       "Date\n",
       "2020-07-26    0.258065\n",
       "2020-08-02    0.000000\n",
       "2020-08-09    0.083333\n",
       "2020-08-16    0.000000\n",
       "2020-08-23    0.000000\n",
       "                ...   \n",
       "2024-10-06    0.081159\n",
       "2024-10-13    0.086505\n",
       "2024-10-20    0.084416\n",
       "2024-10-27    0.095395\n",
       "2024-11-03    0.078704\n",
       "Freq: W-SUN, Name: tasa_pos, Length: 224, dtype: float64"
      ]
     },
     "execution_count": 40,
     "metadata": {},
     "output_type": "execute_result"
    }
   ],
   "source": [
    "week = df_week['tasa_pos']\n",
    "# rellenamos las semanas para las que no tenemos datos con 0's\n",
    "week = week.resample('W').min().fillna(0)\n",
    "week"
   ]
  },
  {
   "cell_type": "code",
   "execution_count": 41,
   "metadata": {
    "ExecuteTime": {
     "end_time": "2025-04-10T10:26:06.061729Z",
     "start_time": "2025-04-10T10:26:02.859647Z"
    },
    "id": "9zdz1WeJHL1W",
    "outputId": "f88c435d-3ca4-4873-e347-686ad3281134"
   },
   "outputs": [
    {
     "name": "stdout",
     "output_type": "stream",
     "text": [
      "ADF Statistic: -2.319796\n",
      "p-value: 0.165663\n",
      "Critical Values:\n",
      "\t1%: -3.462\n",
      "\t5%: -2.875\n",
      "\t10%: -2.574\n",
      "RESULTADO: Non-stationary\n"
     ]
    }
   ],
   "source": [
    "# Aplicamos test de estacionalidad\n",
    "\n",
    "from statsmodels.tsa.stattools import adfuller\n",
    "\n",
    "def check_stationarity(series):\n",
    "    # Copied from https://machinelearningmastery.com/time-series-data-stationary-python/\n",
    "\n",
    "    result = adfuller(series.values)\n",
    "\n",
    "    print('ADF Statistic: %f' % result[0])\n",
    "    print('p-value: %f' % result[1])\n",
    "    print('Critical Values:')\n",
    "    for key, value in result[4].items():\n",
    "        print('\\t%s: %.3f' % (key, value))\n",
    "\n",
    "    if (result[1] <= 0.05) & (result[4]['5%'] > result[0]):\n",
    "        print(\"RESULTADO: Stationary\")\n",
    "    else:\n",
    "        print(\"RESULTADO: Non-stationary\")\n",
    "\n",
    "check_stationarity(week)"
   ]
  },
  {
   "cell_type": "markdown",
   "metadata": {
    "id": "vMD17cG0HL1W"
   },
   "source": [
    "El test de Dickey-Fuller Aumentado (ADF) aplicado a la serie semanal de la tasa de positivos de Leishmania arrojó un p-value mayor a 0.05, lo que indica que no se puede rechazar la hipótesis nula de no estacionariedad. Esto significa que la serie presenta tendencia o estacionalidad y no es estacionaria en su forma original. "
   ]
  },
  {
   "cell_type": "markdown",
   "metadata": {
    "id": "RIiiyqESHL1W"
   },
   "source": [
    "## Descomposición\n",
    "En esta sección se analizará la serie temporal semanal de la tasa de positivos de Leishmania mediante técnicas de descomposición. El objetivo es separar la serie en sus componentes principales: tendencia, estacionalidad y residuo. Esto permite identificar patrones subyacentes y comprender mejor la estructura de la serie antes de aplicar modelos de predicción o realizar análisis adicionales."
   ]
  },
  {
   "cell_type": "code",
   "execution_count": 42,
   "metadata": {
    "id": "I0sfW_aTHL1W",
    "outputId": "3cdf65a7-5450-46bf-9ccd-c167c95d334c"
   },
   "outputs": [
    {
     "data": {
      "text/plain": [
       "Date\n",
       "2020-07-26    0.258065\n",
       "2020-08-02    0.000000\n",
       "2020-08-09    0.083333\n",
       "2020-08-16    0.000000\n",
       "2020-08-23    0.000000\n",
       "                ...   \n",
       "2024-10-06    0.081159\n",
       "2024-10-13    0.086505\n",
       "2024-10-20    0.084416\n",
       "2024-10-27    0.095395\n",
       "2024-11-03    0.078704\n",
       "Freq: W-SUN, Name: tasa_pos, Length: 224, dtype: float64"
      ]
     },
     "execution_count": 42,
     "metadata": {},
     "output_type": "execute_result"
    }
   ],
   "source": [
    "week"
   ]
  },
  {
   "cell_type": "code",
   "execution_count": 43,
   "metadata": {
    "id": "zzqClQJuHL1X",
    "outputId": "0ab8bd05-1c39-4365-9827-8f92db6fb5f2"
   },
   "outputs": [
    {
     "data": {
      "image/png": "[encoded data removed]",
      "text/plain": [
       "<Figure size 640x480 with 4 Axes>"
      ]
     },
     "metadata": {},
     "output_type": "display_data"
    }
   ],
   "source": [
    "from statsmodels.tsa.seasonal import seasonal_decompose\n",
    "result = seasonal_decompose(week, model='additive', period=52)\n",
    "result.plot()\n",
    "plt.show()"
   ]
  },
  {
   "cell_type": "markdown",
   "metadata": {
    "id": "IKchACrgHL1X"
   },
   "source": [
    "## Estudio de autocorrelación y autocorrelación parcial\n",
    "\n",
    "La autocorrelación representa la correlación entre una secuencia y sí misma. Podemos hacer un análisis de autocorrelación para ver si los datos se correlacionan con la misma serie desplazada 1 semana, 2 semanas, 3 semanas, etc. A lo mejor podríamos ver que si en un año X el calor llega más tarde, los casos de Leishmania aparecen también más tarde en el año Y. Veríamos estacionalidad anual si en la semana 52 (más o menos) se ve un pico alto.\n",
    "\n",
    "La secuencia de hace varios períodos atrás se llama “retraso” o “lag” en inglés, porque es una versión retrasada de la original."
   ]
  },
  {
   "cell_type": "code",
   "execution_count": 44,
   "metadata": {
    "ExecuteTime": {
     "end_time": "2025-04-10T10:37:34.014058Z",
     "start_time": "2025-04-10T10:37:32.580723Z"
    },
    "id": "NhR_WHY_HL1X",
    "outputId": "3d5aaf74-b883-49f6-c323-2150af652bf2"
   },
   "outputs": [
    {
     "data": {
      "image/png": "[encoded data removed]",
      "text/plain": [
       "<Figure size 1400x600 with 2 Axes>"
      ]
     },
     "metadata": {},
     "output_type": "display_data"
    }
   ],
   "source": [
    "import matplotlib.pyplot as plt\n",
    "from statsmodels.graphics.tsaplots import plot_acf\n",
    "from statsmodels.graphics.tsaplots import plot_pacf\n",
    "\n",
    "fig, axes = plt.subplots(1, 2, figsize=(14, 6))  #\n",
    "\n",
    "plot_acf(week, lags=70, ax = axes[0])  # mirar hasta 3 años\n",
    "axes[0].set_title('ACF - Autocorrelación')\n",
    "\n",
    "\n",
    "# Graficar PACF\n",
    "plot_pacf(week, lags=70, ax = axes[1])  # lags es cuántos lags se muestran\n",
    "axes[1].set_title('PACF  Autocorrelación parcial');"
   ]
  },
  {
   "cell_type": "markdown",
   "metadata": {
    "id": "_5pHaNDKHL1Y"
   },
   "source": [
    "Este gráfico sugiere que nuestra serie temporal sigue un patrón de tipo \"random walk\", es decir, que los cambios en la serie temporal son aleatorios. Los random walks no son estacionarios, pero pueden volverse estacionarias al diferenciar."
   ]
  },
  {
   "cell_type": "markdown",
   "metadata": {
    "id": "pEj0qtMBHL1Y"
   },
   "source": [
    "En el gráfico izquierdo, los valores en el eje x representan los retrasos en semanas, que en este caso van hasta 70. En el eje Y tenemos los valores para el coeficiente de autocorrelación. La correlación solo puede tomar valores entre -1 y 1.\n",
    "Las líneas en el gráfico representan la autocorrelación entre el número de casos y una versión retrasada de de la serie. La primera línea indica la autocorrelación de la semana con sigo misma, la segunda línea representa la autocorrelación de la serie, con la serie con una senmana de retraso, y así sucesivamente. La primera línea es uno porque la correlación entre un valor y sí mismo siempre será uno.\n",
    "\n",
    "El área azul alrededor del eje X representa la significación de los valores de autocorrelación. Es decir, mide si son significativamente distintos de cero, lo que sugiere la existencia de autocorrelación para ese retraso específico.\n",
    "\n",
    "Lo que podemos ver, es que solo hay una correlación muy débil (0.37 aprox) con las semanas 6 y 12 semanas anteriores, es decir, el valor actual depende del valor de la semana 6 anterior. Si vemos la autocorrelación parcial (derecha), vemos que  hay correlación con el dato de la semana 6  anterior."
   ]
  },
  {
   "cell_type": "markdown",
   "metadata": {
    "id": "RqkHkPdpHL1Y"
   },
   "source": [
    "## Estudio de las diferencias\n",
    "\n",
    "Vamos a calcular la serie de la primera diferencia (diferencia con respecto al mes anterior):"
   ]
  },
  {
   "cell_type": "code",
   "execution_count": 54,
   "metadata": {
    "ExecuteTime": {
     "end_time": "2025-04-10T11:34:44.792910Z",
     "start_time": "2025-04-10T11:34:44.773637Z"
    },
    "id": "1wOM12J6HL1Z",
    "outputId": "995079f7-8927-436b-dd80-fb2de30ba7a3"
   },
   "outputs": [
    {
     "name": "stdout",
     "output_type": "stream",
     "text": [
      "ADF Statistic: -7.052612\n",
      "p-value: 0.000000\n",
      "Critical Values:\n",
      "\t1%: -3.462\n",
      "\t5%: -2.875\n",
      "\t10%: -2.574\n",
      "RESULTADO: Stationary\n"
     ]
    }
   ],
   "source": [
    "# Como la serie no es estacionaria, podemos aplicar diferenciación\n",
    "# Realizar una diferenciación simple\n",
    "w_diff = week.diff().dropna()\n",
    "\n",
    "# Comprobar si después de la diferenciación la serie es estacionaria\n",
    "check_stationarity(w_diff)"
   ]
  },
  {
   "cell_type": "markdown",
   "metadata": {
    "id": "XMpITwmgHL1Z"
   },
   "source": [
    "Las diferencias son estacionales. Ahora vemos la autocorrelación:\n",
    "\n",
    "Al aplicar la diferenciación estacional, eliminamos la tendencia y parte de la estacionalidad de la serie, permitiendo analizar mejor la estructura interna de los datos. La autocorrelación de la serie diferenciada nos ayuda a identificar si persisten patrones repetitivos o dependencias temporales tras este preprocesamiento. Si los valores de autocorrelación están dentro de los intervalos de confianza, indica que la serie diferenciada se comporta como ruido blanco y no presenta autocorrelación significativa, lo que es deseable para el modelado ARIMA."
   ]
  },
  {
   "cell_type": "code",
   "execution_count": 55,
   "metadata": {
    "ExecuteTime": {
     "end_time": "2025-04-10T11:34:47.794817Z",
     "start_time": "2025-04-10T11:34:47.550150Z"
    },
    "id": "0CFK342yHL1Z",
    "outputId": "ed44a0cb-e51d-4f86-9499-f5391820ae17"
   },
   "outputs": [
    {
     "data": {
      "image/png": "[encoded data removed]",
      "text/plain": [
       "<Figure size 1400x600 with 2 Axes>"
      ]
     },
     "metadata": {},
     "output_type": "display_data"
    }
   ],
   "source": [
    "from statsmodels.graphics.tsaplots import plot_acf\n",
    "from statsmodels.graphics.tsaplots import plot_pacf\n",
    "\n",
    "fig, axes = plt.subplots(1, 2, figsize=(14, 6))  #\n",
    "\n",
    "plot_acf(w_diff, lags=52, ax = axes[0])  # mirar hasta 3 años\n",
    "axes[0].set_title('ACF - Autocorrelación')\n",
    "\n",
    "\n",
    "# Graficar PACF\n",
    "plot_pacf(w_diff, lags=24, ax = axes[1])  # lags es cuántos lags se muestran\n",
    "axes[1].set_title('PACF  Autocorrelación parcial');"
   ]
  },
  {
   "cell_type": "markdown",
   "metadata": {
    "id": "Sl5egcLcHL1a"
   },
   "source": [
    "En este caso, los valores de la autocorrelación son pequeños, cercanas a cero y por debajo de los niveles de confianza del 95 %"
   ]
  },
  {
   "cell_type": "markdown",
   "metadata": {
    "id": "S5QZ69G1HL1a"
   },
   "source": [
    "## Selección de los mejores parámetros para el modelo ARIMA\n",
    "En esta sección se realizará una búsqueda de los valores óptimos de los parámetros (p, d, q) para ajustar un modelo ARIMA a la serie temporal semanal de la tasa de positivos."
   ]
  },
  {
   "cell_type": "code",
   "execution_count": 56,
   "metadata": {
    "ExecuteTime": {
     "end_time": "2025-04-10T11:35:39.077653Z",
     "start_time": "2025-04-10T11:35:20.716998Z"
    },
    "id": "UloiNIsdHL1a",
    "outputId": "6066b34f-1db3-4c79-9116-7cab31fd6f78"
   },
   "outputs": [
    {
     "name": "stdout",
     "output_type": "stream",
     "text": [
      "Mejor modelo ARIMA: (2, 0, 3) con AIC = -205.73\n"
     ]
    }
   ],
   "source": [
    "import pandas as pd\n",
    "import numpy as np\n",
    "from statsmodels.tsa.arima.model import ARIMA\n",
    "import warnings\n",
    "warnings.filterwarnings(\"ignore\")\n",
    "\n",
    "# Suponiendo que `data` es tu serie temporal\n",
    "# data = pd.Series(...)\n",
    "\n",
    "best_aic = np.inf\n",
    "best_order = None\n",
    "best_model = None\n",
    "\n",
    "# Define rangos posibles para p, d, q\n",
    "p_range = range(0, 4)\n",
    "d_range = range(0,4)\n",
    "q_range = range(0, 4)\n",
    "\n",
    "# Grid search\n",
    "for p in p_range:\n",
    "    for d in d_range:\n",
    "        for q in q_range:\n",
    "            try:\n",
    "                model = ARIMA(week, order=(p, d, q)).fit()\n",
    "                if model.aic < best_aic:\n",
    "                    best_aic = model.aic\n",
    "                    best_order = (p, d, q)\n",
    "                    best_model = model\n",
    "            except:\n",
    "                continue\n",
    "\n",
    "print(f\"Mejor modelo ARIMA: {best_order} con AIC = {best_aic:.2f}\")\n"
   ]
  },
  {
   "cell_type": "markdown",
   "metadata": {
    "id": "Wuy1uI85HL1b"
   },
   "source": [
    "* p = 2: número de retardos autoregresivos (AR). El modelo se basa en las 2 observaciones anteriores para predecir la siguiente.\n",
    "* d = 0: número de diferenciaciones necesarias para hacer la serie estacionaria (I, de \"Integrated\"). Esto es raro. Sale 0, como si la serie inicial fuera estacionaria, aunque no lo es. El caso es que al devolver 0, es como si no hiciéramos diferenciación.\n",
    "* q = 3: número de términos del promedio móvil (MA). Usa los últimos 3 errores del modelo (residuos) para mejorar la predicción."
   ]
  },
  {
   "cell_type": "markdown",
   "metadata": {
    "id": "4jHMZxqQHL1b"
   },
   "source": [
    "### Predicción\n",
    "\n",
    "Vamos a ver qué dice ARIMA:"
   ]
  },
  {
   "cell_type": "code",
   "execution_count": 57,
   "metadata": {
    "ExecuteTime": {
     "end_time": "2025-04-10T11:32:08.884578Z",
     "start_time": "2025-04-10T11:32:07.976739Z"
    },
    "id": "3EZUE3ScHL1b",
    "outputId": "1383d294-c178-4c02-ba3c-84cafbc5f7b0"
   },
   "outputs": [
    {
     "name": "stdout",
     "output_type": "stream",
     "text": [
      "                               SARIMAX Results                                \n",
      "==============================================================================\n",
      "Dep. Variable:               tasa_pos   No. Observations:                  224\n",
      "Model:                 ARIMA(2, 0, 3)   Log Likelihood                 109.866\n",
      "Date:                Sun, 24 Aug 2025   AIC                           -205.731\n",
      "Time:                        11:49:32   BIC                           -181.850\n",
      "Sample:                    07-26-2020   HQIC                          -196.092\n",
      "                         - 11-03-2024                                         \n",
      "Covariance Type:                  opg                                         \n",
      "==============================================================================\n",
      "                 coef    std err          z      P>|z|      [0.025      0.975]\n",
      "------------------------------------------------------------------------------\n",
      "const          0.1160      0.026      4.458      0.000       0.065       0.167\n",
      "ar.L1          1.3444      0.146      9.200      0.000       1.058       1.631\n",
      "ar.L2         -0.5197      0.123     -4.227      0.000      -0.761      -0.279\n",
      "ma.L1         -1.3637      0.154     -8.847      0.000      -1.666      -1.062\n",
      "ma.L2          0.3641      0.199      1.832      0.067      -0.025       0.754\n",
      "ma.L3          0.2457      0.082      3.014      0.003       0.086       0.405\n",
      "sigma2         0.0219      0.002     14.144      0.000       0.019       0.025\n",
      "===================================================================================\n",
      "Ljung-Box (L1) (Q):                   0.04   Jarque-Bera (JB):              3285.96\n",
      "Prob(Q):                              0.85   Prob(JB):                         0.00\n",
      "Heteroskedasticity (H):               0.06   Skew:                             3.60\n",
      "Prob(H) (two-sided):                  0.00   Kurtosis:                        20.32\n",
      "===================================================================================\n",
      "\n",
      "Warnings:\n",
      "[1] Covariance matrix calculated using the outer product of gradients (complex-step).\n"
     ]
    }
   ],
   "source": [
    "from statsmodels.tsa.arima.model import ARIMA\n",
    "\n",
    "# Supón que 'y' es tu serie temporal\n",
    "model = ARIMA(week, order=(2, 0, 3))\n",
    "results = model.fit()\n",
    "\n",
    "print(results.summary())"
   ]
  },
  {
   "cell_type": "markdown",
   "metadata": {
    "id": "W83jyZyiHL1b"
   },
   "source": [
    "* Log-Likelihood: cuanto más cercano a 0 mejor\n",
    "* sigma2: valor bajo lo que nos dice que la varianza de los residuos es pequeña ( p-value = 0 <  0.001 ) significativo\n",
    "* Residuos: Se producen 3 cosas no deseables:\n",
    "    * Hay correlación entre los residuos, lo cual es malo . (Ljung-Box).\n",
    "    * No hay normalidad de residuos (Jarque-Bera (esto es malo)).\n",
    "    * Hay Heterocesasticiadad (varianza no es constante).\n",
    "\n",
    "Luego este modelo no captura bien la estructura de los datos.\n",
    "\n",
    "#### Analizamos los residuos para asegurarnos de que el modelo no es bueno."
   ]
  },
  {
   "cell_type": "code",
   "execution_count": 58,
   "metadata": {
    "id": "vIG7gyhaHL1c",
    "outputId": "bb91034b-ff6b-4aef-9b91-e35617e06330"
   },
   "outputs": [
    {
     "name": "stdout",
     "output_type": "stream",
     "text": [
      "      lb_stat  lb_pvalue\n",
      "52  78.255245   0.010742\n"
     ]
    }
   ],
   "source": [
    "# autocorrrelación de residuos\n",
    "from statsmodels.stats.diagnostic import acorr_ljungbox\n",
    "\n",
    "ljung_box = acorr_ljungbox(results.resid, lags=[52], return_df=True)\n",
    "\n",
    "print(ljung_box)"
   ]
  },
  {
   "cell_type": "markdown",
   "metadata": {
    "id": "fvMYMYBbHL1c"
   },
   "source": [
    "p-valor < 0.05, autocorrelación  de residuos"
   ]
  },
  {
   "cell_type": "code",
   "execution_count": 59,
   "metadata": {
    "ExecuteTime": {
     "end_time": "2025-04-10T11:40:51.469811Z",
     "start_time": "2025-04-10T11:40:51.344327Z"
    },
    "id": "dQb-lUGbHL1c",
    "outputId": "a0ca47c0-c423-473d-d6b7-78adc7a7ed7c"
   },
   "outputs": [
    {
     "data": {
      "image/png": "[encoded data removed]",
      "text/plain": [
       "<Figure size 640x480 with 1 Axes>"
      ]
     },
     "metadata": {},
     "output_type": "display_data"
    }
   ],
   "source": [
    "# Analizamos los residuos.\n",
    "# Si todos los puntos están dentro del intervalo de confianza (líneas azules), los residuos no están autocorrelacionados, lo cual es bueno\n",
    "plot_acf(results.resid, lags=20)\n",
    "plt.title(\"ACF de los residuos\")\n",
    "plt.show()"
   ]
  },
  {
   "cell_type": "code",
   "execution_count": 60,
   "metadata": {
    "ExecuteTime": {
     "end_time": "2025-04-10T11:42:19.437992Z",
     "start_time": "2025-04-10T11:42:19.154196Z"
    },
    "id": "LX6lK8GLHL1d",
    "outputId": "e647b17f-9648-49f5-ca4f-300accf17672"
   },
   "outputs": [
    {
     "data": {
      "image/png": "[encoded data removed]",
      "text/plain": [
       "<Figure size 640x480 with 1 Axes>"
      ]
     },
     "metadata": {},
     "output_type": "display_data"
    },
    {
     "name": "stdout",
     "output_type": "stream",
     "text": [
      "p-valor Shapiro-Wilk: 0.0000\n",
      "residuos no normales\n"
     ]
    }
   ],
   "source": [
    "# analisis de residuos\n",
    "import seaborn as sns\n",
    "from scipy.stats import shapiro\n",
    "\n",
    "# Histograma con curva KDE\n",
    "sns.histplot(results.resid, kde=True)\n",
    "plt.title(\"Distribución de los residuos\")\n",
    "plt.show()\n",
    "\n",
    "# Prueba de Shapiro-Wilk\n",
    "stat, p = shapiro(results.resid)\n",
    "print(f\"p-valor Shapiro-Wilk: {p:.4f}\")\n",
    "\n",
    "if p > 0.05:\n",
    "    print(\"residuos aproximadamente normales\")\n",
    "else:\n",
    "    print(\"residuos no normales\")\n"
   ]
  },
  {
   "cell_type": "code",
   "execution_count": 61,
   "metadata": {
    "ExecuteTime": {
     "end_time": "2025-04-10T11:43:37.950840Z",
     "start_time": "2025-04-10T11:43:37.943273Z"
    },
    "id": "UyY5ZKvCHL1d",
    "outputId": "03c4a22c-79a6-4ced-99aa-2b8bcd3a7518"
   },
   "outputs": [
    {
     "name": "stdout",
     "output_type": "stream",
     "text": [
      "ARCH Test p-valor: 0.0000\n",
      "heterocedasticidad (varianza no constante)\n"
     ]
    }
   ],
   "source": [
    "from statsmodels.stats.diagnostic import het_arch\n",
    "\n",
    "arch_test = het_arch(results.resid)\n",
    "print(f\"ARCH Test p-valor: {arch_test[1]:.4f}\")\n",
    "\n",
    "if arch_test[1] > 0.05:\n",
    "    print(\"(varianza constante)\")\n",
    "else:\n",
    "    print(\"heterocedasticidad (varianza no constante)\")"
   ]
  },
  {
   "cell_type": "markdown",
   "metadata": {
    "id": "MNYtdc0kHL1e"
   },
   "source": [
    "Con el análisis de residuos, concluimos que Arima no es apropiado"
   ]
  },
  {
   "cell_type": "markdown",
   "metadata": {
    "id": "l5ugLbwbHL1f"
   },
   "source": [
    "# Predicciones\n",
    "\n",
    "Cómo quedarían las predicciones (aunque ya hemos dicho que el modelo no va bien aquí)\n"
   ]
  },
  {
   "cell_type": "code",
   "execution_count": 62,
   "metadata": {
    "id": "CuJGmAL8HL1f",
    "outputId": "d8ce9a8f-948a-4a8e-b59e-c5ebf0cb7cdf"
   },
   "outputs": [
    {
     "name": "stdout",
     "output_type": "stream",
     "text": [
      "Predicciones:\n",
      " 2024-09-01    0.125931\n",
      "2024-09-08    0.135457\n",
      "2024-09-15    0.088675\n",
      "2024-09-22    0.127061\n",
      "2024-09-29    0.131258\n",
      "2024-10-06    0.091869\n",
      "2024-10-13    0.127692\n",
      "2024-10-20    0.127697\n",
      "2024-10-27    0.094877\n",
      "2024-11-03    0.127924\n",
      "Freq: W-SUN, Name: predicted_mean, dtype: float64\n",
      "\n",
      "Intervalos de confianza:\n",
      "             lower tasa_pos  upper tasa_pos\n",
      "2024-09-01       -0.169043        0.420905\n",
      "2024-09-08       -0.163290        0.434204\n",
      "2024-09-15       -0.210946        0.388296\n",
      "2024-09-22       -0.172945        0.427067\n",
      "2024-09-29       -0.171586        0.434102\n",
      "2024-10-06       -0.211820        0.395557\n",
      "2024-10-13       -0.176161        0.431545\n",
      "2024-10-20       -0.178267        0.433662\n",
      "2024-10-27       -0.211870        0.401624\n",
      "2024-11-03       -0.178876        0.434724\n"
     ]
    },
    {
     "data": {
      "image/png": "[encoded data removed]",
      "text/plain": [
       "<Figure size 1000x500 with 1 Axes>"
      ]
     },
     "metadata": {},
     "output_type": "display_data"
    }
   ],
   "source": [
    "# Ajustamos el modelo ARIMA\n",
    "# entrenamos el modelo con 10 semanas menos\n",
    "model = ARIMA(week.iloc[:-10], order=(2, 1, 3))\n",
    "model_fit = model.fit()\n",
    "\n",
    "# Predicciones futuras (por ejemplo, 6 pasos adelante)\n",
    "forecast = model_fit.get_forecast(steps=10)\n",
    "predicted_mean = forecast.predicted_mean\n",
    "conf_int = forecast.conf_int()\n",
    "\n",
    "# Mostrar resultados\n",
    "print(\"Predicciones:\\n\", predicted_mean)\n",
    "print(\"\\nIntervalos de confianza:\\n\", conf_int)\n",
    "\n",
    "#  Pintamos los resultados de la predicción\n",
    "plt.figure(figsize=(10, 5))\n",
    "plt.plot(week, label='Serie Original')\n",
    "plt.plot(predicted_mean.index, predicted_mean, label='Pronóstico', color='red')\n",
    "plt.fill_between(predicted_mean.index,\n",
    "                 conf_int.iloc[:, 0], conf_int.iloc[:, 1],\n",
    "                 color='lightgreen', alpha=0.3, label='Intervalo Confianza')\n",
    "plt.legend()\n",
    "plt.show()"
   ]
  },
  {
   "cell_type": "markdown",
   "metadata": {},
   "source": [
    "__Conclusion__\n",
    "\n",
    "A pesar de las limitaciones identificadas en el modelo ARIMA, se generaron predicciones para las próximas 10 semanas a modo ilustrativo. Se ajustó el modelo a una porción de los datos (excluyendo las últimas 10 semanas) y se obtuvieron las predicciones con sus respectivos intervalos de confianza. La visualización de las predicciones mostró una tasa de positivos fluctuante con intervalos de confianza amplios, reforzando la conclusión de que el modelo ARIMA (2, 0, 3) no es el más adecuado para esta serie temporal."
   ]
  }
 ],
 "metadata": {
  "colab": {
   "provenance": []
  },
  "kernelspec": {
   "display_name": "Python 3",
   "language": "python",
   "name": "python3"
  },
  "language_info": {
   "codemirror_mode": {
    "name": "ipython",
    "version": 3
   },
   "file_extension": ".py",
   "mimetype": "text/x-python",
   "name": "python",
   "nbconvert_exporter": "python",
   "pygments_lexer": "ipython3",
   "version": "3.12.0"
  }
 },
 "nbformat": 4,
 "nbformat_minor": 0
}
