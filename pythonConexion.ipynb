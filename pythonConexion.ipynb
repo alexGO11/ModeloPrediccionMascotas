{
 "cells": [
  {
   "cell_type": "markdown",
   "metadata": {},
   "source": [
    "## Conectarse a MySQL mediante Python"
   ]
  },
  {
   "cell_type": "code",
   "execution_count": 1,
   "metadata": {},
   "outputs": [],
   "source": [
    "import mysql.connector\n",
    "from mysql.connector import Error"
   ]
  },
  {
   "cell_type": "markdown",
   "metadata": {},
   "source": [
    "Lo que primero se necesita es un diccionario para la configuracion de la conexion."
   ]
  },
  {
   "cell_type": "code",
   "execution_count": 2,
   "metadata": {},
   "outputs": [],
   "source": [
    "config = {\n",
    "    'user': 'root',          # Usuario de MySQL\n",
    "    'password': 'mascotas12@',  # Contraseña de MySQL\n",
    "    'host': '127.0.0.1',     # Host (localhost)\n",
    "    'database': 'mascotas',  # Nombre de la base de datos\n",
    "    'raise_on_warnings': True\n",
    "}"
   ]
  },
  {
   "cell_type": "markdown",
   "metadata": {},
   "source": [
    "Ahora ejecutaremos el script para insertar datos"
   ]
  },
  {
   "cell_type": "code",
   "execution_count": 4,
   "metadata": {},
   "outputs": [
    {
     "name": "stdout",
     "output_type": "stream",
     "text": [
      "Conexión exitosa a la base de datos\n",
      "Error al conectarse a MySQL: Failed getting warnings; 2014 (HY000): Commands out of sync; you can't run this command now\n"
     ]
    }
   ],
   "source": [
    "try:\n",
    "    # Conectar a la base de datos\n",
    "    conexion = mysql.connector.connect(**config)\n",
    "\n",
    "    if conexion.is_connected():\n",
    "        print(\"Conexión exitosa a la base de datos\")\n",
    "\n",
    "        # Crear un cursor para ejecutar consultas\n",
    "        cursor = conexion.cursor()\n",
    "\n",
    "        # Crear una tabla si no existe\n",
    "        crear_tabla = \"\"\"\n",
    "        CREATE TABLE IF NOT EXISTS codigo_postal (\n",
    "            cod_postal INT PRIMARY KEY,\n",
    "            cantidad_casos INT DEFAULT 0,\n",
    "            latitud FLOAT,\n",
    "            longitud FLOAT\n",
    "        );\n",
    "\n",
    "        CREATE TABLE IF NOT EXISTS codigo_postal_adyacente (\n",
    "            cod_postal_origen INT,\n",
    "            cod_postal_adyacente INT,\n",
    "            PRIMARY KEY (cod_postal_origen, cod_postal_adyacente),\n",
    "            FOREIGN KEY (cod_postal_origen) REFERENCES codigo_postal(cod_postal),\n",
    "            FOREIGN KEY (cod_postal_adyacente) REFERENCES codigo_postal(cod_postal)\n",
    "        );\n",
    "\n",
    "        CREATE TABLE IF NOT EXISTS mascota (\n",
    "            id_mascota SERIAL PRIMARY KEY,\n",
    "            ciudad VARCHAR(50),\n",
    "            edad INT,\n",
    "            sexo VARCHAR(10)  -- Campo crítico para consultas como \"machos\"\n",
    "        );\n",
    "\n",
    "        CREATE TABLE IF NOT EXISTS test (\n",
    "            id_test SERIAL PRIMARY KEY,\n",
    "            cod_postal INT REFERENCES codigo_postal(cod_postal),\n",
    "            fecha DATE NOT NULL,\n",
    "            enfermedad VARCHAR(50) NOT NULL,\n",
    "            id_mascota INT REFERENCES mascota(id_mascota),\n",
    "            resultado BOOLEAN NOT NULL  -- TRUE = positivo, FALSE = negativo\n",
    "        );\n",
    "        \"\"\"\n",
    "        cursor.execute(crear_tabla)\n",
    "\n",
    "        # Insertar datos en la tabla\n",
    "        insertar_datos = \"\"\"\n",
    "        INSERT INTO mascotas (nombre, edad, especie)\n",
    "        VALUES (%s, %s, %s)\n",
    "        \"\"\"\n",
    "        datos = [\n",
    "            (\"Firulais\", 3, \"Perro\"),\n",
    "            (\"Michi\", 2, \"Gato\"),\n",
    "            (\"Piolín\", 1, \"Pájaro\")\n",
    "        ]\n",
    "\n",
    "        cursor.executemany(insertar_datos, datos)\n",
    "        conexion.commit()  # Confirmar la transacción\n",
    "        print(f\"{cursor.rowcount} registros insertados\")\n",
    "\n",
    "except Error as e:\n",
    "    print(f\"Error al conectarse a MySQL: {e}\")\n",
    "\n",
    "finally:\n",
    "    # Cerrar la conexión\n",
    "    if conexion.is_connected():\n",
    "        cursor.close()\n",
    "        conexion.close()\n",
    "        print(\"Conexión cerrada\")"
   ]
  }
 ],
 "metadata": {
  "kernelspec": {
   "display_name": "Python 3",
   "language": "python",
   "name": "python3"
  },
  "language_info": {
   "codemirror_mode": {
    "name": "ipython",
    "version": 3
   },
   "file_extension": ".py",
   "mimetype": "text/x-python",
   "name": "python",
   "nbconvert_exporter": "python",
   "pygments_lexer": "ipython3",
   "version": "3.13.1"
  }
 },
 "nbformat": 4,
 "nbformat_minor": 2
}
