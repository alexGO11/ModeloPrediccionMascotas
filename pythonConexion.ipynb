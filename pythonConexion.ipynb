{
 "cells": [
  {
   "cell_type": "markdown",
   "metadata": {},
   "source": [
    "## Conectarse a MySQL mediante Python"
   ]
  },
  {
   "cell_type": "code",
   "execution_count": 7,
   "metadata": {},
   "outputs": [],
   "source": [
    "import mysql.connector\n",
    "from mysql.connector import Error\n",
    "import csv"
   ]
  },
  {
   "cell_type": "markdown",
   "metadata": {},
   "source": [
    "Lo que primero se necesita es un diccionario para la configuracion de la conexion."
   ]
  },
  {
   "cell_type": "code",
   "execution_count": 8,
   "metadata": {},
   "outputs": [],
   "source": [
    "config = {\n",
    "    'user': 'root',          # Usuario de MySQL\n",
    "    'password': 'mascotas12@',  # Contraseña de MySQL\n",
    "    'host': '127.0.0.1',     # Host (localhost)\n",
    "    'database': 'mascotas',  # Nombre de la base de datos\n",
    "    'raise_on_warnings': True\n",
    "}"
   ]
  },
  {
   "cell_type": "markdown",
   "metadata": {},
   "source": [
    "Ahora ejecutaremos el script para insertar datos"
   ]
  },
  {
   "cell_type": "code",
   "execution_count": 13,
   "metadata": {},
   "outputs": [
    {
     "name": "stdout",
     "output_type": "stream",
     "text": [
      "Columnas detectadas: ['\\ufeffDate', 'Geo Location', 'Name test', 'Value test', 'Pet sex', 'Pet age', 'Country', 'City', 'Postal code']\n"
     ]
    }
   ],
   "source": [
    "with open('data/new_data.csv', newline='', encoding='utf-8') as csvfile:\n",
    "    reader = csv.DictReader(csvfile)\n",
    "    print(\"Columnas detectadas:\", reader.fieldnames)  # Imprime las columnas del CSV"
   ]
  },
  {
   "cell_type": "code",
   "execution_count": null,
   "metadata": {},
   "outputs": [
    {
     "name": "stdout",
     "output_type": "stream",
     "text": [
      "Conexión cerrada\n"
     ]
    },
    {
     "ename": "KeyError",
     "evalue": "'Date'",
     "output_type": "error",
     "traceback": [
      "\u001b[1;31m---------------------------------------------------------------------------\u001b[0m",
      "\u001b[1;31mKeyError\u001b[0m                                  Traceback (most recent call last)",
      "Cell \u001b[1;32mIn[12], line 36\u001b[0m\n\u001b[0;32m     31\u001b[0m         \u001b[38;5;66;03m# Insertar en test\u001b[39;00m\n\u001b[0;32m     32\u001b[0m         sql_test \u001b[38;5;241m=\u001b[39m \u001b[38;5;124m\"\"\"\u001b[39m\n\u001b[0;32m     33\u001b[0m \u001b[38;5;124m        INSERT INTO test (cod_postal, fecha, enfermedad, id_mascota, resultado)\u001b[39m\n\u001b[0;32m     34\u001b[0m \u001b[38;5;124m        VALUES (\u001b[39m\u001b[38;5;132;01m%s\u001b[39;00m\u001b[38;5;124m, \u001b[39m\u001b[38;5;132;01m%s\u001b[39;00m\u001b[38;5;124m, \u001b[39m\u001b[38;5;132;01m%s\u001b[39;00m\u001b[38;5;124m, \u001b[39m\u001b[38;5;132;01m%s\u001b[39;00m\u001b[38;5;124m, \u001b[39m\u001b[38;5;132;01m%s\u001b[39;00m\u001b[38;5;124m)\u001b[39m\n\u001b[0;32m     35\u001b[0m \u001b[38;5;124m        \u001b[39m\u001b[38;5;124m\"\"\"\u001b[39m\n\u001b[1;32m---> 36\u001b[0m         cursor\u001b[38;5;241m.\u001b[39mexecute(sql_test, (row[\u001b[38;5;124m\"\u001b[39m\u001b[38;5;124mPostal code\u001b[39m\u001b[38;5;124m\"\u001b[39m], \u001b[43mrow\u001b[49m\u001b[43m[\u001b[49m\u001b[38;5;124;43m\"\u001b[39;49m\u001b[38;5;124;43mDate\u001b[39;49m\u001b[38;5;124;43m\"\u001b[39;49m\u001b[43m]\u001b[49m, row[\u001b[38;5;124m\"\u001b[39m\u001b[38;5;124mName test\u001b[39m\u001b[38;5;124m\"\u001b[39m], id_mascota, row[\u001b[38;5;124m\"\u001b[39m\u001b[38;5;124mValue test\u001b[39m\u001b[38;5;124m\"\u001b[39m]))\n\u001b[0;32m     38\u001b[0m conexion\u001b[38;5;241m.\u001b[39mcommit()\n\u001b[0;32m     39\u001b[0m \u001b[38;5;28mprint\u001b[39m(\u001b[38;5;124m\"\u001b[39m\u001b[38;5;124mDatos insertados correctamente desde el CSV.\u001b[39m\u001b[38;5;124m\"\u001b[39m)\n",
      "\u001b[1;31mKeyError\u001b[0m: 'Date'"
     ]
    }
   ],
   "source": [
    "try:\n",
    "    # Conectar a la base de datos\n",
    "    conexion = mysql.connector.connect(**config)\n",
    "\n",
    "    if conexion.is_connected():\n",
    "\n",
    "        cursor = conexion.cursor()\n",
    "        with open('data/new_data.csv', newline='', encoding='utf-8') as csvfile:\n",
    "            reader = csv.DictReader(csvfile)\n",
    "            \n",
    "            for row in reader:\n",
    "                # Insertar en codigo_postal\n",
    "                sql_cod_postal = \"\"\"\n",
    "                INSERT INTO codigo_postal (cod_postal, cantidad_casos, latitud, longitud)\n",
    "                VALUES (%s, %s, %s, %s)\n",
    "                ON DUPLICATE KEY UPDATE cantidad_casos = cantidad_casos + 1\n",
    "                \"\"\"\n",
    "                cursor.execute(sql_cod_postal, (row[\"Postal code\"], 1, 0, 0))\n",
    "                \n",
    "                # Insertar en mascota\n",
    "                sql_mascota = \"\"\"\n",
    "                INSERT INTO mascota (ciudad, edad, sexo)\n",
    "                VALUES (%s, %s, %s)\n",
    "                \"\"\"\n",
    "                age = row[\"Pet age\"]\n",
    "                if age is not int():\n",
    "                    age = 0\n",
    "                cursor.execute(sql_mascota, (row[\"City\"], age, row[\"Pet sex\"]))\n",
    "                id_mascota = cursor.lastrowid\n",
    "                \n",
    "                # Insertar en test\n",
    "                sql_test = \"\"\"\n",
    "                INSERT INTO test (cod_postal, fecha, enfermedad, id_mascota, resultado)\n",
    "                VALUES (%s, %s, %s, %s, %s)\n",
    "                \"\"\"\n",
    "                cursor.execute(sql_test, (row[\"Postal code\"], row[\"\\ufeffDate\"], row[\"Name test\"], id_mascota, row[\"Value test\"]))\n",
    "                \n",
    "        conexion.commit()\n",
    "        print(\"Datos insertados correctamente desde el CSV.\")\n",
    "\n",
    "except Error as e:\n",
    "    print(f\"Error al conectarse a MySQL: {e}\")\n",
    "\n",
    "finally:\n",
    "    # Cerrar la conexión\n",
    "    if conexion.is_connected():\n",
    "        cursor.close()\n",
    "        conexion.close()\n",
    "        print(\"Conexión cerrada\")"
   ]
  }
 ],
 "metadata": {
  "kernelspec": {
   "display_name": "Python 3",
   "language": "python",
   "name": "python3"
  },
  "language_info": {
   "codemirror_mode": {
    "name": "ipython",
    "version": 3
   },
   "file_extension": ".py",
   "mimetype": "text/x-python",
   "name": "python",
   "nbconvert_exporter": "python",
   "pygments_lexer": "ipython3",
   "version": "3.13.1"
  }
 },
 "nbformat": 4,
 "nbformat_minor": 2
}
