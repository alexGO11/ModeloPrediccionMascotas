{
 "cells": [
  {
   "cell_type": "markdown",
   "metadata": {},
   "source": [
    "## Getis ord con Pysal"
   ]
  },
  {
   "cell_type": "markdown",
   "metadata": {},
   "source": [
    "### 1. Preparar los datos\n",
    "Asumiendo que tienes una tabla df con las siguientes columnas:\n",
    "- postal_code: Código postal.\n",
    "- positivity_rate: Tasa de positividad ajustada por la población de mascotas. Para conseguir este número, hay que sumar todos los casos positivos y strong positive de un mismo CP y luego dividir por la estimación de la población de mascotas de ese CP (esto es una posible normalización)\n",
    "- geometry: Geometría de los códigos postales en formato de polígonos (esto se puede obtener con geopandas).\n"
   ]
  },
  {
   "cell_type": "code",
   "execution_count": null,
   "metadata": {},
   "outputs": [],
   "source": [
    "# imports\n",
    "import pandas as pd\n",
    "\n",
    "import geopandas as gpd\n",
    "from libpysal.weights import DistanceBand\n",
    "\n",
    "from esda import G_Local\n",
    "import numpy as np"
   ]
  },
  {
   "cell_type": "code",
   "execution_count": 30,
   "metadata": {},
   "outputs": [
    {
     "name": "stdout",
     "output_type": "stream",
     "text": [
      "  Value test Postal code\n",
      "0   Negativo       08520\n"
     ]
    }
   ],
   "source": [
    "df = pd.read_csv(\"data/new_data.csv\", dtype={'Postal code': str})\n",
    "\n",
    "# fitler to get two columns\n",
    "df = df[['Value test', 'Postal code']]\n",
    "\n",
    "# change postal codes with 4 digits to 5 addin a 0 in the left\n",
    "df['Postal code'] = df['Postal code'].str.zfill(5)\n",
    "\n",
    "print(df.head(1))"
   ]
  },
  {
   "cell_type": "code",
   "execution_count": 32,
   "metadata": {},
   "outputs": [
    {
     "name": "stdout",
     "output_type": "stream",
     "text": [
      "  Postal code                                           geometry\n",
      "0       01193  POLYGON ((-2.5306 42.81828, -2.53061 42.81814,...\n"
     ]
    }
   ],
   "source": [
    "# load postal codes shapefile to get polygon\n",
    "gdf = gpd.read_file(\"data/codigos_postales/codigos_postales.shp\")\n",
    "gdf = gdf.rename(columns={'COD_POSTAL': 'Postal code'})\n",
    "gdf = gdf[['Postal code', 'geometry']]\n",
    "print(gdf.head(1))"
   ]
  },
  {
   "cell_type": "code",
   "execution_count": 34,
   "metadata": {},
   "outputs": [
    {
     "name": "stdout",
     "output_type": "stream",
     "text": [
      "  Value test Postal code                                           geometry\n",
      "0   Negativo       08520  POLYGON ((2.34897 41.67408, 2.34883 41.67185, ...\n",
      "1   Negativo       08520  POLYGON ((2.34897 41.67408, 2.34883 41.67185, ...\n",
      "2   Negativo       08520  POLYGON ((2.34897 41.67408, 2.34883 41.67185, ...\n",
      "3   Negativo       08520  POLYGON ((2.34897 41.67408, 2.34883 41.67185, ...\n",
      "4   Negativo       08520  POLYGON ((2.34897 41.67408, 2.34883 41.67185, ...\n"
     ]
    }
   ],
   "source": [
    "# merge both dataframes to work with df\n",
    "df_merged = pd.merge(df, gdf, on='Postal code', how='left')\n",
    "\n",
    "print(df_merged.head())"
   ]
  },
  {
   "cell_type": "markdown",
   "metadata": {},
   "source": [
    "### 2. Crear la Matriz de Ponderación Espacial\n",
    "Para crear una matriz de ponderación espacial, puedes definir los vecinos por distancia usando un umbral específico (por ejemplo, 5 km). PySAL proporciona métodos para generar esta matriz de adyacencia."
   ]
  }
 ],
 "metadata": {
  "kernelspec": {
   "display_name": "Python 3",
   "language": "python",
   "name": "python3"
  },
  "language_info": {
   "codemirror_mode": {
    "name": "ipython",
    "version": 3
   },
   "file_extension": ".py",
   "mimetype": "text/x-python",
   "name": "python",
   "nbconvert_exporter": "python",
   "pygments_lexer": "ipython3",
   "version": "3.12.7"
  }
 },
 "nbformat": 4,
 "nbformat_minor": 2
}
