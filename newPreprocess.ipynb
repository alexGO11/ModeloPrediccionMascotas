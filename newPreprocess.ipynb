{
 "cells": [
  {
   "cell_type": "code",
   "execution_count": 5,
   "metadata": {},
   "outputs": [
    {
     "name": "stdout",
     "output_type": "stream",
     "text": [
      "Index(['Date', 'Geo Location', 'Name test', 'Value test', 'Pet sex', 'Pet age',\n",
      "       'Country', 'City', 'Postal code'],\n",
      "      dtype='object')\n"
     ]
    }
   ],
   "source": [
    "import pandas as pd\n",
    "\n",
    "#Cargar el CSV\n",
    "file_path = \"data/new_data.csv\"\n",
    "df = pd.read_csv(file_path, dtype={'Postal code': str})\n",
    "\n",
    "print(df.columns)"
   ]
  },
  {
   "cell_type": "code",
   "execution_count": 6,
   "metadata": {},
   "outputs": [
    {
     "name": "stderr",
     "output_type": "stream",
     "text": [
      "C:\\Users\\pablo\\AppData\\Local\\Temp\\ipykernel_9964\\808124312.py:25: SettingWithCopyWarning: \n",
      "A value is trying to be set on a copy of a slice from a DataFrame.\n",
      "Try using .loc[row_indexer,col_indexer] = value instead\n",
      "\n",
      "See the caveats in the documentation: https://pandas.pydata.org/pandas-docs/stable/user_guide/indexing.html#returning-a-view-versus-a-copy\n",
      "  df_cleaned['test_result'] = df_cleaned['value_test'].map(value_test_mapping)\n",
      "C:\\Users\\pablo\\AppData\\Local\\Temp\\ipykernel_9964\\808124312.py:26: SettingWithCopyWarning: \n",
      "A value is trying to be set on a copy of a slice from a DataFrame.\n",
      "Try using .loc[row_indexer,col_indexer] = value instead\n",
      "\n",
      "See the caveats in the documentation: https://pandas.pydata.org/pandas-docs/stable/user_guide/indexing.html#returning-a-view-versus-a-copy\n",
      "  df_cleaned['postal_code'] = df_cleaned['postal_code']\n",
      "C:\\Users\\pablo\\AppData\\Local\\Temp\\ipykernel_9964\\808124312.py:28: SettingWithCopyWarning: \n",
      "A value is trying to be set on a copy of a slice from a DataFrame.\n",
      "Try using .loc[row_indexer,col_indexer] = value instead\n",
      "\n",
      "See the caveats in the documentation: https://pandas.pydata.org/pandas-docs/stable/user_guide/indexing.html#returning-a-view-versus-a-copy\n",
      "  df_cleaned.loc[df_cleaned['postal_code'] == '6430', 'City'] = 'Zalamea De La Serena'\n"
     ]
    }
   ],
   "source": [
    "\n",
    "\n",
    "\n",
    "#Normalizar el Formato de las Columnas\n",
    "df.columns = df.columns.str.strip().str.replace(\" \", \"_\").str.lower()  # Eliminar espacios y estandarizar nombres\n",
    "\n",
    "df[\"date\"] = df[\"date\"].astype(str).str.replace(r'[^\\w\\s]', '', regex=True)  # Eliminar caracteres especiales\n",
    "df[\"date\"] = pd.to_datetime(df[\"date\"], errors='coerce').dt.strftime('%Y-%m-%d %H:%M:%S')\n",
    "\n",
    "#Eliminar Filas Sin Código Postal ni Geolocalización\n",
    "df_cleaned = df.dropna(subset=['postal_code'])\n",
    "\n",
    "val_no_deseados = ['Dudoso', 'Error', 'Invalido', 'Inválido']\n",
    "df_cleaned = df[~df['value_test'].isin(val_no_deseados)]\n",
    "\n",
    "#Definir Valores Positivos\n",
    "value_test_mapping = {\n",
    "    'Dudoso': -2,\n",
    "    'Error': -1,\n",
    "    'Invalido': -1,\n",
    "    'Inválido': -1,\n",
    "    'Negativo': 0,\n",
    "    'Positivo': 1,\n",
    "    'Positivo Fuerte': 1\n",
    "}\n",
    "\n",
    "# Aplicar mapeo a la columna value_test\n",
    "df_cleaned['test_result'] = df_cleaned['value_test'].map(value_test_mapping)\n",
    "df_cleaned['postal_code'] = df_cleaned['postal_code']\n",
    "\n",
    "df_cleaned.loc[df_cleaned['postal_code'] == '6430', 'City'] = 'Zalamea De La Serena'\n",
    "#Agrupar por Código Postal\n",
    "df_grouped = df_cleaned.groupby(\"postal_code\").agg(\n",
    "    total_tests=('test_result', 'count'),\n",
    "    total_positives=('test_result', lambda x: (x == 1).sum())\n",
    ").reset_index()\n",
    "\n",
    "#Guardar los Resultados\n",
    "df_cleaned.to_csv(\"data/preprocessed_data.csv\", index=False)  # CSV limpio\n",
    "df_grouped.to_csv(\"data/postal_codes_results.csv\", index=False)  # Agrupado por código postal\n"
   ]
  }
 ],
 "metadata": {
  "kernelspec": {
   "display_name": "Python 3",
   "language": "python",
   "name": "python3"
  },
  "language_info": {
   "codemirror_mode": {
    "name": "ipython",
    "version": 3
   },
   "file_extension": ".py",
   "mimetype": "text/x-python",
   "name": "python",
   "nbconvert_exporter": "python",
   "pygments_lexer": "ipython3",
   "version": "3.12.6"
  }
 },
 "nbformat": 4,
 "nbformat_minor": 2
}
