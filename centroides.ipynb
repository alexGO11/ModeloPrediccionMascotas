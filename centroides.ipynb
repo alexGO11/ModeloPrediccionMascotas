{
 "cells": [
  {
   "cell_type": "markdown",
   "metadata": {},
   "source": [
    "## 1. Calculo centroide"
   ]
  },
  {
   "cell_type": "code",
   "execution_count": 1,
   "metadata": {},
   "outputs": [],
   "source": [
    "import geopandas as gpd"
   ]
  },
  {
   "cell_type": "code",
   "execution_count": 6,
   "metadata": {},
   "outputs": [
    {
     "name": "stdout",
     "output_type": "stream",
     "text": [
      "         ID_CP COD_POSTAL    ALTA_DB  CODIGO_INE  \\\n",
      "0  10010000001      01193 2015-07-09        1001   \n",
      "\n",
      "                                            geometry  \n",
      "0  POLYGON ((-2.531 42.818, -2.531 42.818, -2.531...  \n"
     ]
    }
   ],
   "source": [
    "# imported all postal codes and set to a good CRS\n",
    "gdf = gpd.read_file('data/codigos_postales/codigos_postales.shp')\n",
    "gdf = gdf.set_crs(\"EPSG:25830\")\n",
    "\n",
    "print(gdf.head(1))"
   ]
  },
  {
   "cell_type": "code",
   "execution_count": null,
   "metadata": {},
   "outputs": [
    {
     "name": "stdout",
     "output_type": "stream",
     "text": [
      "  COD_POSTAL                                           geometry  \\\n",
      "0      01193  POLYGON ((-2.531 42.818, -2.531 42.818, -2.531...   \n",
      "1      01240  POLYGON ((-2.494 42.857, -2.494 42.857, -2.494...   \n",
      "2      01468  POLYGON ((-2.975 42.938, -2.975 42.938, -2.975...   \n",
      "3      01470  POLYGON ((-2.92 43.062, -2.935 43.068, -2.936 ...   \n",
      "4      01468  POLYGON ((-3.019 43.035, -3.018 43.036, -3.014...   \n",
      "5      01450  POLYGON ((-2.92 43.062, -2.92 43.062, -2.919 4...   \n",
      "6      01165  POLYGON ((-2.611 43.085, -2.606 43.066, -2.607...   \n",
      "7      01169  POLYGON ((-2.598 43.008, -2.606 43.009, -2.604...   \n",
      "8      01160  POLYGON ((-2.532 43.057, -2.543 43.056, -2.546...   \n",
      "9      01478  POLYGON ((-3.109 43.143, -3.109 43.143, -3.109...   \n",
      "\n",
      "   centroide_lat  centroide_lon  \n",
      "0      42.802419      -2.539123  \n",
      "1      42.836625      -2.503383  \n",
      "2      42.969742      -2.994264  \n",
      "3      43.066107      -2.976913  \n",
      "4      43.026788      -2.989711  \n",
      "5      43.031575      -2.944656  \n",
      "6      43.041946      -2.623265  \n",
      "7      43.043640      -2.576939  \n",
      "8      43.064513      -2.559469  \n",
      "9      43.131227      -3.145149  \n"
     ]
    }
   ],
   "source": [
    "# calculus of each postal code's centroid and save it in a new column\n",
    "gdf['centroide'] = gdf.geometry.centroid\n",
    "gdf['centroide_lat'] = gdf['centroide'].y\n",
    "gdf['centroide_lon'] = gdf['centroide'].x\n",
    "gdf_no_centroid = gdf[['COD_POSTAL', 'geometry', 'centroide_lat', 'centroide_lon']]\n",
    "\n",
    "print(gdf.head(10))"
   ]
  },
  {
   "cell_type": "code",
   "execution_count": 15,
   "metadata": {},
   "outputs": [],
   "source": [
    "# parse to a file\n",
    "#gdf_no_centroid.to_file('data/centroidPerPostalCode.geojson', driver='GeoJSON')"
   ]
  }
 ],
 "metadata": {
  "kernelspec": {
   "display_name": "Python 3",
   "language": "python",
   "name": "python3"
  },
  "language_info": {
   "codemirror_mode": {
    "name": "ipython",
    "version": 3
   },
   "file_extension": ".py",
   "mimetype": "text/x-python",
   "name": "python",
   "nbconvert_exporter": "python",
   "pygments_lexer": "ipython3",
   "version": "3.13.1"
  }
 },
 "nbformat": 4,
 "nbformat_minor": 2
}
