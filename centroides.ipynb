{
 "cells": [
  {
   "cell_type": "markdown",
   "metadata": {},
   "source": [
    "## Postal codes areas calculus"
   ]
  },
  {
   "cell_type": "code",
   "execution_count": 7,
   "metadata": {},
   "outputs": [
    {
     "name": "stderr",
     "output_type": "stream",
     "text": [
      "c:\\Users\\alexg\\AppData\\Local\\Programs\\Python\\Python312\\Lib\\site-packages\\pyogrio\\geopandas.py:265: UserWarning: More than one layer found in 'madrid.gpkg': 'portalpk_publi' (default), 'manzana', 'municipio_vial'. Specify layer parameter to avoid this warning.\n",
      "  result = read_func(\n"
     ]
    }
   ],
   "source": [
    "import geopandas as gdp\n",
    "from shapely.geometry import MultiPoint\n",
    "url_geojson = 'D:/Desktop/ModeloPrediccionMascotas/geographic_pc/CARTOCIUDAD_CALLEJERO_MADRID/CARTOCIUDAD_CALLEJERO_MADRID/madrid.gpkg'\n",
    "data = gdp.read_file(url_geojson)"
   ]
  },
  {
   "cell_type": "code",
   "execution_count": 6,
   "metadata": {},
   "outputs": [
    {
     "name": "stdout",
     "output_type": "stream",
     "text": [
      "       id_porpk      id_tramo       id_vial  tipo_vial  \\\n",
      "0  280970004331  280970227216  280970000033       None   \n",
      "1  280920000262  280070000191  280920000055  CARRETERA   \n",
      "2  280970004323  280970227216  280970000033       None   \n",
      "3  280920000222  280920075602  280920001050  CARRETERA   \n",
      "4  280970004313  280970230331  280970000017       None   \n",
      "\n",
      "                    nombre_via numero extension dgc_via       codigo id_pob  \\\n",
      "0               CJA TRES IGLES      1         X      54  Desconocido   None   \n",
      "1      ALCORCON-PLASENCIA (DE)      1         B     696   2809210015   None   \n",
      "2               CJA TRES IGLES      1         X      54  Desconocido   None   \n",
      "3  EXTREMADURA (ANT. N-V) (DE)     46         A     694   2809200104   None   \n",
      "4                       BARRIO      1         X      45  Desconocido   None   \n",
      "\n",
      "  poblacion codigo_postal  tipo_porpk tipoporpkd  sentidopk sentidopkd  \\\n",
      "0      None         28739           1     Portal       -998       None   \n",
      "1      None         28922           1     Portal       -998       None   \n",
      "2      None         28739           1     Portal       -998       None   \n",
      "3      None         28935           1     Portal       -998       None   \n",
      "4      None         28739           1     Portal       -998       None   \n",
      "\n",
      "   fuente                         fuented           fecha_alta  \\\n",
      "0       2  Dirección General del Catastro  2023-09-12 00:00:00   \n",
      "1       2  Dirección General del Catastro  2023-09-12 00:00:00   \n",
      "2       2  Dirección General del Catastro  2023-09-12 00:00:00   \n",
      "3       2  Dirección General del Catastro  2023-09-12 00:00:00   \n",
      "4       2  Dirección General del Catastro  2023-09-12 00:00:00   \n",
      "\n",
      "                    geometry  \n",
      "0  POINT (-3.70815 40.99507)  \n",
      "1   POINT (-3.8691 40.35341)  \n",
      "2  POINT (-3.70802 40.99498)  \n",
      "3  POINT (-3.89895 40.30688)  \n",
      "4   POINT (-3.7272 40.99223)  \n",
      "CRS:  EPSG:4258\n",
      "Index(['id_porpk', 'id_tramo', 'id_vial', 'tipo_vial', 'nombre_via', 'numero',\n",
      "       'extension', 'dgc_via', 'codigo', 'id_pob', 'poblacion',\n",
      "       'codigo_postal', 'tipo_porpk', 'tipoporpkd', 'sentidopk', 'sentidopkd',\n",
      "       'fuente', 'fuented', 'fecha_alta', 'geometry'],\n",
      "      dtype='object')\n"
     ]
    }
   ],
   "source": [
    "# check if data is well imported\n",
    "print(data.head(5))\n",
    "print(\"CRS: \", data.crs)\n",
    "print(data.columns)"
   ]
  },
  {
   "cell_type": "code",
   "execution_count": null,
   "metadata": {},
   "outputs": [
    {
     "name": "stdout",
     "output_type": "stream",
     "text": [
      "       codigo_postal                   geometry\n",
      "0              28739  POINT (-3.70815 40.99507)\n",
      "1              28922   POINT (-3.8691 40.35341)\n",
      "2              28739  POINT (-3.70802 40.99498)\n",
      "3              28935  POINT (-3.89895 40.30688)\n",
      "4              28739   POINT (-3.7272 40.99223)\n",
      "...              ...                        ...\n",
      "738426         28907  POINT (-3.73016 40.32317)\n",
      "738427         28907  POINT (-3.72521 40.33142)\n",
      "738428         28909    POINT (-3.65584 40.308)\n",
      "738429         28330  POINT (-3.59913 40.27076)\n",
      "738430         28330  POINT (-3.59242 40.26391)\n",
      "\n",
      "[738431 rows x 2 columns]\n"
     ]
    }
   ],
   "source": [
    "data = data[[\"codigo_postal\", \"geometry\"]]\n",
    "print(data)"
   ]
  },
  {
   "cell_type": "code",
   "execution_count": null,
   "metadata": {},
   "outputs": [
    {
     "name": "stdout",
     "output_type": "stream",
     "text": [
      "CRS:  EPSG:25830\n"
     ]
    }
   ],
   "source": [
    "data = data.to_crs(epsg=3857)\n",
    "print(\"CRS: \", data.crs)"
   ]
  },
  {
   "cell_type": "code",
   "execution_count": 17,
   "metadata": {},
   "outputs": [
    {
     "name": "stdout",
     "output_type": "stream",
     "text": [
      "                                                        geometry  k2_area\n",
      "codigo_postal                                                            \n",
      "15001          MULTIPOINT (62352.465 4816252.471, 62356.503 4...      0.0\n",
      "15002          MULTIPOINT (61767.354 4817401.148, 61767.527 4...      0.0\n",
      "15003          MULTIPOINT (61713.199 4815821.903, 61722.52 48...      0.0\n",
      "15004          MULTIPOINT (61203.71 4815540.294, 61217.309 48...      0.0\n",
      "15005          MULTIPOINT (61125.761 4815269.42, 61128.479 48...      0.0\n",
      "0         POINT (68796.676 4807248.539)\n",
      "1         POINT (90351.661 4821169.202)\n",
      "2         POINT (73901.881 4810501.365)\n",
      "3           POINT (73914.451 4810515.3)\n",
      "4         POINT (71299.876 4764416.646)\n",
      "                      ...              \n",
      "311623    POINT (65947.634 4802131.954)\n",
      "311624     POINT (71255.06 4811491.206)\n",
      "311625     POINT (85614.244 4812290.81)\n",
      "311626    POINT (84099.691 4812725.585)\n",
      "311627    POINT (99732.735 4833941.962)\n",
      "Name: geometry, Length: 311628, dtype: geometry\n"
     ]
    }
   ],
   "source": [
    "postal_codes = data.dissolve(by=\"codigo_postal\")\n",
    "print(postal_codes.head())\n",
    "\n",
    "print(data[\"geometry\"])"
   ]
  },
  {
   "cell_type": "code",
   "execution_count": 14,
   "metadata": {},
   "outputs": [
    {
     "name": "stdout",
     "output_type": "stream",
     "text": [
      "codigo_postal                                         15613\n",
      "geometry         POINT (90351.6610821046 4821169.201573399)\n",
      "k2_area                                                 0.0\n",
      "Name: 1, dtype: object\n"
     ]
    }
   ],
   "source": [
    "data['k2_area'] = data['geometry'].area / 1e6\n",
    "\n",
    "print(data.iloc[1, :])"
   ]
  }
 ],
 "metadata": {
  "kernelspec": {
   "display_name": "Python 3",
   "language": "python",
   "name": "python3"
  },
  "language_info": {
   "codemirror_mode": {
    "name": "ipython",
    "version": 3
   },
   "file_extension": ".py",
   "mimetype": "text/x-python",
   "name": "python",
   "nbconvert_exporter": "python",
   "pygments_lexer": "ipython3",
   "version": "3.12.7"
  }
 },
 "nbformat": 4,
 "nbformat_minor": 2
}
