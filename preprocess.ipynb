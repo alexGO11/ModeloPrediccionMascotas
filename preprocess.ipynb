{
 "cells": [
  {
   "cell_type": "markdown",
   "metadata": {},
   "source": [
    "### Preprocesamiento"
   ]
  },
  {
   "cell_type": "code",
   "execution_count": 76,
   "metadata": {},
   "outputs": [],
   "source": [
    "import pandas as pd\n",
    "from opencage.geocoder import OpenCageGeocode\n",
    "import json\n"
   ]
  },
  {
   "cell_type": "markdown",
   "metadata": {},
   "source": [
    "conversión de valor de texto de los test a enteros, asignar 'Zalamea De La Serena' al codigo postal 6430 y descartar filas sin codigo postal ni geo location"
   ]
  },
  {
   "cell_type": "code",
   "execution_count": 77,
   "metadata": {},
   "outputs": [],
   "source": [
    "# Definir el diccionario de mapeo\n",
    "value_test_mapping = {\n",
    "    'Dudoso': -2,\n",
    "    'Error': -1,\n",
    "    'Invalido': -1,\n",
    "    'Inválido': -1,\n",
    "    'Negativo': 0,\n",
    "    'Positivo': 1,\n",
    "    'Positivo Fuerte': 2\n",
    "}\n",
    "\n",
    "# Leer el archivo CSV\n",
    "file_path = \"data/new_data.csv\" \n",
    "data = pd.read_csv(file_path)\n",
    "\n",
    "# Mapear y convertir valores de 'Value test'\n",
    "data['Value test'] = data['Value test'].map(value_test_mapping)\n",
    "data['Value test'] = data['Value test'].fillna(0).astype(int)\n",
    "\n",
    "# Eliminar filas donde 'Postal code' y 'Geo Location' estén vacíos\n",
    "data_cleaned = data.dropna(subset=['Postal code', 'Geo Location'], how='all')\n",
    "\n",
    "# Modificar 'City' si el código postal es 6430\n",
    "data_cleaned['City'] = data_cleaned.apply(\n",
    "    lambda row: 'Zalamea De La Serena' if row['Postal code'] == 6430 else row['City'], axis=1\n",
    ")\n",
    "\n",
    "# Agrupar por 'Postal code' y sumar los valores de 'Value test'\n",
    "data_cleaned = data_cleaned.groupby('Postal code', as_index=False).agg({\n",
    "    'Value test': 'sum',  # Sumar los valores de Value test\n",
    "    'City': 'first',  # Mantener el primer valor de City por grupo\n",
    "    'Geo Location': 'first',  # Mantener el primer valor de Geo Location por grupo\n",
    "    # Puedes agregar otras columnas aquí, especificando cómo se deben agregar\n",
    "})\n",
    "\n"
   ]
  },
  {
   "cell_type": "markdown",
   "metadata": {},
   "source": [
    "Hace consultas a la api de \"open cage data\" (https://opencagedata.com/) para aquellas columnas que tienen geo location peor no tienen codigo postal, obtienen este último a través de la localización."
   ]
  },
  {
   "cell_type": "code",
   "execution_count": 78,
   "metadata": {},
   "outputs": [],
   "source": [
    "# Inicializa el geocoder con la clave de API\n",
    "OCG = OpenCageGeocode('e5133987de494dd393d5de1370554b2f')\n",
    "\n",
    "# Función para obtener el código postal a partir de Geo Location\n",
    "def get_postal_code(geo_location):\n",
    "    try:\n",
    "        # Convertir la cadena JSON en un diccionario\n",
    "        location = json.loads(geo_location)\n",
    "        lat = location['latitude']\n",
    "        lng = location['longitude']\n",
    "        # Realizar la búsqueda inversa\n",
    "        results = OCG.reverse_geocode(lat, lng)\n",
    "        if results and 'postcode' in results[0]['components']:\n",
    "            return results[0]['components']['postcode']\n",
    "    except Exception as e:\n",
    "        print(f\"Error procesando {geo_location}: {e}\")\n",
    "    return None\n",
    "\n",
    "# Agregar códigos postales donde faltan pero existe Geo Location\n",
    "data_cleaned['Postal code'] = data_cleaned.apply(\n",
    "    lambda row: get_postal_code(row['Geo Location']) if pd.isna(row['Postal code']) and pd.notna(row['Geo Location']) else row['Postal code'],\n",
    "    axis=1\n",
    ")\n",
    "\n"
   ]
  },
  {
   "cell_type": "markdown",
   "metadata": {},
   "source": [
    "Hace consultas a la api de \"open cage data\" (https://opencagedata.com/) para aquellas columnas que tienen geo location peor no tienen geolocalizacion y la obtiene a traves de su codigo postal.\n",
    "\n",
    "Agrupa en el csv archivo agrupado todos los codigos postales y suma el valor de los resultados de los tests."
   ]
  },
  {
   "cell_type": "code",
   "execution_count": 79,
   "metadata": {},
   "outputs": [],
   "source": [
    "def get_geo_location(postal_code):\n",
    "    try:\n",
    "        # Convertir el código postal a cadena\n",
    "        postal_code_str = str(int(postal_code))  # Eliminar decimales innecesarios\n",
    "        results = OCG.geocode(postal_code_str)\n",
    "        if results:\n",
    "            lat = results[0]['geometry']['lat']\n",
    "            lng = results[0]['geometry']['lng']\n",
    "            return f\"{lat},{lng}\"\n",
    "    except Exception as e:\n",
    "        print(f\"Error procesando {postal_code}: {e}\")\n",
    "    return None\n",
    "\n",
    "# Rellenar la columna 'Geo Location' donde falte pero exista 'Postal code'\n",
    "data_cleaned['Geo Location'] = data_cleaned.apply(\n",
    "    lambda row: get_geo_location(row['Postal code']) if pd.isna(row['Geo Location']) and pd.notna(row['Postal code']) else row['Geo Location'],\n",
    "    axis=1\n",
    ")\n",
    "\n",
    "# Agrupar por 'Postal code' y sumar los valores de 'Value test'\n",
    "grouped_data = data_cleaned.groupby('Postal code', as_index=False).agg({\n",
    "    'Value test': 'sum',  # Sumar los valores de Value test\n",
    "    'City': 'first',  # Mantener el primer valor de City por grupo\n",
    "    'Geo Location': 'first',  # Mantener el primer valor de Geo Location por grupo\n",
    "    # Puedes agregar otras columnas aquí, especificando cómo se deben agregar\n",
    "})\n",
    "\n",
    "# Guardar el archivo agrupado con las sumas\n",
    "grouped_output_path = \"data/archivo_agrupado.csv\"\n",
    "grouped_data.to_csv(grouped_output_path, index=False)\n",
    "\n",
    "# Guardar el archivo completo procesado\n",
    "processed_output_path = \"data/archivo_completo.csv\"\n",
    "data_cleaned.to_csv(processed_output_path, index=False)\n"
   ]
  },
  {
   "cell_type": "markdown",
   "metadata": {},
   "source": [
    "Crea un nuevo csv agrupando por codigo postal y guardando el numero de apariciones de cada tipo de resultado por codigo postal."
   ]
  },
  {
   "cell_type": "code",
   "execution_count": 80,
   "metadata": {},
   "outputs": [],
   "source": [
    "# Leer el archivo CSV\n",
    "file_path = \"data/new_data.csv\" \n",
    "data = pd.read_csv(file_path)\n",
    "\n",
    "# Crear un contador de cada tipo de resultado por código postal\n",
    "result_counts = data.pivot_table(\n",
    "    index='Postal code',  # Agrupar por código postal\n",
    "    columns='Value test',  # Contar por cada tipo de resultado\n",
    "    aggfunc='size',  # Contar las ocurrencias\n",
    "    fill_value=0  # Rellenar los valores faltantes con 0\n",
    ").reset_index()\n",
    "\n",
    "# Renombrar las columnas para mayor claridad\n",
    "result_counts.columns.name = None  # Quitar el nombre del índice de columnas\n",
    "result_counts.rename(columns={\n",
    "    -2: 'Dudoso',\n",
    "    -1: 'Error',\n",
    "    0: 'Negativo',\n",
    "    1: 'Positivo',\n",
    "    2: 'Positivo Fuerte'\n",
    "}, inplace=True)\n",
    "\n",
    "# Agregar columnas faltantes con 0 si no existen en los datos\n",
    "for col in ['Dudoso', 'Error', 'Invalido', 'Inválido', 'Negativo', 'Positivo', 'Positivo Fuerte']:\n",
    "    if col not in result_counts.columns:\n",
    "        result_counts[col] = 0\n",
    "\n",
    "# Reordenar las columnas\n",
    "result_counts = result_counts[['Postal code', 'Dudoso', 'Error', 'Invalido', 'Inválido', 'Negativo', 'Positivo', 'Positivo Fuerte']]\n",
    "\n",
    "# Guardar el resultado en un nuevo archivo CSV\n",
    "output_path = \"data/all_results_by_postal_code.csv\"\n",
    "result_counts.to_csv(output_path, index=False)"
   ]
  }
 ],
 "metadata": {
  "kernelspec": {
   "display_name": "Python 3",
   "language": "python",
   "name": "python3"
  },
  "language_info": {
   "codemirror_mode": {
    "name": "ipython",
    "version": 3
   },
   "file_extension": ".py",
   "mimetype": "text/x-python",
   "name": "python",
   "nbconvert_exporter": "python",
   "pygments_lexer": "ipython3",
   "version": "3.12.6"
  }
 },
 "nbformat": 4,
 "nbformat_minor": 2
}
