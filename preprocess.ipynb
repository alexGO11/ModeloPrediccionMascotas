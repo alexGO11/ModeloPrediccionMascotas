{
 "cells": [
  {
   "cell_type": "markdown",
   "metadata": {},
   "source": [
    "### Preprocesamiento\n",
    "Aqui se detalla paso por paso como se limpia los datos"
   ]
  },
  {
   "cell_type": "code",
   "execution_count": 1,
   "metadata": {},
   "outputs": [],
   "source": [
    "import pandas as pd\n",
    "from opencage.geocoder import OpenCageGeocode\n",
    "import json"
   ]
  },
  {
   "cell_type": "markdown",
   "metadata": {},
   "source": [
    "### Limpieza de datos\n",
    "Por orden:\n",
    "- Conversión de valor de texto de los test a enteros \n",
    "- Asignar 'Zalamea De La Serena' al codigo postal 6430 \n",
    "- Descartar filas sin codigo postal ni geo location"
   ]
  },
  {
   "cell_type": "code",
   "execution_count": 47,
   "metadata": {},
   "outputs": [
    {
     "name": "stdout",
     "output_type": "stream",
     "text": [
      "                     Date                                   Geo Location  \\\n",
      "0  ﻿\"2020-07-20 12:59:04\"  {\"latitude\":41.6276264,\"longitude\":2.2947037}   \n",
      "1  ﻿\"2020-07-20 12:59:25\"  {\"latitude\":41.6274545,\"longitude\":2.2949996}   \n",
      "2  ﻿\"2020-07-20 13:18:08\"  {\"latitude\":41.6274519,\"longitude\":2.2949754}   \n",
      "3  ﻿\"2020-07-20 13:19:02\"  {\"latitude\":41.6274799,\"longitude\":2.2950886}   \n",
      "4  ﻿\"2020-07-20 13:37:12\"  {\"latitude\":41.6274648,\"longitude\":2.2950282}   \n",
      "\n",
      "    Name test Value test Pet sex Pet age Country       City Postal code  \n",
      "0  Leishmania   Negativo     NaN   Año/s   Spain  Barcelona       08520  \n",
      "1  Leishmania   Negativo     NaN   Año/s   Spain  Barcelona       08520  \n",
      "2  Leishmania   Negativo     NaN   Año/s   Spain  Barcelona       08520  \n",
      "3  Leishmania   Negativo     NaN   Año/s   Spain  Barcelona       08520  \n",
      "4  Leishmania   Negativo     NaN   Año/s   Spain  Barcelona       08520  \n"
     ]
    }
   ],
   "source": [
    "# Definir el diccionario de mapeo\n",
    "value_test_mapping = {\n",
    "    'Dudoso': -2,\n",
    "    'Error': -1,\n",
    "    'Invalido': -1,\n",
    "    'Inválido': -1,\n",
    "    'Negativo': 0,\n",
    "    'Positivo': 1,\n",
    "    'Positivo Fuerte': 2\n",
    "}\n",
    "\n",
    "# Leer el archivo CSV\n",
    "file_path = \"data/new_data.csv\" \n",
    "data = pd.read_csv(file_path, dtype={'Postal code': str})\n",
    "data[\"Postal code\"] = data[\"Postal code\"].astype(str).str.zfill(5)\n",
    "\n",
    "print(data.head())"
   ]
  },
  {
   "cell_type": "code",
   "execution_count": 48,
   "metadata": {},
   "outputs": [
    {
     "name": "stdout",
     "output_type": "stream",
     "text": [
      "                     Date                                   Geo Location  \\\n",
      "0  ﻿\"2020-07-20 12:59:04\"  {\"latitude\":41.6276264,\"longitude\":2.2947037}   \n",
      "1  ﻿\"2020-07-20 12:59:25\"  {\"latitude\":41.6274545,\"longitude\":2.2949996}   \n",
      "2  ﻿\"2020-07-20 13:18:08\"  {\"latitude\":41.6274519,\"longitude\":2.2949754}   \n",
      "3  ﻿\"2020-07-20 13:19:02\"  {\"latitude\":41.6274799,\"longitude\":2.2950886}   \n",
      "4  ﻿\"2020-07-20 13:37:12\"  {\"latitude\":41.6274648,\"longitude\":2.2950282}   \n",
      "\n",
      "    Name test  Value test Pet sex Pet age Country       City Postal code  \n",
      "0  Leishmania           0     NaN   Año/s   Spain  Barcelona       08520  \n",
      "1  Leishmania           0     NaN   Año/s   Spain  Barcelona       08520  \n",
      "2  Leishmania           0     NaN   Año/s   Spain  Barcelona       08520  \n",
      "3  Leishmania           0     NaN   Año/s   Spain  Barcelona       08520  \n",
      "4  Leishmania           0     NaN   Año/s   Spain  Barcelona       08520  \n"
     ]
    }
   ],
   "source": [
    "# Mapear y convertir valores de 'Value test'\n",
    "data['Value test'] = data['Value test'].map(value_test_mapping)\n",
    "data['Value test'] = data['Value test'].fillna(0).astype(int)\n",
    "\n",
    "print(data.head())"
   ]
  },
  {
   "cell_type": "code",
   "execution_count": 54,
   "metadata": {},
   "outputs": [
    {
     "name": "stdout",
     "output_type": "stream",
     "text": [
      "Empty DataFrame\n",
      "Columns: [Date, Geo Location, Name test, Value test, Pet sex, Pet age, Country, City, Postal code]\n",
      "Index: []\n",
      "                         Date Geo Location   Name test  Value test Pet sex  \\\n",
      "156    ﻿\"2021-04-14 13:49:16\"          NaN  Leishmania           1     NaN   \n",
      "157    ﻿\"2021-04-14 13:51:29\"          NaN  Leishmania           1     NaN   \n",
      "158    ﻿\"2021-04-14 13:55:49\"          NaN  Leishmania           1     NaN   \n",
      "159    ﻿\"2021-05-11 11:59:22\"          NaN     Giardia           1     NaN   \n",
      "160    ﻿\"2021-05-11 12:03:12\"          NaN     Giardia           1     NaN   \n",
      "...                       ...          ...         ...         ...     ...   \n",
      "42773  ﻿\"2024-10-30 18:25:40\"          NaN  Leishmania           0   Macho   \n",
      "42792  ﻿\"2024-10-31 11:01:17\"          NaN     Giardia           0  Hembra   \n",
      "42812  ﻿\"2024-10-31 13:15:35\"          NaN  Leishmania           0   Macho   \n",
      "42813  ﻿\"2024-10-31 13:16:19\"          NaN  Leishmania           0  Hembra   \n",
      "42817  ﻿\"2024-10-31 13:54:42\"          NaN  Leishmania           0   Macho   \n",
      "\n",
      "        Pet age Country        City Postal code  \n",
      "156       Año/s   Spain   Barcelona       08520  \n",
      "157       Año/s   Spain   Barcelona       08520  \n",
      "158       Año/s   Spain   Barcelona       08520  \n",
      "159       Año/s   Spain   Barcelona       08520  \n",
      "160       Año/s   Spain   Barcelona       08520  \n",
      "...         ...     ...         ...         ...  \n",
      "42773   1 Año/s   Spain   Barcelona       08021  \n",
      "42792   1 Año/s   Spain       Getxo       48991  \n",
      "42812   1 Año/s   Spain   Barcelona       08711  \n",
      "42813   1 Año/s   Spain   Barcelona       08711  \n",
      "42817  10 Año/s   Spain  Torrevieja       03183  \n",
      "\n",
      "[4344 rows x 9 columns]\n"
     ]
    }
   ],
   "source": [
    "# Eliminar filas donde ambas variables 'Postal code' y 'Geo Location' estén vacías\n",
    "data_cleaned = data[~(data[\"Postal code\"].isnull() & data[\"Geo Location\"].isnull())]\n",
    "\n",
    "print(data_cleaned[data_cleaned['Postal code'].isnull()])\n",
    "print(data_cleaned[data_cleaned['Geo Location'].isnull()])"
   ]
  },
  {
   "cell_type": "code",
   "execution_count": 50,
   "metadata": {},
   "outputs": [
    {
     "name": "stdout",
     "output_type": "stream",
     "text": [
      "                         Date                                    Geo Location  \\\n",
      "13856  ﻿\"2023-01-09 16:44:47\"                                             NaN   \n",
      "14100  ﻿\"2023-01-14 12:45:38\"  {\"latitude\":38.6512999,\"longitude\":-5.6544715}   \n",
      "14101  ﻿\"2023-01-14 12:49:50\"  {\"latitude\":38.6512707,\"longitude\":-5.6544525}   \n",
      "14102  ﻿\"2023-01-14 12:52:32\"  {\"latitude\":38.6512707,\"longitude\":-5.6544525}   \n",
      "14556  ﻿\"2023-01-25 16:54:25\"  {\"latitude\":38.6513201,\"longitude\":-5.6544319}   \n",
      "16887  ﻿\"2023-03-08 19:50:23\"  {\"latitude\":38.6512569,\"longitude\":-5.6545199}   \n",
      "17714  ﻿\"2023-03-21 18:36:03\"  {\"latitude\":38.6512222,\"longitude\":-5.6545374}   \n",
      "17924  ﻿\"2023-03-24 10:50:13\"   {\"latitude\":38.651208,\"longitude\":-5.6545264}   \n",
      "17925  ﻿\"2023-03-24 10:52:17\"   {\"latitude\":38.651208,\"longitude\":-5.6545264}   \n",
      "17928  ﻿\"2023-03-24 10:54:18\"   {\"latitude\":38.651208,\"longitude\":-5.6545264}   \n",
      "\n",
      "        Name test  Value test Pet sex  Pet age Country                  City  \\\n",
      "13856  Leishmania           0   Macho  5 Año/s   Spain  Zalamea De La Serena   \n",
      "14100  Leishmania           0   Macho  1 Año/s   Spain  Zalamea De La Serena   \n",
      "14101  Leishmania           0   Macho  1 Año/s   Spain  Zalamea De La Serena   \n",
      "14102  Leishmania           0   Macho  1 Año/s   Spain  Zalamea De La Serena   \n",
      "14556  Leishmania           0  Hembra  7 Año/s   Spain  Zalamea De La Serena   \n",
      "16887  Leishmania           0  Hembra  8 Año/s   Spain  Zalamea De La Serena   \n",
      "17714  Leishmania           0   Macho  5 Año/s   Spain  Zalamea De La Serena   \n",
      "17924  Leishmania           0   Macho  5 Año/s   Spain  Zalamea De La Serena   \n",
      "17925  Leishmania           0  Hembra  1 Año/s   Spain  Zalamea De La Serena   \n",
      "17928  Leishmania           0   Macho  2 Año/s   Spain  Zalamea De La Serena   \n",
      "\n",
      "      Postal code  \n",
      "13856       06430  \n",
      "14100       06430  \n",
      "14101       06430  \n",
      "14102       06430  \n",
      "14556       06430  \n",
      "16887       06430  \n",
      "17714       06430  \n",
      "17924       06430  \n",
      "17925       06430  \n",
      "17928       06430  \n"
     ]
    }
   ],
   "source": [
    "# Modificar 'City' si el código postal es 6430\n",
    "data_cleaned['City'] = data_cleaned.apply(\n",
    "    lambda row: 'Zalamea De La Serena' if row['Postal code'] == '06430' else row['City'], axis=1\n",
    ")\n",
    "\n",
    "print(data_cleaned[data_cleaned['Postal code'] == '06430'].head(10))"
   ]
  },
  {
   "cell_type": "code",
   "execution_count": 29,
   "metadata": {},
   "outputs": [],
   "source": [
    "# Agrupar por 'Postal code' y sumar los valores de 'Value test'\n",
    "\"\"\"data_cleaned = data_cleaned.groupby('Postal code', as_index=False).agg({\n",
    "    'Value test': 'sum',  # Sumar los valores de Value test\n",
    "    'City': 'first',  # Mantener el primer valor de City por grupo\n",
    "    'Geo Location': 'first',  # Mantener el primer valor de Geo Location por grupo\n",
    "})\"\"\""
   ]
  },
  {
   "cell_type": "code",
   "execution_count": 51,
   "metadata": {},
   "outputs": [
    {
     "name": "stdout",
     "output_type": "stream",
     "text": [
      "     Postal code  Value test\n",
      "1          01002           3\n",
      "2          01004           1\n",
      "3          01006           3\n",
      "4          01012           1\n",
      "10         02400           1\n",
      "...          ...         ...\n",
      "1226       50620           2\n",
      "1231       50800           1\n",
      "1232       50830          10\n",
      "1233       52005           2\n",
      "1234       52006           2\n",
      "\n",
      "[631 rows x 2 columns]\n"
     ]
    }
   ],
   "source": [
    "# Agrupar por 'Postal code' y sumar los valores de 'Value test'\n",
    "grouped_data = data_cleaned.groupby(\"Postal code\", as_index=False)[\"Value test\"].sum()\n",
    "print(grouped_data[grouped_data['Value test'] > 0])"
   ]
  },
  {
   "cell_type": "markdown",
   "metadata": {},
   "source": [
    "### Correccion de datos\n",
    "En esta parte se hace consultas a la api de \"open cage data\" (https://opencagedata.com/) para aquellas columnas que tienen geo location pero no tienen codigo postal se obtengan mediante la api"
   ]
  },
  {
   "cell_type": "code",
   "execution_count": 10,
   "metadata": {},
   "outputs": [],
   "source": [
    "# Inicializa el geocoder con la clave de API\n",
    "OCG = OpenCageGeocode('e5133987de494dd393d5de1370554b2f')"
   ]
  },
  {
   "cell_type": "code",
   "execution_count": 11,
   "metadata": {},
   "outputs": [],
   "source": [
    "# Función para obtener el código postal a partir de Geo Location\n",
    "def get_postal_code(geo_location):\n",
    "    try:\n",
    "        # Convertir la cadena JSON en un diccionario\n",
    "        location = json.loads(geo_location)\n",
    "        lat = location['latitude']\n",
    "        lng = location['longitude']\n",
    "        # Realizar la búsqueda inversa\n",
    "        results = OCG.reverse_geocode(lat, lng)\n",
    "        if results and 'postcode' in results[0]['components']:\n",
    "            return results[0]['components']['postcode']\n",
    "    except Exception as e:\n",
    "        print(f\"Error procesando {geo_location}: {e}\")\n",
    "    return None"
   ]
  },
  {
   "cell_type": "code",
   "execution_count": 52,
   "metadata": {},
   "outputs": [
    {
     "name": "stdout",
     "output_type": "stream",
     "text": [
      "Empty DataFrame\n",
      "Columns: [Date, Geo Location, Name test, Value test, Pet sex, Pet age, Country, City, Postal code]\n",
      "Index: []\n"
     ]
    }
   ],
   "source": [
    "print(data_cleaned[data_cleaned['Postal code'].isnull()])"
   ]
  },
  {
   "cell_type": "code",
   "execution_count": 56,
   "metadata": {},
   "outputs": [],
   "source": [
    "# Agregar códigos postales donde faltan pero existe Geo Location\n",
    "data_cleaned['Postal code'] = data_cleaned.apply(\n",
    "    lambda row: get_postal_code(row['Geo Location']) if pd.isna(row['Postal code']) and pd.notna(row['Geo Location']) else row['Postal code'],\n",
    "    axis=1\n",
    ")"
   ]
  },
  {
   "cell_type": "markdown",
   "metadata": {},
   "source": [
    "Hace consultas a la api de \"open cage data\" (https://opencagedata.com/) para aquellas columnas que tienen geo location pero no tienen geolocalizacion y la obtiene a traves de su codigo postal.\n",
    "\n",
    "Agrupa en el csv archivo agrupado todos los codigos postales y suma el valor de los resultados de los tests."
   ]
  },
  {
   "cell_type": "code",
   "execution_count": 58,
   "metadata": {},
   "outputs": [],
   "source": [
    "def get_geo_location(postal_code):\n",
    "    try:\n",
    "        # Convertir el código postal a cadena\n",
    "        postal_code_str = str(int(postal_code))  # Eliminar decimales innecesarios\n",
    "        results = OCG.geocode(postal_code_str)\n",
    "        if results:\n",
    "            lat = results[0]['geometry']['lat']\n",
    "            lng = results[0]['geometry']['lng']\n",
    "            return f\"{lat},{lng}\"\n",
    "    except Exception as e:\n",
    "        print(f\"Error procesando {postal_code}: {e}\")\n",
    "    return None"
   ]
  },
  {
   "cell_type": "code",
   "execution_count": 59,
   "metadata": {},
   "outputs": [
    {
     "name": "stdout",
     "output_type": "stream",
     "text": [
      "                         Date Geo Location   Name test  Value test Pet sex  \\\n",
      "156    ﻿\"2021-04-14 13:49:16\"          NaN  Leishmania           1     NaN   \n",
      "157    ﻿\"2021-04-14 13:51:29\"          NaN  Leishmania           1     NaN   \n",
      "158    ﻿\"2021-04-14 13:55:49\"          NaN  Leishmania           1     NaN   \n",
      "159    ﻿\"2021-05-11 11:59:22\"          NaN     Giardia           1     NaN   \n",
      "160    ﻿\"2021-05-11 12:03:12\"          NaN     Giardia           1     NaN   \n",
      "...                       ...          ...         ...         ...     ...   \n",
      "42773  ﻿\"2024-10-30 18:25:40\"          NaN  Leishmania           0   Macho   \n",
      "42792  ﻿\"2024-10-31 11:01:17\"          NaN     Giardia           0  Hembra   \n",
      "42812  ﻿\"2024-10-31 13:15:35\"          NaN  Leishmania           0   Macho   \n",
      "42813  ﻿\"2024-10-31 13:16:19\"          NaN  Leishmania           0  Hembra   \n",
      "42817  ﻿\"2024-10-31 13:54:42\"          NaN  Leishmania           0   Macho   \n",
      "\n",
      "        Pet age Country        City Postal code  \n",
      "156       Año/s   Spain   Barcelona       08520  \n",
      "157       Año/s   Spain   Barcelona       08520  \n",
      "158       Año/s   Spain   Barcelona       08520  \n",
      "159       Año/s   Spain   Barcelona       08520  \n",
      "160       Año/s   Spain   Barcelona       08520  \n",
      "...         ...     ...         ...         ...  \n",
      "42773   1 Año/s   Spain   Barcelona       08021  \n",
      "42792   1 Año/s   Spain       Getxo       48991  \n",
      "42812   1 Año/s   Spain   Barcelona       08711  \n",
      "42813   1 Año/s   Spain   Barcelona       08711  \n",
      "42817  10 Año/s   Spain  Torrevieja       03183  \n",
      "\n",
      "[4344 rows x 9 columns]\n"
     ]
    }
   ],
   "source": [
    "print(data_cleaned[data_cleaned['Geo Location'].isnull()])"
   ]
  },
  {
   "cell_type": "code",
   "execution_count": null,
   "metadata": {},
   "outputs": [],
   "source": [
    "# Rellenar la columna 'Geo Location' donde falte pero exista 'Postal code'\n",
    "data_cleaned['Geo Location'] = data_cleaned.apply(\n",
    "    lambda row: get_geo_location(row['Postal code']) if pd.isna(row['Geo Location']) and pd.notna(row['Postal code']) else row['Geo Location'],\n",
    "    axis=1\n",
    ")"
   ]
  },
  {
   "cell_type": "code",
   "execution_count": null,
   "metadata": {},
   "outputs": [],
   "source": [
    "# Agrupar por 'Postal code' y sumar los valores de 'Value test'\n",
    "grouped_data = data_cleaned.groupby('Postal code', as_index=False).agg({\n",
    "    'Value test': 'sum',  # Sumar los valores de Value test\n",
    "    'City': 'first',  # Mantener el primer valor de City por grupo\n",
    "    'Geo Location': 'first',  # Mantener el primer valor de Geo Location por grupo\n",
    "})"
   ]
  },
  {
   "cell_type": "code",
   "execution_count": null,
   "metadata": {},
   "outputs": [],
   "source": [
    "# Guardar el archivo agrupado con las sumas\n",
    "grouped_output_path = \"data/archivo_agrupado.csv\"\n",
    "grouped_data.to_csv(grouped_output_path, index=False)\n",
    "\n",
    "# Guardar el archivo completo procesado\n",
    "processed_output_path = \"data/archivo_completo.csv\"\n",
    "data_cleaned.to_csv(processed_output_path, index=False)\n"
   ]
  },
  {
   "cell_type": "markdown",
   "metadata": {},
   "source": [
    "Crea un nuevo csv agrupando por codigo postal y guardando el numero de apariciones de cada tipo de resultado por codigo postal."
   ]
  },
  {
   "cell_type": "code",
   "execution_count": 75,
   "metadata": {},
   "outputs": [],
   "source": [
    "# Crear un contador de cada tipo de resultado por código postal\n",
    "result_counts = data_cleaned.pivot_table(\n",
    "    index='Postal code',  # Agrupar por código postal\n",
    "    columns='Value test',  # Contar por cada tipo de resultado\n",
    "    aggfunc='size',  # Contar las ocurrencias\n",
    "    fill_value=0  # Rellenar los valores faltantes con 0\n",
    ").reset_index()"
   ]
  },
  {
   "cell_type": "code",
   "execution_count": 76,
   "metadata": {},
   "outputs": [],
   "source": [
    "# Renombrar las columnas para mayor claridad\n",
    "result_counts.columns.name = None  # Quitar el nombre del índice de columnas\n",
    "result_counts.rename(columns={\n",
    "    -2: 'Dudoso',\n",
    "    -1: 'Error',\n",
    "    0: 'Negativo',\n",
    "    1: 'Positivo',\n",
    "    2: 'Positivo Fuerte'\n",
    "}, inplace=True)"
   ]
  },
  {
   "cell_type": "code",
   "execution_count": 77,
   "metadata": {},
   "outputs": [],
   "source": [
    "# Agregar columnas faltantes con 0 si no existen en los datos\n",
    "for col in ['Dudoso', 'Error', 'Invalido', 'Inválido', 'Negativo', 'Positivo', 'Positivo Fuerte']:\n",
    "    if col not in result_counts.columns:\n",
    "        result_counts[col] = 0\n",
    "\n",
    "# Reordenar las columnas\n",
    "result_counts = result_counts[['Postal code', 'Dudoso', 'Error', 'Invalido', 'Inválido', 'Negativo', 'Positivo', 'Positivo Fuerte']]"
   ]
  },
  {
   "cell_type": "code",
   "execution_count": 78,
   "metadata": {},
   "outputs": [],
   "source": [
    "# Guardar el resultado en un nuevo archivo CSV\n",
    "output_path = \"data/all_results_by_postal_code.csv\"\n",
    "result_counts.to_csv(output_path, index=False)"
   ]
  }
 ],
 "metadata": {
  "kernelspec": {
   "display_name": "Python 3",
   "language": "python",
   "name": "python3"
  },
  "language_info": {
   "codemirror_mode": {
    "name": "ipython",
    "version": 3
   },
   "file_extension": ".py",
   "mimetype": "text/x-python",
   "name": "python",
   "nbconvert_exporter": "python",
   "pygments_lexer": "ipython3",
   "version": "3.13.1"
  }
 },
 "nbformat": 4,
 "nbformat_minor": 2
}
