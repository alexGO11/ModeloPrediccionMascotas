{
 "cells": [
  {
   "cell_type": "markdown",
   "metadata": {},
   "source": [
    "### Preprocesamiento"
   ]
  },
  {
   "cell_type": "code",
   "execution_count": 177,
   "metadata": {},
   "outputs": [],
   "source": [
    "import pandas as pd\n",
    "from opencage.geocoder import OpenCageGeocode\n",
    "import json\n"
   ]
  },
  {
   "cell_type": "markdown",
   "metadata": {},
   "source": [
    "conversión de valor de texto de los test a enteros, asignar 'Zalamea De La Serena' al codigo postal 6430 y descartar filas sin codigo postal ni geo location"
   ]
  },
  {
   "cell_type": "code",
   "execution_count": 178,
   "metadata": {},
   "outputs": [],
   "source": [
    "# Definir el diccionario de mapeo\n",
    "value_test_mapping = {\n",
    "    'Negativo': 0,\n",
    "    'Positivo': 1,\n",
    "    'Positivo Fuerte': 1\n",
    "}\n",
    "\n",
    "# Leer el archivo CSV\n",
    "file_path = \"data/new_data.csv\" \n",
    "data = pd.read_csv(file_path)"
   ]
  },
  {
   "cell_type": "code",
   "execution_count": 179,
   "metadata": {},
   "outputs": [],
   "source": [
    "\n",
    "data[\"Date\"] = data[\"Date\"].astype(str).str.replace(r'[^\\w\\s]', '', regex=True)  # Eliminar caracteres especiales\n",
    "data[\"Date\"] = pd.to_datetime(data[\"Date\"], errors='coerce').dt.strftime('%Y-%m-%d %H:%M:%S')\n",
    "\n",
    "data['Value test'] = data['Value test'].map(value_test_mapping)\n",
    "data['Value test'] = data['Value test'].fillna(0).astype(int)"
   ]
  },
  {
   "cell_type": "code",
   "execution_count": 180,
   "metadata": {},
   "outputs": [
    {
     "name": "stderr",
     "output_type": "stream",
     "text": [
      "C:\\Users\\pablo\\AppData\\Local\\Temp\\ipykernel_23828\\289051000.py:4: SettingWithCopyWarning: \n",
      "A value is trying to be set on a copy of a slice from a DataFrame.\n",
      "Try using .loc[row_indexer,col_indexer] = value instead\n",
      "\n",
      "See the caveats in the documentation: https://pandas.pydata.org/pandas-docs/stable/user_guide/indexing.html#returning-a-view-versus-a-copy\n",
      "  data_cleaned['Postal code'] = data_cleaned['Postal code'].astype(str).str.split('.').str[0]\n"
     ]
    }
   ],
   "source": [
    "# Eliminar filas donde 'Postal code' y 'Geo Location' estén vacíos\n",
    "data_cleaned = data.dropna(subset=['Postal code'], how='all')\n",
    "\n"
   ]
  },
  {
   "cell_type": "code",
   "execution_count": 181,
   "metadata": {},
   "outputs": [],
   "source": [
    "# Mapear y convertir valores de 'Value test'\n",
    "val_no_deseados = ['Dudoso', 'Error', 'Invalido', 'Inválido']\n",
    "df_cleaned = data[~data['Value test'].isin(val_no_deseados)]"
   ]
  },
  {
   "cell_type": "code",
   "execution_count": 182,
   "metadata": {},
   "outputs": [
    {
     "name": "stderr",
     "output_type": "stream",
     "text": [
      "C:\\Users\\pablo\\AppData\\Local\\Temp\\ipykernel_23828\\1219181853.py:1: SettingWithCopyWarning: \n",
      "A value is trying to be set on a copy of a slice from a DataFrame.\n",
      "Try using .loc[row_indexer,col_indexer] = value instead\n",
      "\n",
      "See the caveats in the documentation: https://pandas.pydata.org/pandas-docs/stable/user_guide/indexing.html#returning-a-view-versus-a-copy\n",
      "  data_cleaned['Postal code'] = data_cleaned['Postal code']\n"
     ]
    }
   ],
   "source": [
    "data_cleaned['Postal code'] = data_cleaned['Postal code']\n",
    "\n",
    "data_cleaned.loc[data_cleaned['Postal code'] == '6430', 'City'] = 'Zalamea De La Serena'"
   ]
  },
  {
   "cell_type": "markdown",
   "metadata": {},
   "source": [
    "Hace consultas a la api de \"open cage data\" (https://opencagedata.com/) para aquellas columnas que tienen geo location peor no tienen codigo postal, obtienen este último a través de la localización."
   ]
  },
  {
   "cell_type": "code",
   "execution_count": 183,
   "metadata": {},
   "outputs": [],
   "source": [
    "# Inicializa el geocoder con la clave de API\n",
    "#OCG = OpenCageGeocode('8f636a0d28d14db099c8af16ba33ebac')"
   ]
  },
  {
   "cell_type": "code",
   "execution_count": 184,
   "metadata": {},
   "outputs": [
    {
     "data": {
      "text/plain": [
       "'\\ndef get_postal_code(geo_location):\\n    try:\\n        # Convertir la cadena JSON en un diccionario\\n        location = json.loads(geo_location)\\n        lat = location[\\'latitude\\']\\n        lng = location[\\'longitude\\']\\n        # Realizar la búsqueda inversa\\n        results = OCG.reverse_geocode(lat, lng)\\n        if results and \\'postcode\\' in results[0][\\'components\\']:\\n            return results[0][\\'components\\'][\\'postcode\\']\\n    except Exception as e:\\n        print(f\"Error procesando {geo_location}: {e}\")\\n    return None'"
      ]
     },
     "execution_count": 184,
     "metadata": {},
     "output_type": "execute_result"
    }
   ],
   "source": [
    "# Función para obtener el código postal a partir de Geo Location\n",
    "\"\"\"\n",
    "def get_postal_code(geo_location):\n",
    "    try:\n",
    "        # Convertir la cadena JSON en un diccionario\n",
    "        location = json.loads(geo_location)\n",
    "        lat = location['latitude']\n",
    "        lng = location['longitude']\n",
    "        # Realizar la búsqueda inversa\n",
    "        results = OCG.reverse_geocode(lat, lng)\n",
    "        if results and 'postcode' in results[0]['components']:\n",
    "            return results[0]['components']['postcode']\n",
    "    except Exception as e:\n",
    "        print(f\"Error procesando {geo_location}: {e}\")\n",
    "    return None\"\"\""
   ]
  },
  {
   "cell_type": "markdown",
   "metadata": {},
   "source": [
    "Hace consultas a la api de \"open cage data\" (https://opencagedata.com/) para aquellas columnas que tienen geo location peor no tienen geolocalizacion y la obtiene a traves de su codigo postal.\n",
    "\n",
    "Agrupa en el csv archivo agrupado todos los codigos postales y suma el valor de los resultados de los tests."
   ]
  },
  {
   "cell_type": "code",
   "execution_count": 185,
   "metadata": {},
   "outputs": [
    {
     "data": {
      "text/plain": [
       "'\\ndef get_geo_location(postal_code):\\n    try:\\n        # Convertir el código postal a cadena\\n        postal_code_str = str(int(postal_code))  # Eliminar decimales innecesarios\\n        results = OCG.geocode(postal_code_str)\\n        if results:\\n            lat = results[0][\\'geometry\\'][\\'lat\\']\\n            lng = results[0][\\'geometry\\'][\\'lng\\']\\n            return f\"{lat},{lng}\"\\n    except Exception as e:\\n        print(f\"Error procesando {postal_code}: {e}\")\\n    return None'"
      ]
     },
     "execution_count": 185,
     "metadata": {},
     "output_type": "execute_result"
    }
   ],
   "source": [
    "\"\"\"\n",
    "def get_geo_location(postal_code):\n",
    "    try:\n",
    "        # Convertir el código postal a cadena\n",
    "        postal_code_str = str(int(postal_code))  # Eliminar decimales innecesarios\n",
    "        results = OCG.geocode(postal_code_str)\n",
    "        if results:\n",
    "            lat = results[0]['geometry']['lat']\n",
    "            lng = results[0]['geometry']['lng']\n",
    "            return f\"{lat},{lng}\"\n",
    "    except Exception as e:\n",
    "        print(f\"Error procesando {postal_code}: {e}\")\n",
    "    return None\"\"\""
   ]
  },
  {
   "cell_type": "code",
   "execution_count": 186,
   "metadata": {},
   "outputs": [],
   "source": [
    "#Agrupar por Código Postal\n",
    "df_grouped = df_cleaned.groupby(\"Postal code\").agg(\n",
    "    total_tests=('Value test', 'count'),\n",
    "    total_positives=('Value test', lambda x: (x == 1).sum())\n",
    ").reset_index()"
   ]
  },
  {
   "cell_type": "code",
   "execution_count": 187,
   "metadata": {},
   "outputs": [],
   "source": [
    "#Guardar los Resultados\n",
    "df_cleaned.to_csv(\"data/preprocessed_data.csv\", index=False)  # CSV limpio\n",
    "df_grouped.to_csv(\"data/code_test_results.csv\", index=False)  # Agrupado por código postal\n"
   ]
  }
 ],
 "metadata": {
  "kernelspec": {
   "display_name": "Python 3",
   "language": "python",
   "name": "python3"
  },
  "language_info": {
   "codemirror_mode": {
    "name": "ipython",
    "version": 3
   },
   "file_extension": ".py",
   "mimetype": "text/x-python",
   "name": "python",
   "nbconvert_exporter": "python",
   "pygments_lexer": "ipython3",
   "version": "3.12.6"
  }
 },
 "nbformat": 4,
 "nbformat_minor": 2
}
