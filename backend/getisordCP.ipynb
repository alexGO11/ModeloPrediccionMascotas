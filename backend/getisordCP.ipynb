{
 "cells": [
  {
   "cell_type": "markdown",
   "metadata": {},
   "source": [
    "### Cálculo de getisord en funcion de la tasa de positividad por codigo postal"
   ]
  },
  {
   "cell_type": "code",
   "execution_count": 3,
   "metadata": {},
   "outputs": [
    {
     "name": "stdout",
     "output_type": "stream",
     "text": [
      "The autoreload extension is already loaded. To reload it, use:\n",
      "  %reload_ext autoreload\n"
     ]
    }
   ],
   "source": [
    "# imports\n",
    "%load_ext autoreload\n",
    "%autoreload 2\n",
    "import geopandas as gpd\n",
    "import pandas as pd\n",
    "import numpy as np\n",
    "import matplotlib.pyplot as plt\n",
    "import mapclassify\n",
    "from libpysal.weights import DistanceBand, Queen\n",
    "from esda.getisord import G_Local\n",
    "import matplotlib.colors as mcolors\n",
    "import folium\n",
    "from folium.plugins import HeatMap\n"
   ]
  },
  {
   "cell_type": "markdown",
   "metadata": {},
   "source": [
    "### 1. Cargar datos \n",
    "cargamos shp de codigos postales y resultados de los tests"
   ]
  },
  {
   "cell_type": "code",
   "execution_count": 4,
   "metadata": {},
   "outputs": [],
   "source": [
    "shapefile_path = \"../data/codigos_postales/codigos_postales.shp\"\n",
    "gdf = gpd.read_file(shapefile_path)\n",
    "#Columna que molestaba y no se si es relevante\n",
    "gdf = gdf.drop(columns=[\"ALTA_DB\"])\n",
    "\n",
    "csv_path = \"../data/processed/processed_data.csv\"\n",
    "df = pd.read_csv(csv_path)"
   ]
  },
  {
   "cell_type": "markdown",
   "metadata": {},
   "source": [
    "### 2. Buscar por rango de fechas\n",
    "\n",
    "se define en dos variables la fecha de inicio y fecha fin que queremos analizar y agrupa por codigo postal calculando la suma de tests positivos y los tests totales realizados"
   ]
  },
  {
   "cell_type": "code",
   "execution_count": 5,
   "metadata": {},
   "outputs": [
    {
     "name": "stdout",
     "output_type": "stream",
     "text": [
      "Número de filas en el resultado agrupado: 488\n",
      "   Postal code  Tests_Positivos  Total_Tests\n",
      "0         1006                3            7\n",
      "1         2270                0            3\n",
      "2         3009                0            4\n",
      "3         3013                0            2\n",
      "4         3015                0            6\n"
     ]
    }
   ],
   "source": [
    "# Definir el rango de fechas\n",
    "fecha_inicio = \"2024-01-01\"\n",
    "fecha_fin = \"2024-06-20\"\n",
    "\n",
    "# Convertir la columna Date a tipo datetime\n",
    "df[\"Date\"] = pd.to_datetime(df[\"Date\"], format=\"%Y-%m-%d %H:%M:%S\")\n",
    "\n",
    "# Filtrar por rango de fechas\n",
    "df_filtrado = df[(df[\"Date\"] >= fecha_inicio) & (df[\"Date\"] <= fecha_fin)]\n",
    "\n",
    "# Agrupar por código postal y calcular la cantidad de tests positivos y el total de tests\n",
    "resultado = df_filtrado.groupby(\"Postal code\").agg(\n",
    "    Tests_Positivos=(\"Value test\", \"sum\"),  # Sumar los valores de 1 (tests positivos)\n",
    "    Total_Tests=(\"Value test\", \"count\")  # Contar el total de tests realizados\n",
    ").reset_index()\n",
    "\n",
    "num_filas = resultado.shape[0]\n",
    "print(f\"Número de filas en el resultado agrupado: {num_filas}\")\n",
    "print(resultado.head())"
   ]
  },
  {
   "cell_type": "markdown",
   "metadata": {},
   "source": [
    "### 3. Cálculo de Getis-Ord\n",
    "\n",
    "Junta la tabla de shapes de los codigos postales y el resultado de agrupar CP a traves de Postal code.\n",
    "Calcula los dos parametros que usa Getis-Ord:\n",
    "- Tasa de positividad para cada CP(valor que usara Getis-Ord para el resultado).\n",
    "- Vecindad con Queen"
   ]
  },
  {
   "cell_type": "code",
   "execution_count": 6,
   "metadata": {},
   "outputs": [],
   "source": [
    "gdf = gdf.rename(columns={\"COD_POSTAL\": \"Postal code\"})\n",
    "\n",
    "gdf[\"Postal code\"] = gdf[\"Postal code\"].astype(str)\n",
    "resultado[\"Postal code\"] = resultado[\"Postal code\"].astype(str)\n",
    "\n",
    "gdf = gdf.merge(resultado, on=\"Postal code\", how=\"inner\")"
   ]
  },
  {
   "cell_type": "code",
   "execution_count": 7,
   "metadata": {},
   "outputs": [
    {
     "name": "stderr",
     "output_type": "stream",
     "text": [
      "C:\\Users\\pablo\\AppData\\Local\\Temp\\ipykernel_24448\\384818763.py:3: FutureWarning: `use_index` defaults to False but will default to True in future. Set True/False directly to control this behavior and silence this warning\n",
      "  w = Queen.from_dataframe(gdf)\n",
      "c:\\Users\\pablo\\AppData\\Local\\Programs\\Python\\Python312\\Lib\\site-packages\\libpysal\\weights\\contiguity.py:347: UserWarning: The weights matrix is not fully connected: \n",
      " There are 245 disconnected components.\n",
      " There are 184 islands with ids: 0, 1, 2, 3, 4, 5, 6, 7, 8, 10, 20, 22, 28, 33, 35, 38, 39, 40, 45, 46, 47, 48, 49, 51, 52, 53, 54, 55, 61, 64, 65, 66, 70, 71, 74, 82, 83, 84, 86, 87, 89, 91, 93, 94, 95, 96, 97, 98, 100, 103, 104, 106, 108, 109, 110, 111, 112, 113, 116, 117, 118, 119, 120, 121, 125, 137, 142, 143, 151, 152, 153, 154, 157, 158, 162, 170, 173, 174, 175, 176, 177, 178, 179, 180, 181, 191, 192, 215, 219, 225, 248, 255, 265, 270, 271, 272, 273, 274, 280, 281, 287, 288, 301, 302, 305, 306, 308, 309, 310, 311, 315, 316, 318, 321, 322, 324, 325, 326, 327, 328, 329, 330, 331, 341, 342, 343, 349, 351, 353, 354, 355, 360, 361, 362, 363, 364, 365, 370, 371, 374, 375, 376, 377, 380, 381, 382, 383, 384, 385, 386, 387, 390, 391, 392, 393, 394, 395, 396, 397, 398, 399, 400, 401, 402, 403, 404, 411, 417, 420, 421, 423, 424, 425, 426, 427, 428, 429, 439, 441, 444, 445, 449, 457, 460.\n",
      "  W.__init__(self, neighbors, ids=ids, **kw)\n",
      "c:\\Users\\pablo\\AppData\\Local\\Programs\\Python\\Python312\\Lib\\site-packages\\esda\\getisord.py:527: RuntimeWarning: invalid value encountered in divide\n",
      "  z_scores = (statistic - expected_value) / np.sqrt(expected_variance)\n"
     ]
    },
    {
     "name": "stdout",
     "output_type": "stream",
     "text": [
      "('WARNING: ', 0, ' is an island (no neighbors)')\n",
      "('WARNING: ', 1, ' is an island (no neighbors)')\n",
      "('WARNING: ', 2, ' is an island (no neighbors)')\n",
      "('WARNING: ', 3, ' is an island (no neighbors)')\n",
      "('WARNING: ', 4, ' is an island (no neighbors)')\n",
      "('WARNING: ', 5, ' is an island (no neighbors)')\n",
      "('WARNING: ', 6, ' is an island (no neighbors)')\n",
      "('WARNING: ', 7, ' is an island (no neighbors)')\n",
      "('WARNING: ', 8, ' is an island (no neighbors)')\n",
      "('WARNING: ', 10, ' is an island (no neighbors)')\n",
      "('WARNING: ', 20, ' is an island (no neighbors)')\n",
      "('WARNING: ', 22, ' is an island (no neighbors)')\n",
      "('WARNING: ', 28, ' is an island (no neighbors)')\n",
      "('WARNING: ', 33, ' is an island (no neighbors)')\n",
      "('WARNING: ', 35, ' is an island (no neighbors)')\n",
      "('WARNING: ', 38, ' is an island (no neighbors)')\n",
      "('WARNING: ', 39, ' is an island (no neighbors)')\n",
      "('WARNING: ', 40, ' is an island (no neighbors)')\n",
      "('WARNING: ', 45, ' is an island (no neighbors)')\n",
      "('WARNING: ', 46, ' is an island (no neighbors)')\n",
      "('WARNING: ', 47, ' is an island (no neighbors)')\n",
      "('WARNING: ', 48, ' is an island (no neighbors)')\n",
      "('WARNING: ', 49, ' is an island (no neighbors)')\n",
      "('WARNING: ', 51, ' is an island (no neighbors)')\n",
      "('WARNING: ', 52, ' is an island (no neighbors)')\n",
      "('WARNING: ', 53, ' is an island (no neighbors)')\n",
      "('WARNING: ', 54, ' is an island (no neighbors)')\n",
      "('WARNING: ', 55, ' is an island (no neighbors)')\n",
      "('WARNING: ', 61, ' is an island (no neighbors)')\n",
      "('WARNING: ', 64, ' is an island (no neighbors)')\n",
      "('WARNING: ', 65, ' is an island (no neighbors)')\n",
      "('WARNING: ', 66, ' is an island (no neighbors)')\n",
      "('WARNING: ', 70, ' is an island (no neighbors)')\n",
      "('WARNING: ', 71, ' is an island (no neighbors)')\n",
      "('WARNING: ', 74, ' is an island (no neighbors)')\n",
      "('WARNING: ', 82, ' is an island (no neighbors)')\n",
      "('WARNING: ', 83, ' is an island (no neighbors)')\n",
      "('WARNING: ', 84, ' is an island (no neighbors)')\n",
      "('WARNING: ', 86, ' is an island (no neighbors)')\n",
      "('WARNING: ', 87, ' is an island (no neighbors)')\n",
      "('WARNING: ', 89, ' is an island (no neighbors)')\n",
      "('WARNING: ', 91, ' is an island (no neighbors)')\n",
      "('WARNING: ', 93, ' is an island (no neighbors)')\n",
      "('WARNING: ', 94, ' is an island (no neighbors)')\n",
      "('WARNING: ', 95, ' is an island (no neighbors)')\n",
      "('WARNING: ', 96, ' is an island (no neighbors)')\n",
      "('WARNING: ', 97, ' is an island (no neighbors)')\n",
      "('WARNING: ', 98, ' is an island (no neighbors)')\n",
      "('WARNING: ', 100, ' is an island (no neighbors)')\n",
      "('WARNING: ', 103, ' is an island (no neighbors)')\n",
      "('WARNING: ', 104, ' is an island (no neighbors)')\n",
      "('WARNING: ', 106, ' is an island (no neighbors)')\n",
      "('WARNING: ', 108, ' is an island (no neighbors)')\n",
      "('WARNING: ', 109, ' is an island (no neighbors)')\n",
      "('WARNING: ', 110, ' is an island (no neighbors)')\n",
      "('WARNING: ', 111, ' is an island (no neighbors)')\n",
      "('WARNING: ', 112, ' is an island (no neighbors)')\n",
      "('WARNING: ', 113, ' is an island (no neighbors)')\n",
      "('WARNING: ', 116, ' is an island (no neighbors)')\n",
      "('WARNING: ', 117, ' is an island (no neighbors)')\n",
      "('WARNING: ', 118, ' is an island (no neighbors)')\n",
      "('WARNING: ', 119, ' is an island (no neighbors)')\n",
      "('WARNING: ', 120, ' is an island (no neighbors)')\n",
      "('WARNING: ', 121, ' is an island (no neighbors)')\n",
      "('WARNING: ', 125, ' is an island (no neighbors)')\n",
      "('WARNING: ', 137, ' is an island (no neighbors)')\n",
      "('WARNING: ', 142, ' is an island (no neighbors)')\n",
      "('WARNING: ', 143, ' is an island (no neighbors)')\n",
      "('WARNING: ', 151, ' is an island (no neighbors)')\n",
      "('WARNING: ', 152, ' is an island (no neighbors)')\n",
      "('WARNING: ', 153, ' is an island (no neighbors)')\n",
      "('WARNING: ', 154, ' is an island (no neighbors)')\n",
      "('WARNING: ', 157, ' is an island (no neighbors)')\n",
      "('WARNING: ', 158, ' is an island (no neighbors)')\n",
      "('WARNING: ', 162, ' is an island (no neighbors)')\n",
      "('WARNING: ', 170, ' is an island (no neighbors)')\n",
      "('WARNING: ', 173, ' is an island (no neighbors)')\n",
      "('WARNING: ', 174, ' is an island (no neighbors)')\n",
      "('WARNING: ', 175, ' is an island (no neighbors)')\n",
      "('WARNING: ', 176, ' is an island (no neighbors)')\n",
      "('WARNING: ', 177, ' is an island (no neighbors)')\n",
      "('WARNING: ', 178, ' is an island (no neighbors)')\n",
      "('WARNING: ', 179, ' is an island (no neighbors)')\n",
      "('WARNING: ', 180, ' is an island (no neighbors)')\n",
      "('WARNING: ', 181, ' is an island (no neighbors)')\n",
      "('WARNING: ', 191, ' is an island (no neighbors)')\n",
      "('WARNING: ', 192, ' is an island (no neighbors)')\n",
      "('WARNING: ', 215, ' is an island (no neighbors)')\n",
      "('WARNING: ', 219, ' is an island (no neighbors)')\n",
      "('WARNING: ', 225, ' is an island (no neighbors)')\n",
      "('WARNING: ', 248, ' is an island (no neighbors)')\n",
      "('WARNING: ', 255, ' is an island (no neighbors)')\n",
      "('WARNING: ', 265, ' is an island (no neighbors)')\n",
      "('WARNING: ', 270, ' is an island (no neighbors)')\n",
      "('WARNING: ', 271, ' is an island (no neighbors)')\n",
      "('WARNING: ', 272, ' is an island (no neighbors)')\n",
      "('WARNING: ', 273, ' is an island (no neighbors)')\n",
      "('WARNING: ', 274, ' is an island (no neighbors)')\n",
      "('WARNING: ', 280, ' is an island (no neighbors)')\n",
      "('WARNING: ', 281, ' is an island (no neighbors)')\n",
      "('WARNING: ', 287, ' is an island (no neighbors)')\n",
      "('WARNING: ', 288, ' is an island (no neighbors)')\n",
      "('WARNING: ', 301, ' is an island (no neighbors)')\n",
      "('WARNING: ', 302, ' is an island (no neighbors)')\n",
      "('WARNING: ', 305, ' is an island (no neighbors)')\n",
      "('WARNING: ', 306, ' is an island (no neighbors)')\n",
      "('WARNING: ', 308, ' is an island (no neighbors)')\n",
      "('WARNING: ', 309, ' is an island (no neighbors)')\n",
      "('WARNING: ', 310, ' is an island (no neighbors)')\n",
      "('WARNING: ', 311, ' is an island (no neighbors)')\n",
      "('WARNING: ', 315, ' is an island (no neighbors)')\n",
      "('WARNING: ', 316, ' is an island (no neighbors)')\n",
      "('WARNING: ', 318, ' is an island (no neighbors)')\n",
      "('WARNING: ', 321, ' is an island (no neighbors)')\n",
      "('WARNING: ', 322, ' is an island (no neighbors)')\n",
      "('WARNING: ', 324, ' is an island (no neighbors)')\n",
      "('WARNING: ', 325, ' is an island (no neighbors)')\n",
      "('WARNING: ', 326, ' is an island (no neighbors)')\n",
      "('WARNING: ', 327, ' is an island (no neighbors)')\n",
      "('WARNING: ', 328, ' is an island (no neighbors)')\n",
      "('WARNING: ', 329, ' is an island (no neighbors)')\n",
      "('WARNING: ', 330, ' is an island (no neighbors)')\n",
      "('WARNING: ', 331, ' is an island (no neighbors)')\n",
      "('WARNING: ', 341, ' is an island (no neighbors)')\n",
      "('WARNING: ', 342, ' is an island (no neighbors)')\n",
      "('WARNING: ', 343, ' is an island (no neighbors)')\n",
      "('WARNING: ', 349, ' is an island (no neighbors)')\n",
      "('WARNING: ', 351, ' is an island (no neighbors)')\n",
      "('WARNING: ', 353, ' is an island (no neighbors)')\n",
      "('WARNING: ', 354, ' is an island (no neighbors)')\n",
      "('WARNING: ', 355, ' is an island (no neighbors)')\n",
      "('WARNING: ', 360, ' is an island (no neighbors)')\n",
      "('WARNING: ', 361, ' is an island (no neighbors)')\n",
      "('WARNING: ', 362, ' is an island (no neighbors)')\n",
      "('WARNING: ', 363, ' is an island (no neighbors)')\n",
      "('WARNING: ', 364, ' is an island (no neighbors)')\n",
      "('WARNING: ', 365, ' is an island (no neighbors)')\n",
      "('WARNING: ', 370, ' is an island (no neighbors)')\n",
      "('WARNING: ', 371, ' is an island (no neighbors)')\n",
      "('WARNING: ', 374, ' is an island (no neighbors)')\n",
      "('WARNING: ', 375, ' is an island (no neighbors)')\n",
      "('WARNING: ', 376, ' is an island (no neighbors)')\n",
      "('WARNING: ', 377, ' is an island (no neighbors)')\n",
      "('WARNING: ', 380, ' is an island (no neighbors)')\n",
      "('WARNING: ', 381, ' is an island (no neighbors)')\n",
      "('WARNING: ', 382, ' is an island (no neighbors)')\n",
      "('WARNING: ', 383, ' is an island (no neighbors)')\n",
      "('WARNING: ', 384, ' is an island (no neighbors)')\n",
      "('WARNING: ', 385, ' is an island (no neighbors)')\n",
      "('WARNING: ', 386, ' is an island (no neighbors)')\n",
      "('WARNING: ', 387, ' is an island (no neighbors)')\n",
      "('WARNING: ', 390, ' is an island (no neighbors)')\n",
      "('WARNING: ', 391, ' is an island (no neighbors)')\n",
      "('WARNING: ', 392, ' is an island (no neighbors)')\n",
      "('WARNING: ', 393, ' is an island (no neighbors)')\n",
      "('WARNING: ', 394, ' is an island (no neighbors)')\n",
      "('WARNING: ', 395, ' is an island (no neighbors)')\n",
      "('WARNING: ', 396, ' is an island (no neighbors)')\n",
      "('WARNING: ', 397, ' is an island (no neighbors)')\n",
      "('WARNING: ', 398, ' is an island (no neighbors)')\n",
      "('WARNING: ', 399, ' is an island (no neighbors)')\n",
      "('WARNING: ', 400, ' is an island (no neighbors)')\n",
      "('WARNING: ', 401, ' is an island (no neighbors)')\n",
      "('WARNING: ', 402, ' is an island (no neighbors)')\n",
      "('WARNING: ', 403, ' is an island (no neighbors)')\n",
      "('WARNING: ', 404, ' is an island (no neighbors)')\n",
      "('WARNING: ', 411, ' is an island (no neighbors)')\n",
      "('WARNING: ', 417, ' is an island (no neighbors)')\n",
      "('WARNING: ', 420, ' is an island (no neighbors)')\n",
      "('WARNING: ', 421, ' is an island (no neighbors)')\n",
      "('WARNING: ', 423, ' is an island (no neighbors)')\n",
      "('WARNING: ', 424, ' is an island (no neighbors)')\n",
      "('WARNING: ', 425, ' is an island (no neighbors)')\n",
      "('WARNING: ', 426, ' is an island (no neighbors)')\n",
      "('WARNING: ', 427, ' is an island (no neighbors)')\n",
      "('WARNING: ', 428, ' is an island (no neighbors)')\n",
      "('WARNING: ', 429, ' is an island (no neighbors)')\n",
      "('WARNING: ', 439, ' is an island (no neighbors)')\n",
      "('WARNING: ', 441, ' is an island (no neighbors)')\n",
      "('WARNING: ', 444, ' is an island (no neighbors)')\n",
      "('WARNING: ', 445, ' is an island (no neighbors)')\n",
      "('WARNING: ', 449, ' is an island (no neighbors)')\n",
      "('WARNING: ', 457, ' is an island (no neighbors)')\n",
      "('WARNING: ', 460, ' is an island (no neighbors)')\n"
     ]
    },
    {
     "name": "stderr",
     "output_type": "stream",
     "text": [
      "c:\\Users\\pablo\\AppData\\Local\\Programs\\Python\\Python312\\Lib\\site-packages\\esda\\getisord.py:450: RuntimeWarning: invalid value encountered in divide\n",
      "  self.z_sim = (self.Gs - self.EG_sim) / self.seG_sim\n"
     ]
    }
   ],
   "source": [
    "gdf[\"tasa_positividad\"] = gdf[\"Tests_Positivos\"] / gdf[\"Total_Tests\"]\n",
    "\n",
    "w = Queen.from_dataframe(gdf)\n",
    "\n",
    "g = G_Local(gdf[\"tasa_positividad\"], w)"
   ]
  },
  {
   "cell_type": "markdown",
   "metadata": {},
   "source": [
    "Almacena los resultados en el GeoDataFrame y con estos decide cuales de ellos son significantes y cuales no.\n",
    "- Hotspot: z > 0 y p < 0.05\n",
    "- Coldspot z < 0 y p < 0.05\n",
    "- Irrelevantes el resto"
   ]
  },
  {
   "cell_type": "code",
   "execution_count": 8,
   "metadata": {},
   "outputs": [],
   "source": [
    "\n",
    "\n",
    "gdf[\"z_value\"] = g.Zs  # Z-score del índice\n",
    "gdf[\"p_value\"] = g.p_sim  # P-value de significancia\n",
    "\n",
    "gdf[\"z_value\"] = gdf[\"z_value\"].fillna(0)\n",
    "\n",
    "gdf['hotspot'] = np.where((gdf['z_value'] > 0) & (gdf['p_value'] < 0.05), 'Hotspot',\n",
    "                          np.where((gdf['z_value'] < 0) & (gdf['p_value'] < 0.05), 'Coldspot', 'Not Significant'))\n",
    "\n",
    "\n",
    "\n"
   ]
  },
  {
   "cell_type": "markdown",
   "metadata": {},
   "source": [
    "### 4. Visualizacion"
   ]
  },
  {
   "cell_type": "code",
   "execution_count": null,
   "metadata": {},
   "outputs": [
    {
     "name": "stderr",
     "output_type": "stream",
     "text": [
      "C:\\Users\\pablo\\AppData\\Local\\Temp\\ipykernel_24448\\17776195.py:9: UserWarning: Geometry is in a geographic CRS. Results from 'centroid' are likely incorrect. Use 'GeoSeries.to_crs()' to re-project geometries to a projected CRS before this operation.\n",
      "\n",
      "  centro_mapa = [gdf.geometry.centroid.y.mean(), gdf.geometry.centroid.x.mean()]\n"
     ]
    },
    {
     "ename": "IndexError",
     "evalue": "list index out of range",
     "output_type": "error",
     "traceback": [
      "\u001b[1;31m---------------------------------------------------------------------------\u001b[0m",
      "\u001b[1;31mIndexError\u001b[0m                                Traceback (most recent call last)",
      "Cell \u001b[1;32mIn[10], line 15\u001b[0m\n\u001b[0;32m     12\u001b[0m m \u001b[38;5;241m=\u001b[39m folium\u001b[38;5;241m.\u001b[39mMap(location\u001b[38;5;241m=\u001b[39mcentro_mapa, zoom_start\u001b[38;5;241m=\u001b[39m\u001b[38;5;241m10\u001b[39m)\n\u001b[0;32m     14\u001b[0m \u001b[38;5;66;03m# Añadir un Choropleth basado en el índice Getis-Ord G*\u001b[39;00m\n\u001b[1;32m---> 15\u001b[0m choropleth \u001b[38;5;241m=\u001b[39m \u001b[43mfolium\u001b[49m\u001b[38;5;241;43m.\u001b[39;49m\u001b[43mChoropleth\u001b[49m\u001b[43m(\u001b[49m\n\u001b[0;32m     16\u001b[0m \u001b[43m    \u001b[49m\u001b[43mgeo_data\u001b[49m\u001b[38;5;241;43m=\u001b[39;49m\u001b[43mgdf\u001b[49m\u001b[43m,\u001b[49m\n\u001b[0;32m     17\u001b[0m \u001b[43m    \u001b[49m\u001b[43mname\u001b[49m\u001b[38;5;241;43m=\u001b[39;49m\u001b[38;5;124;43m\"\u001b[39;49m\u001b[38;5;124;43mHotspots\u001b[39;49m\u001b[38;5;124;43m\"\u001b[39;49m\u001b[43m,\u001b[49m\n\u001b[0;32m     18\u001b[0m \u001b[43m    \u001b[49m\u001b[43mdata\u001b[49m\u001b[38;5;241;43m=\u001b[39;49m\u001b[43mgdf\u001b[49m\u001b[43m,\u001b[49m\n\u001b[0;32m     19\u001b[0m \u001b[43m    \u001b[49m\u001b[43mcolumns\u001b[49m\u001b[38;5;241;43m=\u001b[39;49m\u001b[43m[\u001b[49m\u001b[38;5;124;43m\"\u001b[39;49m\u001b[38;5;124;43mz_value\u001b[39;49m\u001b[38;5;124;43m\"\u001b[39;49m\u001b[43m]\u001b[49m\u001b[43m,\u001b[49m\n\u001b[0;32m     20\u001b[0m \u001b[43m    \u001b[49m\u001b[43mkey_on\u001b[49m\u001b[38;5;241;43m=\u001b[39;49m\u001b[38;5;124;43m\"\u001b[39;49m\u001b[38;5;124;43mfeature.properties.Postal code\u001b[39;49m\u001b[38;5;124;43m\"\u001b[39;49m\u001b[43m,\u001b[49m\n\u001b[0;32m     21\u001b[0m \u001b[43m    \u001b[49m\u001b[43mfill_color\u001b[49m\u001b[38;5;241;43m=\u001b[39;49m\u001b[38;5;124;43m\"\u001b[39;49m\u001b[38;5;124;43mYlOrRd\u001b[39;49m\u001b[38;5;124;43m\"\u001b[39;49m\u001b[43m,\u001b[49m\n\u001b[0;32m     22\u001b[0m \u001b[43m    \u001b[49m\u001b[43mfill_opacity\u001b[49m\u001b[38;5;241;43m=\u001b[39;49m\u001b[38;5;241;43m0.7\u001b[39;49m\u001b[43m,\u001b[49m\n\u001b[0;32m     23\u001b[0m \u001b[43m    \u001b[49m\u001b[43mline_opacity\u001b[49m\u001b[38;5;241;43m=\u001b[39;49m\u001b[38;5;241;43m0.2\u001b[39;49m\u001b[43m,\u001b[49m\n\u001b[0;32m     24\u001b[0m \u001b[43m    \u001b[49m\u001b[43mlegend_name\u001b[49m\u001b[38;5;241;43m=\u001b[39;49m\u001b[38;5;124;43m\"\u001b[39;49m\u001b[38;5;124;43mÍndice Getis-Ord G*\u001b[39;49m\u001b[38;5;124;43m\"\u001b[39;49m\n\u001b[0;32m     25\u001b[0m \u001b[43m)\u001b[49m\u001b[38;5;241m.\u001b[39madd_to(m)\n\u001b[0;32m     27\u001b[0m \u001b[38;5;66;03m# Agregar HeatMap basado en la tasa de positividad\u001b[39;00m\n\u001b[0;32m     28\u001b[0m heat_data \u001b[38;5;241m=\u001b[39m [\n\u001b[0;32m     29\u001b[0m     [row\u001b[38;5;241m.\u001b[39mgeometry\u001b[38;5;241m.\u001b[39mcentroid\u001b[38;5;241m.\u001b[39my, row\u001b[38;5;241m.\u001b[39mgeometry\u001b[38;5;241m.\u001b[39mcentroid\u001b[38;5;241m.\u001b[39mx, row[\u001b[38;5;124m\"\u001b[39m\u001b[38;5;124mtasa_positividad\u001b[39m\u001b[38;5;124m\"\u001b[39m]]\n\u001b[0;32m     30\u001b[0m     \u001b[38;5;28;01mfor\u001b[39;00m _, row \u001b[38;5;129;01min\u001b[39;00m gdf\u001b[38;5;241m.\u001b[39miterrows()\n\u001b[0;32m     31\u001b[0m ]\n",
      "File \u001b[1;32mc:\\Users\\pablo\\AppData\\Local\\Programs\\Python\\Python312\\Lib\\site-packages\\folium\\features.py:1546\u001b[0m, in \u001b[0;36mChoropleth.__init__\u001b[1;34m(self, geo_data, data, columns, key_on, bins, fill_color, nan_fill_color, fill_opacity, nan_fill_opacity, line_color, line_weight, line_opacity, name, legend_name, overlay, control, show, topojson, smooth_factor, highlight, use_jenks, **kwargs)\u001b[0m\n\u001b[0;32m   1543\u001b[0m \u001b[38;5;28;01mif\u001b[39;00m \u001b[38;5;28mhasattr\u001b[39m(data, \u001b[38;5;124m\"\u001b[39m\u001b[38;5;124mset_index\u001b[39m\u001b[38;5;124m\"\u001b[39m):\n\u001b[0;32m   1544\u001b[0m     \u001b[38;5;66;03m# This is a pd.DataFrame\u001b[39;00m\n\u001b[0;32m   1545\u001b[0m     \u001b[38;5;28;01massert\u001b[39;00m columns \u001b[38;5;129;01mis\u001b[39;00m \u001b[38;5;129;01mnot\u001b[39;00m \u001b[38;5;28;01mNone\u001b[39;00m\n\u001b[1;32m-> 1546\u001b[0m     color_data \u001b[38;5;241m=\u001b[39m data\u001b[38;5;241m.\u001b[39mset_index(columns[\u001b[38;5;241m0\u001b[39m])[\u001b[43mcolumns\u001b[49m\u001b[43m[\u001b[49m\u001b[38;5;241;43m1\u001b[39;49m\u001b[43m]\u001b[49m]\u001b[38;5;241m.\u001b[39mto_dict()  \u001b[38;5;66;03m# type: ignore\u001b[39;00m\n\u001b[0;32m   1547\u001b[0m \u001b[38;5;28;01melif\u001b[39;00m \u001b[38;5;28mhasattr\u001b[39m(data, \u001b[38;5;124m\"\u001b[39m\u001b[38;5;124mto_dict\u001b[39m\u001b[38;5;124m\"\u001b[39m):\n\u001b[0;32m   1548\u001b[0m     \u001b[38;5;66;03m# This is a pd.Series\u001b[39;00m\n\u001b[0;32m   1549\u001b[0m     color_data \u001b[38;5;241m=\u001b[39m data\u001b[38;5;241m.\u001b[39mto_dict()  \u001b[38;5;66;03m# type: ignore\u001b[39;00m\n",
      "\u001b[1;31mIndexError\u001b[0m: list index out of range"
     ]
    }
   ],
   "source": [
    "\n",
    "#Dar formato al GeoDataFrame compatile con folium\n",
    "if gdf.crs is None:\n",
    "    gdf.set_crs(epsg=4326, inplace=True)  # Asignar CRS si no lo tiene\n",
    "else:\n",
    "    gdf = gdf.to_crs(epsg=4326)  # Convertir al CRS correcto si es necesario\n",
    "\n",
    "\n",
    "# Obtener el centro del mapa\n",
    "centro_mapa = [gdf.geometry.centroid.y.mean(), gdf.geometry.centroid.x.mean()]\n",
    "\n",
    "# Crear mapa base\n",
    "m = folium.Map(location=centro_mapa, zoom_start=10)\n",
    "\n",
    "# Añadir un Choropleth basado en el índice Getis-Ord G*\n",
    "choropleth = folium.Choropleth(\n",
    "    geo_data=gdf,\n",
    "    name=\"Hotspots\",\n",
    "    data=gdf,\n",
    "    columns=[\"Postal code\", \"z_value\"],\n",
    "    key_on=\"feature.properties.Postal code\",\n",
    "    fill_color=\"YlOrRd\",\n",
    "    fill_opacity=0.7,\n",
    "    line_opacity=0.2,\n",
    "    legend_name=\"Índice Getis-Ord G*\"\n",
    ").add_to(m)\n",
    "\n",
    "# Agregar HeatMap basado en la tasa de positividad\n",
    "heat_data = [\n",
    "    [row.geometry.centroid.y, row.geometry.centroid.x, row[\"tasa_positividad\"]]\n",
    "    for _, row in gdf.iterrows()\n",
    "]\n",
    "\n",
    "HeatMap(heat_data, radius=10, blur=15, max_zoom=1).add_to(m)\n",
    "\n",
    "# Añadir control de capas\n",
    "folium.LayerControl().add_to(m)\n",
    "\n",
    "# Mostrar el mapa\n",
    "m\n"
   ]
  }
 ],
 "metadata": {
  "kernelspec": {
   "display_name": "Python 3",
   "language": "python",
   "name": "python3"
  },
  "language_info": {
   "codemirror_mode": {
    "name": "ipython",
    "version": 3
   },
   "file_extension": ".py",
   "mimetype": "text/x-python",
   "name": "python",
   "nbconvert_exporter": "python",
   "pygments_lexer": "ipython3",
   "version": "3.12.6"
  }
 },
 "nbformat": 4,
 "nbformat_minor": 2
}
